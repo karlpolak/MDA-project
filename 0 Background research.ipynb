{
 "cells": [
  {
   "cell_type": "markdown",
   "metadata": {
    "papermill": {
     "duration": 0.02691,
     "end_time": "2022-05-06T16:12:37.813192",
     "exception": false,
     "start_time": "2022-05-06T16:12:37.786282",
     "status": "completed"
    },
    "tags": []
   },
   "source": [
    "## Imports"
   ]
  },
  {
   "cell_type": "code",
   "execution_count": 1,
   "metadata": {
    "execution": {
     "iopub.execute_input": "2022-05-06T16:12:37.869522Z",
     "iopub.status.busy": "2022-05-06T16:12:37.868923Z",
     "iopub.status.idle": "2022-05-06T16:12:38.812476Z",
     "shell.execute_reply": "2022-05-06T16:12:38.813046Z",
     "shell.execute_reply.started": "2022-05-06T15:40:04.927374Z"
    },
    "papermill": {
     "duration": 0.974249,
     "end_time": "2022-05-06T16:12:38.813230",
     "exception": false,
     "start_time": "2022-05-06T16:12:37.838981",
     "status": "completed"
    },
    "tags": []
   },
   "outputs": [],
   "source": [
    "# standard libs\n",
    "import os\n",
    "import pandas as pd\n",
    "import numpy as np\n",
    "import matplotlib.pyplot as plt\n",
    "import re\n",
    "import json\n",
    "\n",
    "# plotting libs\n",
    "import seaborn as sns"
   ]
  },
  {
   "cell_type": "markdown",
   "metadata": {
    "papermill": {
     "duration": 0.025585,
     "end_time": "2022-05-06T16:12:38.866176",
     "exception": false,
     "start_time": "2022-05-06T16:12:38.840591",
     "status": "completed"
    },
    "tags": []
   },
   "source": [
    "## Data\n",
    "\n",
    "### Import Data"
   ]
  },
  {
   "cell_type": "code",
   "execution_count": 2,
   "metadata": {
    "execution": {
     "iopub.execute_input": "2022-05-06T16:12:38.925376Z",
     "iopub.status.busy": "2022-05-06T16:12:38.924745Z",
     "iopub.status.idle": "2022-05-06T16:12:49.478133Z",
     "shell.execute_reply": "2022-05-06T16:12:49.477573Z",
     "shell.execute_reply.started": "2022-05-06T15:40:04.963377Z"
    },
    "papermill": {
     "duration": 10.586642,
     "end_time": "2022-05-06T16:12:49.478261",
     "exception": false,
     "start_time": "2022-05-06T16:12:38.891619",
     "status": "completed"
    },
    "tags": []
   },
   "outputs": [],
   "source": [
    "# import cities response df\n",
    "cities21_df = pd.read_csv(\"https://mda-project-poland.s3.eu-west-3.amazonaws.com/2021_Cities_Water_Security_Risks.csv\")\n",
    "cities20_df = pd.read_csv(\"https://mda-project-poland.s3.eu-west-3.amazonaws.com/2020_Full_Cities_Dataset.csv\")\n",
    "cities19_df = pd.read_csv(\"https://mda-project-poland.s3.eu-west-3.amazonaws.com/2019_Full_Cities_Dataset.csv\")"
   ]
  },
  {
   "cell_type": "markdown",
   "metadata": {
    "papermill": {
     "duration": 0.025348,
     "end_time": "2022-05-06T16:12:49.529368",
     "exception": false,
     "start_time": "2022-05-06T16:12:49.504020",
     "status": "completed"
    },
    "tags": []
   },
   "source": [
    "\n",
    "\n",
    "### Data Cleaning & EDA\n",
    "\n"
   ]
  },
  {
   "cell_type": "code",
   "execution_count": 3,
   "metadata": {
    "execution": {
     "iopub.execute_input": "2022-05-06T16:12:49.619794Z",
     "iopub.status.busy": "2022-05-06T16:12:49.619157Z",
     "iopub.status.idle": "2022-05-06T16:12:49.641485Z",
     "shell.execute_reply": "2022-05-06T16:12:49.640840Z",
     "shell.execute_reply.started": "2022-05-06T15:40:11.592533Z"
    },
    "papermill": {
     "duration": 0.086521,
     "end_time": "2022-05-06T16:12:49.641601",
     "exception": false,
     "start_time": "2022-05-06T16:12:49.555080",
     "status": "completed"
    },
    "tags": []
   },
   "outputs": [
    {
     "data": {
      "text/plain": [
       "array(['Please select the actions you are taking to reduce the risks to your city’s water supply.',\n",
       "       'Please identify the risks to your city’s water supply as well as the timescale and level of risk.',\n",
       "       'Please provide more information on your city’s public Water Resource Management\\u202fstrategy.',\n",
       "       \"What are the sources of your city's water supply? Select all that apply.\",\n",
       "       \"What percentage of your city's population has access to potable water supply service?\",\n",
       "       'Does your city have a publicly available Water Resource Management\\u202fstrategy?',\n",
       "       'Where does the water used to supply your city come from?',\n",
       "       'Please explain why your city does not have a public Water Resource Management strategy.',\n",
       "       'Are you aware of any substantive current or future risks to your city’s water supply?',\n",
       "       'Please explain why you do not consider your city to be exposed to any substantive water-related risk.'],\n",
       "      dtype=object)"
      ]
     },
     "execution_count": 3,
     "metadata": {},
     "output_type": "execute_result"
    }
   ],
   "source": [
    "cities19_df[cities19_df['Parent Section']=='Water Security']['Question Name'].unique()"
   ]
  },
  {
   "cell_type": "code",
   "execution_count": 4,
   "metadata": {
    "execution": {
     "iopub.execute_input": "2022-05-06T16:12:49.706431Z",
     "iopub.status.busy": "2022-05-06T16:12:49.700975Z",
     "iopub.status.idle": "2022-05-06T16:12:49.899831Z",
     "shell.execute_reply": "2022-05-06T16:12:49.898636Z",
     "shell.execute_reply.started": "2022-05-06T15:40:11.644335Z"
    },
    "papermill": {
     "duration": 0.231623,
     "end_time": "2022-05-06T16:12:49.900146",
     "exception": false,
     "start_time": "2022-05-06T16:12:49.668523",
     "status": "completed"
    },
    "tags": []
   },
   "outputs": [
    {
     "name": "stdout",
     "output_type": "stream",
     "text": [
      "<class 'pandas.core.frame.DataFrame'>\n",
      "Int64Index: 2137 entries, 0 to 2348\n",
      "Data columns (total 15 columns):\n",
      " #   Column                                   Non-Null Count  Dtype \n",
      "---  ------                                   --------------  ----- \n",
      " 0   Questionnaire Name                       2137 non-null   object\n",
      " 1   Account Number                           2137 non-null   int64 \n",
      " 2   City                                     2137 non-null   object\n",
      " 3   Country                                  2137 non-null   object\n",
      " 4   CDP Region                               2137 non-null   object\n",
      " 5   ParentSection                            2137 non-null   object\n",
      " 6   Section                                  2137 non-null   object\n",
      " 7   Question Number                          2137 non-null   object\n",
      " 8   Question Name                            2137 non-null   object\n",
      " 9   Row Number                               2137 non-null   int64 \n",
      " 10  Water security risk drivers              2137 non-null   object\n",
      " 11  Anticipated timescale                    2117 non-null   object\n",
      " 12  Estimated magnitude of potential impact  2065 non-null   object\n",
      " 13  Estimated probability of impact          1737 non-null   object\n",
      " 14  Risk description                         1914 non-null   object\n",
      "dtypes: int64(2), object(13)\n",
      "memory usage: 267.1+ KB\n"
     ]
    }
   ],
   "source": [
    "cities21_df=cities21_df\\\n",
    "    .rename(columns={'Account Name': 'City'})\n",
    "#cities21_df['Water security risk drivers'] = cities21_df['Water security risk drivers'].fillna('No Response')\n",
    "cities21_df.dropna(subset=['Water security risk drivers'],inplace=True)\n",
    "cities20_df = cities20_df[cities20_df['Question Number'] == '14.2a']\\\n",
    "    .rename(columns={'Organization': 'City'})\n",
    "cities20_df['Response Answer'] = cities20_df['Response Answer'].fillna('No Response')\n",
    "cities19_df = cities19_df[\n",
    "    cities19_df['Question Name'] == \n",
    "    'Please identify the risks to your city’s water supply as well as the timescale and level of risk.']\\\n",
    "    .rename(columns={'Organization': 'City'})\n",
    "cities19_df['Response Answer'] = cities19_df['Response Answer'].fillna('No Response')\n",
    "\n",
    "cities21_df.info()"
   ]
  },
  {
   "cell_type": "code",
   "execution_count": 5,
   "metadata": {
    "execution": {
     "iopub.execute_input": "2022-05-06T16:12:49.959820Z",
     "iopub.status.busy": "2022-05-06T16:12:49.958848Z",
     "iopub.status.idle": "2022-05-06T16:12:49.965716Z",
     "shell.execute_reply": "2022-05-06T16:12:49.965040Z",
     "shell.execute_reply.started": "2022-05-06T15:40:11.831673Z"
    },
    "papermill": {
     "duration": 0.038474,
     "end_time": "2022-05-06T16:12:49.965847",
     "exception": false,
     "start_time": "2022-05-06T16:12:49.927373",
     "status": "completed"
    },
    "tags": []
   },
   "outputs": [
    {
     "data": {
      "text/plain": [
       "92"
      ]
     },
     "execution_count": 5,
     "metadata": {},
     "output_type": "execute_result"
    }
   ],
   "source": [
    "sum(cities21_df.duplicated(['City','Water security risk drivers']))"
   ]
  },
  {
   "cell_type": "code",
   "execution_count": 6,
   "metadata": {
    "execution": {
     "iopub.execute_input": "2022-05-06T16:12:50.027371Z",
     "iopub.status.busy": "2022-05-06T16:12:50.026358Z",
     "iopub.status.idle": "2022-05-06T16:12:50.049941Z",
     "shell.execute_reply": "2022-05-06T16:12:50.049377Z",
     "shell.execute_reply.started": "2022-05-06T15:40:11.844094Z"
    },
    "papermill": {
     "duration": 0.05743,
     "end_time": "2022-05-06T16:12:50.050055",
     "exception": false,
     "start_time": "2022-05-06T16:12:49.992625",
     "status": "completed"
    },
    "tags": []
   },
   "outputs": [
    {
     "data": {
      "text/html": [
       "<div>\n",
       "<style scoped>\n",
       "    .dataframe tbody tr th:only-of-type {\n",
       "        vertical-align: middle;\n",
       "    }\n",
       "\n",
       "    .dataframe tbody tr th {\n",
       "        vertical-align: top;\n",
       "    }\n",
       "\n",
       "    .dataframe thead th {\n",
       "        text-align: right;\n",
       "    }\n",
       "</style>\n",
       "<table border=\"1\" class=\"dataframe\">\n",
       "  <thead>\n",
       "    <tr style=\"text-align: right;\">\n",
       "      <th>col_0</th>\n",
       "      <th>count</th>\n",
       "    </tr>\n",
       "    <tr>\n",
       "      <th>Water security risk drivers</th>\n",
       "      <th></th>\n",
       "    </tr>\n",
       "  </thead>\n",
       "  <tbody>\n",
       "    <tr>\n",
       "      <th>Question not applicable</th>\n",
       "      <td>512</td>\n",
       "    </tr>\n",
       "    <tr>\n",
       "      <th>Increased water stress</th>\n",
       "      <td>250</td>\n",
       "    </tr>\n",
       "    <tr>\n",
       "      <th>Declining water quality</th>\n",
       "      <td>237</td>\n",
       "    </tr>\n",
       "    <tr>\n",
       "      <th>Inadequate or ageing water supply infrastructure</th>\n",
       "      <td>197</td>\n",
       "    </tr>\n",
       "    <tr>\n",
       "      <th>Increased water demand</th>\n",
       "      <td>160</td>\n",
       "    </tr>\n",
       "    <tr>\n",
       "      <th>Drought</th>\n",
       "      <td>148</td>\n",
       "    </tr>\n",
       "    <tr>\n",
       "      <th>Increased water scarcity</th>\n",
       "      <td>147</td>\n",
       "    </tr>\n",
       "    <tr>\n",
       "      <th>Severe weather events</th>\n",
       "      <td>101</td>\n",
       "    </tr>\n",
       "    <tr>\n",
       "      <th>Higher water prices</th>\n",
       "      <td>89</td>\n",
       "    </tr>\n",
       "    <tr>\n",
       "      <th>Pollution incidents</th>\n",
       "      <td>46</td>\n",
       "    </tr>\n",
       "    <tr>\n",
       "      <th>Change in land-use</th>\n",
       "      <td>39</td>\n",
       "    </tr>\n",
       "    <tr>\n",
       "      <th>Environmental regulations</th>\n",
       "      <td>36</td>\n",
       "    </tr>\n",
       "    <tr>\n",
       "      <th>Energy supply issues</th>\n",
       "      <td>32</td>\n",
       "    </tr>\n",
       "    <tr>\n",
       "      <th>Rationing of municipal water supply</th>\n",
       "      <td>25</td>\n",
       "    </tr>\n",
       "    <tr>\n",
       "      <th>Unauthorised/unregistered water connections</th>\n",
       "      <td>20</td>\n",
       "    </tr>\n",
       "    <tr>\n",
       "      <th>Ecosystem vulnerability</th>\n",
       "      <td>20</td>\n",
       "    </tr>\n",
       "    <tr>\n",
       "      <th>Increased levels of plastic in freshwater bodies</th>\n",
       "      <td>16</td>\n",
       "    </tr>\n",
       "    <tr>\n",
       "      <th>Water infestation/disease</th>\n",
       "      <td>15</td>\n",
       "    </tr>\n",
       "    <tr>\n",
       "      <th>Other, please specify: Earthquake</th>\n",
       "      <td>2</td>\n",
       "    </tr>\n",
       "    <tr>\n",
       "      <th>Other, please specify: Cyber Security</th>\n",
       "      <td>1</td>\n",
       "    </tr>\n",
       "  </tbody>\n",
       "</table>\n",
       "</div>"
      ],
      "text/plain": [
       "col_0                                             count\n",
       "Water security risk drivers                            \n",
       "Question not applicable                             512\n",
       "Increased water stress                              250\n",
       "Declining water quality                             237\n",
       "Inadequate or ageing water supply infrastructure    197\n",
       "Increased water demand                              160\n",
       "Drought                                             148\n",
       "Increased water scarcity                            147\n",
       "Severe weather events                               101\n",
       "Higher water prices                                  89\n",
       "Pollution incidents                                  46\n",
       "Change in land-use                                   39\n",
       "Environmental regulations                            36\n",
       "Energy supply issues                                 32\n",
       "Rationing of municipal water supply                  25\n",
       "Unauthorised/unregistered water connections          20\n",
       "Ecosystem vulnerability                              20\n",
       "Increased levels of plastic in freshwater bodies     16\n",
       "Water infestation/disease                            15\n",
       "Other, please specify: Earthquake                     2\n",
       "Other, please specify: Cyber Security                 1"
      ]
     },
     "execution_count": 6,
     "metadata": {},
     "output_type": "execute_result"
    }
   ],
   "source": [
    "df1=pd.crosstab(index=cities21_df['Water security risk drivers'], columns='count').sort_values(by='count',ascending=False)\n",
    "df1.head(20)"
   ]
  },
  {
   "cell_type": "code",
   "execution_count": 7,
   "metadata": {
    "execution": {
     "iopub.execute_input": "2022-05-06T16:12:50.109037Z",
     "iopub.status.busy": "2022-05-06T16:12:50.106331Z",
     "iopub.status.idle": "2022-05-06T16:12:50.291667Z",
     "shell.execute_reply": "2022-05-06T16:12:50.292175Z",
     "shell.execute_reply.started": "2022-05-06T15:40:11.873592Z"
    },
    "papermill": {
     "duration": 0.21542,
     "end_time": "2022-05-06T16:12:50.292324",
     "exception": false,
     "start_time": "2022-05-06T16:12:50.076904",
     "status": "completed"
    },
    "tags": []
   },
   "outputs": [
    {
     "data": {
      "text/plain": [
       "<AxesSubplot:ylabel='count'>"
      ]
     },
     "execution_count": 7,
     "metadata": {},
     "output_type": "execute_result"
    },
    {
     "data": {
      "image/png": "[encoded data removed]",
      "text/plain": [
       "<Figure size 432x432 with 1 Axes>"
      ]
     },
     "metadata": {},
     "output_type": "display_data"
    }
   ],
   "source": [
    "df1.iloc[1:18,:].plot.pie(y='count',figsize=(6,6),legend=False)"
   ]
  },
  {
   "cell_type": "code",
   "execution_count": 8,
   "metadata": {
    "execution": {
     "iopub.execute_input": "2022-05-06T16:12:50.369840Z",
     "iopub.status.busy": "2022-05-06T16:12:50.368963Z",
     "iopub.status.idle": "2022-05-06T16:12:50.373394Z",
     "shell.execute_reply": "2022-05-06T16:12:50.372781Z",
     "shell.execute_reply.started": "2022-05-06T15:40:12.007621Z"
    },
    "papermill": {
     "duration": 0.052215,
     "end_time": "2022-05-06T16:12:50.373529",
     "exception": false,
     "start_time": "2022-05-06T16:12:50.321314",
     "status": "completed"
    },
    "tags": []
   },
   "outputs": [
    {
     "data": {
      "text/html": [
       "<div>\n",
       "<style scoped>\n",
       "    .dataframe tbody tr th:only-of-type {\n",
       "        vertical-align: middle;\n",
       "    }\n",
       "\n",
       "    .dataframe tbody tr th {\n",
       "        vertical-align: top;\n",
       "    }\n",
       "\n",
       "    .dataframe thead th {\n",
       "        text-align: right;\n",
       "    }\n",
       "</style>\n",
       "<table border=\"1\" class=\"dataframe\">\n",
       "  <thead>\n",
       "    <tr style=\"text-align: right;\">\n",
       "      <th></th>\n",
       "      <th>Questionnaire</th>\n",
       "      <th>Year Reported to CDP</th>\n",
       "      <th>Account Number</th>\n",
       "      <th>City</th>\n",
       "      <th>Country</th>\n",
       "      <th>CDP Region</th>\n",
       "      <th>Parent Section</th>\n",
       "      <th>Section</th>\n",
       "      <th>Question Number</th>\n",
       "      <th>Question Name</th>\n",
       "      <th>Column Number</th>\n",
       "      <th>Column Name</th>\n",
       "      <th>Row Number</th>\n",
       "      <th>Row Name</th>\n",
       "      <th>Response Answer</th>\n",
       "      <th>Comments</th>\n",
       "      <th>File Name</th>\n",
       "      <th>Last update</th>\n",
       "    </tr>\n",
       "  </thead>\n",
       "  <tbody>\n",
       "    <tr>\n",
       "      <th>78</th>\n",
       "      <td>Cities 2020</td>\n",
       "      <td>2020</td>\n",
       "      <td>74594</td>\n",
       "      <td>City of Boynton Beach</td>\n",
       "      <td>United States of America</td>\n",
       "      <td>North America</td>\n",
       "      <td>Water Security</td>\n",
       "      <td>Water Supply</td>\n",
       "      <td>14.2a</td>\n",
       "      <td>Please identify the risks to your city’s water...</td>\n",
       "      <td>5</td>\n",
       "      <td>Risk description</td>\n",
       "      <td>4</td>\n",
       "      <td>NaN</td>\n",
       "      <td>The region experiences periods of drought. Ris...</td>\n",
       "      <td>NaN</td>\n",
       "      <td>NaN</td>\n",
       "      <td>09/07/2020 09:45:36 AM</td>\n",
       "    </tr>\n",
       "    <tr>\n",
       "      <th>175</th>\n",
       "      <td>Cities 2020</td>\n",
       "      <td>2020</td>\n",
       "      <td>826236</td>\n",
       "      <td>Prefeitura de Tremembé</td>\n",
       "      <td>Brazil</td>\n",
       "      <td>Latin America</td>\n",
       "      <td>Water Security</td>\n",
       "      <td>Water Supply</td>\n",
       "      <td>14.2a</td>\n",
       "      <td>Please identify the risks to your city’s water...</td>\n",
       "      <td>4</td>\n",
       "      <td>Estimated probability of impact</td>\n",
       "      <td>2</td>\n",
       "      <td>NaN</td>\n",
       "      <td>No Response</td>\n",
       "      <td>NaN</td>\n",
       "      <td>NaN</td>\n",
       "      <td>09/07/2020 09:45:36 AM</td>\n",
       "    </tr>\n",
       "    <tr>\n",
       "      <th>236</th>\n",
       "      <td>Cities 2020</td>\n",
       "      <td>2020</td>\n",
       "      <td>54402</td>\n",
       "      <td>City of Lahti</td>\n",
       "      <td>Finland</td>\n",
       "      <td>Europe</td>\n",
       "      <td>Water Security</td>\n",
       "      <td>Water Supply</td>\n",
       "      <td>14.2a</td>\n",
       "      <td>Please identify the risks to your city’s water...</td>\n",
       "      <td>4</td>\n",
       "      <td>Estimated probability of impact</td>\n",
       "      <td>3</td>\n",
       "      <td>NaN</td>\n",
       "      <td>No Response</td>\n",
       "      <td>NaN</td>\n",
       "      <td>NaN</td>\n",
       "      <td>09/07/2020 09:45:36 AM</td>\n",
       "    </tr>\n",
       "    <tr>\n",
       "      <th>284</th>\n",
       "      <td>Cities 2020</td>\n",
       "      <td>2020</td>\n",
       "      <td>839980</td>\n",
       "      <td>Municipalidad de Avellaneda</td>\n",
       "      <td>Argentina</td>\n",
       "      <td>Latin America</td>\n",
       "      <td>Water Security</td>\n",
       "      <td>Water Supply</td>\n",
       "      <td>14.2a</td>\n",
       "      <td>Please identify the risks to your city’s water...</td>\n",
       "      <td>1</td>\n",
       "      <td>Water security risk drivers</td>\n",
       "      <td>0</td>\n",
       "      <td>NaN</td>\n",
       "      <td>Question not applicable</td>\n",
       "      <td>NaN</td>\n",
       "      <td>NaN</td>\n",
       "      <td>09/07/2020 09:45:36 AM</td>\n",
       "    </tr>\n",
       "    <tr>\n",
       "      <th>335</th>\n",
       "      <td>Cities 2020</td>\n",
       "      <td>2020</td>\n",
       "      <td>50361</td>\n",
       "      <td>Ayuntamiento de Hermosillo</td>\n",
       "      <td>Mexico</td>\n",
       "      <td>Latin America</td>\n",
       "      <td>Water Security</td>\n",
       "      <td>Water Supply</td>\n",
       "      <td>14.2a</td>\n",
       "      <td>Please identify the risks to your city’s water...</td>\n",
       "      <td>4</td>\n",
       "      <td>Estimated probability of impact</td>\n",
       "      <td>1</td>\n",
       "      <td>NaN</td>\n",
       "      <td>High</td>\n",
       "      <td>NaN</td>\n",
       "      <td>NaN</td>\n",
       "      <td>09/07/2020 09:45:36 AM</td>\n",
       "    </tr>\n",
       "  </tbody>\n",
       "</table>\n",
       "</div>"
      ],
      "text/plain": [
       "    Questionnaire  Year Reported to CDP  Account Number  \\\n",
       "78    Cities 2020                  2020           74594   \n",
       "175   Cities 2020                  2020          826236   \n",
       "236   Cities 2020                  2020           54402   \n",
       "284   Cities 2020                  2020          839980   \n",
       "335   Cities 2020                  2020           50361   \n",
       "\n",
       "                            City                   Country     CDP Region  \\\n",
       "78         City of Boynton Beach  United States of America  North America   \n",
       "175       Prefeitura de Tremembé                    Brazil  Latin America   \n",
       "236                City of Lahti                   Finland         Europe   \n",
       "284  Municipalidad de Avellaneda                 Argentina  Latin America   \n",
       "335   Ayuntamiento de Hermosillo                    Mexico  Latin America   \n",
       "\n",
       "     Parent Section       Section Question Number  \\\n",
       "78   Water Security  Water Supply           14.2a   \n",
       "175  Water Security  Water Supply           14.2a   \n",
       "236  Water Security  Water Supply           14.2a   \n",
       "284  Water Security  Water Supply           14.2a   \n",
       "335  Water Security  Water Supply           14.2a   \n",
       "\n",
       "                                         Question Name  Column Number  \\\n",
       "78   Please identify the risks to your city’s water...              5   \n",
       "175  Please identify the risks to your city’s water...              4   \n",
       "236  Please identify the risks to your city’s water...              4   \n",
       "284  Please identify the risks to your city’s water...              1   \n",
       "335  Please identify the risks to your city’s water...              4   \n",
       "\n",
       "                         Column Name  Row Number Row Name  \\\n",
       "78                  Risk description           4      NaN   \n",
       "175  Estimated probability of impact           2      NaN   \n",
       "236  Estimated probability of impact           3      NaN   \n",
       "284      Water security risk drivers           0      NaN   \n",
       "335  Estimated probability of impact           1      NaN   \n",
       "\n",
       "                                       Response Answer Comments File Name  \\\n",
       "78   The region experiences periods of drought. Ris...      NaN       NaN   \n",
       "175                                        No Response      NaN       NaN   \n",
       "236                                        No Response      NaN       NaN   \n",
       "284                            Question not applicable      NaN       NaN   \n",
       "335                                               High      NaN       NaN   \n",
       "\n",
       "                Last update  \n",
       "78   09/07/2020 09:45:36 AM  \n",
       "175  09/07/2020 09:45:36 AM  \n",
       "236  09/07/2020 09:45:36 AM  \n",
       "284  09/07/2020 09:45:36 AM  \n",
       "335  09/07/2020 09:45:36 AM  "
      ]
     },
     "execution_count": 8,
     "metadata": {},
     "output_type": "execute_result"
    }
   ],
   "source": [
    "cities20_df.head()"
   ]
  },
  {
   "cell_type": "code",
   "execution_count": 9,
   "metadata": {
    "execution": {
     "iopub.execute_input": "2022-05-06T16:12:50.440199Z",
     "iopub.status.busy": "2022-05-06T16:12:50.439415Z",
     "iopub.status.idle": "2022-05-06T16:12:50.530707Z",
     "shell.execute_reply": "2022-05-06T16:12:50.529891Z",
     "shell.execute_reply.started": "2022-05-06T15:40:12.035679Z"
    },
    "papermill": {
     "duration": 0.127913,
     "end_time": "2022-05-06T16:12:50.530838",
     "exception": false,
     "start_time": "2022-05-06T16:12:50.402925",
     "status": "completed"
    },
    "tags": []
   },
   "outputs": [
    {
     "data": {
      "text/html": [
       "<div>\n",
       "<style scoped>\n",
       "    .dataframe tbody tr th:only-of-type {\n",
       "        vertical-align: middle;\n",
       "    }\n",
       "\n",
       "    .dataframe tbody tr th {\n",
       "        vertical-align: top;\n",
       "    }\n",
       "\n",
       "    .dataframe thead th {\n",
       "        text-align: right;\n",
       "    }\n",
       "</style>\n",
       "<table border=\"1\" class=\"dataframe\">\n",
       "  <thead>\n",
       "    <tr style=\"text-align: right;\">\n",
       "      <th>Column Name</th>\n",
       "      <th>Account Number</th>\n",
       "      <th>City</th>\n",
       "      <th>Row Number</th>\n",
       "      <th>Anticipated timescale</th>\n",
       "      <th>Estimated magnitude of potential impact</th>\n",
       "      <th>Estimated probability of impact</th>\n",
       "      <th>Risk description</th>\n",
       "      <th>Water security risk drivers</th>\n",
       "    </tr>\n",
       "  </thead>\n",
       "  <tbody>\n",
       "    <tr>\n",
       "      <th>0</th>\n",
       "      <td>1184</td>\n",
       "      <td>City of Austin</td>\n",
       "      <td>1</td>\n",
       "      <td>Short-term (by 2025)</td>\n",
       "      <td>Extremely serious</td>\n",
       "      <td>High</td>\n",
       "      <td>Central Texas is drought prone and we depend o...</td>\n",
       "      <td>Increased water stress</td>\n",
       "    </tr>\n",
       "    <tr>\n",
       "      <th>1</th>\n",
       "      <td>1499</td>\n",
       "      <td>Ajuntament de Barcelona</td>\n",
       "      <td>1</td>\n",
       "      <td>Current</td>\n",
       "      <td>Serious</td>\n",
       "      <td>Medium-high</td>\n",
       "      <td>The downscaling of the climate projections at ...</td>\n",
       "      <td>Increased water stress</td>\n",
       "    </tr>\n",
       "    <tr>\n",
       "      <th>2</th>\n",
       "      <td>1499</td>\n",
       "      <td>Ajuntament de Barcelona</td>\n",
       "      <td>2</td>\n",
       "      <td>Medium-term (by 2050)</td>\n",
       "      <td>Less Serious</td>\n",
       "      <td>Medium</td>\n",
       "      <td>A reduction in water resources availability  c...</td>\n",
       "      <td>Declining water quality</td>\n",
       "    </tr>\n",
       "    <tr>\n",
       "      <th>3</th>\n",
       "      <td>1499</td>\n",
       "      <td>Ajuntament de Barcelona</td>\n",
       "      <td>3</td>\n",
       "      <td>Current</td>\n",
       "      <td>Serious</td>\n",
       "      <td>Medium-high</td>\n",
       "      <td>In terms of water supply, rivers floods could ...</td>\n",
       "      <td>Severe weather events</td>\n",
       "    </tr>\n",
       "    <tr>\n",
       "      <th>4</th>\n",
       "      <td>1499</td>\n",
       "      <td>Ajuntament de Barcelona</td>\n",
       "      <td>4</td>\n",
       "      <td>Current</td>\n",
       "      <td>Serious</td>\n",
       "      <td>Medium-high</td>\n",
       "      <td>Climate Plan vulnerability assessement showed ...</td>\n",
       "      <td>Increased water scarcity</td>\n",
       "    </tr>\n",
       "  </tbody>\n",
       "</table>\n",
       "</div>"
      ],
      "text/plain": [
       "Column Name  Account Number                     City  Row Number  \\\n",
       "0                      1184           City of Austin           1   \n",
       "1                      1499  Ajuntament de Barcelona           1   \n",
       "2                      1499  Ajuntament de Barcelona           2   \n",
       "3                      1499  Ajuntament de Barcelona           3   \n",
       "4                      1499  Ajuntament de Barcelona           4   \n",
       "\n",
       "Column Name  Anticipated timescale Estimated magnitude of potential impact  \\\n",
       "0             Short-term (by 2025)                       Extremely serious   \n",
       "1                          Current                                 Serious   \n",
       "2            Medium-term (by 2050)                            Less Serious   \n",
       "3                          Current                                 Serious   \n",
       "4                          Current                                 Serious   \n",
       "\n",
       "Column Name Estimated probability of impact  \\\n",
       "0                                      High   \n",
       "1                               Medium-high   \n",
       "2                                    Medium   \n",
       "3                               Medium-high   \n",
       "4                               Medium-high   \n",
       "\n",
       "Column Name                                   Risk description  \\\n",
       "0            Central Texas is drought prone and we depend o...   \n",
       "1            The downscaling of the climate projections at ...   \n",
       "2            A reduction in water resources availability  c...   \n",
       "3            In terms of water supply, rivers floods could ...   \n",
       "4            Climate Plan vulnerability assessement showed ...   \n",
       "\n",
       "Column Name Water security risk drivers  \n",
       "0                Increased water stress  \n",
       "1                Increased water stress  \n",
       "2               Declining water quality  \n",
       "3                 Severe weather events  \n",
       "4              Increased water scarcity  "
      ]
     },
     "execution_count": 9,
     "metadata": {},
     "output_type": "execute_result"
    }
   ],
   "source": [
    "risk20=cities20_df.pivot_table(index=['Account Number', 'City', 'Row Number'],\n",
    "                                     columns='Column Name', \n",
    "                                     values='Response Answer',\n",
    "                                     aggfunc=lambda x: ' '.join(x)).reset_index()\n",
    "risk20.head()"
   ]
  },
  {
   "cell_type": "code",
   "execution_count": 10,
   "metadata": {
    "execution": {
     "iopub.execute_input": "2022-05-06T16:12:50.598753Z",
     "iopub.status.busy": "2022-05-06T16:12:50.597695Z",
     "iopub.status.idle": "2022-05-06T16:12:50.623325Z",
     "shell.execute_reply": "2022-05-06T16:12:50.622706Z",
     "shell.execute_reply.started": "2022-05-06T15:40:12.133309Z"
    },
    "papermill": {
     "duration": 0.062601,
     "end_time": "2022-05-06T16:12:50.623468",
     "exception": false,
     "start_time": "2022-05-06T16:12:50.560867",
     "status": "completed"
    },
    "tags": []
   },
   "outputs": [
    {
     "data": {
      "text/html": [
       "<div>\n",
       "<style scoped>\n",
       "    .dataframe tbody tr th:only-of-type {\n",
       "        vertical-align: middle;\n",
       "    }\n",
       "\n",
       "    .dataframe tbody tr th {\n",
       "        vertical-align: top;\n",
       "    }\n",
       "\n",
       "    .dataframe thead th {\n",
       "        text-align: right;\n",
       "    }\n",
       "</style>\n",
       "<table border=\"1\" class=\"dataframe\">\n",
       "  <thead>\n",
       "    <tr style=\"text-align: right;\">\n",
       "      <th>col_0</th>\n",
       "      <th>count</th>\n",
       "    </tr>\n",
       "    <tr>\n",
       "      <th>Water security risk drivers</th>\n",
       "      <th></th>\n",
       "    </tr>\n",
       "  </thead>\n",
       "  <tbody>\n",
       "    <tr>\n",
       "      <th>No Response</th>\n",
       "      <td>227</td>\n",
       "    </tr>\n",
       "    <tr>\n",
       "      <th>Question not applicable</th>\n",
       "      <td>214</td>\n",
       "    </tr>\n",
       "    <tr>\n",
       "      <th>Increased water stress</th>\n",
       "      <td>209</td>\n",
       "    </tr>\n",
       "    <tr>\n",
       "      <th>Declining water quality</th>\n",
       "      <td>163</td>\n",
       "    </tr>\n",
       "    <tr>\n",
       "      <th>Inadequate or ageing water supply infrastructure</th>\n",
       "      <td>140</td>\n",
       "    </tr>\n",
       "    <tr>\n",
       "      <th>Increased water demand</th>\n",
       "      <td>96</td>\n",
       "    </tr>\n",
       "    <tr>\n",
       "      <th>Drought</th>\n",
       "      <td>88</td>\n",
       "    </tr>\n",
       "    <tr>\n",
       "      <th>Increased water scarcity</th>\n",
       "      <td>73</td>\n",
       "    </tr>\n",
       "    <tr>\n",
       "      <th>Severe weather events</th>\n",
       "      <td>65</td>\n",
       "    </tr>\n",
       "    <tr>\n",
       "      <th>Higher water prices</th>\n",
       "      <td>63</td>\n",
       "    </tr>\n",
       "    <tr>\n",
       "      <th>Change in land-use</th>\n",
       "      <td>24</td>\n",
       "    </tr>\n",
       "    <tr>\n",
       "      <th>Environmental regulations</th>\n",
       "      <td>23</td>\n",
       "    </tr>\n",
       "    <tr>\n",
       "      <th>Pollution incidents</th>\n",
       "      <td>20</td>\n",
       "    </tr>\n",
       "    <tr>\n",
       "      <th>Energy supply issues</th>\n",
       "      <td>18</td>\n",
       "    </tr>\n",
       "    <tr>\n",
       "      <th>Rationing of municipal water supply</th>\n",
       "      <td>17</td>\n",
       "    </tr>\n",
       "    <tr>\n",
       "      <th>Ecosystem vulnerability</th>\n",
       "      <td>10</td>\n",
       "    </tr>\n",
       "    <tr>\n",
       "      <th>Unauthorised/unregistered water connections</th>\n",
       "      <td>7</td>\n",
       "    </tr>\n",
       "    <tr>\n",
       "      <th>Water infestation/disease</th>\n",
       "      <td>7</td>\n",
       "    </tr>\n",
       "    <tr>\n",
       "      <th>Increased levels of plastic in freshwater bodies</th>\n",
       "      <td>7</td>\n",
       "    </tr>\n",
       "    <tr>\n",
       "      <th>Other, please specify: Earthquake</th>\n",
       "      <td>2</td>\n",
       "    </tr>\n",
       "  </tbody>\n",
       "</table>\n",
       "</div>"
      ],
      "text/plain": [
       "col_0                                             count\n",
       "Water security risk drivers                            \n",
       "No Response                                         227\n",
       "Question not applicable                             214\n",
       "Increased water stress                              209\n",
       "Declining water quality                             163\n",
       "Inadequate or ageing water supply infrastructure    140\n",
       "Increased water demand                               96\n",
       "Drought                                              88\n",
       "Increased water scarcity                             73\n",
       "Severe weather events                                65\n",
       "Higher water prices                                  63\n",
       "Change in land-use                                   24\n",
       "Environmental regulations                            23\n",
       "Pollution incidents                                  20\n",
       "Energy supply issues                                 18\n",
       "Rationing of municipal water supply                  17\n",
       "Ecosystem vulnerability                              10\n",
       "Unauthorised/unregistered water connections           7\n",
       "Water infestation/disease                             7\n",
       "Increased levels of plastic in freshwater bodies      7\n",
       "Other, please specify: Earthquake                     2"
      ]
     },
     "execution_count": 10,
     "metadata": {},
     "output_type": "execute_result"
    }
   ],
   "source": [
    "df2=pd.crosstab(index=risk20['Water security risk drivers'], columns='count').sort_values(by='count',ascending=False)\n",
    "df2.head(20)"
   ]
  },
  {
   "cell_type": "code",
   "execution_count": 11,
   "metadata": {
    "execution": {
     "iopub.execute_input": "2022-05-06T16:12:50.688582Z",
     "iopub.status.busy": "2022-05-06T16:12:50.687556Z",
     "iopub.status.idle": "2022-05-06T16:12:50.812777Z",
     "shell.execute_reply": "2022-05-06T16:12:50.812233Z",
     "shell.execute_reply.started": "2022-05-06T15:40:12.165969Z"
    },
    "papermill": {
     "duration": 0.15898,
     "end_time": "2022-05-06T16:12:50.812896",
     "exception": false,
     "start_time": "2022-05-06T16:12:50.653916",
     "status": "completed"
    },
    "tags": []
   },
   "outputs": [
    {
     "data": {
      "text/plain": [
       "<AxesSubplot:ylabel='count'>"
      ]
     },
     "execution_count": 11,
     "metadata": {},
     "output_type": "execute_result"
    },
    {
     "data": {
      "image/png": "[encoded data removed]",
      "text/plain": [
       "<Figure size 432x432 with 1 Axes>"
      ]
     },
     "metadata": {},
     "output_type": "display_data"
    }
   ],
   "source": [
    "df2.iloc[2:19,:].plot.pie(y='count',figsize=(6,6),legend=False)"
   ]
  },
  {
   "cell_type": "code",
   "execution_count": 12,
   "metadata": {
    "execution": {
     "iopub.execute_input": "2022-05-06T16:12:50.900280Z",
     "iopub.status.busy": "2022-05-06T16:12:50.899600Z",
     "iopub.status.idle": "2022-05-06T16:12:50.904089Z",
     "shell.execute_reply": "2022-05-06T16:12:50.903612Z",
     "shell.execute_reply.started": "2022-05-06T15:40:12.295123Z"
    },
    "papermill": {
     "duration": 0.058436,
     "end_time": "2022-05-06T16:12:50.904219",
     "exception": false,
     "start_time": "2022-05-06T16:12:50.845783",
     "status": "completed"
    },
    "tags": []
   },
   "outputs": [
    {
     "data": {
      "text/html": [
       "<div>\n",
       "<style scoped>\n",
       "    .dataframe tbody tr th:only-of-type {\n",
       "        vertical-align: middle;\n",
       "    }\n",
       "\n",
       "    .dataframe tbody tr th {\n",
       "        vertical-align: top;\n",
       "    }\n",
       "\n",
       "    .dataframe thead th {\n",
       "        text-align: right;\n",
       "    }\n",
       "</style>\n",
       "<table border=\"1\" class=\"dataframe\">\n",
       "  <thead>\n",
       "    <tr style=\"text-align: right;\">\n",
       "      <th></th>\n",
       "      <th>Questionnaire</th>\n",
       "      <th>Year Reported to CDP</th>\n",
       "      <th>Account Number</th>\n",
       "      <th>City</th>\n",
       "      <th>Country</th>\n",
       "      <th>CDP Region</th>\n",
       "      <th>Parent Section</th>\n",
       "      <th>Section</th>\n",
       "      <th>Question Number</th>\n",
       "      <th>Question Name</th>\n",
       "      <th>Column Number</th>\n",
       "      <th>Column Name</th>\n",
       "      <th>Row Number</th>\n",
       "      <th>Row Name</th>\n",
       "      <th>Response Answer</th>\n",
       "      <th>Comments</th>\n",
       "      <th>File Name</th>\n",
       "      <th>Last update</th>\n",
       "    </tr>\n",
       "  </thead>\n",
       "  <tbody>\n",
       "    <tr>\n",
       "      <th>5</th>\n",
       "      <td>Cities 2019</td>\n",
       "      <td>2019</td>\n",
       "      <td>54588</td>\n",
       "      <td>West Coast District Municipality</td>\n",
       "      <td>South Africa</td>\n",
       "      <td>Africa</td>\n",
       "      <td>Water Security</td>\n",
       "      <td>Water Supply</td>\n",
       "      <td>14.3a</td>\n",
       "      <td>Please identify the risks to your city’s water...</td>\n",
       "      <td>2</td>\n",
       "      <td>Estimated timescale</td>\n",
       "      <td>1</td>\n",
       "      <td>NaN</td>\n",
       "      <td>Short-term</td>\n",
       "      <td>NaN</td>\n",
       "      <td>NaN</td>\n",
       "      <td>24/06/2020 05:30:36 AM</td>\n",
       "    </tr>\n",
       "    <tr>\n",
       "      <th>85</th>\n",
       "      <td>Cities 2019</td>\n",
       "      <td>2019</td>\n",
       "      <td>60104</td>\n",
       "      <td>Cambridge City Council</td>\n",
       "      <td>United Kingdom of Great Britain and Northern I...</td>\n",
       "      <td>Europe</td>\n",
       "      <td>Water Security</td>\n",
       "      <td>Water Supply</td>\n",
       "      <td>14.3a</td>\n",
       "      <td>Please identify the risks to your city’s water...</td>\n",
       "      <td>3</td>\n",
       "      <td>Estimated magnitude</td>\n",
       "      <td>1</td>\n",
       "      <td>NaN</td>\n",
       "      <td>Serious</td>\n",
       "      <td>NaN</td>\n",
       "      <td>NaN</td>\n",
       "      <td>24/06/2020 05:30:36 AM</td>\n",
       "    </tr>\n",
       "    <tr>\n",
       "      <th>90</th>\n",
       "      <td>Cities 2019</td>\n",
       "      <td>2019</td>\n",
       "      <td>839666</td>\n",
       "      <td>Municipio de Escuintla</td>\n",
       "      <td>Guatemala</td>\n",
       "      <td>Latin America</td>\n",
       "      <td>Water Security</td>\n",
       "      <td>Water Supply</td>\n",
       "      <td>14.3a</td>\n",
       "      <td>Please identify the risks to your city’s water...</td>\n",
       "      <td>2</td>\n",
       "      <td>Estimated timescale</td>\n",
       "      <td>1</td>\n",
       "      <td>NaN</td>\n",
       "      <td>Medium-term</td>\n",
       "      <td>NaN</td>\n",
       "      <td>NaN</td>\n",
       "      <td>24/06/2020 05:30:36 AM</td>\n",
       "    </tr>\n",
       "    <tr>\n",
       "      <th>219</th>\n",
       "      <td>Cities 2019</td>\n",
       "      <td>2019</td>\n",
       "      <td>840328</td>\n",
       "      <td>Municipalidad San Pedro Carchá</td>\n",
       "      <td>Guatemala</td>\n",
       "      <td>Latin America</td>\n",
       "      <td>Water Security</td>\n",
       "      <td>Water Supply</td>\n",
       "      <td>14.3a</td>\n",
       "      <td>Please identify the risks to your city’s water...</td>\n",
       "      <td>1</td>\n",
       "      <td>Risks</td>\n",
       "      <td>2</td>\n",
       "      <td>NaN</td>\n",
       "      <td>Higher water prices</td>\n",
       "      <td>NaN</td>\n",
       "      <td>NaN</td>\n",
       "      <td>24/06/2020 05:30:36 AM</td>\n",
       "    </tr>\n",
       "    <tr>\n",
       "      <th>314</th>\n",
       "      <td>Cities 2019</td>\n",
       "      <td>2019</td>\n",
       "      <td>35863</td>\n",
       "      <td>eThekwini Municipality</td>\n",
       "      <td>South Africa</td>\n",
       "      <td>Africa</td>\n",
       "      <td>Water Security</td>\n",
       "      <td>Water Supply</td>\n",
       "      <td>14.3a</td>\n",
       "      <td>Please identify the risks to your city’s water...</td>\n",
       "      <td>3</td>\n",
       "      <td>Estimated magnitude</td>\n",
       "      <td>2</td>\n",
       "      <td>NaN</td>\n",
       "      <td>Extremely serious</td>\n",
       "      <td>NaN</td>\n",
       "      <td>NaN</td>\n",
       "      <td>24/06/2020 05:30:36 AM</td>\n",
       "    </tr>\n",
       "  </tbody>\n",
       "</table>\n",
       "</div>"
      ],
      "text/plain": [
       "    Questionnaire  Year Reported to CDP  Account Number  \\\n",
       "5     Cities 2019                  2019           54588   \n",
       "85    Cities 2019                  2019           60104   \n",
       "90    Cities 2019                  2019          839666   \n",
       "219   Cities 2019                  2019          840328   \n",
       "314   Cities 2019                  2019           35863   \n",
       "\n",
       "                                 City  \\\n",
       "5    West Coast District Municipality   \n",
       "85             Cambridge City Council   \n",
       "90             Municipio de Escuintla   \n",
       "219    Municipalidad San Pedro Carchá   \n",
       "314            eThekwini Municipality   \n",
       "\n",
       "                                               Country     CDP Region  \\\n",
       "5                                         South Africa         Africa   \n",
       "85   United Kingdom of Great Britain and Northern I...         Europe   \n",
       "90                                           Guatemala  Latin America   \n",
       "219                                          Guatemala  Latin America   \n",
       "314                                       South Africa         Africa   \n",
       "\n",
       "     Parent Section       Section Question Number  \\\n",
       "5    Water Security  Water Supply           14.3a   \n",
       "85   Water Security  Water Supply           14.3a   \n",
       "90   Water Security  Water Supply           14.3a   \n",
       "219  Water Security  Water Supply           14.3a   \n",
       "314  Water Security  Water Supply           14.3a   \n",
       "\n",
       "                                         Question Name  Column Number  \\\n",
       "5    Please identify the risks to your city’s water...              2   \n",
       "85   Please identify the risks to your city’s water...              3   \n",
       "90   Please identify the risks to your city’s water...              2   \n",
       "219  Please identify the risks to your city’s water...              1   \n",
       "314  Please identify the risks to your city’s water...              3   \n",
       "\n",
       "             Column Name  Row Number Row Name      Response Answer Comments  \\\n",
       "5    Estimated timescale           1      NaN           Short-term      NaN   \n",
       "85   Estimated magnitude           1      NaN              Serious      NaN   \n",
       "90   Estimated timescale           1      NaN          Medium-term      NaN   \n",
       "219                Risks           2      NaN  Higher water prices      NaN   \n",
       "314  Estimated magnitude           2      NaN    Extremely serious      NaN   \n",
       "\n",
       "    File Name             Last update  \n",
       "5         NaN  24/06/2020 05:30:36 AM  \n",
       "85        NaN  24/06/2020 05:30:36 AM  \n",
       "90        NaN  24/06/2020 05:30:36 AM  \n",
       "219       NaN  24/06/2020 05:30:36 AM  \n",
       "314       NaN  24/06/2020 05:30:36 AM  "
      ]
     },
     "execution_count": 12,
     "metadata": {},
     "output_type": "execute_result"
    }
   ],
   "source": [
    "cities19_df.head()"
   ]
  },
  {
   "cell_type": "code",
   "execution_count": 13,
   "metadata": {
    "execution": {
     "iopub.execute_input": "2022-05-06T16:12:50.978221Z",
     "iopub.status.busy": "2022-05-06T16:12:50.977624Z",
     "iopub.status.idle": "2022-05-06T16:12:51.038593Z",
     "shell.execute_reply": "2022-05-06T16:12:51.038057Z",
     "shell.execute_reply.started": "2022-05-06T15:40:12.319095Z"
    },
    "papermill": {
     "duration": 0.101682,
     "end_time": "2022-05-06T16:12:51.038706",
     "exception": false,
     "start_time": "2022-05-06T16:12:50.937024",
     "status": "completed"
    },
    "tags": []
   },
   "outputs": [
    {
     "data": {
      "text/html": [
       "<div>\n",
       "<style scoped>\n",
       "    .dataframe tbody tr th:only-of-type {\n",
       "        vertical-align: middle;\n",
       "    }\n",
       "\n",
       "    .dataframe tbody tr th {\n",
       "        vertical-align: top;\n",
       "    }\n",
       "\n",
       "    .dataframe thead th {\n",
       "        text-align: right;\n",
       "    }\n",
       "</style>\n",
       "<table border=\"1\" class=\"dataframe\">\n",
       "  <thead>\n",
       "    <tr style=\"text-align: right;\">\n",
       "      <th>Column Name</th>\n",
       "      <th>Account Number</th>\n",
       "      <th>City</th>\n",
       "      <th>Row Number</th>\n",
       "      <th>Estimated magnitude</th>\n",
       "      <th>Estimated timescale</th>\n",
       "      <th>Risk description</th>\n",
       "      <th>Risks</th>\n",
       "    </tr>\n",
       "  </thead>\n",
       "  <tbody>\n",
       "    <tr>\n",
       "      <th>0</th>\n",
       "      <td>1093</td>\n",
       "      <td>City of Atlanta</td>\n",
       "      <td>1</td>\n",
       "      <td>Serious</td>\n",
       "      <td>Short-term</td>\n",
       "      <td>The city depends on one river for water supply...</td>\n",
       "      <td>Increased water stress</td>\n",
       "    </tr>\n",
       "    <tr>\n",
       "      <th>1</th>\n",
       "      <td>1093</td>\n",
       "      <td>City of Atlanta</td>\n",
       "      <td>2</td>\n",
       "      <td>Serious</td>\n",
       "      <td>Current</td>\n",
       "      <td>The water cost burden is felt across all ZIP c...</td>\n",
       "      <td>Higher water prices</td>\n",
       "    </tr>\n",
       "    <tr>\n",
       "      <th>2</th>\n",
       "      <td>1184</td>\n",
       "      <td>City of Austin</td>\n",
       "      <td>1</td>\n",
       "      <td>Extremely serious</td>\n",
       "      <td>Short-term</td>\n",
       "      <td>Central Texas is drought prone and we depend o...</td>\n",
       "      <td>Increased water stress</td>\n",
       "    </tr>\n",
       "    <tr>\n",
       "      <th>3</th>\n",
       "      <td>1499</td>\n",
       "      <td>Ajuntament de Barcelona</td>\n",
       "      <td>1</td>\n",
       "      <td>Less Serious</td>\n",
       "      <td>Current</td>\n",
       "      <td>The downscaling of the climate projections at ...</td>\n",
       "      <td>Increased water stress</td>\n",
       "    </tr>\n",
       "    <tr>\n",
       "      <th>4</th>\n",
       "      <td>1499</td>\n",
       "      <td>Ajuntament de Barcelona</td>\n",
       "      <td>2</td>\n",
       "      <td>Less Serious</td>\n",
       "      <td>Medium-term</td>\n",
       "      <td>A reduction in water resources availability  c...</td>\n",
       "      <td>Declining water quality</td>\n",
       "    </tr>\n",
       "  </tbody>\n",
       "</table>\n",
       "</div>"
      ],
      "text/plain": [
       "Column Name  Account Number                     City  Row Number  \\\n",
       "0                      1093          City of Atlanta           1   \n",
       "1                      1093          City of Atlanta           2   \n",
       "2                      1184           City of Austin           1   \n",
       "3                      1499  Ajuntament de Barcelona           1   \n",
       "4                      1499  Ajuntament de Barcelona           2   \n",
       "\n",
       "Column Name Estimated magnitude Estimated timescale  \\\n",
       "0                       Serious          Short-term   \n",
       "1                       Serious             Current   \n",
       "2             Extremely serious          Short-term   \n",
       "3                  Less Serious             Current   \n",
       "4                  Less Serious         Medium-term   \n",
       "\n",
       "Column Name                                   Risk description  \\\n",
       "0            The city depends on one river for water supply...   \n",
       "1            The water cost burden is felt across all ZIP c...   \n",
       "2            Central Texas is drought prone and we depend o...   \n",
       "3            The downscaling of the climate projections at ...   \n",
       "4            A reduction in water resources availability  c...   \n",
       "\n",
       "Column Name                    Risks  \n",
       "0             Increased water stress  \n",
       "1                Higher water prices  \n",
       "2             Increased water stress  \n",
       "3             Increased water stress  \n",
       "4            Declining water quality  "
      ]
     },
     "execution_count": 13,
     "metadata": {},
     "output_type": "execute_result"
    }
   ],
   "source": [
    "risk19=cities19_df.pivot_table(index=['Account Number', 'City', 'Row Number'],\n",
    "                                     columns='Column Name', \n",
    "                                     values='Response Answer',\n",
    "                                     aggfunc=lambda x: ' '.join(x)).reset_index()\n",
    "risk19.head()"
   ]
  },
  {
   "cell_type": "code",
   "execution_count": 14,
   "metadata": {
    "execution": {
     "iopub.execute_input": "2022-05-06T16:12:51.114947Z",
     "iopub.status.busy": "2022-05-06T16:12:51.114253Z",
     "iopub.status.idle": "2022-05-06T16:12:51.139171Z",
     "shell.execute_reply": "2022-05-06T16:12:51.138644Z",
     "shell.execute_reply.started": "2022-05-06T15:40:12.390154Z"
    },
    "papermill": {
     "duration": 0.066532,
     "end_time": "2022-05-06T16:12:51.139282",
     "exception": false,
     "start_time": "2022-05-06T16:12:51.072750",
     "status": "completed"
    },
    "tags": []
   },
   "outputs": [
    {
     "name": "stdout",
     "output_type": "stream",
     "text": [
      "<class 'pandas.core.frame.DataFrame'>\n",
      "Index: 13 entries, Increased water stress to Rationing of municipal water supply\n",
      "Data columns (total 1 columns):\n",
      " #   Column  Non-Null Count  Dtype\n",
      "---  ------  --------------  -----\n",
      " 0   count   13 non-null     int64\n",
      "dtypes: int64(1)\n",
      "memory usage: 208.0+ bytes\n"
     ]
    },
    {
     "data": {
      "text/html": [
       "<div>\n",
       "<style scoped>\n",
       "    .dataframe tbody tr th:only-of-type {\n",
       "        vertical-align: middle;\n",
       "    }\n",
       "\n",
       "    .dataframe tbody tr th {\n",
       "        vertical-align: top;\n",
       "    }\n",
       "\n",
       "    .dataframe thead th {\n",
       "        text-align: right;\n",
       "    }\n",
       "</style>\n",
       "<table border=\"1\" class=\"dataframe\">\n",
       "  <thead>\n",
       "    <tr style=\"text-align: right;\">\n",
       "      <th>col_0</th>\n",
       "      <th>count</th>\n",
       "    </tr>\n",
       "    <tr>\n",
       "      <th>Risks</th>\n",
       "      <th></th>\n",
       "    </tr>\n",
       "  </thead>\n",
       "  <tbody>\n",
       "    <tr>\n",
       "      <th>Increased water stress</th>\n",
       "      <td>263</td>\n",
       "    </tr>\n",
       "    <tr>\n",
       "      <th>Declining water quality</th>\n",
       "      <td>223</td>\n",
       "    </tr>\n",
       "    <tr>\n",
       "      <th>Inadequate or ageing water supply infrastructure</th>\n",
       "      <td>161</td>\n",
       "    </tr>\n",
       "    <tr>\n",
       "      <th>Increased water demand</th>\n",
       "      <td>103</td>\n",
       "    </tr>\n",
       "    <tr>\n",
       "      <th>Drought</th>\n",
       "      <td>78</td>\n",
       "    </tr>\n",
       "    <tr>\n",
       "      <th>Increased water scarcity</th>\n",
       "      <td>77</td>\n",
       "    </tr>\n",
       "    <tr>\n",
       "      <th>No Response</th>\n",
       "      <td>77</td>\n",
       "    </tr>\n",
       "    <tr>\n",
       "      <th>Higher water prices</th>\n",
       "      <td>75</td>\n",
       "    </tr>\n",
       "    <tr>\n",
       "      <th>Severe weather events</th>\n",
       "      <td>65</td>\n",
       "    </tr>\n",
       "    <tr>\n",
       "      <th>Regulatory</th>\n",
       "      <td>27</td>\n",
       "    </tr>\n",
       "    <tr>\n",
       "      <th>Change in land-use</th>\n",
       "      <td>25</td>\n",
       "    </tr>\n",
       "    <tr>\n",
       "      <th>Energy supply issues</th>\n",
       "      <td>14</td>\n",
       "    </tr>\n",
       "    <tr>\n",
       "      <th>Rationing of municipal water supply</th>\n",
       "      <td>11</td>\n",
       "    </tr>\n",
       "  </tbody>\n",
       "</table>\n",
       "</div>"
      ],
      "text/plain": [
       "col_0                                             count\n",
       "Risks                                                  \n",
       "Increased water stress                              263\n",
       "Declining water quality                             223\n",
       "Inadequate or ageing water supply infrastructure    161\n",
       "Increased water demand                              103\n",
       "Drought                                              78\n",
       "Increased water scarcity                             77\n",
       "No Response                                          77\n",
       "Higher water prices                                  75\n",
       "Severe weather events                                65\n",
       "Regulatory                                           27\n",
       "Change in land-use                                   25\n",
       "Energy supply issues                                 14\n",
       "Rationing of municipal water supply                  11"
      ]
     },
     "execution_count": 14,
     "metadata": {},
     "output_type": "execute_result"
    }
   ],
   "source": [
    "df3=pd.crosstab(index=risk19['Risks'], columns='count').sort_values(by='count',ascending=False)\n",
    "df3.rename({'Inadequate or ageing infrastructure':'Inadequate or ageing water supply infrastructure'},inplace=True)\n",
    "df3"
   ]
  },
  {
   "cell_type": "code",
   "execution_count": 15,
   "metadata": {
    "execution": {
     "iopub.execute_input": "2022-05-06T16:12:51.221986Z",
     "iopub.status.busy": "2022-05-06T16:12:51.216276Z",
     "iopub.status.idle": "2022-05-06T16:12:51.320483Z",
     "shell.execute_reply": "2022-05-06T16:12:51.319885Z",
     "shell.execute_reply.started": "2022-05-06T15:40:12.422528Z"
    },
    "papermill": {
     "duration": 0.147079,
     "end_time": "2022-05-06T16:12:51.320606",
     "exception": false,
     "start_time": "2022-05-06T16:12:51.173527",
     "status": "completed"
    },
    "tags": []
   },
   "outputs": [
    {
     "data": {
      "text/plain": [
       "<AxesSubplot:ylabel='count'>"
      ]
     },
     "execution_count": 15,
     "metadata": {},
     "output_type": "execute_result"
    },
    {
     "data": {
      "image/png": "[encoded data removed]",
      "text/plain": [
       "<Figure size 432x432 with 1 Axes>"
      ]
     },
     "metadata": {},
     "output_type": "display_data"
    }
   ],
   "source": [
    "df3.drop('No Response').plot.pie(y='count',figsize=(6,6),legend=False)"
   ]
  },
  {
   "cell_type": "code",
   "execution_count": 16,
   "metadata": {
    "execution": {
     "iopub.execute_input": "2022-05-06T16:12:51.399873Z",
     "iopub.status.busy": "2022-05-06T16:12:51.398948Z",
     "iopub.status.idle": "2022-05-06T16:12:51.402242Z",
     "shell.execute_reply": "2022-05-06T16:12:51.401781Z",
     "shell.execute_reply.started": "2022-05-06T15:40:12.529326Z"
    },
    "papermill": {
     "duration": 0.046496,
     "end_time": "2022-05-06T16:12:51.402361",
     "exception": false,
     "start_time": "2022-05-06T16:12:51.355865",
     "status": "completed"
    },
    "tags": []
   },
   "outputs": [],
   "source": [
    "df21=df1.iloc[1:18,:]\n",
    "df20=df2.iloc[2:19,:]\n",
    "df19=df3.drop('No Response')\n",
    "df21=df21.rename(columns={'count': 'count21'})\n",
    "df20=df20.rename(columns={'count': 'count20'})\n",
    "df19=df19.rename(columns={'count': 'count19'})"
   ]
  },
  {
   "cell_type": "code",
   "execution_count": 17,
   "metadata": {
    "execution": {
     "iopub.execute_input": "2022-05-06T16:12:51.479197Z",
     "iopub.status.busy": "2022-05-06T16:12:51.478225Z",
     "iopub.status.idle": "2022-05-06T16:12:51.481284Z",
     "shell.execute_reply": "2022-05-06T16:12:51.480820Z",
     "shell.execute_reply.started": "2022-05-06T15:40:12.539827Z"
    },
    "papermill": {
     "duration": 0.043507,
     "end_time": "2022-05-06T16:12:51.481409",
     "exception": false,
     "start_time": "2022-05-06T16:12:51.437902",
     "status": "completed"
    },
    "tags": []
   },
   "outputs": [],
   "source": [
    "risk21=df21.index.values\n",
    "risk21count=df21.values\n",
    "risk20=df20.index.values\n",
    "risk20count=df20.values\n",
    "risk19=df19.index.values\n",
    "risk19count=df19.values"
   ]
  },
  {
   "cell_type": "code",
   "execution_count": 18,
   "metadata": {
    "execution": {
     "iopub.execute_input": "2022-05-06T16:12:51.560990Z",
     "iopub.status.busy": "2022-05-06T16:12:51.560256Z",
     "iopub.status.idle": "2022-05-06T16:12:51.563345Z",
     "shell.execute_reply": "2022-05-06T16:12:51.562863Z",
     "shell.execute_reply.started": "2022-05-06T15:40:12.551020Z"
    },
    "papermill": {
     "duration": 0.046809,
     "end_time": "2022-05-06T16:12:51.563484",
     "exception": false,
     "start_time": "2022-05-06T16:12:51.516675",
     "status": "completed"
    },
    "tags": []
   },
   "outputs": [],
   "source": [
    "# Create the pandas DataFrame\n",
    "df_21 = pd.DataFrame(risk21, columns = ['RISK'])\n",
    "\n",
    "df_20 = pd.DataFrame(risk20, columns = ['RISK'])\n",
    "\n",
    "df_19 = pd.DataFrame(risk19, columns = ['RISK'])\n",
    " \n",
    "# print dataframe.\n",
    "df_21['count21']=risk21count\n",
    "\n",
    "df_20['count20']=risk20count\n",
    "\n",
    "df_19['count19']=risk19count"
   ]
  },
  {
   "cell_type": "code",
   "execution_count": 19,
   "metadata": {
    "execution": {
     "iopub.execute_input": "2022-05-06T16:12:51.656517Z",
     "iopub.status.busy": "2022-05-06T16:12:51.655801Z",
     "iopub.status.idle": "2022-05-06T16:12:51.659457Z",
     "shell.execute_reply": "2022-05-06T16:12:51.658862Z",
     "shell.execute_reply.started": "2022-05-06T15:40:12.563891Z"
    },
    "papermill": {
     "duration": 0.060535,
     "end_time": "2022-05-06T16:12:51.659571",
     "exception": false,
     "start_time": "2022-05-06T16:12:51.599036",
     "status": "completed"
    },
    "tags": []
   },
   "outputs": [
    {
     "data": {
      "text/html": [
       "<div>\n",
       "<style scoped>\n",
       "    .dataframe tbody tr th:only-of-type {\n",
       "        vertical-align: middle;\n",
       "    }\n",
       "\n",
       "    .dataframe tbody tr th {\n",
       "        vertical-align: top;\n",
       "    }\n",
       "\n",
       "    .dataframe thead th {\n",
       "        text-align: right;\n",
       "    }\n",
       "</style>\n",
       "<table border=\"1\" class=\"dataframe\">\n",
       "  <thead>\n",
       "    <tr style=\"text-align: right;\">\n",
       "      <th></th>\n",
       "      <th>RISK</th>\n",
       "      <th>count21</th>\n",
       "      <th>count20</th>\n",
       "      <th>count19</th>\n",
       "    </tr>\n",
       "  </thead>\n",
       "  <tbody>\n",
       "    <tr>\n",
       "      <th>0</th>\n",
       "      <td>Increased water stress</td>\n",
       "      <td>250.0</td>\n",
       "      <td>209.0</td>\n",
       "      <td>263.0</td>\n",
       "    </tr>\n",
       "    <tr>\n",
       "      <th>1</th>\n",
       "      <td>Declining water quality</td>\n",
       "      <td>237.0</td>\n",
       "      <td>163.0</td>\n",
       "      <td>223.0</td>\n",
       "    </tr>\n",
       "    <tr>\n",
       "      <th>2</th>\n",
       "      <td>Inadequate or ageing water supply infrastructure</td>\n",
       "      <td>197.0</td>\n",
       "      <td>140.0</td>\n",
       "      <td>161.0</td>\n",
       "    </tr>\n",
       "    <tr>\n",
       "      <th>3</th>\n",
       "      <td>Increased water demand</td>\n",
       "      <td>160.0</td>\n",
       "      <td>96.0</td>\n",
       "      <td>103.0</td>\n",
       "    </tr>\n",
       "    <tr>\n",
       "      <th>4</th>\n",
       "      <td>Drought</td>\n",
       "      <td>148.0</td>\n",
       "      <td>88.0</td>\n",
       "      <td>78.0</td>\n",
       "    </tr>\n",
       "    <tr>\n",
       "      <th>5</th>\n",
       "      <td>Increased water scarcity</td>\n",
       "      <td>147.0</td>\n",
       "      <td>73.0</td>\n",
       "      <td>77.0</td>\n",
       "    </tr>\n",
       "    <tr>\n",
       "      <th>6</th>\n",
       "      <td>Severe weather events</td>\n",
       "      <td>101.0</td>\n",
       "      <td>65.0</td>\n",
       "      <td>65.0</td>\n",
       "    </tr>\n",
       "    <tr>\n",
       "      <th>7</th>\n",
       "      <td>Higher water prices</td>\n",
       "      <td>89.0</td>\n",
       "      <td>63.0</td>\n",
       "      <td>75.0</td>\n",
       "    </tr>\n",
       "    <tr>\n",
       "      <th>8</th>\n",
       "      <td>Pollution incidents</td>\n",
       "      <td>46.0</td>\n",
       "      <td>20.0</td>\n",
       "      <td>NaN</td>\n",
       "    </tr>\n",
       "    <tr>\n",
       "      <th>9</th>\n",
       "      <td>Change in land-use</td>\n",
       "      <td>39.0</td>\n",
       "      <td>24.0</td>\n",
       "      <td>25.0</td>\n",
       "    </tr>\n",
       "    <tr>\n",
       "      <th>10</th>\n",
       "      <td>Environmental regulations</td>\n",
       "      <td>36.0</td>\n",
       "      <td>23.0</td>\n",
       "      <td>NaN</td>\n",
       "    </tr>\n",
       "    <tr>\n",
       "      <th>11</th>\n",
       "      <td>Energy supply issues</td>\n",
       "      <td>32.0</td>\n",
       "      <td>18.0</td>\n",
       "      <td>14.0</td>\n",
       "    </tr>\n",
       "    <tr>\n",
       "      <th>12</th>\n",
       "      <td>Rationing of municipal water supply</td>\n",
       "      <td>25.0</td>\n",
       "      <td>17.0</td>\n",
       "      <td>11.0</td>\n",
       "    </tr>\n",
       "    <tr>\n",
       "      <th>13</th>\n",
       "      <td>Unauthorised/unregistered water connections</td>\n",
       "      <td>20.0</td>\n",
       "      <td>7.0</td>\n",
       "      <td>NaN</td>\n",
       "    </tr>\n",
       "    <tr>\n",
       "      <th>14</th>\n",
       "      <td>Ecosystem vulnerability</td>\n",
       "      <td>20.0</td>\n",
       "      <td>10.0</td>\n",
       "      <td>NaN</td>\n",
       "    </tr>\n",
       "    <tr>\n",
       "      <th>15</th>\n",
       "      <td>Increased levels of plastic in freshwater bodies</td>\n",
       "      <td>16.0</td>\n",
       "      <td>7.0</td>\n",
       "      <td>NaN</td>\n",
       "    </tr>\n",
       "    <tr>\n",
       "      <th>16</th>\n",
       "      <td>Water infestation/disease</td>\n",
       "      <td>15.0</td>\n",
       "      <td>7.0</td>\n",
       "      <td>NaN</td>\n",
       "    </tr>\n",
       "    <tr>\n",
       "      <th>17</th>\n",
       "      <td>Regulatory</td>\n",
       "      <td>NaN</td>\n",
       "      <td>NaN</td>\n",
       "      <td>27.0</td>\n",
       "    </tr>\n",
       "  </tbody>\n",
       "</table>\n",
       "</div>"
      ],
      "text/plain": [
       "                                                RISK  count21  count20  \\\n",
       "0                             Increased water stress    250.0    209.0   \n",
       "1                            Declining water quality    237.0    163.0   \n",
       "2   Inadequate or ageing water supply infrastructure    197.0    140.0   \n",
       "3                             Increased water demand    160.0     96.0   \n",
       "4                                            Drought    148.0     88.0   \n",
       "5                           Increased water scarcity    147.0     73.0   \n",
       "6                              Severe weather events    101.0     65.0   \n",
       "7                                Higher water prices     89.0     63.0   \n",
       "8                                Pollution incidents     46.0     20.0   \n",
       "9                                 Change in land-use     39.0     24.0   \n",
       "10                         Environmental regulations     36.0     23.0   \n",
       "11                              Energy supply issues     32.0     18.0   \n",
       "12               Rationing of municipal water supply     25.0     17.0   \n",
       "13       Unauthorised/unregistered water connections     20.0      7.0   \n",
       "14                           Ecosystem vulnerability     20.0     10.0   \n",
       "15  Increased levels of plastic in freshwater bodies     16.0      7.0   \n",
       "16                         Water infestation/disease     15.0      7.0   \n",
       "17                                        Regulatory      NaN      NaN   \n",
       "\n",
       "    count19  \n",
       "0     263.0  \n",
       "1     223.0  \n",
       "2     161.0  \n",
       "3     103.0  \n",
       "4      78.0  \n",
       "5      77.0  \n",
       "6      65.0  \n",
       "7      75.0  \n",
       "8       NaN  \n",
       "9      25.0  \n",
       "10      NaN  \n",
       "11     14.0  \n",
       "12     11.0  \n",
       "13      NaN  \n",
       "14      NaN  \n",
       "15      NaN  \n",
       "16      NaN  \n",
       "17     27.0  "
      ]
     },
     "execution_count": 19,
     "metadata": {},
     "output_type": "execute_result"
    }
   ],
   "source": [
    "outer_merged = pd.merge(df_21, df_20, how=\"outer\", on=[\"RISK\"])\n",
    "outer_merged = pd.merge(outer_merged , df_19, how=\"outer\", on=[\"RISK\"])\n",
    "outer_merged"
   ]
  },
  {
   "cell_type": "code",
   "execution_count": 20,
   "metadata": {
    "execution": {
     "iopub.execute_input": "2022-05-06T16:12:51.743170Z",
     "iopub.status.busy": "2022-05-06T16:12:51.742265Z",
     "iopub.status.idle": "2022-05-06T16:12:51.746623Z",
     "shell.execute_reply": "2022-05-06T16:12:51.746087Z",
     "shell.execute_reply.started": "2022-05-06T15:40:12.588311Z"
    },
    "papermill": {
     "duration": 0.051428,
     "end_time": "2022-05-06T16:12:51.746737",
     "exception": false,
     "start_time": "2022-05-06T16:12:51.695309",
     "status": "completed"
    },
    "tags": []
   },
   "outputs": [
    {
     "data": {
      "text/html": [
       "<div>\n",
       "<style scoped>\n",
       "    .dataframe tbody tr th:only-of-type {\n",
       "        vertical-align: middle;\n",
       "    }\n",
       "\n",
       "    .dataframe tbody tr th {\n",
       "        vertical-align: top;\n",
       "    }\n",
       "\n",
       "    .dataframe thead th {\n",
       "        text-align: right;\n",
       "    }\n",
       "</style>\n",
       "<table border=\"1\" class=\"dataframe\">\n",
       "  <thead>\n",
       "    <tr style=\"text-align: right;\">\n",
       "      <th></th>\n",
       "      <th>Total Reported Risk</th>\n",
       "    </tr>\n",
       "    <tr>\n",
       "      <th>CDP Region</th>\n",
       "      <th></th>\n",
       "    </tr>\n",
       "  </thead>\n",
       "  <tbody>\n",
       "    <tr>\n",
       "      <th>Africa</th>\n",
       "      <td>150</td>\n",
       "    </tr>\n",
       "    <tr>\n",
       "      <th>East Asia</th>\n",
       "      <td>247</td>\n",
       "    </tr>\n",
       "    <tr>\n",
       "      <th>Europe</th>\n",
       "      <td>416</td>\n",
       "    </tr>\n",
       "    <tr>\n",
       "      <th>Latin America</th>\n",
       "      <td>604</td>\n",
       "    </tr>\n",
       "    <tr>\n",
       "      <th>Middle East</th>\n",
       "      <td>19</td>\n",
       "    </tr>\n",
       "    <tr>\n",
       "      <th>North America</th>\n",
       "      <td>447</td>\n",
       "    </tr>\n",
       "    <tr>\n",
       "      <th>South and West Asia</th>\n",
       "      <td>42</td>\n",
       "    </tr>\n",
       "    <tr>\n",
       "      <th>Southeast Asia and Oceania</th>\n",
       "      <td>212</td>\n",
       "    </tr>\n",
       "  </tbody>\n",
       "</table>\n",
       "</div>"
      ],
      "text/plain": [
       "                            Total Reported Risk\n",
       "CDP Region                                     \n",
       "Africa                                      150\n",
       "East Asia                                   247\n",
       "Europe                                      416\n",
       "Latin America                               604\n",
       "Middle East                                  19\n",
       "North America                               447\n",
       "South and West Asia                          42\n",
       "Southeast Asia and Oceania                  212"
      ]
     },
     "execution_count": 20,
     "metadata": {},
     "output_type": "execute_result"
    }
   ],
   "source": [
    "#Count the number of reported risk in each\n",
    "riskregion=cities21_df[['CDP Region','Water security risk drivers']]\n",
    "group =riskregion.groupby(['CDP Region'])\n",
    "riskcount= group.count()\n",
    "riskcount=riskcount.rename(columns={'Water security risk drivers':'Total Reported Risk'})\n",
    "riskcount"
   ]
  },
  {
   "cell_type": "markdown",
   "metadata": {
    "papermill": {
     "duration": 0.036716,
     "end_time": "2022-05-06T16:12:51.819529",
     "exception": false,
     "start_time": "2022-05-06T16:12:51.782813",
     "status": "completed"
    },
    "tags": []
   },
   "source": [
    "### 1. Increased water risk"
   ]
  },
  {
   "cell_type": "code",
   "execution_count": 21,
   "metadata": {
    "execution": {
     "iopub.execute_input": "2022-05-06T16:12:51.896071Z",
     "iopub.status.busy": "2022-05-06T16:12:51.895086Z",
     "iopub.status.idle": "2022-05-06T16:12:51.917904Z",
     "shell.execute_reply": "2022-05-06T16:12:51.918368Z",
     "shell.execute_reply.started": "2022-05-06T15:40:12.603671Z"
    },
    "papermill": {
     "duration": 0.06274,
     "end_time": "2022-05-06T16:12:51.918527",
     "exception": false,
     "start_time": "2022-05-06T16:12:51.855787",
     "status": "completed"
    },
    "tags": []
   },
   "outputs": [
    {
     "data": {
      "text/html": [
       "<div>\n",
       "<style scoped>\n",
       "    .dataframe tbody tr th:only-of-type {\n",
       "        vertical-align: middle;\n",
       "    }\n",
       "\n",
       "    .dataframe tbody tr th {\n",
       "        vertical-align: top;\n",
       "    }\n",
       "\n",
       "    .dataframe thead th {\n",
       "        text-align: right;\n",
       "    }\n",
       "</style>\n",
       "<table border=\"1\" class=\"dataframe\">\n",
       "  <thead>\n",
       "    <tr style=\"text-align: right;\">\n",
       "      <th></th>\n",
       "      <th>Total Reported Risk</th>\n",
       "      <th>Increased water stress</th>\n",
       "      <th>Proportion</th>\n",
       "    </tr>\n",
       "    <tr>\n",
       "      <th>CDP Region</th>\n",
       "      <th></th>\n",
       "      <th></th>\n",
       "      <th></th>\n",
       "    </tr>\n",
       "  </thead>\n",
       "  <tbody>\n",
       "    <tr>\n",
       "      <th>Africa</th>\n",
       "      <td>150</td>\n",
       "      <td>13</td>\n",
       "      <td>0.086667</td>\n",
       "    </tr>\n",
       "    <tr>\n",
       "      <th>East Asia</th>\n",
       "      <td>247</td>\n",
       "      <td>9</td>\n",
       "      <td>0.036437</td>\n",
       "    </tr>\n",
       "    <tr>\n",
       "      <th>Europe</th>\n",
       "      <td>416</td>\n",
       "      <td>48</td>\n",
       "      <td>0.115385</td>\n",
       "    </tr>\n",
       "    <tr>\n",
       "      <th>Latin America</th>\n",
       "      <td>604</td>\n",
       "      <td>82</td>\n",
       "      <td>0.135762</td>\n",
       "    </tr>\n",
       "    <tr>\n",
       "      <th>Middle East</th>\n",
       "      <td>19</td>\n",
       "      <td>4</td>\n",
       "      <td>0.210526</td>\n",
       "    </tr>\n",
       "    <tr>\n",
       "      <th>North America</th>\n",
       "      <td>447</td>\n",
       "      <td>68</td>\n",
       "      <td>0.152125</td>\n",
       "    </tr>\n",
       "    <tr>\n",
       "      <th>South and West Asia</th>\n",
       "      <td>42</td>\n",
       "      <td>5</td>\n",
       "      <td>0.119048</td>\n",
       "    </tr>\n",
       "    <tr>\n",
       "      <th>Southeast Asia and Oceania</th>\n",
       "      <td>212</td>\n",
       "      <td>21</td>\n",
       "      <td>0.099057</td>\n",
       "    </tr>\n",
       "  </tbody>\n",
       "</table>\n",
       "</div>"
      ],
      "text/plain": [
       "                            Total Reported Risk  Increased water stress  \\\n",
       "CDP Region                                                                \n",
       "Africa                                      150                      13   \n",
       "East Asia                                   247                       9   \n",
       "Europe                                      416                      48   \n",
       "Latin America                               604                      82   \n",
       "Middle East                                  19                       4   \n",
       "North America                               447                      68   \n",
       "South and West Asia                          42                       5   \n",
       "Southeast Asia and Oceania                  212                      21   \n",
       "\n",
       "                            Proportion  \n",
       "CDP Region                              \n",
       "Africa                        0.086667  \n",
       "East Asia                     0.036437  \n",
       "Europe                        0.115385  \n",
       "Latin America                 0.135762  \n",
       "Middle East                   0.210526  \n",
       "North America                 0.152125  \n",
       "South and West Asia           0.119048  \n",
       "Southeast Asia and Oceania    0.099057  "
      ]
     },
     "execution_count": 21,
     "metadata": {},
     "output_type": "execute_result"
    }
   ],
   "source": [
    "#Subset of Increased water risk\n",
    "risk1=riskregion[riskregion['Water security risk drivers'] == 'Increased water stress']\n",
    "# Count Incresed water stress by region\n",
    "group1 =risk1.groupby(['CDP Region'])\n",
    "risk1count= group1.count()\n",
    "risk1count=risk1count.rename(columns={'Water security risk drivers':'Increased water stress'})\n",
    "#Proportion of 'Incresed water stress' in each region\n",
    "risk1m=pd.merge(riskcount,risk1count,on='CDP Region')\n",
    "risk1m['Proportion']=risk1m['Increased water stress']/risk1m['Total Reported Risk']\n",
    "risk1m"
   ]
  },
  {
   "cell_type": "code",
   "execution_count": 22,
   "metadata": {
    "execution": {
     "iopub.execute_input": "2022-05-06T16:12:51.996239Z",
     "iopub.status.busy": "2022-05-06T16:12:51.995132Z",
     "iopub.status.idle": "2022-05-06T16:12:52.230095Z",
     "shell.execute_reply": "2022-05-06T16:12:52.230542Z",
     "shell.execute_reply.started": "2022-05-06T15:40:12.625788Z"
    },
    "papermill": {
     "duration": 0.275373,
     "end_time": "2022-05-06T16:12:52.230698",
     "exception": false,
     "start_time": "2022-05-06T16:12:51.955325",
     "status": "completed"
    },
    "tags": []
   },
   "outputs": [
    {
     "data": {
      "text/plain": [
       "<seaborn.axisgrid.FacetGrid at 0x7fdf31de28f0>"
      ]
     },
     "execution_count": 22,
     "metadata": {},
     "output_type": "execute_result"
    },
    {
     "data": {
      "image/png": "[encoded data removed]",
      "text/plain": [
       "<Figure size 432x432 with 1 Axes>"
      ]
     },
     "metadata": {
      "needs_background": "light"
     },
     "output_type": "display_data"
    }
   ],
   "source": [
    "risk1m=risk1m.reset_index()\n",
    "g = sns.catplot( \n",
    "    data=risk1m, kind=\"bar\",x=\"CDP Region\", y=\"Proportion\",\n",
    "    ci=\"sd\", palette=\"icefire\", alpha=.6, height=6)\n",
    "g.set_xticklabels(rotation=80)\n",
    "g.set_axis_labels( \"Increased water stress\", \"Rate of Responses\")"
   ]
  },
  {
   "cell_type": "code",
   "execution_count": 23,
   "metadata": {
    "execution": {
     "iopub.execute_input": "2022-05-06T16:12:52.311271Z",
     "iopub.status.busy": "2022-05-06T16:12:52.310215Z",
     "iopub.status.idle": "2022-05-06T16:12:52.321382Z",
     "shell.execute_reply": "2022-05-06T16:12:52.322001Z",
     "shell.execute_reply.started": "2022-05-06T15:40:12.843487Z"
    },
    "papermill": {
     "duration": 0.053469,
     "end_time": "2022-05-06T16:12:52.322146",
     "exception": false,
     "start_time": "2022-05-06T16:12:52.268677",
     "status": "completed"
    },
    "tags": []
   },
   "outputs": [
    {
     "data": {
      "text/html": [
       "<div>\n",
       "<style scoped>\n",
       "    .dataframe tbody tr th:only-of-type {\n",
       "        vertical-align: middle;\n",
       "    }\n",
       "\n",
       "    .dataframe tbody tr th {\n",
       "        vertical-align: top;\n",
       "    }\n",
       "\n",
       "    .dataframe thead th {\n",
       "        text-align: right;\n",
       "    }\n",
       "</style>\n",
       "<table border=\"1\" class=\"dataframe\">\n",
       "  <thead>\n",
       "    <tr style=\"text-align: right;\">\n",
       "      <th></th>\n",
       "      <th>CDP Region</th>\n",
       "      <th>Total Reported Risk</th>\n",
       "      <th>Increased water stress</th>\n",
       "      <th>Proportion</th>\n",
       "    </tr>\n",
       "  </thead>\n",
       "  <tbody>\n",
       "    <tr>\n",
       "      <th>0</th>\n",
       "      <td>Africa</td>\n",
       "      <td>150</td>\n",
       "      <td>13</td>\n",
       "      <td>0.086667</td>\n",
       "    </tr>\n",
       "    <tr>\n",
       "      <th>1</th>\n",
       "      <td>East Asia</td>\n",
       "      <td>247</td>\n",
       "      <td>9</td>\n",
       "      <td>0.036437</td>\n",
       "    </tr>\n",
       "    <tr>\n",
       "      <th>2</th>\n",
       "      <td>Europe</td>\n",
       "      <td>416</td>\n",
       "      <td>48</td>\n",
       "      <td>0.115385</td>\n",
       "    </tr>\n",
       "    <tr>\n",
       "      <th>3</th>\n",
       "      <td>Latin America</td>\n",
       "      <td>604</td>\n",
       "      <td>82</td>\n",
       "      <td>0.135762</td>\n",
       "    </tr>\n",
       "    <tr>\n",
       "      <th>4</th>\n",
       "      <td>Middle East</td>\n",
       "      <td>19</td>\n",
       "      <td>4</td>\n",
       "      <td>0.210526</td>\n",
       "    </tr>\n",
       "    <tr>\n",
       "      <th>5</th>\n",
       "      <td>North America</td>\n",
       "      <td>447</td>\n",
       "      <td>68</td>\n",
       "      <td>0.152125</td>\n",
       "    </tr>\n",
       "    <tr>\n",
       "      <th>6</th>\n",
       "      <td>South and West Asia</td>\n",
       "      <td>42</td>\n",
       "      <td>5</td>\n",
       "      <td>0.119048</td>\n",
       "    </tr>\n",
       "    <tr>\n",
       "      <th>7</th>\n",
       "      <td>Southeast Asia and Oceania</td>\n",
       "      <td>212</td>\n",
       "      <td>21</td>\n",
       "      <td>0.099057</td>\n",
       "    </tr>\n",
       "  </tbody>\n",
       "</table>\n",
       "</div>"
      ],
      "text/plain": [
       "                   CDP Region  Total Reported Risk  Increased water stress  \\\n",
       "0                      Africa                  150                      13   \n",
       "1                   East Asia                  247                       9   \n",
       "2                      Europe                  416                      48   \n",
       "3               Latin America                  604                      82   \n",
       "4                 Middle East                   19                       4   \n",
       "5               North America                  447                      68   \n",
       "6         South and West Asia                   42                       5   \n",
       "7  Southeast Asia and Oceania                  212                      21   \n",
       "\n",
       "   Proportion  \n",
       "0    0.086667  \n",
       "1    0.036437  \n",
       "2    0.115385  \n",
       "3    0.135762  \n",
       "4    0.210526  \n",
       "5    0.152125  \n",
       "6    0.119048  \n",
       "7    0.099057  "
      ]
     },
     "execution_count": 23,
     "metadata": {},
     "output_type": "execute_result"
    }
   ],
   "source": [
    "risk1m"
   ]
  },
  {
   "cell_type": "markdown",
   "metadata": {},
   "source": [
    "### 2. Declining water quality"
   ]
  },
  {
   "cell_type": "code",
   "execution_count": 24,
   "metadata": {
    "execution": {
     "iopub.execute_input": "2022-05-06T16:12:52.402812Z",
     "iopub.status.busy": "2022-05-06T16:12:52.401840Z",
     "iopub.status.idle": "2022-05-06T16:12:52.420583Z",
     "shell.execute_reply": "2022-05-06T16:12:52.421015Z",
     "shell.execute_reply.started": "2022-05-06T15:40:12.856416Z"
    },
    "papermill": {
     "duration": 0.060505,
     "end_time": "2022-05-06T16:12:52.421160",
     "exception": false,
     "start_time": "2022-05-06T16:12:52.360655",
     "status": "completed"
    },
    "tags": []
   },
   "outputs": [
    {
     "data": {
      "text/html": [
       "<div>\n",
       "<style scoped>\n",
       "    .dataframe tbody tr th:only-of-type {\n",
       "        vertical-align: middle;\n",
       "    }\n",
       "\n",
       "    .dataframe tbody tr th {\n",
       "        vertical-align: top;\n",
       "    }\n",
       "\n",
       "    .dataframe thead th {\n",
       "        text-align: right;\n",
       "    }\n",
       "</style>\n",
       "<table border=\"1\" class=\"dataframe\">\n",
       "  <thead>\n",
       "    <tr style=\"text-align: right;\">\n",
       "      <th></th>\n",
       "      <th>Total Reported Risk</th>\n",
       "      <th>Declining water quality</th>\n",
       "      <th>Proportion</th>\n",
       "    </tr>\n",
       "    <tr>\n",
       "      <th>CDP Region</th>\n",
       "      <th></th>\n",
       "      <th></th>\n",
       "      <th></th>\n",
       "    </tr>\n",
       "  </thead>\n",
       "  <tbody>\n",
       "    <tr>\n",
       "      <th>Africa</th>\n",
       "      <td>150</td>\n",
       "      <td>20</td>\n",
       "      <td>0.133333</td>\n",
       "    </tr>\n",
       "    <tr>\n",
       "      <th>East Asia</th>\n",
       "      <td>247</td>\n",
       "      <td>7</td>\n",
       "      <td>0.028340</td>\n",
       "    </tr>\n",
       "    <tr>\n",
       "      <th>Europe</th>\n",
       "      <td>416</td>\n",
       "      <td>58</td>\n",
       "      <td>0.139423</td>\n",
       "    </tr>\n",
       "    <tr>\n",
       "      <th>Latin America</th>\n",
       "      <td>604</td>\n",
       "      <td>65</td>\n",
       "      <td>0.107616</td>\n",
       "    </tr>\n",
       "    <tr>\n",
       "      <th>Middle East</th>\n",
       "      <td>19</td>\n",
       "      <td>2</td>\n",
       "      <td>0.105263</td>\n",
       "    </tr>\n",
       "    <tr>\n",
       "      <th>North America</th>\n",
       "      <td>447</td>\n",
       "      <td>54</td>\n",
       "      <td>0.120805</td>\n",
       "    </tr>\n",
       "    <tr>\n",
       "      <th>South and West Asia</th>\n",
       "      <td>42</td>\n",
       "      <td>3</td>\n",
       "      <td>0.071429</td>\n",
       "    </tr>\n",
       "    <tr>\n",
       "      <th>Southeast Asia and Oceania</th>\n",
       "      <td>212</td>\n",
       "      <td>28</td>\n",
       "      <td>0.132075</td>\n",
       "    </tr>\n",
       "  </tbody>\n",
       "</table>\n",
       "</div>"
      ],
      "text/plain": [
       "                            Total Reported Risk  Declining water quality  \\\n",
       "CDP Region                                                                 \n",
       "Africa                                      150                       20   \n",
       "East Asia                                   247                        7   \n",
       "Europe                                      416                       58   \n",
       "Latin America                               604                       65   \n",
       "Middle East                                  19                        2   \n",
       "North America                               447                       54   \n",
       "South and West Asia                          42                        3   \n",
       "Southeast Asia and Oceania                  212                       28   \n",
       "\n",
       "                            Proportion  \n",
       "CDP Region                              \n",
       "Africa                        0.133333  \n",
       "East Asia                     0.028340  \n",
       "Europe                        0.139423  \n",
       "Latin America                 0.107616  \n",
       "Middle East                   0.105263  \n",
       "North America                 0.120805  \n",
       "South and West Asia           0.071429  \n",
       "Southeast Asia and Oceania    0.132075  "
      ]
     },
     "execution_count": 24,
     "metadata": {},
     "output_type": "execute_result"
    }
   ],
   "source": [
    "\t#Subset of Declining water quality\n",
    "risk2=riskregion[riskregion['Water security risk drivers'] == 'Declining water quality']\n",
    "# Count Incresed water stress by region\n",
    "group2 =risk2.groupby(['CDP Region'])\n",
    "risk2count= group2.count()\n",
    "risk2count=risk2count.rename(columns={'Water security risk drivers':'Declining water quality'})\n",
    "#Proportion of 'Declining water quality' in each region\n",
    "risk2m=pd.merge(riskcount,risk2count,on='CDP Region')\n",
    "risk2m['Proportion']=risk2m['Declining water quality']/risk2m['Total Reported Risk']\n",
    "risk2m"
   ]
  },
  {
   "cell_type": "code",
   "execution_count": 25,
   "metadata": {
    "execution": {
     "iopub.execute_input": "2022-05-06T16:12:52.586514Z",
     "iopub.status.busy": "2022-05-06T16:12:52.585527Z",
     "iopub.status.idle": "2022-05-06T16:12:52.863032Z",
     "shell.execute_reply": "2022-05-06T16:12:52.863456Z",
     "shell.execute_reply.started": "2022-05-06T15:40:12.880452Z"
    },
    "papermill": {
     "duration": 0.322414,
     "end_time": "2022-05-06T16:12:52.863608",
     "exception": false,
     "start_time": "2022-05-06T16:12:52.541194",
     "status": "completed"
    },
    "tags": []
   },
   "outputs": [
    {
     "data": {
      "text/plain": [
       "<seaborn.axisgrid.FacetGrid at 0x7fdf31de2d40>"
      ]
     },
     "execution_count": 25,
     "metadata": {},
     "output_type": "execute_result"
    },
    {
     "data": {
      "image/png": "[encoded data removed]",
      "text/plain": [
       "<Figure size 432x432 with 1 Axes>"
      ]
     },
     "metadata": {
      "needs_background": "light"
     },
     "output_type": "display_data"
    }
   ],
   "source": [
    "risk2m=risk2m.reset_index()\n",
    "g = sns.catplot( \n",
    "    data=risk2m, kind=\"bar\",x=\"CDP Region\", y=\"Proportion\",\n",
    "    ci=\"sd\", palette=\"icefire\", alpha=.6, height=6)\n",
    "g.set_xticklabels(rotation=80)\n",
    "g.set_axis_labels( \"Declining water quality\", \"Rate of Responses\")"
   ]
  },
  {
   "cell_type": "markdown",
   "metadata": {},
   "source": [
    "### 3. Inadequate or ageing infrastructure \n"
   ]
  },
  {
   "cell_type": "code",
   "execution_count": 26,
   "metadata": {
    "execution": {
     "iopub.execute_input": "2022-05-06T16:12:52.946631Z",
     "iopub.status.busy": "2022-05-06T16:12:52.945664Z",
     "iopub.status.idle": "2022-05-06T16:12:52.964083Z",
     "shell.execute_reply": "2022-05-06T16:12:52.964591Z",
     "shell.execute_reply.started": "2022-05-06T15:40:13.104871Z"
    },
    "papermill": {
     "duration": 0.061808,
     "end_time": "2022-05-06T16:12:52.964750",
     "exception": false,
     "start_time": "2022-05-06T16:12:52.902942",
     "status": "completed"
    },
    "tags": []
   },
   "outputs": [
    {
     "data": {
      "text/html": [
       "<div>\n",
       "<style scoped>\n",
       "    .dataframe tbody tr th:only-of-type {\n",
       "        vertical-align: middle;\n",
       "    }\n",
       "\n",
       "    .dataframe tbody tr th {\n",
       "        vertical-align: top;\n",
       "    }\n",
       "\n",
       "    .dataframe thead th {\n",
       "        text-align: right;\n",
       "    }\n",
       "</style>\n",
       "<table border=\"1\" class=\"dataframe\">\n",
       "  <thead>\n",
       "    <tr style=\"text-align: right;\">\n",
       "      <th></th>\n",
       "      <th>Total Reported Risk</th>\n",
       "      <th>Inadequate or ageing infrastructure</th>\n",
       "      <th>Proportion</th>\n",
       "    </tr>\n",
       "    <tr>\n",
       "      <th>CDP Region</th>\n",
       "      <th></th>\n",
       "      <th></th>\n",
       "      <th></th>\n",
       "    </tr>\n",
       "  </thead>\n",
       "  <tbody>\n",
       "    <tr>\n",
       "      <th>Africa</th>\n",
       "      <td>150</td>\n",
       "      <td>25</td>\n",
       "      <td>0.166667</td>\n",
       "    </tr>\n",
       "    <tr>\n",
       "      <th>East Asia</th>\n",
       "      <td>247</td>\n",
       "      <td>7</td>\n",
       "      <td>0.028340</td>\n",
       "    </tr>\n",
       "    <tr>\n",
       "      <th>Europe</th>\n",
       "      <td>416</td>\n",
       "      <td>28</td>\n",
       "      <td>0.067308</td>\n",
       "    </tr>\n",
       "    <tr>\n",
       "      <th>Latin America</th>\n",
       "      <td>604</td>\n",
       "      <td>55</td>\n",
       "      <td>0.091060</td>\n",
       "    </tr>\n",
       "    <tr>\n",
       "      <th>Middle East</th>\n",
       "      <td>19</td>\n",
       "      <td>2</td>\n",
       "      <td>0.105263</td>\n",
       "    </tr>\n",
       "    <tr>\n",
       "      <th>North America</th>\n",
       "      <td>447</td>\n",
       "      <td>55</td>\n",
       "      <td>0.123043</td>\n",
       "    </tr>\n",
       "    <tr>\n",
       "      <th>South and West Asia</th>\n",
       "      <td>42</td>\n",
       "      <td>5</td>\n",
       "      <td>0.119048</td>\n",
       "    </tr>\n",
       "    <tr>\n",
       "      <th>Southeast Asia and Oceania</th>\n",
       "      <td>212</td>\n",
       "      <td>20</td>\n",
       "      <td>0.094340</td>\n",
       "    </tr>\n",
       "  </tbody>\n",
       "</table>\n",
       "</div>"
      ],
      "text/plain": [
       "                            Total Reported Risk  \\\n",
       "CDP Region                                        \n",
       "Africa                                      150   \n",
       "East Asia                                   247   \n",
       "Europe                                      416   \n",
       "Latin America                               604   \n",
       "Middle East                                  19   \n",
       "North America                               447   \n",
       "South and West Asia                          42   \n",
       "Southeast Asia and Oceania                  212   \n",
       "\n",
       "                            Inadequate or ageing infrastructure  Proportion  \n",
       "CDP Region                                                                   \n",
       "Africa                                                       25    0.166667  \n",
       "East Asia                                                     7    0.028340  \n",
       "Europe                                                       28    0.067308  \n",
       "Latin America                                                55    0.091060  \n",
       "Middle East                                                   2    0.105263  \n",
       "North America                                                55    0.123043  \n",
       "South and West Asia                                           5    0.119048  \n",
       "Southeast Asia and Oceania                                   20    0.094340  "
      ]
     },
     "execution_count": 26,
     "metadata": {},
     "output_type": "execute_result"
    }
   ],
   "source": [
    "#Subset of Inadequate or ageing infrastructure\n",
    "risk3=riskregion[riskregion['Water security risk drivers'] == 'Inadequate or ageing water supply infrastructure']\n",
    "# Count Incresed water stress by region\n",
    "group3 =risk3.groupby(['CDP Region'])\n",
    "risk3count= group3.count()\n",
    "risk3count=risk3count.rename(columns={'Water security risk drivers':'Inadequate or ageing infrastructure'})\n",
    "#Proportion of 'Inadequate or ageing infrastructure' in each region\n",
    "risk3m=pd.merge(riskcount,risk3count,on='CDP Region')\n",
    "risk3m['Proportion']=risk3m['Inadequate or ageing infrastructure']/risk3m['Total Reported Risk']\n",
    "risk3m"
   ]
  },
  {
   "cell_type": "code",
   "execution_count": 27,
   "metadata": {
    "execution": {
     "iopub.execute_input": "2022-05-06T16:12:53.048399Z",
     "iopub.status.busy": "2022-05-06T16:12:53.047314Z",
     "iopub.status.idle": "2022-05-06T16:12:53.262801Z",
     "shell.execute_reply": "2022-05-06T16:12:53.262245Z",
     "shell.execute_reply.started": "2022-05-06T15:40:13.127779Z"
    },
    "papermill": {
     "duration": 0.258453,
     "end_time": "2022-05-06T16:12:53.262921",
     "exception": false,
     "start_time": "2022-05-06T16:12:53.004468",
     "status": "completed"
    },
    "tags": []
   },
   "outputs": [
    {
     "data": {
      "text/plain": [
       "<seaborn.axisgrid.FacetGrid at 0x7fdf33928ac0>"
      ]
     },
     "execution_count": 27,
     "metadata": {},
     "output_type": "execute_result"
    },
    {
     "data": {
      "image/png": "[encoded data removed]",
      "text/plain": [
       "<Figure size 432x432 with 1 Axes>"
      ]
     },
     "metadata": {
      "needs_background": "light"
     },
     "output_type": "display_data"
    }
   ],
   "source": [
    "risk3m=risk3m.reset_index()\n",
    "g = sns.catplot( \n",
    "    data=risk3m, kind=\"bar\",x=\"CDP Region\", y=\"Proportion\",\n",
    "    ci=\"sd\", palette=\"icefire\", alpha=.6, height=6)\n",
    "g.set_xticklabels(rotation=80)\n",
    "g.set_axis_labels( \"Inadequate or ageing infrastructure\", \"Rate of Responses\")"
   ]
  },
  {
   "cell_type": "markdown",
   "metadata": {},
   "source": [
    "### 4. Increased water demand\n"
   ]
  },
  {
   "cell_type": "code",
   "execution_count": 28,
   "metadata": {
    "execution": {
     "iopub.execute_input": "2022-05-06T16:12:53.349325Z",
     "iopub.status.busy": "2022-05-06T16:12:53.348342Z",
     "iopub.status.idle": "2022-05-06T16:12:53.366942Z",
     "shell.execute_reply": "2022-05-06T16:12:53.367367Z",
     "shell.execute_reply.started": "2022-05-06T15:40:13.349604Z"
    },
    "papermill": {
     "duration": 0.063259,
     "end_time": "2022-05-06T16:12:53.367529",
     "exception": false,
     "start_time": "2022-05-06T16:12:53.304270",
     "status": "completed"
    },
    "tags": []
   },
   "outputs": [
    {
     "data": {
      "text/html": [
       "<div>\n",
       "<style scoped>\n",
       "    .dataframe tbody tr th:only-of-type {\n",
       "        vertical-align: middle;\n",
       "    }\n",
       "\n",
       "    .dataframe tbody tr th {\n",
       "        vertical-align: top;\n",
       "    }\n",
       "\n",
       "    .dataframe thead th {\n",
       "        text-align: right;\n",
       "    }\n",
       "</style>\n",
       "<table border=\"1\" class=\"dataframe\">\n",
       "  <thead>\n",
       "    <tr style=\"text-align: right;\">\n",
       "      <th></th>\n",
       "      <th>Total Reported Risk</th>\n",
       "      <th>Increased water demand</th>\n",
       "      <th>Proportion</th>\n",
       "    </tr>\n",
       "    <tr>\n",
       "      <th>CDP Region</th>\n",
       "      <th></th>\n",
       "      <th></th>\n",
       "      <th></th>\n",
       "    </tr>\n",
       "  </thead>\n",
       "  <tbody>\n",
       "    <tr>\n",
       "      <th>Africa</th>\n",
       "      <td>150</td>\n",
       "      <td>14</td>\n",
       "      <td>0.093333</td>\n",
       "    </tr>\n",
       "    <tr>\n",
       "      <th>East Asia</th>\n",
       "      <td>247</td>\n",
       "      <td>5</td>\n",
       "      <td>0.020243</td>\n",
       "    </tr>\n",
       "    <tr>\n",
       "      <th>Europe</th>\n",
       "      <td>416</td>\n",
       "      <td>27</td>\n",
       "      <td>0.064904</td>\n",
       "    </tr>\n",
       "    <tr>\n",
       "      <th>Latin America</th>\n",
       "      <td>604</td>\n",
       "      <td>55</td>\n",
       "      <td>0.091060</td>\n",
       "    </tr>\n",
       "    <tr>\n",
       "      <th>Middle East</th>\n",
       "      <td>19</td>\n",
       "      <td>2</td>\n",
       "      <td>0.105263</td>\n",
       "    </tr>\n",
       "    <tr>\n",
       "      <th>North America</th>\n",
       "      <td>447</td>\n",
       "      <td>28</td>\n",
       "      <td>0.062640</td>\n",
       "    </tr>\n",
       "    <tr>\n",
       "      <th>South and West Asia</th>\n",
       "      <td>42</td>\n",
       "      <td>4</td>\n",
       "      <td>0.095238</td>\n",
       "    </tr>\n",
       "    <tr>\n",
       "      <th>Southeast Asia and Oceania</th>\n",
       "      <td>212</td>\n",
       "      <td>25</td>\n",
       "      <td>0.117925</td>\n",
       "    </tr>\n",
       "  </tbody>\n",
       "</table>\n",
       "</div>"
      ],
      "text/plain": [
       "                            Total Reported Risk  Increased water demand  \\\n",
       "CDP Region                                                                \n",
       "Africa                                      150                      14   \n",
       "East Asia                                   247                       5   \n",
       "Europe                                      416                      27   \n",
       "Latin America                               604                      55   \n",
       "Middle East                                  19                       2   \n",
       "North America                               447                      28   \n",
       "South and West Asia                          42                       4   \n",
       "Southeast Asia and Oceania                  212                      25   \n",
       "\n",
       "                            Proportion  \n",
       "CDP Region                              \n",
       "Africa                        0.093333  \n",
       "East Asia                     0.020243  \n",
       "Europe                        0.064904  \n",
       "Latin America                 0.091060  \n",
       "Middle East                   0.105263  \n",
       "North America                 0.062640  \n",
       "South and West Asia           0.095238  \n",
       "Southeast Asia and Oceania    0.117925  "
      ]
     },
     "execution_count": 28,
     "metadata": {},
     "output_type": "execute_result"
    }
   ],
   "source": [
    "#Subset of Increased water demand\n",
    "risk4=riskregion[riskregion['Water security risk drivers'] == 'Increased water demand']\n",
    "# Count Incresed water stress by region\n",
    "group4 =risk4.groupby(['CDP Region'])\n",
    "risk4count= group4.count()\n",
    "risk4count=risk4count.rename(columns={'Water security risk drivers':'Increased water demand'})\n",
    "#Proportion of 'Inadequate or ageing infrastructure' in each region\n",
    "risk4m=pd.merge(riskcount,risk4count,on='CDP Region')\n",
    "risk4m['Proportion']=risk4m['Increased water demand']/risk4m['Total Reported Risk']\n",
    "risk4m"
   ]
  },
  {
   "cell_type": "code",
   "execution_count": 29,
   "metadata": {
    "execution": {
     "iopub.execute_input": "2022-05-06T16:12:53.454383Z",
     "iopub.status.busy": "2022-05-06T16:12:53.453366Z",
     "iopub.status.idle": "2022-05-06T16:12:53.686229Z",
     "shell.execute_reply": "2022-05-06T16:12:53.685048Z",
     "shell.execute_reply.started": "2022-05-06T15:40:13.373517Z"
    },
    "papermill": {
     "duration": 0.277371,
     "end_time": "2022-05-06T16:12:53.686353",
     "exception": false,
     "start_time": "2022-05-06T16:12:53.408982",
     "status": "completed"
    },
    "tags": []
   },
   "outputs": [
    {
     "data": {
      "text/plain": [
       "<seaborn.axisgrid.FacetGrid at 0x7fdf338b2050>"
      ]
     },
     "execution_count": 29,
     "metadata": {},
     "output_type": "execute_result"
    },
    {
     "data": {
      "image/png": "[encoded data removed]",
      "text/plain": [
       "<Figure size 432x432 with 1 Axes>"
      ]
     },
     "metadata": {
      "needs_background": "light"
     },
     "output_type": "display_data"
    }
   ],
   "source": [
    "risk4m=risk4m.reset_index()\n",
    "g = sns.catplot( \n",
    "    data=risk4m, kind=\"bar\",x=\"CDP Region\", y=\"Proportion\",\n",
    "    ci=\"sd\", palette=\"icefire\", alpha=.6, height=6)\n",
    "g.set_xticklabels(rotation=80)\n",
    "g.set_axis_labels( \"Increased Water Demand\", \"Rate of Responses\")"
   ]
  },
  {
   "cell_type": "markdown",
   "metadata": {},
   "source": [
    "### 5. Drought\n"
   ]
  },
  {
   "cell_type": "code",
   "execution_count": 30,
   "metadata": {
    "execution": {
     "iopub.execute_input": "2022-05-06T16:12:53.787261Z",
     "iopub.status.busy": "2022-05-06T16:12:53.786198Z",
     "iopub.status.idle": "2022-05-06T16:12:53.801756Z",
     "shell.execute_reply": "2022-05-06T16:12:53.802256Z",
     "shell.execute_reply.started": "2022-05-06T15:40:13.582281Z"
    },
    "papermill": {
     "duration": 0.070431,
     "end_time": "2022-05-06T16:12:53.802388",
     "exception": false,
     "start_time": "2022-05-06T16:12:53.731957",
     "status": "completed"
    },
    "tags": []
   },
   "outputs": [
    {
     "data": {
      "text/html": [
       "<div>\n",
       "<style scoped>\n",
       "    .dataframe tbody tr th:only-of-type {\n",
       "        vertical-align: middle;\n",
       "    }\n",
       "\n",
       "    .dataframe tbody tr th {\n",
       "        vertical-align: top;\n",
       "    }\n",
       "\n",
       "    .dataframe thead th {\n",
       "        text-align: right;\n",
       "    }\n",
       "</style>\n",
       "<table border=\"1\" class=\"dataframe\">\n",
       "  <thead>\n",
       "    <tr style=\"text-align: right;\">\n",
       "      <th></th>\n",
       "      <th>Total Reported Risk</th>\n",
       "      <th>Drought</th>\n",
       "      <th>Proportion</th>\n",
       "    </tr>\n",
       "    <tr>\n",
       "      <th>CDP Region</th>\n",
       "      <th></th>\n",
       "      <th></th>\n",
       "      <th></th>\n",
       "    </tr>\n",
       "  </thead>\n",
       "  <tbody>\n",
       "    <tr>\n",
       "      <th>Africa</th>\n",
       "      <td>150</td>\n",
       "      <td>13</td>\n",
       "      <td>0.086667</td>\n",
       "    </tr>\n",
       "    <tr>\n",
       "      <th>East Asia</th>\n",
       "      <td>247</td>\n",
       "      <td>6</td>\n",
       "      <td>0.024291</td>\n",
       "    </tr>\n",
       "    <tr>\n",
       "      <th>Europe</th>\n",
       "      <td>416</td>\n",
       "      <td>34</td>\n",
       "      <td>0.081731</td>\n",
       "    </tr>\n",
       "    <tr>\n",
       "      <th>Latin America</th>\n",
       "      <td>604</td>\n",
       "      <td>46</td>\n",
       "      <td>0.076159</td>\n",
       "    </tr>\n",
       "    <tr>\n",
       "      <th>North America</th>\n",
       "      <td>447</td>\n",
       "      <td>33</td>\n",
       "      <td>0.073826</td>\n",
       "    </tr>\n",
       "    <tr>\n",
       "      <th>South and West Asia</th>\n",
       "      <td>42</td>\n",
       "      <td>1</td>\n",
       "      <td>0.023810</td>\n",
       "    </tr>\n",
       "    <tr>\n",
       "      <th>Southeast Asia and Oceania</th>\n",
       "      <td>212</td>\n",
       "      <td>15</td>\n",
       "      <td>0.070755</td>\n",
       "    </tr>\n",
       "  </tbody>\n",
       "</table>\n",
       "</div>"
      ],
      "text/plain": [
       "                            Total Reported Risk  Drought  Proportion\n",
       "CDP Region                                                          \n",
       "Africa                                      150       13    0.086667\n",
       "East Asia                                   247        6    0.024291\n",
       "Europe                                      416       34    0.081731\n",
       "Latin America                               604       46    0.076159\n",
       "North America                               447       33    0.073826\n",
       "South and West Asia                          42        1    0.023810\n",
       "Southeast Asia and Oceania                  212       15    0.070755"
      ]
     },
     "execution_count": 30,
     "metadata": {},
     "output_type": "execute_result"
    }
   ],
   "source": [
    "#Subset of Increased water demand\n",
    "risk5=riskregion[riskregion['Water security risk drivers'] == 'Drought']\n",
    "# Count Incresed water stress by region\n",
    "group5 =risk5.groupby(['CDP Region'])\n",
    "risk5count= group5.count()\n",
    "risk5count=risk5count.rename(columns={'Water security risk drivers':'Drought'})\n",
    "#Proportion of Drought in each region\n",
    "risk5m=pd.merge(riskcount,risk5count,on='CDP Region')\n",
    "risk5m['Proportion']=risk5m['Drought']/risk5m['Total Reported Risk']\n",
    "risk5m"
   ]
  },
  {
   "cell_type": "code",
   "execution_count": 31,
   "metadata": {
    "execution": {
     "iopub.execute_input": "2022-05-06T16:12:53.893524Z",
     "iopub.status.busy": "2022-05-06T16:12:53.892844Z",
     "iopub.status.idle": "2022-05-06T16:12:54.081037Z",
     "shell.execute_reply": "2022-05-06T16:12:54.080414Z",
     "shell.execute_reply.started": "2022-05-06T15:40:13.607339Z"
    },
    "papermill": {
     "duration": 0.234161,
     "end_time": "2022-05-06T16:12:54.081149",
     "exception": false,
     "start_time": "2022-05-06T16:12:53.846988",
     "status": "completed"
    },
    "tags": []
   },
   "outputs": [
    {
     "data": {
      "text/plain": [
       "<seaborn.axisgrid.FacetGrid at 0x7fdf3393ada0>"
      ]
     },
     "execution_count": 31,
     "metadata": {},
     "output_type": "execute_result"
    },
    {
     "data": {
      "image/png": "[encoded data removed]",
      "text/plain": [
       "<Figure size 432x432 with 1 Axes>"
      ]
     },
     "metadata": {
      "needs_background": "light"
     },
     "output_type": "display_data"
    }
   ],
   "source": [
    "risk5m=risk5m.reset_index()\n",
    "g = sns.catplot( \n",
    "    data=risk5m, kind=\"bar\",x=\"CDP Region\", y=\"Proportion\",\n",
    "    ci=\"sd\", palette=\"icefire\", alpha=.6, height=6)\n",
    "g.set_xticklabels(rotation=80)\n",
    "g.set_axis_labels( \"Drought\", \"Rate of Responses\")"
   ]
  },
  {
   "cell_type": "code",
   "execution_count": 32,
   "metadata": {
    "execution": {
     "iopub.execute_input": "2022-05-06T16:12:54.176403Z",
     "iopub.status.busy": "2022-05-06T16:12:54.175319Z",
     "iopub.status.idle": "2022-05-06T16:12:54.181597Z",
     "shell.execute_reply": "2022-05-06T16:12:54.182019Z",
     "shell.execute_reply.started": "2022-05-06T15:40:13.804699Z"
    },
    "papermill": {
     "duration": 0.056894,
     "end_time": "2022-05-06T16:12:54.182179",
     "exception": false,
     "start_time": "2022-05-06T16:12:54.125285",
     "status": "completed"
    },
    "tags": []
   },
   "outputs": [],
   "source": [
    "idx=cities21_df['Water security risk drivers'].isin(outer_merged.loc[0:5,'RISK'].tolist())\n",
    "risk5_2021=cities21_df[idx][['CDP Region','City','Water security risk drivers']].drop_duplicates()"
   ]
  },
  {
   "cell_type": "code",
   "execution_count": 33,
   "metadata": {
    "execution": {
     "iopub.execute_input": "2022-05-06T16:12:54.278736Z",
     "iopub.status.busy": "2022-05-06T16:12:54.274273Z",
     "iopub.status.idle": "2022-05-06T16:12:54.338906Z",
     "shell.execute_reply": "2022-05-06T16:12:54.339331Z",
     "shell.execute_reply.started": "2022-05-06T15:40:13.818345Z"
    },
    "papermill": {
     "duration": 0.113245,
     "end_time": "2022-05-06T16:12:54.339501",
     "exception": false,
     "start_time": "2022-05-06T16:12:54.226256",
     "status": "completed"
    },
    "tags": []
   },
   "outputs": [
    {
     "data": {
      "text/html": [
       "<div>\n",
       "<style scoped>\n",
       "    .dataframe tbody tr th:only-of-type {\n",
       "        vertical-align: middle;\n",
       "    }\n",
       "\n",
       "    .dataframe tbody tr th {\n",
       "        vertical-align: top;\n",
       "    }\n",
       "\n",
       "    .dataframe thead th {\n",
       "        text-align: right;\n",
       "    }\n",
       "</style>\n",
       "<table border=\"1\" class=\"dataframe\">\n",
       "  <thead>\n",
       "    <tr style=\"text-align: right;\">\n",
       "      <th>Water security risk drivers</th>\n",
       "      <th>Declining water quality</th>\n",
       "      <th>Drought</th>\n",
       "      <th>Inadequate or ageing water supply infrastructure</th>\n",
       "      <th>Increased water demand</th>\n",
       "      <th>Increased water scarcity</th>\n",
       "      <th>Increased water stress</th>\n",
       "      <th>All</th>\n",
       "    </tr>\n",
       "    <tr>\n",
       "      <th>CDP Region</th>\n",
       "      <th></th>\n",
       "      <th></th>\n",
       "      <th></th>\n",
       "      <th></th>\n",
       "      <th></th>\n",
       "      <th></th>\n",
       "      <th></th>\n",
       "    </tr>\n",
       "  </thead>\n",
       "  <tbody>\n",
       "    <tr>\n",
       "      <th>Africa</th>\n",
       "      <td>18.0</td>\n",
       "      <td>12.0</td>\n",
       "      <td>24.0</td>\n",
       "      <td>14.0</td>\n",
       "      <td>4.0</td>\n",
       "      <td>13.0</td>\n",
       "      <td>85</td>\n",
       "    </tr>\n",
       "    <tr>\n",
       "      <th>East Asia</th>\n",
       "      <td>7.0</td>\n",
       "      <td>5.0</td>\n",
       "      <td>7.0</td>\n",
       "      <td>4.0</td>\n",
       "      <td>12.0</td>\n",
       "      <td>9.0</td>\n",
       "      <td>44</td>\n",
       "    </tr>\n",
       "    <tr>\n",
       "      <th>Europe</th>\n",
       "      <td>54.0</td>\n",
       "      <td>34.0</td>\n",
       "      <td>27.0</td>\n",
       "      <td>27.0</td>\n",
       "      <td>25.0</td>\n",
       "      <td>46.0</td>\n",
       "      <td>213</td>\n",
       "    </tr>\n",
       "    <tr>\n",
       "      <th>Latin America</th>\n",
       "      <td>65.0</td>\n",
       "      <td>45.0</td>\n",
       "      <td>53.0</td>\n",
       "      <td>54.0</td>\n",
       "      <td>66.0</td>\n",
       "      <td>79.0</td>\n",
       "      <td>362</td>\n",
       "    </tr>\n",
       "    <tr>\n",
       "      <th>Middle East</th>\n",
       "      <td>2.0</td>\n",
       "      <td>NaN</td>\n",
       "      <td>2.0</td>\n",
       "      <td>2.0</td>\n",
       "      <td>1.0</td>\n",
       "      <td>4.0</td>\n",
       "      <td>11</td>\n",
       "    </tr>\n",
       "    <tr>\n",
       "      <th>North America</th>\n",
       "      <td>49.0</td>\n",
       "      <td>33.0</td>\n",
       "      <td>53.0</td>\n",
       "      <td>28.0</td>\n",
       "      <td>9.0</td>\n",
       "      <td>66.0</td>\n",
       "      <td>238</td>\n",
       "    </tr>\n",
       "    <tr>\n",
       "      <th>South and West Asia</th>\n",
       "      <td>3.0</td>\n",
       "      <td>1.0</td>\n",
       "      <td>4.0</td>\n",
       "      <td>4.0</td>\n",
       "      <td>4.0</td>\n",
       "      <td>5.0</td>\n",
       "      <td>21</td>\n",
       "    </tr>\n",
       "    <tr>\n",
       "      <th>Southeast Asia and Oceania</th>\n",
       "      <td>27.0</td>\n",
       "      <td>15.0</td>\n",
       "      <td>20.0</td>\n",
       "      <td>23.0</td>\n",
       "      <td>25.0</td>\n",
       "      <td>19.0</td>\n",
       "      <td>129</td>\n",
       "    </tr>\n",
       "    <tr>\n",
       "      <th>All</th>\n",
       "      <td>225.0</td>\n",
       "      <td>145.0</td>\n",
       "      <td>190.0</td>\n",
       "      <td>156.0</td>\n",
       "      <td>146.0</td>\n",
       "      <td>241.0</td>\n",
       "      <td>1103</td>\n",
       "    </tr>\n",
       "  </tbody>\n",
       "</table>\n",
       "</div>"
      ],
      "text/plain": [
       "Water security risk drivers  Declining water quality  Drought  \\\n",
       "CDP Region                                                      \n",
       "Africa                                          18.0     12.0   \n",
       "East Asia                                        7.0      5.0   \n",
       "Europe                                          54.0     34.0   \n",
       "Latin America                                   65.0     45.0   \n",
       "Middle East                                      2.0      NaN   \n",
       "North America                                   49.0     33.0   \n",
       "South and West Asia                              3.0      1.0   \n",
       "Southeast Asia and Oceania                      27.0     15.0   \n",
       "All                                            225.0    145.0   \n",
       "\n",
       "Water security risk drivers  Inadequate or ageing water supply infrastructure  \\\n",
       "CDP Region                                                                      \n",
       "Africa                                                                   24.0   \n",
       "East Asia                                                                 7.0   \n",
       "Europe                                                                   27.0   \n",
       "Latin America                                                            53.0   \n",
       "Middle East                                                               2.0   \n",
       "North America                                                            53.0   \n",
       "South and West Asia                                                       4.0   \n",
       "Southeast Asia and Oceania                                               20.0   \n",
       "All                                                                     190.0   \n",
       "\n",
       "Water security risk drivers  Increased water demand  Increased water scarcity  \\\n",
       "CDP Region                                                                      \n",
       "Africa                                         14.0                       4.0   \n",
       "East Asia                                       4.0                      12.0   \n",
       "Europe                                         27.0                      25.0   \n",
       "Latin America                                  54.0                      66.0   \n",
       "Middle East                                     2.0                       1.0   \n",
       "North America                                  28.0                       9.0   \n",
       "South and West Asia                             4.0                       4.0   \n",
       "Southeast Asia and Oceania                     23.0                      25.0   \n",
       "All                                           156.0                     146.0   \n",
       "\n",
       "Water security risk drivers  Increased water stress   All  \n",
       "CDP Region                                                 \n",
       "Africa                                         13.0    85  \n",
       "East Asia                                       9.0    44  \n",
       "Europe                                         46.0   213  \n",
       "Latin America                                  79.0   362  \n",
       "Middle East                                     4.0    11  \n",
       "North America                                  66.0   238  \n",
       "South and West Asia                             5.0    21  \n",
       "Southeast Asia and Oceania                     19.0   129  \n",
       "All                                           241.0  1103  "
      ]
     },
     "execution_count": 33,
     "metadata": {},
     "output_type": "execute_result"
    }
   ],
   "source": [
    "risk5_2021.pivot_table(index=['CDP Region'],columns='Water security risk drivers',values='City',\n",
    "                             aggfunc=lambda x: len(x),margins=True)"
   ]
  },
  {
   "cell_type": "markdown",
   "metadata": {},
   "source": [
    "## Overview"
   ]
  },
  {
   "cell_type": "code",
   "execution_count": 34,
   "metadata": {
    "execution": {
     "iopub.execute_input": "2022-05-06T16:12:54.431680Z",
     "iopub.status.busy": "2022-05-06T16:12:54.431056Z",
     "iopub.status.idle": "2022-05-06T16:12:54.440666Z",
     "shell.execute_reply": "2022-05-06T16:12:54.441214Z",
     "shell.execute_reply.started": "2022-05-06T15:40:13.873426Z"
    },
    "papermill": {
     "duration": 0.057177,
     "end_time": "2022-05-06T16:12:54.441353",
     "exception": false,
     "start_time": "2022-05-06T16:12:54.384176",
     "status": "completed"
    },
    "tags": []
   },
   "outputs": [
    {
     "data": {
      "text/html": [
       "<div>\n",
       "<style scoped>\n",
       "    .dataframe tbody tr th:only-of-type {\n",
       "        vertical-align: middle;\n",
       "    }\n",
       "\n",
       "    .dataframe tbody tr th {\n",
       "        vertical-align: top;\n",
       "    }\n",
       "\n",
       "    .dataframe thead th {\n",
       "        text-align: right;\n",
       "    }\n",
       "</style>\n",
       "<table border=\"1\" class=\"dataframe\">\n",
       "  <thead>\n",
       "    <tr style=\"text-align: right;\">\n",
       "      <th></th>\n",
       "      <th>CDP Region</th>\n",
       "      <th>Total Reported Risk</th>\n",
       "      <th>Increased water stress</th>\n",
       "      <th>Proportion</th>\n",
       "    </tr>\n",
       "  </thead>\n",
       "  <tbody>\n",
       "    <tr>\n",
       "      <th>0</th>\n",
       "      <td>Africa</td>\n",
       "      <td>150</td>\n",
       "      <td>13</td>\n",
       "      <td>0.086667</td>\n",
       "    </tr>\n",
       "    <tr>\n",
       "      <th>1</th>\n",
       "      <td>East Asia</td>\n",
       "      <td>247</td>\n",
       "      <td>9</td>\n",
       "      <td>0.036437</td>\n",
       "    </tr>\n",
       "    <tr>\n",
       "      <th>2</th>\n",
       "      <td>Europe</td>\n",
       "      <td>416</td>\n",
       "      <td>48</td>\n",
       "      <td>0.115385</td>\n",
       "    </tr>\n",
       "    <tr>\n",
       "      <th>3</th>\n",
       "      <td>Latin America</td>\n",
       "      <td>604</td>\n",
       "      <td>82</td>\n",
       "      <td>0.135762</td>\n",
       "    </tr>\n",
       "    <tr>\n",
       "      <th>4</th>\n",
       "      <td>Middle East</td>\n",
       "      <td>19</td>\n",
       "      <td>4</td>\n",
       "      <td>0.210526</td>\n",
       "    </tr>\n",
       "    <tr>\n",
       "      <th>5</th>\n",
       "      <td>North America</td>\n",
       "      <td>447</td>\n",
       "      <td>68</td>\n",
       "      <td>0.152125</td>\n",
       "    </tr>\n",
       "    <tr>\n",
       "      <th>6</th>\n",
       "      <td>South and West Asia</td>\n",
       "      <td>42</td>\n",
       "      <td>5</td>\n",
       "      <td>0.119048</td>\n",
       "    </tr>\n",
       "    <tr>\n",
       "      <th>7</th>\n",
       "      <td>Southeast Asia and Oceania</td>\n",
       "      <td>212</td>\n",
       "      <td>21</td>\n",
       "      <td>0.099057</td>\n",
       "    </tr>\n",
       "  </tbody>\n",
       "</table>\n",
       "</div>"
      ],
      "text/plain": [
       "                   CDP Region  Total Reported Risk  Increased water stress  \\\n",
       "0                      Africa                  150                      13   \n",
       "1                   East Asia                  247                       9   \n",
       "2                      Europe                  416                      48   \n",
       "3               Latin America                  604                      82   \n",
       "4                 Middle East                   19                       4   \n",
       "5               North America                  447                      68   \n",
       "6         South and West Asia                   42                       5   \n",
       "7  Southeast Asia and Oceania                  212                      21   \n",
       "\n",
       "   Proportion  \n",
       "0    0.086667  \n",
       "1    0.036437  \n",
       "2    0.115385  \n",
       "3    0.135762  \n",
       "4    0.210526  \n",
       "5    0.152125  \n",
       "6    0.119048  \n",
       "7    0.099057  "
      ]
     },
     "execution_count": 34,
     "metadata": {},
     "output_type": "execute_result"
    }
   ],
   "source": [
    "risk1m"
   ]
  },
  {
   "cell_type": "code",
   "execution_count": 35,
   "metadata": {
    "execution": {
     "iopub.execute_input": "2022-05-06T16:12:54.537180Z",
     "iopub.status.busy": "2022-05-06T16:12:54.536372Z",
     "iopub.status.idle": "2022-05-06T16:12:54.544652Z",
     "shell.execute_reply": "2022-05-06T16:12:54.545344Z",
     "shell.execute_reply.started": "2022-05-06T15:40:13.886752Z"
    },
    "papermill": {
     "duration": 0.058955,
     "end_time": "2022-05-06T16:12:54.545543",
     "exception": false,
     "start_time": "2022-05-06T16:12:54.486588",
     "status": "completed"
    },
    "tags": []
   },
   "outputs": [],
   "source": [
    "outer_merged2 = pd.merge(risk1m, risk2m, how=\"outer\", on=[\"CDP Region\"])"
   ]
  },
  {
   "cell_type": "code",
   "execution_count": 36,
   "metadata": {
    "execution": {
     "iopub.execute_input": "2022-05-06T16:12:54.651637Z",
     "iopub.status.busy": "2022-05-06T16:12:54.650993Z",
     "iopub.status.idle": "2022-05-06T16:12:54.654045Z",
     "shell.execute_reply": "2022-05-06T16:12:54.653558Z",
     "shell.execute_reply.started": "2022-05-06T15:40:13.900807Z"
    },
    "papermill": {
     "duration": 0.062298,
     "end_time": "2022-05-06T16:12:54.654156",
     "exception": false,
     "start_time": "2022-05-06T16:12:54.591858",
     "status": "completed"
    },
    "tags": []
   },
   "outputs": [],
   "source": [
    "outer_merged2 = pd.merge(outer_merged2, risk3m, how=\"outer\", on=[\"CDP Region\"])"
   ]
  },
  {
   "cell_type": "code",
   "execution_count": 37,
   "metadata": {
    "execution": {
     "iopub.execute_input": "2022-05-06T16:12:54.753341Z",
     "iopub.status.busy": "2022-05-06T16:12:54.751866Z",
     "iopub.status.idle": "2022-05-06T16:12:54.760067Z",
     "shell.execute_reply": "2022-05-06T16:12:54.759580Z",
     "shell.execute_reply.started": "2022-05-06T15:40:13.917537Z"
    },
    "papermill": {
     "duration": 0.059902,
     "end_time": "2022-05-06T16:12:54.760187",
     "exception": false,
     "start_time": "2022-05-06T16:12:54.700285",
     "status": "completed"
    },
    "tags": []
   },
   "outputs": [
    {
     "name": "stderr",
     "output_type": "stream",
     "text": [
      "/var/folders/16/4k9m0x9s1hx4zwvh8_yj6xrr0000gn/T/ipykernel_6377/2078178184.py:1: FutureWarning: Passing 'suffixes' which cause duplicate columns {'Proportion_x', 'Total Reported Risk_x'} in the result is deprecated and will raise a MergeError in a future version.\n",
      "  outer_merged2 = pd.merge(outer_merged2, risk4m, how=\"outer\", on=[\"CDP Region\"])\n"
     ]
    }
   ],
   "source": [
    "outer_merged2 = pd.merge(outer_merged2, risk4m, how=\"outer\", on=[\"CDP Region\"])"
   ]
  },
  {
   "cell_type": "code",
   "execution_count": 38,
   "metadata": {
    "execution": {
     "iopub.execute_input": "2022-05-06T16:12:54.857937Z",
     "iopub.status.busy": "2022-05-06T16:12:54.856621Z",
     "iopub.status.idle": "2022-05-06T16:12:54.865179Z",
     "shell.execute_reply": "2022-05-06T16:12:54.865695Z",
     "shell.execute_reply.started": "2022-05-06T15:40:13.934861Z"
    },
    "papermill": {
     "duration": 0.05932,
     "end_time": "2022-05-06T16:12:54.865839",
     "exception": false,
     "start_time": "2022-05-06T16:12:54.806519",
     "status": "completed"
    },
    "tags": []
   },
   "outputs": [],
   "source": [
    "outer_merged2 = pd.merge(outer_merged2, risk5m, how=\"outer\", on=[\"CDP Region\"])"
   ]
  },
  {
   "cell_type": "code",
   "execution_count": 39,
   "metadata": {
    "execution": {
     "iopub.execute_input": "2022-05-06T16:12:54.959547Z",
     "iopub.status.busy": "2022-05-06T16:12:54.958926Z",
     "iopub.status.idle": "2022-05-06T16:12:54.965570Z",
     "shell.execute_reply": "2022-05-06T16:12:54.964740Z",
     "shell.execute_reply.started": "2022-05-06T15:40:13.953546Z"
    },
    "papermill": {
     "duration": 0.05454,
     "end_time": "2022-05-06T16:12:54.965713",
     "exception": false,
     "start_time": "2022-05-06T16:12:54.911173",
     "status": "completed"
    },
    "tags": []
   },
   "outputs": [],
   "source": [
    "outer_merged2=outer_merged2[['CDP Region','Increased water stress','Declining water quality','Inadequate or ageing infrastructure','Increased water demand','Drought']]"
   ]
  },
  {
   "cell_type": "code",
   "execution_count": 40,
   "metadata": {
    "execution": {
     "iopub.execute_input": "2022-05-06T16:12:55.069278Z",
     "iopub.status.busy": "2022-05-06T16:12:55.068653Z",
     "iopub.status.idle": "2022-05-06T16:12:55.073135Z",
     "shell.execute_reply": "2022-05-06T16:12:55.072641Z",
     "shell.execute_reply.started": "2022-05-06T15:40:27.620633Z"
    },
    "papermill": {
     "duration": 0.061197,
     "end_time": "2022-05-06T16:12:55.073256",
     "exception": false,
     "start_time": "2022-05-06T16:12:55.012059",
     "status": "completed"
    },
    "tags": []
   },
   "outputs": [
    {
     "data": {
      "text/html": [
       "<div>\n",
       "<style scoped>\n",
       "    .dataframe tbody tr th:only-of-type {\n",
       "        vertical-align: middle;\n",
       "    }\n",
       "\n",
       "    .dataframe tbody tr th {\n",
       "        vertical-align: top;\n",
       "    }\n",
       "\n",
       "    .dataframe thead th {\n",
       "        text-align: right;\n",
       "    }\n",
       "</style>\n",
       "<table border=\"1\" class=\"dataframe\">\n",
       "  <thead>\n",
       "    <tr style=\"text-align: right;\">\n",
       "      <th></th>\n",
       "      <th>CDP Region</th>\n",
       "      <th>Increased water stress</th>\n",
       "      <th>Declining water quality</th>\n",
       "      <th>Inadequate or ageing infrastructure</th>\n",
       "      <th>Increased water demand</th>\n",
       "      <th>Drought</th>\n",
       "    </tr>\n",
       "  </thead>\n",
       "  <tbody>\n",
       "    <tr>\n",
       "      <th>0</th>\n",
       "      <td>Africa</td>\n",
       "      <td>13</td>\n",
       "      <td>20</td>\n",
       "      <td>25</td>\n",
       "      <td>14</td>\n",
       "      <td>13.0</td>\n",
       "    </tr>\n",
       "    <tr>\n",
       "      <th>1</th>\n",
       "      <td>East Asia</td>\n",
       "      <td>9</td>\n",
       "      <td>7</td>\n",
       "      <td>7</td>\n",
       "      <td>5</td>\n",
       "      <td>6.0</td>\n",
       "    </tr>\n",
       "    <tr>\n",
       "      <th>2</th>\n",
       "      <td>Europe</td>\n",
       "      <td>48</td>\n",
       "      <td>58</td>\n",
       "      <td>28</td>\n",
       "      <td>27</td>\n",
       "      <td>34.0</td>\n",
       "    </tr>\n",
       "    <tr>\n",
       "      <th>3</th>\n",
       "      <td>Latin America</td>\n",
       "      <td>82</td>\n",
       "      <td>65</td>\n",
       "      <td>55</td>\n",
       "      <td>55</td>\n",
       "      <td>46.0</td>\n",
       "    </tr>\n",
       "    <tr>\n",
       "      <th>4</th>\n",
       "      <td>Middle East</td>\n",
       "      <td>4</td>\n",
       "      <td>2</td>\n",
       "      <td>2</td>\n",
       "      <td>2</td>\n",
       "      <td>NaN</td>\n",
       "    </tr>\n",
       "    <tr>\n",
       "      <th>5</th>\n",
       "      <td>North America</td>\n",
       "      <td>68</td>\n",
       "      <td>54</td>\n",
       "      <td>55</td>\n",
       "      <td>28</td>\n",
       "      <td>33.0</td>\n",
       "    </tr>\n",
       "    <tr>\n",
       "      <th>6</th>\n",
       "      <td>South and West Asia</td>\n",
       "      <td>5</td>\n",
       "      <td>3</td>\n",
       "      <td>5</td>\n",
       "      <td>4</td>\n",
       "      <td>1.0</td>\n",
       "    </tr>\n",
       "    <tr>\n",
       "      <th>7</th>\n",
       "      <td>Southeast Asia and Oceania</td>\n",
       "      <td>21</td>\n",
       "      <td>28</td>\n",
       "      <td>20</td>\n",
       "      <td>25</td>\n",
       "      <td>15.0</td>\n",
       "    </tr>\n",
       "  </tbody>\n",
       "</table>\n",
       "</div>"
      ],
      "text/plain": [
       "                   CDP Region  Increased water stress  \\\n",
       "0                      Africa                      13   \n",
       "1                   East Asia                       9   \n",
       "2                      Europe                      48   \n",
       "3               Latin America                      82   \n",
       "4                 Middle East                       4   \n",
       "5               North America                      68   \n",
       "6         South and West Asia                       5   \n",
       "7  Southeast Asia and Oceania                      21   \n",
       "\n",
       "   Declining water quality  Inadequate or ageing infrastructure  \\\n",
       "0                       20                                   25   \n",
       "1                        7                                    7   \n",
       "2                       58                                   28   \n",
       "3                       65                                   55   \n",
       "4                        2                                    2   \n",
       "5                       54                                   55   \n",
       "6                        3                                    5   \n",
       "7                       28                                   20   \n",
       "\n",
       "   Increased water demand  Drought  \n",
       "0                      14     13.0  \n",
       "1                       5      6.0  \n",
       "2                      27     34.0  \n",
       "3                      55     46.0  \n",
       "4                       2      NaN  \n",
       "5                      28     33.0  \n",
       "6                       4      1.0  \n",
       "7                      25     15.0  "
      ]
     },
     "execution_count": 40,
     "metadata": {},
     "output_type": "execute_result"
    }
   ],
   "source": [
    "outer_merged2"
   ]
  },
  {
   "cell_type": "code",
   "execution_count": 41,
   "metadata": {
    "execution": {
     "iopub.execute_input": "2022-05-06T16:12:55.183128Z",
     "iopub.status.busy": "2022-05-06T16:12:55.182474Z",
     "iopub.status.idle": "2022-05-06T16:12:55.446863Z",
     "shell.execute_reply": "2022-05-06T16:12:55.447375Z",
     "shell.execute_reply.started": "2022-05-06T16:10:43.530273Z"
    },
    "papermill": {
     "duration": 0.326866,
     "end_time": "2022-05-06T16:12:55.447547",
     "exception": false,
     "start_time": "2022-05-06T16:12:55.120681",
     "status": "completed"
    },
    "tags": []
   },
   "outputs": [
    {
     "data": {
      "text/plain": [
       "<AxesSubplot:title={'center':'Stacked Bar Graph by Region'}, xlabel='CDP Region'>"
      ]
     },
     "execution_count": 41,
     "metadata": {},
     "output_type": "execute_result"
    },
    {
     "data": {
      "image/png": "[encoded data removed]",
      "text/plain": [
       "<Figure size 432x288 with 1 Axes>"
      ]
     },
     "metadata": {
      "needs_background": "light"
     },
     "output_type": "display_data"
    }
   ],
   "source": [
    "outer_merged2.plot(x='CDP Region', kind='bar', stacked=True,\n",
    "        title='Stacked Bar Graph by Region')"
   ]
  }
 ],
 "metadata": {
  "interpreter": {
   "hash": "2109e40e1bb02db07084ec3f65bc74e5d49b1f0b1dee0d03451c7d3424c9cf9e"
  },
  "kernelspec": {
   "display_name": "Python 3.10.4 ('mda-poland')",
   "language": "python",
   "name": "python3"
  },
  "language_info": {
   "codemirror_mode": {
    "name": "ipython",
    "version": 3
   },
   "file_extension": ".py",
   "mimetype": "text/x-python",
   "name": "python",
   "nbconvert_exporter": "python",
   "pygments_lexer": "ipython3",
   "version": "3.10.4"
  },
  "papermill": {
   "duration": 22.809949,
   "end_time": "2022-05-06T16:12:56.619133",
   "environment_variables": {},
   "exception": null,
   "input_path": "__notebook__.ipynb",
   "output_path": "__notebook__.ipynb",
   "parameters": {},
   "start_time": "2022-05-06T16:12:33.809184",
   "version": "2.1.0"
  }
 },
 "nbformat": 4,
 "nbformat_minor": 4
}
