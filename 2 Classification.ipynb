{
  "cells": [
    {
      "cell_type": "markdown",
      "metadata": {
        "id": "view-in-github",
        "colab_type": "text"
      },
      "source": [
        "<a href=\"https://colab.research.google.com/github/karlpolak/MDA-project/blob/classification/2%20Classification.ipynb\" target=\"_parent\"><img src=\"https://colab.research.google.com/assets/colab-badge.svg\" alt=\"Open In Colab\"/></a>"
      ]
    },
    {
      "cell_type": "markdown",
      "id": "fa2da453",
      "metadata": {
        "id": "fa2da453",
        "papermill": {
          "duration": 0.010556,
          "end_time": "2022-06-05T21:11:21.933108",
          "exception": false,
          "start_time": "2022-06-05T21:11:21.922552",
          "status": "completed"
        },
        "tags": []
      },
      "source": [
        "# Water Stress Classification"
      ]
    },
    {
      "cell_type": "markdown",
      "id": "507e63cf",
      "metadata": {
        "papermill": {
          "duration": 0.009217,
          "end_time": "2022-06-05T21:11:21.952057",
          "exception": false,
          "start_time": "2022-06-05T21:11:21.94284",
          "status": "completed"
        },
        "tags": [],
        "id": "507e63cf"
      },
      "source": [
        "In this notebook, we try to build a classification model to predict the water stress level of a country given some features of the country. \n",
        "\n",
        "Water stress definition: \n",
        "Freshwater withdrawal as a proportion of available freshwater resources. It is the ratio between total freshwater withdrawn by all major sectors and total renewable freshwater resources, after taking into account environmental flow requirements.\n",
        "\n",
        "[SDG 6.4.2. Water Stress] = 100*[Total freshwater withdrawal]/([Total renewable water resources]-[Environmental Flow Requirements])"
      ]
    },
    {
      "cell_type": "markdown",
      "id": "0be7ed21",
      "metadata": {
        "id": "0be7ed21",
        "papermill": {
          "duration": 0.009198,
          "end_time": "2022-06-05T21:11:21.97084",
          "exception": false,
          "start_time": "2022-06-05T21:11:21.961642",
          "status": "completed"
        },
        "tags": []
      },
      "source": [
        "Import libraries"
      ]
    },
    {
      "cell_type": "code",
      "execution_count": null,
      "id": "3030357c",
      "metadata": {
        "ExecuteTime": {
          "end_time": "2021-05-31T02:29:17.672825Z",
          "start_time": "2021-05-31T02:29:15.578915Z"
        },
        "execution": {
          "iopub.execute_input": "2022-06-05T21:11:21.992634Z",
          "iopub.status.busy": "2022-06-05T21:11:21.99172Z",
          "iopub.status.idle": "2022-06-05T21:11:24.54105Z",
          "shell.execute_reply": "2022-06-05T21:11:24.539985Z"
        },
        "id": "3030357c",
        "papermill": {
          "duration": 2.563855,
          "end_time": "2022-06-05T21:11:24.544346",
          "exception": false,
          "start_time": "2022-06-05T21:11:21.980491",
          "status": "completed"
        },
        "tags": [],
        "colab": {
          "base_uri": "https://localhost:8080/"
        },
        "outputId": "7f072404-6419-4b3a-bb48-0f3d73e4a4bb"
      },
      "outputs": [
        {
          "output_type": "stream",
          "name": "stderr",
          "text": [
            "/usr/local/lib/python3.7/dist-packages/statsmodels/tools/_testing.py:19: FutureWarning: pandas.util.testing is deprecated. Use the functions in the public API at pandas.testing instead.\n",
            "  import pandas.util.testing as tm\n"
          ]
        }
      ],
      "source": [
        "import pandas as pd\n",
        "import numpy as np\n",
        "import matplotlib.pyplot as plt\n",
        "import seaborn as sns\n",
        "import statsmodels.api as sm\n",
        "import warnings\n",
        "from sklearn.pipeline import Pipeline\n",
        "from sklearn.model_selection import train_test_split,GridSearchCV\n",
        "from sklearn.ensemble import RandomForestClassifier\n",
        "from sklearn.linear_model import LogisticRegression\n",
        "from sklearn.neighbors import KNeighborsClassifier\n",
        "from sklearn.feature_selection import SelectKBest, mutual_info_classif\n",
        "from sklearn.preprocessing import StandardScaler\n",
        "from sklearn.metrics import accuracy_score\n",
        "from sklearn.metrics import ConfusionMatrixDisplay"
      ]
    },
    {
      "cell_type": "markdown",
      "id": "1dab6328",
      "metadata": {
        "id": "1dab6328",
        "papermill": {
          "duration": 0.009534,
          "end_time": "2022-06-05T21:11:24.563507",
          "exception": false,
          "start_time": "2022-06-05T21:11:24.553973",
          "status": "completed"
        },
        "tags": []
      },
      "source": [
        "Load and view aquastat data set"
      ]
    },
    {
      "cell_type": "code",
      "execution_count": null,
      "id": "b70daceb",
      "metadata": {
        "ExecuteTime": {
          "end_time": "2021-05-31T02:29:17.767821Z",
          "start_time": "2021-05-31T02:29:17.70583Z"
        },
        "execution": {
          "iopub.execute_input": "2022-06-05T21:11:24.584841Z",
          "iopub.status.busy": "2022-06-05T21:11:24.584097Z",
          "iopub.status.idle": "2022-06-05T21:11:26.693087Z",
          "shell.execute_reply": "2022-06-05T21:11:26.69203Z"
        },
        "id": "b70daceb",
        "papermill": {
          "duration": 2.122551,
          "end_time": "2022-06-05T21:11:26.695651",
          "exception": false,
          "start_time": "2022-06-05T21:11:24.5731",
          "status": "completed"
        },
        "tags": []
      },
      "outputs": [],
      "source": [
        "data=pd.read_csv('https://mda-project-poland.s3.eu-west-3.amazonaws.com/preprocessed+data.csv')\n",
        "data=data.set_index(['Area','Year'])"
      ]
    },
    {
      "cell_type": "markdown",
      "id": "c73d6c84",
      "metadata": {
        "id": "c73d6c84",
        "papermill": {
          "duration": 0.012675,
          "end_time": "2022-06-05T21:11:26.994681",
          "exception": false,
          "start_time": "2022-06-05T21:11:26.982006",
          "status": "completed"
        },
        "tags": []
      },
      "source": [
        "### Data Preprocessing and exploration\n"
      ]
    },
    {
      "cell_type": "markdown",
      "id": "0b0dbce6",
      "metadata": {
        "id": "0b0dbce6",
        "papermill": {
          "duration": 0.012675,
          "end_time": "2022-06-05T21:11:27.238079",
          "exception": false,
          "start_time": "2022-06-05T21:11:27.225404",
          "status": "completed"
        },
        "tags": []
      },
      "source": [
        "Distribution of water stress index\n",
        "\n",
        "Right skewed"
      ]
    },
    {
      "cell_type": "code",
      "execution_count": null,
      "id": "682569e2",
      "metadata": {
        "ExecuteTime": {
          "end_time": "2021-05-31T02:29:19.653176Z",
          "start_time": "2021-05-31T02:29:19.434263Z"
        },
        "execution": {
          "iopub.execute_input": "2022-06-05T21:11:27.266024Z",
          "iopub.status.busy": "2022-06-05T21:11:27.265363Z",
          "iopub.status.idle": "2022-06-05T21:11:27.505756Z",
          "shell.execute_reply": "2022-06-05T21:11:27.504712Z"
        },
        "id": "682569e2",
        "outputId": "20dfaf46-72f9-43c4-8690-91a34c78384b",
        "papermill": {
          "duration": 0.257019,
          "end_time": "2022-06-05T21:11:27.508107",
          "exception": false,
          "start_time": "2022-06-05T21:11:27.251088",
          "status": "completed"
        },
        "tags": [],
        "colab": {
          "base_uri": "https://localhost:8080/",
          "height": 282
        }
      },
      "outputs": [
        {
          "output_type": "execute_result",
          "data": {
            "text/plain": [
              "<matplotlib.axes._subplots.AxesSubplot at 0x7f29bfb48610>"
            ]
          },
          "metadata": {},
          "execution_count": 3
        },
        {
          "output_type": "display_data",
          "data": {
            "text/plain": [
              "<Figure size 432x288 with 1 Axes>"
            ],
            "image/png": "[encoded data removed]"
          },
          "metadata": {
            "needs_background": "light"
          }
        }
      ],
      "source": [
        "data['SDG 6.4.2. Water Stress'].hist(grid=False, bins=20)"
      ]
    },
    {
      "cell_type": "markdown",
      "id": "3ffd347f",
      "metadata": {
        "id": "3ffd347f",
        "papermill": {
          "duration": 0.01244,
          "end_time": "2022-06-05T21:11:27.020124",
          "exception": false,
          "start_time": "2022-06-05T21:11:27.007684",
          "status": "completed"
        },
        "tags": []
      },
      "source": [
        "Calculate the new variables, drop the old ones, divide the water stress indicator into 5 risk levels"
      ]
    },
    {
      "cell_type": "code",
      "execution_count": null,
      "id": "a29461f7",
      "metadata": {
        "ExecuteTime": {
          "end_time": "2021-05-31T02:29:18.03311Z",
          "start_time": "2021-05-31T02:29:18.018151Z"
        },
        "execution": {
          "iopub.execute_input": "2022-06-05T21:11:27.051063Z",
          "iopub.status.busy": "2022-06-05T21:11:27.050044Z",
          "iopub.status.idle": "2022-06-05T21:11:27.066601Z",
          "shell.execute_reply": "2022-06-05T21:11:27.065648Z"
        },
        "id": "a29461f7",
        "papermill": {
          "duration": 0.033343,
          "end_time": "2022-06-05T21:11:27.069031",
          "exception": false,
          "start_time": "2022-06-05T21:11:27.035688",
          "status": "completed"
        },
        "tags": []
      },
      "outputs": [],
      "source": [
        "data['Industry, value added (% GDP)']=data['Industry, value added to GDP']/data['Gross Domestic Product (GDP)']*100\n",
        "data['Services, value added (% GDP)']=data['Services, value added to GDP']/data['Gross Domestic Product (GDP)']*100\n",
        "data.drop(['Services, value added to GDP','Industry, value added to GDP'],axis=1,inplace=True)\n",
        "data['stressclass'] = pd.cut(data['SDG 6.4.2. Water Stress'],bins=[0,25,50,75,100,200],labels=['0','1','2','3','4'])"
      ]
    },
    {
      "cell_type": "code",
      "execution_count": null,
      "id": "6989ebbc",
      "metadata": {
        "execution": {
          "iopub.execute_input": "2022-06-05T21:11:27.09587Z",
          "iopub.status.busy": "2022-06-05T21:11:27.095463Z",
          "iopub.status.idle": "2022-06-05T21:11:27.127695Z",
          "shell.execute_reply": "2022-06-05T21:11:27.126636Z"
        },
        "id": "6989ebbc",
        "outputId": "b4c9a474-7ccb-4b39-e14e-512d28b3b928",
        "papermill": {
          "duration": 0.048308,
          "end_time": "2022-06-05T21:11:27.130095",
          "exception": false,
          "start_time": "2022-06-05T21:11:27.081787",
          "status": "completed"
        },
        "tags": [],
        "colab": {
          "base_uri": "https://localhost:8080/",
          "height": 452
        }
      },
      "outputs": [
        {
          "output_type": "execute_result",
          "data": {
            "text/plain": [
              "                    Agricultural water withdrawal as % of total renewable water resources  \\\n",
              "Area        Year                                                                            \n",
              "Afghanistan 1992.0                                          35.498101                       \n",
              "            1997.0                                          31.427856                       \n",
              "            2002.0                                          30.613807                       \n",
              "            2007.0                                          30.613807                       \n",
              "            2012.0                                          30.613807                       \n",
              "\n",
              "                    Agriculture, value added (% GDP)  Average Temperature  \\\n",
              "Area        Year                                                            \n",
              "Afghanistan 1992.0                         54.207106                12.61   \n",
              "            1997.0                         62.416768                12.86   \n",
              "            2002.0                         45.134344                13.91   \n",
              "            2007.0                         35.265942                13.80   \n",
              "            2012.0                         28.556142                13.25   \n",
              "\n",
              "                    Environmental Flow Requirements  GDP per capita  \\\n",
              "Area        Year                                                      \n",
              "Afghanistan 1992.0                            28.29      248.518890   \n",
              "            1997.0                            28.29      164.092893   \n",
              "            2002.0                            28.29      194.958382   \n",
              "            2007.0                            28.29      389.985586   \n",
              "            2012.0                            28.29      694.885618   \n",
              "\n",
              "                    Long-term average annual precipitation in volume  \\\n",
              "Area        Year                                                       \n",
              "Afghanistan 1992.0                                         213.48522   \n",
              "            1997.0                                         213.48522   \n",
              "            2002.0                                         213.48522   \n",
              "            2007.0                                         213.48522   \n",
              "            2012.0                                         213.48522   \n",
              "\n",
              "                    MDG 7.5. Freshwater withdrawal as % of total renewable water resources  \\\n",
              "Area        Year                                                                             \n",
              "Afghanistan 1992.0                                          35.910480                        \n",
              "            1997.0                                          31.852952                        \n",
              "            2002.0                                          31.045461                        \n",
              "            2007.0                                          31.045461                        \n",
              "            2012.0                                          31.045461                        \n",
              "\n",
              "                    National Rainfall Index (NRI)  Population density  \\\n",
              "Area        Year                                                        \n",
              "Afghanistan 1992.0                         304.98           22.187829   \n",
              "            1997.0                         233.00           29.649735   \n",
              "            2002.0                         185.00           34.618096   \n",
              "            2007.0                         185.00           41.510486   \n",
              "            2012.0                         185.00           47.730564   \n",
              "\n",
              "                    SDG 6.4.1. Industrial Water Use Efficiency  ...  \\\n",
              "Area        Year                                                ...   \n",
              "Afghanistan 1992.0                                   25.311413  ...   \n",
              "            1997.0                                    9.091408  ...   \n",
              "            2002.0                                   11.426285  ...   \n",
              "            2007.0                                   20.815284  ...   \n",
              "            2012.0                                   23.227115  ...   \n",
              "\n",
              "                    SDG 6.4.1. Services Water Use Efficiency  \\\n",
              "Area        Year                                               \n",
              "Afghanistan 1992.0                                 10.237171   \n",
              "            1997.0                                  7.763338   \n",
              "            2002.0                                 15.252615   \n",
              "            2007.0                                 26.876683   \n",
              "            2012.0                                 47.639557   \n",
              "\n",
              "                    SDG 6.4.1. Water Use Efficiency  SDG 6.4.2. Water Stress  \\\n",
              "Area        Year                                                               \n",
              "Afghanistan 1992.0                         0.240400                63.337788   \n",
              "            1997.0                         0.194590                56.181246   \n",
              "            2002.0                         0.285607                54.757019   \n",
              "            2007.0                         0.549846                54.757019   \n",
              "            2012.0                         0.770774                54.757019   \n",
              "\n",
              "                    Total population with access to safe drinking-water (JMP)  \\\n",
              "Area        Year                                                                \n",
              "Afghanistan 1992.0                                               21.3           \n",
              "            1997.0                                               25.0           \n",
              "            2002.0                                               33.8           \n",
              "            2007.0                                               42.6           \n",
              "            2012.0                                               51.6           \n",
              "\n",
              "                    Total renewable water resources per capita  \\\n",
              "Area        Year                                                 \n",
              "Afghanistan 1992.0                                 4510.012947   \n",
              "            1997.0                                 3374.984489   \n",
              "            2002.0                                 2890.609479   \n",
              "            2007.0                                 2410.653428   \n",
              "            2012.0                                 2096.505623   \n",
              "\n",
              "                    Total water withdrawal per capita  \\\n",
              "Area        Year                                        \n",
              "Afghanistan 1992.0                        1619.567311   \n",
              "            1997.0                        1075.032191   \n",
              "            2002.0                         899.030431   \n",
              "            2007.0                         751.752659   \n",
              "            2012.0                         653.786919   \n",
              "\n",
              "                    Gross Domestic Product (GDP)  \\\n",
              "Area        Year                                   \n",
              "Afghanistan 1992.0                  3.444711e+09   \n",
              "            1997.0                  2.924589e+09   \n",
              "            2002.0                  4.141524e+09   \n",
              "            2007.0                  9.412162e+09   \n",
              "            2012.0                  1.913650e+10   \n",
              "\n",
              "                    Industry, value added (% GDP)  \\\n",
              "Area        Year                                    \n",
              "Afghanistan 1992.0                      16.053594   \n",
              "            1997.0                      14.429376   \n",
              "            2002.0                      22.093317   \n",
              "            2007.0                      27.623835   \n",
              "            2012.0                      22.783686   \n",
              "\n",
              "                    Services, value added (% GDP)  stressclass  \n",
              "Area        Year                                                \n",
              "Afghanistan 1992.0                      28.884858            2  \n",
              "            1997.0                      22.327921            2  \n",
              "            2002.0                      35.494181            2  \n",
              "            2007.0                      42.816944            2  \n",
              "            2012.0                      55.914093            2  \n",
              "\n",
              "[5 rows x 21 columns]"
            ],
            "text/html": [
              "\n",
              "  <div id=\"df-ee14b089-1980-4436-a505-56d71c7f90d4\">\n",
              "    <div class=\"colab-df-container\">\n",
              "      <div>\n",
              "<style scoped>\n",
              "    .dataframe tbody tr th:only-of-type {\n",
              "        vertical-align: middle;\n",
              "    }\n",
              "\n",
              "    .dataframe tbody tr th {\n",
              "        vertical-align: top;\n",
              "    }\n",
              "\n",
              "    .dataframe thead th {\n",
              "        text-align: right;\n",
              "    }\n",
              "</style>\n",
              "<table border=\"1\" class=\"dataframe\">\n",
              "  <thead>\n",
              "    <tr style=\"text-align: right;\">\n",
              "      <th></th>\n",
              "      <th></th>\n",
              "      <th>Agricultural water withdrawal as % of total renewable water resources</th>\n",
              "      <th>Agriculture, value added (% GDP)</th>\n",
              "      <th>Average Temperature</th>\n",
              "      <th>Environmental Flow Requirements</th>\n",
              "      <th>GDP per capita</th>\n",
              "      <th>Long-term average annual precipitation in volume</th>\n",
              "      <th>MDG 7.5. Freshwater withdrawal as % of total renewable water resources</th>\n",
              "      <th>National Rainfall Index (NRI)</th>\n",
              "      <th>Population density</th>\n",
              "      <th>SDG 6.4.1. Industrial Water Use Efficiency</th>\n",
              "      <th>...</th>\n",
              "      <th>SDG 6.4.1. Services Water Use Efficiency</th>\n",
              "      <th>SDG 6.4.1. Water Use Efficiency</th>\n",
              "      <th>SDG 6.4.2. Water Stress</th>\n",
              "      <th>Total population with access to safe drinking-water (JMP)</th>\n",
              "      <th>Total renewable water resources per capita</th>\n",
              "      <th>Total water withdrawal per capita</th>\n",
              "      <th>Gross Domestic Product (GDP)</th>\n",
              "      <th>Industry, value added (% GDP)</th>\n",
              "      <th>Services, value added (% GDP)</th>\n",
              "      <th>stressclass</th>\n",
              "    </tr>\n",
              "    <tr>\n",
              "      <th>Area</th>\n",
              "      <th>Year</th>\n",
              "      <th></th>\n",
              "      <th></th>\n",
              "      <th></th>\n",
              "      <th></th>\n",
              "      <th></th>\n",
              "      <th></th>\n",
              "      <th></th>\n",
              "      <th></th>\n",
              "      <th></th>\n",
              "      <th></th>\n",
              "      <th></th>\n",
              "      <th></th>\n",
              "      <th></th>\n",
              "      <th></th>\n",
              "      <th></th>\n",
              "      <th></th>\n",
              "      <th></th>\n",
              "      <th></th>\n",
              "      <th></th>\n",
              "      <th></th>\n",
              "      <th></th>\n",
              "    </tr>\n",
              "  </thead>\n",
              "  <tbody>\n",
              "    <tr>\n",
              "      <th rowspan=\"5\" valign=\"top\">Afghanistan</th>\n",
              "      <th>1992.0</th>\n",
              "      <td>35.498101</td>\n",
              "      <td>54.207106</td>\n",
              "      <td>12.61</td>\n",
              "      <td>28.29</td>\n",
              "      <td>248.518890</td>\n",
              "      <td>213.48522</td>\n",
              "      <td>35.910480</td>\n",
              "      <td>304.98</td>\n",
              "      <td>22.187829</td>\n",
              "      <td>25.311413</td>\n",
              "      <td>...</td>\n",
              "      <td>10.237171</td>\n",
              "      <td>0.240400</td>\n",
              "      <td>63.337788</td>\n",
              "      <td>21.3</td>\n",
              "      <td>4510.012947</td>\n",
              "      <td>1619.567311</td>\n",
              "      <td>3.444711e+09</td>\n",
              "      <td>16.053594</td>\n",
              "      <td>28.884858</td>\n",
              "      <td>2</td>\n",
              "    </tr>\n",
              "    <tr>\n",
              "      <th>1997.0</th>\n",
              "      <td>31.427856</td>\n",
              "      <td>62.416768</td>\n",
              "      <td>12.86</td>\n",
              "      <td>28.29</td>\n",
              "      <td>164.092893</td>\n",
              "      <td>213.48522</td>\n",
              "      <td>31.852952</td>\n",
              "      <td>233.00</td>\n",
              "      <td>29.649735</td>\n",
              "      <td>9.091408</td>\n",
              "      <td>...</td>\n",
              "      <td>7.763338</td>\n",
              "      <td>0.194590</td>\n",
              "      <td>56.181246</td>\n",
              "      <td>25.0</td>\n",
              "      <td>3374.984489</td>\n",
              "      <td>1075.032191</td>\n",
              "      <td>2.924589e+09</td>\n",
              "      <td>14.429376</td>\n",
              "      <td>22.327921</td>\n",
              "      <td>2</td>\n",
              "    </tr>\n",
              "    <tr>\n",
              "      <th>2002.0</th>\n",
              "      <td>30.613807</td>\n",
              "      <td>45.134344</td>\n",
              "      <td>13.91</td>\n",
              "      <td>28.29</td>\n",
              "      <td>194.958382</td>\n",
              "      <td>213.48522</td>\n",
              "      <td>31.045461</td>\n",
              "      <td>185.00</td>\n",
              "      <td>34.618096</td>\n",
              "      <td>11.426285</td>\n",
              "      <td>...</td>\n",
              "      <td>15.252615</td>\n",
              "      <td>0.285607</td>\n",
              "      <td>54.757019</td>\n",
              "      <td>33.8</td>\n",
              "      <td>2890.609479</td>\n",
              "      <td>899.030431</td>\n",
              "      <td>4.141524e+09</td>\n",
              "      <td>22.093317</td>\n",
              "      <td>35.494181</td>\n",
              "      <td>2</td>\n",
              "    </tr>\n",
              "    <tr>\n",
              "      <th>2007.0</th>\n",
              "      <td>30.613807</td>\n",
              "      <td>35.265942</td>\n",
              "      <td>13.80</td>\n",
              "      <td>28.29</td>\n",
              "      <td>389.985586</td>\n",
              "      <td>213.48522</td>\n",
              "      <td>31.045461</td>\n",
              "      <td>185.00</td>\n",
              "      <td>41.510486</td>\n",
              "      <td>20.815284</td>\n",
              "      <td>...</td>\n",
              "      <td>26.876683</td>\n",
              "      <td>0.549846</td>\n",
              "      <td>54.757019</td>\n",
              "      <td>42.6</td>\n",
              "      <td>2410.653428</td>\n",
              "      <td>751.752659</td>\n",
              "      <td>9.412162e+09</td>\n",
              "      <td>27.623835</td>\n",
              "      <td>42.816944</td>\n",
              "      <td>2</td>\n",
              "    </tr>\n",
              "    <tr>\n",
              "      <th>2012.0</th>\n",
              "      <td>30.613807</td>\n",
              "      <td>28.556142</td>\n",
              "      <td>13.25</td>\n",
              "      <td>28.29</td>\n",
              "      <td>694.885618</td>\n",
              "      <td>213.48522</td>\n",
              "      <td>31.045461</td>\n",
              "      <td>185.00</td>\n",
              "      <td>47.730564</td>\n",
              "      <td>23.227115</td>\n",
              "      <td>...</td>\n",
              "      <td>47.639557</td>\n",
              "      <td>0.770774</td>\n",
              "      <td>54.757019</td>\n",
              "      <td>51.6</td>\n",
              "      <td>2096.505623</td>\n",
              "      <td>653.786919</td>\n",
              "      <td>1.913650e+10</td>\n",
              "      <td>22.783686</td>\n",
              "      <td>55.914093</td>\n",
              "      <td>2</td>\n",
              "    </tr>\n",
              "  </tbody>\n",
              "</table>\n",
              "<p>5 rows × 21 columns</p>\n",
              "</div>\n",
              "      <button class=\"colab-df-convert\" onclick=\"convertToInteractive('df-ee14b089-1980-4436-a505-56d71c7f90d4')\"\n",
              "              title=\"Convert this dataframe to an interactive table.\"\n",
              "              style=\"display:none;\">\n",
              "        \n",
              "  <svg xmlns=\"http://www.w3.org/2000/svg\" height=\"24px\"viewBox=\"0 0 24 24\"\n",
              "       width=\"24px\">\n",
              "    <path d=\"M0 0h24v24H0V0z\" fill=\"none\"/>\n",
              "    <path d=\"M18.56 5.44l.94 2.06.94-2.06 2.06-.94-2.06-.94-.94-2.06-.94 2.06-2.06.94zm-11 1L8.5 8.5l.94-2.06 2.06-.94-2.06-.94L8.5 2.5l-.94 2.06-2.06.94zm10 10l.94 2.06.94-2.06 2.06-.94-2.06-.94-.94-2.06-.94 2.06-2.06.94z\"/><path d=\"M17.41 7.96l-1.37-1.37c-.4-.4-.92-.59-1.43-.59-.52 0-1.04.2-1.43.59L10.3 9.45l-7.72 7.72c-.78.78-.78 2.05 0 2.83L4 21.41c.39.39.9.59 1.41.59.51 0 1.02-.2 1.41-.59l7.78-7.78 2.81-2.81c.8-.78.8-2.07 0-2.86zM5.41 20L4 18.59l7.72-7.72 1.47 1.35L5.41 20z\"/>\n",
              "  </svg>\n",
              "      </button>\n",
              "      \n",
              "  <style>\n",
              "    .colab-df-container {\n",
              "      display:flex;\n",
              "      flex-wrap:wrap;\n",
              "      gap: 12px;\n",
              "    }\n",
              "\n",
              "    .colab-df-convert {\n",
              "      background-color: #E8F0FE;\n",
              "      border: none;\n",
              "      border-radius: 50%;\n",
              "      cursor: pointer;\n",
              "      display: none;\n",
              "      fill: #1967D2;\n",
              "      height: 32px;\n",
              "      padding: 0 0 0 0;\n",
              "      width: 32px;\n",
              "    }\n",
              "\n",
              "    .colab-df-convert:hover {\n",
              "      background-color: #E2EBFA;\n",
              "      box-shadow: 0px 1px 2px rgba(60, 64, 67, 0.3), 0px 1px 3px 1px rgba(60, 64, 67, 0.15);\n",
              "      fill: #174EA6;\n",
              "    }\n",
              "\n",
              "    [theme=dark] .colab-df-convert {\n",
              "      background-color: #3B4455;\n",
              "      fill: #D2E3FC;\n",
              "    }\n",
              "\n",
              "    [theme=dark] .colab-df-convert:hover {\n",
              "      background-color: #434B5C;\n",
              "      box-shadow: 0px 1px 3px 1px rgba(0, 0, 0, 0.15);\n",
              "      filter: drop-shadow(0px 1px 2px rgba(0, 0, 0, 0.3));\n",
              "      fill: #FFFFFF;\n",
              "    }\n",
              "  </style>\n",
              "\n",
              "      <script>\n",
              "        const buttonEl =\n",
              "          document.querySelector('#df-ee14b089-1980-4436-a505-56d71c7f90d4 button.colab-df-convert');\n",
              "        buttonEl.style.display =\n",
              "          google.colab.kernel.accessAllowed ? 'block' : 'none';\n",
              "\n",
              "        async function convertToInteractive(key) {\n",
              "          const element = document.querySelector('#df-ee14b089-1980-4436-a505-56d71c7f90d4');\n",
              "          const dataTable =\n",
              "            await google.colab.kernel.invokeFunction('convertToInteractive',\n",
              "                                                     [key], {});\n",
              "          if (!dataTable) return;\n",
              "\n",
              "          const docLinkHtml = 'Like what you see? Visit the ' +\n",
              "            '<a target=\"_blank\" href=https://colab.research.google.com/notebooks/data_table.ipynb>data table notebook</a>'\n",
              "            + ' to learn more about interactive tables.';\n",
              "          element.innerHTML = '';\n",
              "          dataTable['output_type'] = 'display_data';\n",
              "          await google.colab.output.renderOutput(dataTable, element);\n",
              "          const docLink = document.createElement('div');\n",
              "          docLink.innerHTML = docLinkHtml;\n",
              "          element.appendChild(docLink);\n",
              "        }\n",
              "      </script>\n",
              "    </div>\n",
              "  </div>\n",
              "  "
            ]
          },
          "metadata": {},
          "execution_count": 5
        }
      ],
      "source": [
        "data.head()"
      ]
    },
    {
      "cell_type": "markdown",
      "id": "d9403eb8",
      "metadata": {
        "papermill": {
          "duration": 0.012813,
          "end_time": "2022-06-05T21:11:27.625166",
          "exception": false,
          "start_time": "2022-06-05T21:11:27.612353",
          "status": "completed"
        },
        "tags": [],
        "id": "d9403eb8"
      },
      "source": [
        "The variables in the calculation of water stress level are dropped.\n",
        "\n",
        "Predictors and response variable"
      ]
    },
    {
      "cell_type": "code",
      "execution_count": null,
      "id": "4be736ab",
      "metadata": {
        "ExecuteTime": {
          "end_time": "2021-05-31T02:29:30.936681Z",
          "start_time": "2021-05-31T02:29:30.925711Z"
        },
        "execution": {
          "iopub.execute_input": "2022-06-05T21:11:27.589339Z",
          "iopub.status.busy": "2022-06-05T21:11:27.588881Z",
          "iopub.status.idle": "2022-06-05T21:11:27.596636Z",
          "shell.execute_reply": "2022-06-05T21:11:27.595587Z"
        },
        "id": "4be736ab",
        "papermill": {
          "duration": 0.024789,
          "end_time": "2022-06-05T21:11:27.598989",
          "exception": false,
          "start_time": "2022-06-05T21:11:27.5742",
          "status": "completed"
        },
        "tags": []
      },
      "outputs": [],
      "source": [
        "X=data.iloc[:,0:23].drop(\n",
        "    ['Environmental Flow Requirements',\n",
        "     'Total renewable water resources per capita',\n",
        "     'SDG 6.4.2. Water Stress',\n",
        "     'MDG 7.5. Freshwater withdrawal as % of total renewable water resources',\n",
        "     'stressclass'],axis=1)\n",
        "y=data['stressclass']"
      ]
    },
    {
      "cell_type": "markdown",
      "source": [
        "Unbalanced data"
      ],
      "metadata": {
        "id": "ddmhCBbsUnfK"
      },
      "id": "ddmhCBbsUnfK"
    },
    {
      "cell_type": "code",
      "source": [
        "y.value_counts().plot.bar()"
      ],
      "metadata": {
        "colab": {
          "base_uri": "https://localhost:8080/",
          "height": 279
        },
        "id": "G4FkVMf-Umnh",
        "outputId": "5d2da00e-9e78-4e17-de29-a4475f9e6cdc"
      },
      "id": "G4FkVMf-Umnh",
      "execution_count": null,
      "outputs": [
        {
          "output_type": "execute_result",
          "data": {
            "text/plain": [
              "<matplotlib.axes._subplots.AxesSubplot at 0x7f29bf56e8d0>"
            ]
          },
          "metadata": {},
          "execution_count": 7
        },
        {
          "output_type": "display_data",
          "data": {
            "text/plain": [
              "<Figure size 432x288 with 1 Axes>"
            ],
            "image/png": "[encoded data removed]"
          },
          "metadata": {
            "needs_background": "light"
          }
        }
      ]
    },
    {
      "cell_type": "markdown",
      "id": "a4ef3dce",
      "metadata": {
        "papermill": {
          "duration": 0.01347,
          "end_time": "2022-06-05T21:11:27.691313",
          "exception": false,
          "start_time": "2022-06-05T21:11:27.677843",
          "status": "completed"
        },
        "tags": [],
        "id": "a4ef3dce"
      },
      "source": [
        "Split the data into train set and test set"
      ]
    },
    {
      "cell_type": "code",
      "execution_count": null,
      "id": "bf5d96ff",
      "metadata": {
        "execution": {
          "iopub.execute_input": "2022-06-05T21:11:27.653048Z",
          "iopub.status.busy": "2022-06-05T21:11:27.65267Z",
          "iopub.status.idle": "2022-06-05T21:11:27.662168Z",
          "shell.execute_reply": "2022-06-05T21:11:27.661318Z"
        },
        "id": "bf5d96ff",
        "papermill": {
          "duration": 0.026157,
          "end_time": "2022-06-05T21:11:27.664449",
          "exception": false,
          "start_time": "2022-06-05T21:11:27.638292",
          "status": "completed"
        },
        "tags": []
      },
      "outputs": [],
      "source": [
        "X_train, X_test, y_train, y_test  = train_test_split(X, y,test_size=0.2,random_state=0,shuffle=True,stratify=y)"
      ]
    },
    {
      "cell_type": "markdown",
      "source": [
        "Synthetic Minority Oversampling Technique (SMOTE) to handle unbalanced data"
      ],
      "metadata": {
        "id": "QM-bzdzqU6RW"
      },
      "id": "QM-bzdzqU6RW"
    },
    {
      "cell_type": "code",
      "source": [
        "from imblearn.over_sampling import SMOTE\n",
        "X_train, y_train = SMOTE().fit_resample(X_train, y_train)"
      ],
      "metadata": {
        "id": "DH8H-7IiUO1M"
      },
      "id": "DH8H-7IiUO1M",
      "execution_count": null,
      "outputs": []
    },
    {
      "cell_type": "markdown",
      "id": "ef6a5502",
      "metadata": {
        "id": "ef6a5502",
        "papermill": {
          "duration": 0.013064,
          "end_time": "2022-06-05T21:11:27.560951",
          "exception": false,
          "start_time": "2022-06-05T21:11:27.547887",
          "status": "completed"
        },
        "tags": []
      },
      "source": [
        "## Model fitting"
      ]
    },
    {
      "cell_type": "markdown",
      "id": "3c306655",
      "metadata": {
        "id": "3c306655",
        "papermill": {
          "duration": 0.012951,
          "end_time": "2022-06-05T21:11:27.717697",
          "exception": false,
          "start_time": "2022-06-05T21:11:27.704746",
          "status": "completed"
        },
        "tags": []
      },
      "source": [
        "### Create pipeline framework"
      ]
    },
    {
      "cell_type": "code",
      "execution_count": null,
      "id": "b3771a5d",
      "metadata": {
        "ExecuteTime": {
          "end_time": "2021-05-31T02:29:44.801353Z",
          "start_time": "2021-05-31T02:29:31.034896Z"
        },
        "execution": {
          "iopub.execute_input": "2022-06-05T21:11:27.746897Z",
          "iopub.status.busy": "2022-06-05T21:11:27.746097Z",
          "iopub.status.idle": "2022-06-05T21:11:27.75171Z",
          "shell.execute_reply": "2022-06-05T21:11:27.750917Z"
        },
        "id": "b3771a5d",
        "papermill": {
          "duration": 0.022845,
          "end_time": "2022-06-05T21:11:27.753993",
          "exception": false,
          "start_time": "2022-06-05T21:11:27.731148",
          "status": "completed"
        },
        "tags": []
      },
      "outputs": [],
      "source": [
        "pipe = Pipeline([('scaler', StandardScaler()),\n",
        "                 ('selector', SelectKBest(mutual_info_classif, k=5)),\n",
        "                 ('classifier', LogisticRegression())])"
      ]
    },
    {
      "cell_type": "markdown",
      "id": "74c932ee",
      "metadata": {
        "id": "74c932ee",
        "papermill": {
          "duration": 0.012987,
          "end_time": "2022-06-05T21:11:27.780296",
          "exception": false,
          "start_time": "2022-06-05T21:11:27.767309",
          "status": "completed"
        },
        "tags": []
      },
      "source": [
        "### Create search space\n"
      ]
    },
    {
      "cell_type": "code",
      "execution_count": null,
      "id": "5d46d67e",
      "metadata": {
        "execution": {
          "iopub.execute_input": "2022-06-05T21:11:27.809348Z",
          "iopub.status.busy": "2022-06-05T21:11:27.808593Z",
          "iopub.status.idle": "2022-06-05T21:11:27.815965Z",
          "shell.execute_reply": "2022-06-05T21:11:27.815246Z"
        },
        "id": "5d46d67e",
        "papermill": {
          "duration": 0.023985,
          "end_time": "2022-06-05T21:11:27.818117",
          "exception": false,
          "start_time": "2022-06-05T21:11:27.794132",
          "status": "completed"
        },
        "tags": []
      },
      "outputs": [],
      "source": [
        "search_space = [{'selector__k': [5, 6, 7, 8, 9, 10]},\n",
        "                {'classifier': [RandomForestClassifier()],\n",
        "                 'classifier__n_estimators':[40, 60, 80, 100, 120],\n",
        "                 'classifier__max_features': [1, 2, 3],\n",
        "                 'classifier__min_samples_leaf':[1, 2, 3]},\n",
        "                {'classifier': [LogisticRegression(max_iter=7000)]},\n",
        "                {'classifier': [KNeighborsClassifier()],\n",
        "                 'classifier__leaf_size': [10, 20, 30],\n",
        "                 'classifier__n_neighbors': [3, 5, 7, 9]}]"
      ]
    },
    {
      "cell_type": "markdown",
      "id": "f58a64de",
      "metadata": {
        "id": "f58a64de",
        "papermill": {
          "duration": 0.013492,
          "end_time": "2022-06-05T21:11:27.845032",
          "exception": false,
          "start_time": "2022-06-05T21:11:27.83154",
          "status": "completed"
        },
        "tags": []
      },
      "source": [
        "### Model selection"
      ]
    },
    {
      "cell_type": "code",
      "execution_count": null,
      "id": "5a78f458",
      "metadata": {
        "execution": {
          "iopub.execute_input": "2022-06-05T21:11:27.874963Z",
          "iopub.status.busy": "2022-06-05T21:11:27.874539Z",
          "iopub.status.idle": "2022-06-05T21:12:03.834883Z",
          "shell.execute_reply": "2022-06-05T21:12:03.833783Z"
        },
        "id": "5a78f458",
        "papermill": {
          "duration": 35.978419,
          "end_time": "2022-06-05T21:12:03.83771",
          "exception": false,
          "start_time": "2022-06-05T21:11:27.859291",
          "status": "completed"
        },
        "tags": []
      },
      "outputs": [],
      "source": [
        "clf = GridSearchCV(pipe, search_space, cv=5, verbose=0)\n",
        "clf = clf.fit(X_train, y_train)\n",
        "\n",
        "\n",
        "best_pipe=clf.best_estimator_\n",
        "features = best_pipe.named_steps['selector']"
      ]
    },
    {
      "cell_type": "code",
      "execution_count": null,
      "id": "a350ff17",
      "metadata": {
        "execution": {
          "iopub.execute_input": "2022-06-05T21:12:03.867764Z",
          "iopub.status.busy": "2022-06-05T21:12:03.867351Z",
          "iopub.status.idle": "2022-06-05T21:12:03.881043Z",
          "shell.execute_reply": "2022-06-05T21:12:03.880185Z"
        },
        "id": "a350ff17",
        "outputId": "198af2e9-3e84-4b0d-e0dc-cfde85625827",
        "papermill": {
          "duration": 0.031598,
          "end_time": "2022-06-05T21:12:03.883659",
          "exception": false,
          "start_time": "2022-06-05T21:12:03.852061",
          "status": "completed"
        },
        "tags": [],
        "colab": {
          "base_uri": "https://localhost:8080/"
        }
      },
      "outputs": [
        {
          "output_type": "stream",
          "name": "stdout",
          "text": [
            "Best params:\n",
            "{'classifier': RandomForestClassifier(max_features=2, n_estimators=40), 'classifier__max_features': 2, 'classifier__min_samples_leaf': 1, 'classifier__n_estimators': 40}\n",
            "\n",
            "Best cross-validation score: 0.97\n",
            "Best estimator:\n",
            "Pipeline(steps=[('scaler', StandardScaler()),\n",
            "                ('selector',\n",
            "                 SelectKBest(k=5,\n",
            "                             score_func=<function mutual_info_classif at 0x7f29bfffb200>)),\n",
            "                ('classifier',\n",
            "                 RandomForestClassifier(max_features=2, n_estimators=40))])\n",
            "\n",
            "Selected features:\n",
            "Index(['Agricultural water withdrawal as % of total renewable water resources',\n",
            "       'Average Temperature',\n",
            "       'Long-term average annual precipitation in volume',\n",
            "       'National Rainfall Index (NRI)', 'Population density'],\n",
            "      dtype='object')\n",
            "\n"
          ]
        }
      ],
      "source": [
        "print(\"Best params:\\n{}\\n\".format(clf.best_params_))\n",
        "print(\"Best cross-validation score: {:.2f}\".format(clf.best_score_))\n",
        "print(\"Best estimator:\\n{}\\n\".format(clf.best_estimator_))\n",
        "print(\"Selected features:\\n{}\\n\".format(X_train.columns[features.get_support()]))"
      ]
    },
    {
      "cell_type": "markdown",
      "id": "0cd15216",
      "metadata": {
        "papermill": {
          "duration": 0.014192,
          "end_time": "2022-06-05T21:12:03.91187",
          "exception": false,
          "start_time": "2022-06-05T21:12:03.897678",
          "status": "completed"
        },
        "tags": [],
        "id": "0cd15216"
      },
      "source": [
        "The best 5 features to predict water stress level: \n",
        "'Agricultural water withdrawal as % of total renewable water resources',\n",
        "       'Average Temperature',\n",
        "       'Long-term average annual precipitation in volume',\n",
        "       'National Rainfall Index (NRI)', 'Population density'\n",
        "       \n",
        " Best classification algorithm: random forest classifer\n",
        " \n",
        " Temperature, precipitation, population and agricultural water withdrawal have an effect on water stress."
      ]
    },
    {
      "cell_type": "markdown",
      "id": "29bfa72c",
      "metadata": {
        "papermill": {
          "duration": 0.013185,
          "end_time": "2022-06-05T21:12:03.93946",
          "exception": false,
          "start_time": "2022-06-05T21:12:03.926275",
          "status": "completed"
        },
        "tags": [],
        "id": "29bfa72c"
      },
      "source": [
        "### Model validation"
      ]
    },
    {
      "cell_type": "code",
      "execution_count": null,
      "id": "88089335",
      "metadata": {
        "execution": {
          "iopub.execute_input": "2022-06-05T21:12:03.968507Z",
          "iopub.status.busy": "2022-06-05T21:12:03.967664Z",
          "iopub.status.idle": "2022-06-05T21:12:04.280994Z",
          "shell.execute_reply": "2022-06-05T21:12:04.279527Z"
        },
        "papermill": {
          "duration": 0.330571,
          "end_time": "2022-06-05T21:12:04.283465",
          "exception": false,
          "start_time": "2022-06-05T21:12:03.952894",
          "status": "completed"
        },
        "tags": [],
        "id": "88089335",
        "outputId": "3da0bda9-08cd-4340-ca72-34a4c3e23823",
        "colab": {
          "base_uri": "https://localhost:8080/",
          "height": 296
        }
      },
      "outputs": [
        {
          "output_type": "execute_result",
          "data": {
            "text/plain": [
              "<sklearn.metrics._plot.confusion_matrix.ConfusionMatrixDisplay at 0x7f29bf9f1390>"
            ]
          },
          "metadata": {},
          "execution_count": 14
        },
        {
          "output_type": "display_data",
          "data": {
            "text/plain": [
              "<Figure size 432x288 with 2 Axes>"
            ],
            "image/png": "[encoded data removed]"
          },
          "metadata": {
            "needs_background": "light"
          }
        }
      ],
      "source": [
        "ConfusionMatrixDisplay.from_estimator(clf, X_test, y_test)"
      ]
    },
    {
      "cell_type": "code",
      "execution_count": null,
      "id": "6914569f",
      "metadata": {
        "execution": {
          "iopub.execute_input": "2022-06-05T21:12:04.312851Z",
          "iopub.status.busy": "2022-06-05T21:12:04.312451Z",
          "iopub.status.idle": "2022-06-05T21:12:04.339699Z",
          "shell.execute_reply": "2022-06-05T21:12:04.338596Z"
        },
        "id": "6914569f",
        "papermill": {
          "duration": 0.044923,
          "end_time": "2022-06-05T21:12:04.342334",
          "exception": false,
          "start_time": "2022-06-05T21:12:04.297411",
          "status": "completed"
        },
        "tags": [],
        "outputId": "a226ec5f-3876-4c51-df5c-d59c8f0ad0d6",
        "colab": {
          "base_uri": "https://localhost:8080/"
        }
      },
      "outputs": [
        {
          "output_type": "execute_result",
          "data": {
            "text/plain": [
              "0.8461538461538461"
            ]
          },
          "metadata": {},
          "execution_count": 15
        }
      ],
      "source": [
        "y_pred=clf.predict(X_test)\n",
        "accuracy_score(y_test,y_pred)"
      ]
    },
    {
      "cell_type": "markdown",
      "id": "2c3d1a24",
      "metadata": {
        "papermill": {
          "duration": 0.013422,
          "end_time": "2022-06-05T21:12:04.369793",
          "exception": false,
          "start_time": "2022-06-05T21:12:04.356371",
          "status": "completed"
        },
        "tags": [],
        "id": "2c3d1a24"
      },
      "source": [
        "High accuracy, model fits well"
      ]
    },
    {
      "cell_type": "markdown",
      "id": "961e63ab",
      "metadata": {
        "papermill": {
          "duration": 0.014817,
          "end_time": "2022-06-05T21:12:04.39895",
          "exception": false,
          "start_time": "2022-06-05T21:12:04.384133",
          "status": "completed"
        },
        "tags": [],
        "id": "961e63ab"
      },
      "source": [
        "### next step: VAR model"
      ]
    },
    {
      "cell_type": "markdown",
      "id": "dfa35f06",
      "metadata": {
        "papermill": {
          "duration": 0.013679,
          "end_time": "2022-06-05T21:12:04.426708",
          "exception": false,
          "start_time": "2022-06-05T21:12:04.413029",
          "status": "completed"
        },
        "tags": [],
        "id": "dfa35f06"
      },
      "source": [
        "We build a model with which we can predict the water stress levels based on these predictors, 'Agricultural water withdrawal as % of total renewable water resources', 'Average Temperature', 'Long-term average annual precipitation in volume','National Rainfall Index (NRI)', 'Population density'. \n",
        "But we cannot forecast the future water stress levels since we don't know the future predictors. So, we turn to a time series model, Vector Autoregression model. "
      ]
    },
    {
      "cell_type": "markdown",
      "source": [
        "## Reference\n",
        "\n",
        "N. V. Chawla, K. W. Bowyer, L. O.Hall, W. P. Kegelmeyer, “SMOTE: synthetic minority over-sampling technique,” Journal of artificial intelligence research, 321-357, 2002.https://doi.org/10.1613/jair.953"
      ],
      "metadata": {
        "id": "OSNQeBVahBA3"
      },
      "id": "OSNQeBVahBA3"
    }
  ],
  "metadata": {
    "kernelspec": {
      "display_name": "Python 3",
      "language": "python",
      "name": "python3"
    },
    "language_info": {
      "codemirror_mode": {
        "name": "ipython",
        "version": 3
      },
      "file_extension": ".py",
      "mimetype": "text/x-python",
      "name": "python",
      "nbconvert_exporter": "python",
      "pygments_lexer": "ipython3",
      "version": "3.7.12"
    },
    "papermill": {
      "default_parameters": {},
      "duration": 54.330066,
      "end_time": "2022-06-05T21:12:05.263373",
      "environment_variables": {},
      "exception": null,
      "input_path": "__notebook__.ipynb",
      "output_path": "__notebook__.ipynb",
      "parameters": {},
      "start_time": "2022-06-05T21:11:10.933307",
      "version": "2.3.4"
    },
    "colab": {
      "name": "2 Classification.ipynb",
      "provenance": [],
      "collapsed_sections": [],
      "include_colab_link": true
    }
  },
  "nbformat": 4,
  "nbformat_minor": 5
}