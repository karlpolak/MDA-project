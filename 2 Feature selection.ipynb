{
  "cells": [
    {
      "cell_type": "markdown",
      "metadata": {
        "id": "rs8_MppD3oBg"
      },
      "source": [
        "# Feature selection for water shortage"
      ]
    },
    {
      "cell_type": "markdown",
      "metadata": {
        "id": "ZQaYRQnX3ey0"
      },
      "source": [
        "Import libraries"
      ]
    },
    {
      "cell_type": "code",
      "execution_count": 58,
      "metadata": {
        "ExecuteTime": {
          "end_time": "2021-05-31T02:29:17.672825Z",
          "start_time": "2021-05-31T02:29:15.578915Z"
        },
        "execution": {
          "iopub.execute_input": "2022-06-03T13:23:51.487170Z",
          "iopub.status.busy": "2022-06-03T13:23:51.486736Z",
          "iopub.status.idle": "2022-06-03T13:23:53.189071Z",
          "shell.execute_reply": "2022-06-03T13:23:53.188364Z",
          "shell.execute_reply.started": "2022-06-03T13:23:51.487089Z"
        },
        "id": "rqIK-Q7f3d8y",
        "trusted": true
      },
      "outputs": [],
      "source": [
        "import pandas as pd\n",
        "import numpy as np\n",
        "import matplotlib.pyplot as plt\n",
        "import seaborn as sns\n",
        "import statsmodels.api as sm\n",
        "import warnings\n",
        "from sklearn.pipeline import Pipeline\n",
        "from sklearn.model_selection import train_test_split,GridSearchCV\n",
        "from sklearn.ensemble import RandomForestClassifier\n",
        "from sklearn.linear_model import LogisticRegression\n",
        "from sklearn import naive_bayes\n",
        "from sklearn.neighbors import KNeighborsClassifier\n",
        "from sklearn.feature_selection import SelectKBest, mutual_info_classif\n",
        "from sklearn.preprocessing import StandardScaler"
      ]
    },
    {
      "cell_type": "markdown",
      "metadata": {
        "id": "rioWzsYG7OKG"
      },
      "source": [
        "Calculate the new variables, divide the water shortage indicator into 4 risk levels"
      ]
    },
    {
      "cell_type": "code",
      "execution_count": 59,
      "metadata": {
        "ExecuteTime": {
          "end_time": "2021-05-31T02:29:18.033110Z",
          "start_time": "2021-05-31T02:29:18.018151Z"
        },
        "execution": {
          "iopub.execute_input": "2022-06-03T13:25:18.494796Z",
          "iopub.status.busy": "2022-06-03T13:25:18.494476Z",
          "iopub.status.idle": "2022-06-03T13:25:18.506414Z",
          "shell.execute_reply": "2022-06-03T13:25:18.505416Z",
          "shell.execute_reply.started": "2022-06-03T13:25:18.494772Z"
        },
        "id": "h1Q1JS-N7OKG",
        "trusted": true
      },
      "outputs": [],
      "source": [
        "data=pd.read_csv('https://mda-project-poland.s3.eu-west-3.amazonaws.com/preprocessed+data.csv')\n",
        "data=data.set_index(['Area','Year'])\n",
        "#data['% of total country area irrigated (%)']=data['% of total country area cultivated']*data['% of cultivated land irrigated [harvested crop]']/100\n",
        "data['Industry, value added (% GDP)']=data['Industry, value added to GDP']/data['Gross Domestic Product (GDP)']*100\n",
        "data['Services, value added (% GDP)']=data['Services, value added to GDP']/data['Gross Domestic Product (GDP)']*100\n",
        "data['water resource per capita']=data['Total renewable water resources per capita']-data['Environmental Flow Requirements']\n",
        "data['shortageclass'] = pd.cut(data['water resource per capita'],bins=[0,500,1000,1700,240000],labels=['3','2','1','0'])"
      ]
    },
    {
      "cell_type": "code",
      "execution_count": 60,
      "metadata": {},
      "outputs": [
        {
          "data": {
            "text/html": [
              "<div>\n",
              "<style scoped>\n",
              "    .dataframe tbody tr th:only-of-type {\n",
              "        vertical-align: middle;\n",
              "    }\n",
              "\n",
              "    .dataframe tbody tr th {\n",
              "        vertical-align: top;\n",
              "    }\n",
              "\n",
              "    .dataframe thead th {\n",
              "        text-align: right;\n",
              "    }\n",
              "</style>\n",
              "<table border=\"1\" class=\"dataframe\">\n",
              "  <thead>\n",
              "    <tr style=\"text-align: right;\">\n",
              "      <th></th>\n",
              "      <th></th>\n",
              "      <th>Agricultural water withdrawal as % of total renewable water resources</th>\n",
              "      <th>Agriculture, value added (% GDP)</th>\n",
              "      <th>Average Temperature</th>\n",
              "      <th>Environmental Flow Requirements</th>\n",
              "      <th>GDP per capita</th>\n",
              "      <th>Industry, value added to GDP</th>\n",
              "      <th>Long-term average annual precipitation in volume</th>\n",
              "      <th>MDG 7.5. Freshwater withdrawal as % of total renewable water resources</th>\n",
              "      <th>National Rainfall Index (NRI)</th>\n",
              "      <th>Population density</th>\n",
              "      <th>...</th>\n",
              "      <th>SDG 6.4.2. Water Stress</th>\n",
              "      <th>Services, value added to GDP</th>\n",
              "      <th>Total population with access to safe drinking-water (JMP)</th>\n",
              "      <th>Total renewable water resources per capita</th>\n",
              "      <th>Total water withdrawal per capita</th>\n",
              "      <th>Gross Domestic Product (GDP)</th>\n",
              "      <th>Industry, value added (% GDP)</th>\n",
              "      <th>Services, value added (% GDP)</th>\n",
              "      <th>water resource per capita</th>\n",
              "      <th>shortageclass</th>\n",
              "    </tr>\n",
              "    <tr>\n",
              "      <th>Area</th>\n",
              "      <th>Year</th>\n",
              "      <th></th>\n",
              "      <th></th>\n",
              "      <th></th>\n",
              "      <th></th>\n",
              "      <th></th>\n",
              "      <th></th>\n",
              "      <th></th>\n",
              "      <th></th>\n",
              "      <th></th>\n",
              "      <th></th>\n",
              "      <th></th>\n",
              "      <th></th>\n",
              "      <th></th>\n",
              "      <th></th>\n",
              "      <th></th>\n",
              "      <th></th>\n",
              "      <th></th>\n",
              "      <th></th>\n",
              "      <th></th>\n",
              "      <th></th>\n",
              "      <th></th>\n",
              "    </tr>\n",
              "  </thead>\n",
              "  <tbody>\n",
              "    <tr>\n",
              "      <th rowspan=\"5\" valign=\"top\">Afghanistan</th>\n",
              "      <th>1992.0</th>\n",
              "      <td>35.498101</td>\n",
              "      <td>54.207106</td>\n",
              "      <td>12.61</td>\n",
              "      <td>28.29</td>\n",
              "      <td>248.518890</td>\n",
              "      <td>5.530000e+08</td>\n",
              "      <td>213.48522</td>\n",
              "      <td>35.910480</td>\n",
              "      <td>304.98</td>\n",
              "      <td>22.187829</td>\n",
              "      <td>...</td>\n",
              "      <td>63.337788</td>\n",
              "      <td>9.950000e+08</td>\n",
              "      <td>21.3</td>\n",
              "      <td>4510.012947</td>\n",
              "      <td>1619.567311</td>\n",
              "      <td>3.444711e+09</td>\n",
              "      <td>16.053594</td>\n",
              "      <td>28.884858</td>\n",
              "      <td>4481.722947</td>\n",
              "      <td>0</td>\n",
              "    </tr>\n",
              "    <tr>\n",
              "      <th>1997.0</th>\n",
              "      <td>31.427856</td>\n",
              "      <td>62.416768</td>\n",
              "      <td>12.86</td>\n",
              "      <td>28.29</td>\n",
              "      <td>164.092893</td>\n",
              "      <td>4.220000e+08</td>\n",
              "      <td>213.48522</td>\n",
              "      <td>31.852952</td>\n",
              "      <td>233.00</td>\n",
              "      <td>29.649735</td>\n",
              "      <td>...</td>\n",
              "      <td>56.181246</td>\n",
              "      <td>6.530000e+08</td>\n",
              "      <td>25.0</td>\n",
              "      <td>3374.984489</td>\n",
              "      <td>1075.032191</td>\n",
              "      <td>2.924589e+09</td>\n",
              "      <td>14.429376</td>\n",
              "      <td>22.327921</td>\n",
              "      <td>3346.694489</td>\n",
              "      <td>0</td>\n",
              "    </tr>\n",
              "    <tr>\n",
              "      <th>2002.0</th>\n",
              "      <td>30.613807</td>\n",
              "      <td>45.134344</td>\n",
              "      <td>13.91</td>\n",
              "      <td>28.29</td>\n",
              "      <td>194.958382</td>\n",
              "      <td>9.150000e+08</td>\n",
              "      <td>213.48522</td>\n",
              "      <td>31.045461</td>\n",
              "      <td>185.00</td>\n",
              "      <td>34.618096</td>\n",
              "      <td>...</td>\n",
              "      <td>54.757019</td>\n",
              "      <td>1.470000e+09</td>\n",
              "      <td>33.8</td>\n",
              "      <td>2890.609479</td>\n",
              "      <td>899.030431</td>\n",
              "      <td>4.141524e+09</td>\n",
              "      <td>22.093317</td>\n",
              "      <td>35.494181</td>\n",
              "      <td>2862.319479</td>\n",
              "      <td>0</td>\n",
              "    </tr>\n",
              "    <tr>\n",
              "      <th>2007.0</th>\n",
              "      <td>30.613807</td>\n",
              "      <td>35.265942</td>\n",
              "      <td>13.80</td>\n",
              "      <td>28.29</td>\n",
              "      <td>389.985586</td>\n",
              "      <td>2.600000e+09</td>\n",
              "      <td>213.48522</td>\n",
              "      <td>31.045461</td>\n",
              "      <td>185.00</td>\n",
              "      <td>41.510486</td>\n",
              "      <td>...</td>\n",
              "      <td>54.757019</td>\n",
              "      <td>4.030000e+09</td>\n",
              "      <td>42.6</td>\n",
              "      <td>2410.653428</td>\n",
              "      <td>751.752659</td>\n",
              "      <td>9.412162e+09</td>\n",
              "      <td>27.623835</td>\n",
              "      <td>42.816944</td>\n",
              "      <td>2382.363428</td>\n",
              "      <td>0</td>\n",
              "    </tr>\n",
              "    <tr>\n",
              "      <th>2012.0</th>\n",
              "      <td>30.613807</td>\n",
              "      <td>28.556142</td>\n",
              "      <td>13.25</td>\n",
              "      <td>28.29</td>\n",
              "      <td>694.885618</td>\n",
              "      <td>4.360000e+09</td>\n",
              "      <td>213.48522</td>\n",
              "      <td>31.045461</td>\n",
              "      <td>185.00</td>\n",
              "      <td>47.730564</td>\n",
              "      <td>...</td>\n",
              "      <td>54.757019</td>\n",
              "      <td>1.070000e+10</td>\n",
              "      <td>51.6</td>\n",
              "      <td>2096.505623</td>\n",
              "      <td>653.786919</td>\n",
              "      <td>1.913650e+10</td>\n",
              "      <td>22.783686</td>\n",
              "      <td>55.914093</td>\n",
              "      <td>2068.215623</td>\n",
              "      <td>0</td>\n",
              "    </tr>\n",
              "  </tbody>\n",
              "</table>\n",
              "<p>5 rows × 24 columns</p>\n",
              "</div>"
            ],
            "text/plain": [
              "                    Agricultural water withdrawal as % of total renewable water resources  \\\n",
              "Area        Year                                                                            \n",
              "Afghanistan 1992.0                                          35.498101                       \n",
              "            1997.0                                          31.427856                       \n",
              "            2002.0                                          30.613807                       \n",
              "            2007.0                                          30.613807                       \n",
              "            2012.0                                          30.613807                       \n",
              "\n",
              "                    Agriculture, value added (% GDP)  Average Temperature  \\\n",
              "Area        Year                                                            \n",
              "Afghanistan 1992.0                         54.207106                12.61   \n",
              "            1997.0                         62.416768                12.86   \n",
              "            2002.0                         45.134344                13.91   \n",
              "            2007.0                         35.265942                13.80   \n",
              "            2012.0                         28.556142                13.25   \n",
              "\n",
              "                    Environmental Flow Requirements  GDP per capita  \\\n",
              "Area        Year                                                      \n",
              "Afghanistan 1992.0                            28.29      248.518890   \n",
              "            1997.0                            28.29      164.092893   \n",
              "            2002.0                            28.29      194.958382   \n",
              "            2007.0                            28.29      389.985586   \n",
              "            2012.0                            28.29      694.885618   \n",
              "\n",
              "                    Industry, value added to GDP  \\\n",
              "Area        Year                                   \n",
              "Afghanistan 1992.0                  5.530000e+08   \n",
              "            1997.0                  4.220000e+08   \n",
              "            2002.0                  9.150000e+08   \n",
              "            2007.0                  2.600000e+09   \n",
              "            2012.0                  4.360000e+09   \n",
              "\n",
              "                    Long-term average annual precipitation in volume  \\\n",
              "Area        Year                                                       \n",
              "Afghanistan 1992.0                                         213.48522   \n",
              "            1997.0                                         213.48522   \n",
              "            2002.0                                         213.48522   \n",
              "            2007.0                                         213.48522   \n",
              "            2012.0                                         213.48522   \n",
              "\n",
              "                    MDG 7.5. Freshwater withdrawal as % of total renewable water resources  \\\n",
              "Area        Year                                                                             \n",
              "Afghanistan 1992.0                                          35.910480                        \n",
              "            1997.0                                          31.852952                        \n",
              "            2002.0                                          31.045461                        \n",
              "            2007.0                                          31.045461                        \n",
              "            2012.0                                          31.045461                        \n",
              "\n",
              "                    National Rainfall Index (NRI)  Population density  ...  \\\n",
              "Area        Year                                                       ...   \n",
              "Afghanistan 1992.0                         304.98           22.187829  ...   \n",
              "            1997.0                         233.00           29.649735  ...   \n",
              "            2002.0                         185.00           34.618096  ...   \n",
              "            2007.0                         185.00           41.510486  ...   \n",
              "            2012.0                         185.00           47.730564  ...   \n",
              "\n",
              "                    SDG 6.4.2. Water Stress  Services, value added to GDP  \\\n",
              "Area        Year                                                            \n",
              "Afghanistan 1992.0                63.337788                  9.950000e+08   \n",
              "            1997.0                56.181246                  6.530000e+08   \n",
              "            2002.0                54.757019                  1.470000e+09   \n",
              "            2007.0                54.757019                  4.030000e+09   \n",
              "            2012.0                54.757019                  1.070000e+10   \n",
              "\n",
              "                    Total population with access to safe drinking-water (JMP)  \\\n",
              "Area        Year                                                                \n",
              "Afghanistan 1992.0                                               21.3           \n",
              "            1997.0                                               25.0           \n",
              "            2002.0                                               33.8           \n",
              "            2007.0                                               42.6           \n",
              "            2012.0                                               51.6           \n",
              "\n",
              "                    Total renewable water resources per capita  \\\n",
              "Area        Year                                                 \n",
              "Afghanistan 1992.0                                 4510.012947   \n",
              "            1997.0                                 3374.984489   \n",
              "            2002.0                                 2890.609479   \n",
              "            2007.0                                 2410.653428   \n",
              "            2012.0                                 2096.505623   \n",
              "\n",
              "                    Total water withdrawal per capita  \\\n",
              "Area        Year                                        \n",
              "Afghanistan 1992.0                        1619.567311   \n",
              "            1997.0                        1075.032191   \n",
              "            2002.0                         899.030431   \n",
              "            2007.0                         751.752659   \n",
              "            2012.0                         653.786919   \n",
              "\n",
              "                    Gross Domestic Product (GDP)  \\\n",
              "Area        Year                                   \n",
              "Afghanistan 1992.0                  3.444711e+09   \n",
              "            1997.0                  2.924589e+09   \n",
              "            2002.0                  4.141524e+09   \n",
              "            2007.0                  9.412162e+09   \n",
              "            2012.0                  1.913650e+10   \n",
              "\n",
              "                    Industry, value added (% GDP)  \\\n",
              "Area        Year                                    \n",
              "Afghanistan 1992.0                      16.053594   \n",
              "            1997.0                      14.429376   \n",
              "            2002.0                      22.093317   \n",
              "            2007.0                      27.623835   \n",
              "            2012.0                      22.783686   \n",
              "\n",
              "                    Services, value added (% GDP)  water resource per capita  \\\n",
              "Area        Year                                                               \n",
              "Afghanistan 1992.0                      28.884858                4481.722947   \n",
              "            1997.0                      22.327921                3346.694489   \n",
              "            2002.0                      35.494181                2862.319479   \n",
              "            2007.0                      42.816944                2382.363428   \n",
              "            2012.0                      55.914093                2068.215623   \n",
              "\n",
              "                    shortageclass  \n",
              "Area        Year                   \n",
              "Afghanistan 1992.0              0  \n",
              "            1997.0              0  \n",
              "            2002.0              0  \n",
              "            2007.0              0  \n",
              "            2012.0              0  \n",
              "\n",
              "[5 rows x 24 columns]"
            ]
          },
          "execution_count": 60,
          "metadata": {},
          "output_type": "execute_result"
        }
      ],
      "source": [
        "data.head()"
      ]
    },
    {
      "cell_type": "markdown",
      "metadata": {
        "id": "y8IA5JBm6Tbu"
      },
      "source": [
        "## Data Preprocessing and exploration\n"
      ]
    },
    {
      "cell_type": "code",
      "execution_count": 61,
      "metadata": {
        "ExecuteTime": {
          "end_time": "2021-05-31T02:29:18.254026Z",
          "start_time": "2021-05-31T02:29:18.234078Z"
        },
        "colab": {
          "base_uri": "https://localhost:8080/"
        },
        "execution": {
          "iopub.execute_input": "2022-06-03T13:23:54.970072Z",
          "iopub.status.busy": "2022-06-03T13:23:54.969517Z",
          "iopub.status.idle": "2022-06-03T13:23:54.983746Z",
          "shell.execute_reply": "2022-06-03T13:23:54.982861Z",
          "shell.execute_reply.started": "2022-06-03T13:23:54.970046Z"
        },
        "id": "ncaZAG8b7OKH",
        "outputId": "e197a5ef-9c36-4b07-d26b-29f2f1ff246a",
        "trusted": true
      },
      "outputs": [
        {
          "name": "stdout",
          "output_type": "stream",
          "text": [
            "count       259.000000\n",
            "mean      21141.243523\n",
            "std       40411.946627\n",
            "min         211.751182\n",
            "25%        1548.433426\n",
            "50%        3509.947955\n",
            "75%       20863.763420\n",
            "max      235263.846100\n",
            "Name: water resource per capita, dtype: float64\n"
          ]
        }
      ],
      "source": [
        "print(data['water resource per capita'].describe())"
      ]
    },
    {
      "cell_type": "markdown",
      "metadata": {
        "id": "crdYhibh9Jn8"
      },
      "source": [
        "the distribution of water shortage index"
      ]
    },
    {
      "cell_type": "code",
      "execution_count": 62,
      "metadata": {
        "ExecuteTime": {
          "end_time": "2021-05-31T02:29:19.653176Z",
          "start_time": "2021-05-31T02:29:19.434263Z"
        },
        "colab": {
          "base_uri": "https://localhost:8080/",
          "height": 283
        },
        "execution": {
          "iopub.execute_input": "2022-06-03T13:23:54.986029Z",
          "iopub.status.busy": "2022-06-03T13:23:54.985691Z",
          "iopub.status.idle": "2022-06-03T13:23:55.206401Z",
          "shell.execute_reply": "2022-06-03T13:23:55.205410Z",
          "shell.execute_reply.started": "2022-06-03T13:23:54.986006Z"
        },
        "id": "EUSIL9fD3oB3",
        "outputId": "50a97b10-e14a-4d39-baf8-5bc292ed1fc6",
        "trusted": true
      },
      "outputs": [
        {
          "data": {
            "text/plain": [
              "<AxesSubplot:>"
            ]
          },
          "execution_count": 62,
          "metadata": {},
          "output_type": "execute_result"
        },
        {
          "data": {
            "image/png": "[encoded data removed]",
            "text/plain": [
              "<Figure size 432x288 with 1 Axes>"
            ]
          },
          "metadata": {
            "needs_background": "light"
          },
          "output_type": "display_data"
        }
      ],
      "source": [
        "data['water resource per capita'].hist(grid=False, bins=20)"
      ]
    },
    {
      "cell_type": "markdown",
      "metadata": {
        "id": "W0mDl9r93oB4"
      },
      "source": [
        "right skewed\n",
        "\n",
        "dichotomization:\n",
        "\n",
        "water shortage: water resource per capita<1700 m^3 per person per year"
      ]
    },
    {
      "cell_type": "markdown",
      "metadata": {
        "id": "QwpNeZpk7OKI"
      },
      "source": [
        "## Classification"
      ]
    },
    {
      "cell_type": "code",
      "execution_count": 63,
      "metadata": {
        "ExecuteTime": {
          "end_time": "2021-05-31T02:29:30.936681Z",
          "start_time": "2021-05-31T02:29:30.925711Z"
        },
        "execution": {
          "iopub.execute_input": "2022-06-03T13:23:55.224108Z",
          "iopub.status.busy": "2022-06-03T13:23:55.223862Z",
          "iopub.status.idle": "2022-06-03T13:23:55.233705Z",
          "shell.execute_reply": "2022-06-03T13:23:55.233180Z",
          "shell.execute_reply.started": "2022-06-03T13:23:55.224084Z"
        },
        "id": "pTDbb_2X7OKI",
        "trusted": true
      },
      "outputs": [],
      "source": [
        "X=data.iloc[:,0:23].drop(\n",
        "    ['Environmental Flow Requirements',\n",
        "     'Total renewable water resources per capita',\n",
        "    'Industry, value added to GDP',\n",
        "    'Services, value added to GDP',\n",
        "     'water resource per capita'],axis=1)\n",
        "y=data['shortageclass']"
      ]
    },
    {
      "cell_type": "code",
      "execution_count": 64,
      "metadata": {
        "id": "IhCt3X647OKJ"
      },
      "outputs": [],
      "source": [
        "X_train, X_test, y_train, y_test  = train_test_split(X,y,test_size=0.2,random_state=0,shuffle=True,stratify=y)"
      ]
    },
    {
      "cell_type": "code",
      "execution_count": 65,
      "metadata": {
        "id": "gcjh4pIU7OKJ"
      },
      "outputs": [],
      "source": [
        "#scaler = StandardScaler()"
      ]
    },
    {
      "cell_type": "code",
      "execution_count": 66,
      "metadata": {
        "id": "09Cs-Pws7OKJ"
      },
      "outputs": [],
      "source": [
        "#X_train_scaled = scaler.fit_transform(X_train)"
      ]
    },
    {
      "cell_type": "code",
      "execution_count": 67,
      "metadata": {
        "id": "qI3v2eIZ7OKJ"
      },
      "outputs": [],
      "source": [
        "#X_test_scaled = scaler.transform(X_test)"
      ]
    },
    {
      "cell_type": "markdown",
      "metadata": {
        "id": "teaTTFMY7OKJ"
      },
      "source": [
        "## Create pipeline framework"
      ]
    },
    {
      "cell_type": "code",
      "execution_count": 68,
      "metadata": {
        "ExecuteTime": {
          "end_time": "2021-05-31T02:29:44.801353Z",
          "start_time": "2021-05-31T02:29:31.034896Z"
        },
        "execution": {
          "iopub.execute_input": "2022-06-03T13:23:55.235270Z",
          "iopub.status.busy": "2022-06-03T13:23:55.234940Z",
          "iopub.status.idle": "2022-06-03T13:23:55.521866Z",
          "shell.execute_reply": "2022-06-03T13:23:55.520882Z",
          "shell.execute_reply.started": "2022-06-03T13:23:55.235246Z"
        },
        "id": "XthbXxkt7OKJ",
        "trusted": true
      },
      "outputs": [],
      "source": [
        "pipe = Pipeline([('scaler', StandardScaler()),\n",
        "                 ('selector', SelectKBest(mutual_info_classif, k=5)),\n",
        "                 ('classifier', LogisticRegression())])\n",
        "\n",
        "#pipe = Pipeline([('selector', SelectKBest()),\n",
        "                 #('classifier', KNeighborsClassifier(leaf_size=5,n_neighbors=15))])\n",
        "#param_grid = [{'selector__k': [ 5, 6, 7, 8, 9, 10]}]\n",
        "\n",
        "#grid = GridSearchCV(pipe, param_grid, cv=5)\n",
        "#grid.fit(X_train_scaled, y_train)\n",
        "\n",
        "#k=grid.best_params_['selector__k']\n",
        "#print(\"Best params:\\n{}\\n\".format(grid.best_params_))\n",
        "#print(\"Best cross-validation score: {:.2f}\".format(grid.best_score_))\n",
        "#print(grid.best_estimator_)"
      ]
    },
    {
      "cell_type": "markdown",
      "metadata": {
        "id": "ZmphyWPLVgrp"
      },
      "source": [
        "## Create search space\n"
      ]
    },
    {
      "cell_type": "code",
      "execution_count": 69,
      "metadata": {
        "id": "Oij4vZjJVrRe"
      },
      "outputs": [],
      "source": [
        "search_space = [{'selector__k': [5, 6, 7, 8, 9, 10]},\n",
        "                {'classifier': [RandomForestClassifier()],\n",
        "                 'classifier__n_estimators':[30, 50, 100],\n",
        "                 'classifier__max_features': [1, 2, 3],\n",
        "                 'classifier__min_samples_leaf':[1, 2, 3]},\n",
        "                {'classifier': [LogisticRegression(max_iter=7000)]},\n",
        "                {'classifier': [naive_bayes.GaussianNB()]},\n",
        "                {'classifier': [KNeighborsClassifier()],\n",
        "                 'classifier__leaf_size': [5,10,15,30],\n",
        "                 'classifier__n_neighbors': [5,10,15]}]"
      ]
    },
    {
      "cell_type": "markdown",
      "metadata": {
        "id": "n-KVuuRR7OKJ"
      },
      "source": [
        "## model selection"
      ]
    },
    {
      "cell_type": "code",
      "execution_count": 70,
      "metadata": {
        "execution": {
          "iopub.execute_input": "2022-06-03T13:23:55.524374Z",
          "iopub.status.busy": "2022-06-03T13:23:55.523256Z",
          "iopub.status.idle": "2022-06-03T13:24:15.425418Z",
          "shell.execute_reply": "2022-06-03T13:24:15.424889Z",
          "shell.execute_reply.started": "2022-06-03T13:23:55.524328Z"
        },
        "id": "4knPhmiA7OKK",
        "trusted": true
      },
      "outputs": [],
      "source": [
        "clf = GridSearchCV(pipe, search_space, cv=5, verbose=0)\n",
        "clf = clf.fit(X_train, y_train)\n",
        "\n",
        "\n",
        "\n",
        "best_pipe=clf.best_estimator_\n",
        "features = best_pipe.named_steps['selector']\n"
      ]
    },
    {
      "cell_type": "code",
      "execution_count": 71,
      "metadata": {
        "colab": {
          "base_uri": "https://localhost:8080/"
        },
        "execution": {
          "iopub.execute_input": "2022-06-03T13:24:15.427038Z",
          "iopub.status.busy": "2022-06-03T13:24:15.426291Z",
          "iopub.status.idle": "2022-06-03T13:24:15.436841Z",
          "shell.execute_reply": "2022-06-03T13:24:15.435494Z",
          "shell.execute_reply.started": "2022-06-03T13:24:15.427005Z"
        },
        "id": "8GAMpY637OKK",
        "outputId": "e3f2fa4e-6ad9-4ce6-f220-1eff48fe3696",
        "trusted": true
      },
      "outputs": [
        {
          "name": "stdout",
          "output_type": "stream",
          "text": [
            "Best params:\n",
            "{'classifier': RandomForestClassifier(max_features=1, n_estimators=30), 'classifier__max_features': 1, 'classifier__min_samples_leaf': 1, 'classifier__n_estimators': 30}\n",
            "\n",
            "Best cross-validation score: 0.95\n",
            "Best estimator:\n",
            "Pipeline(steps=[('scaler', StandardScaler()),\n",
            "                ('selector',\n",
            "                 SelectKBest(k=5,\n",
            "                             score_func=<function mutual_info_classif at 0x7fbbd9c3cc10>)),\n",
            "                ('classifier',\n",
            "                 RandomForestClassifier(max_features=1, n_estimators=30))])\n",
            "\n",
            "Selected features:\n",
            "Index(['Agricultural water withdrawal as % of total renewable water resources',\n",
            "       'Long-term average annual precipitation in volume',\n",
            "       'MDG 7.5. Freshwater withdrawal as % of total renewable water resources',\n",
            "       'National Rainfall Index (NRI)', 'SDG 6.4.2. Water Stress'],\n",
            "      dtype='object')\n",
            "\n"
          ]
        }
      ],
      "source": [
        "print(\"Best params:\\n{}\\n\".format(clf.best_params_))\n",
        "print(\"Best cross-validation score: {:.2f}\".format(clf.best_score_))\n",
        "print(\"Best estimator:\\n{}\\n\".format(clf.best_estimator_))\n",
        "print(\"Selected features:\\n{}\\n\".format(X.columns[features.get_support()]))"
      ]
    }
  ],
  "metadata": {
    "colab": {
      "name": "Water Shortage.ipynb",
      "provenance": []
    },
    "interpreter": {
      "hash": "2109e40e1bb02db07084ec3f65bc74e5d49b1f0b1dee0d03451c7d3424c9cf9e"
    },
    "kernelspec": {
      "display_name": "Python 3.10.4 ('mda-poland')",
      "language": "python",
      "name": "python3"
    },
    "language_info": {
      "codemirror_mode": {
        "name": "ipython",
        "version": 3
      },
      "file_extension": ".py",
      "mimetype": "text/x-python",
      "name": "python",
      "nbconvert_exporter": "python",
      "pygments_lexer": "ipython3",
      "version": "3.10.4"
    }
  },
  "nbformat": 4,
  "nbformat_minor": 0
}
