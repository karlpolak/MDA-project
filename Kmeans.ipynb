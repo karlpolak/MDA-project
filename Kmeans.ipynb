{
 "cells": [
  {
   "cell_type": "code",
   "execution_count": null,
   "metadata": {},
   "outputs": [],
   "source": [
    "# Import the necessary libraries\n",
    "import pandas as pd\n",
    "import numpy as np\n",
    "import seaborn as sns\n",
    "sns.set()\n",
    "# import the KMeans clustering model from scikit-learn\n",
    "from sklearn.cluster import KMeans\n",
    "import matplotlib.pyplot as plt\n",
    "%matplotlib inline"
   ]
  },
  {
   "cell_type": "code",
   "execution_count": null,
   "metadata": {},
   "outputs": [],
   "source": [
    "df = pd.read_csv('https://mda-project-poland.s3.eu-west-3.amazonaws.com/aquastat.csv')\n",
    "data = df.drop(['Country', 'Year'], axis=1)\n",
    "A = data.values\n",
    "data.head()"
   ]
  },
  {
   "cell_type": "code",
   "execution_count": null,
   "metadata": {},
   "outputs": [],
   "source": [
    "data = data.dropna(axis=0, how='any')\n",
    "data.head()"
   ]
  },
  {
   "cell_type": "code",
   "execution_count": null,
   "metadata": {},
   "outputs": [],
   "source": [
    "\n"
   ]
  },
  {
   "cell_type": "code",
   "execution_count": null,
   "metadata": {},
   "outputs": [],
   "source": [
    "# copied this code section from KMeans_Cluster_1.ipynb\n",
    "\n",
    "# Array for the number of clusters, min = 2 while max =20\n",
    "clusters = np.arange(2,20,1)\n",
    "dist = np.zeros(shape=(len(clusters),1))\n",
    "i = 0\n",
    "# Iterate ove all numbers of clusters\n",
    "for c in clusters:\n",
    "    k_means = KMeans(n_clusters=c, n_init=1,init='random')\n",
    "    k_means.fit(A)\n",
    "    dist[i,0]=k_means.inertia_\n",
    "    i +=1\n",
    "# Print the inertia vs the number of clusters used by the algorithm\n",
    "fig = plt.figure(figsize=(9,9))\n",
    "plt.plot(clusters,dist[:,0])\n",
    "plt.xlabel('n_clusters',fontsize=20)\n",
    "plt.ylabel('inertia_',fontsize=20)"
   ]
  },
  {
   "cell_type": "code",
   "execution_count": null,
   "metadata": {},
   "outputs": [],
   "source": []
  }
 ],
 "metadata": {
  "interpreter": {
   "hash": "4afab56dad0409044ae8a6a1a3598347730cf0ab0436da8e316c239394c6f03d"
  },
  "kernelspec": {
   "display_name": "Python 3.9.12 ('MDA-project')",
   "language": "python",
   "name": "python3"
  },
  "language_info": {
   "codemirror_mode": {
    "name": "ipython",
    "version": 3
   },
   "file_extension": ".py",
   "mimetype": "text/x-python",
   "name": "python",
   "nbconvert_exporter": "python",
   "pygments_lexer": "ipython3",
   "version": "3.9.12"
  },
  "orig_nbformat": 4
 },
 "nbformat": 4,
 "nbformat_minor": 2
}
