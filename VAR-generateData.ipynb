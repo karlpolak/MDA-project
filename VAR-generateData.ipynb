{
  "cells": [
    {
      "cell_type": "markdown",
      "metadata": {},
      "source": [
        "## Load libraries and functions"
      ]
    },
    {
      "cell_type": "code",
      "execution_count": null,
      "metadata": {
        "id": "FMJGv6zV2wl0"
      },
      "outputs": [],
      "source": [
        "# Import the necessary libraries\n",
        "import pandas as pd\n",
        "import numpy as np\n",
        "import seaborn as sns\n",
        "sns.set()\n",
        "# import the KMeans clustering model from scikit-learn\n",
        "import matplotlib.pyplot as plt\n",
        "\n",
        "from myVAR import myVAR,adfuller_test,plot_vars,plot_comparison\n",
        "\n",
        "import warnings\n",
        "warnings.filterwarnings('ignore')"
      ]
    },
    {
      "cell_type": "markdown",
      "metadata": {
        "id": "mM_XIxAa7pNy"
      },
      "source": [
        "## Instantiate a VAR with parameters"
      ]
    },
    {
      "cell_type": "code",
      "execution_count": null,
      "metadata": {},
      "outputs": [],
      "source": [
        "def generate_result(country,nobs,diff_order,forecast_steps,p,plot=False,error=False):\n",
        "    # load the data\n",
        "    ts=pd.read_csv('https://mda-project-poland.s3.eu-west-3.amazonaws.com/var_data_COMPLETE.csv',index_col='Year')\n",
        "    # ts.drop(columns=['Temperature (annual mean)','Population density (people per sq. km of land area)'],inplace=True)\n",
        "    ts=ts.loc[ts['Country'] == country]\n",
        "    ts.drop(columns=['Country'],inplace=True)\n",
        "    ts.interpolate(method='linear', axis=0,inplace=True)\n",
        "\n",
        "    v1=myVAR(ts)\n",
        "    # split\n",
        "    v1.ts_split(nobs)\n",
        "    # difference\n",
        "    v1.ts_train_diff=v1.get_diff(v1.ts_train,diff_order,verbose=False)\n",
        "    # granger\n",
        "    # granger_result=v1.granger_matrix()\n",
        "    # plt.figure(figsize=(6,5));sns.heatmap(granger_result,annot=True, linewidths=.5, vmax=.05)\n",
        "    # cointegration\n",
        "    # v1.cointegration_test()\n",
        "    # lag and fit\n",
        "    # v1.inspect_lag(5)\n",
        "    v1.fit = v1.get_fit(p)\n",
        "    v1.fit.summary()\n",
        "    # serial correlation\n",
        "    # v1.check_serial_correlation(plot=True)\n",
        "    # forecast diff\n",
        "    v1.ts_forecast_diff,v1.ts_forecast_diff.lower,v1.ts_forecast_diff.upper=v1.get_forecast_diff(forecast_steps,plot=False)\n",
        "    # real forecast (invert)\n",
        "    v1.ts_forecast = v1.get_inv_diff(v1.ts_forecast_diff,diff_order)\n",
        "    v1.ts_forecast.lower = v1.get_inv_diff(v1.ts_forecast_diff.lower,diff_order)\n",
        "    v1.ts_forecast.upper = v1.get_inv_diff(v1.ts_forecast_diff.upper,diff_order)\n",
        "    v1.ts_forecast.head()\n",
        "    # results\n",
        "    v1.ts_results=pd.concat([v1.ts_train,v1.ts_forecast])\n",
        "    v1.ts_results.lower=pd.concat([v1.ts_train,v1.ts_forecast.lower])\n",
        "    v1.ts_results.upper=pd.concat([v1.ts_train,v1.ts_forecast.upper])\n",
        "    # v1.ts_results.tail()\n",
        "\n",
        "    # generate output\n",
        "    v1.ts_results.lower=v1.ts_results.lower.add_suffix('_lower')\n",
        "    v1.ts_results.upper=v1.ts_results.upper.add_suffix('_upper')\n",
        "    v1.ts_results.upper\n",
        "    output=pd.concat([v1.ts_results,v1.ts_results.lower,v1.ts_results.upper], axis=1)\n",
        "    output['Country']=country # add country as a column\n",
        "    output = output.reindex(columns=sorted(output.columns)) # sort columns\n",
        "    output = output.rename_axis(['Year']).reset_index() # make year a column\n",
        "\n",
        "    if plot:\n",
        "        plot_comparison(v1,\n",
        "            steps=forecast_steps,\n",
        "            name=str([country,nobs,diff_order,forecast_steps,p]),\n",
        "            interval=True,\n",
        "            figsize=(10,10))\n",
        "\n",
        "    if error:\n",
        "        error=v1.get_forecast_error(v1.ts_forecast)\n",
        "        # error\n",
        "        # error.loc[['RMSE'],['Water stress']]\n",
        "\n",
        "    return output"
      ]
    },
    {
      "cell_type": "markdown",
      "metadata": {},
      "source": [
        "- Bad country (by Python index)\n",
        "  - 1 AFG\n",
        "- Bad nobs\n",
        "- Bad diff_order\n",
        "- Bad p"
      ]
    },
    {
      "cell_type": "code",
      "execution_count": null,
      "metadata": {},
      "outputs": [],
      "source": [
        "\n",
        "df=pd.read_csv('https://mda-project-poland.s3.eu-west-3.amazonaws.com/var_data_COMPLETE.csv',index_col='Year')\n",
        "countryList=df['Country'].unique() #37 countries\n",
        "nobsList=[1,2,3,4]\n",
        "diff_orderList=[1,2]\n",
        "pList=[1,2,3,4]\n",
        "\n",
        "country=countryList[0]\n",
        "nobs=1 #parameter\n",
        "diff_order=2 #parameter\n",
        "p=3 #parameter\n",
        "forecast_steps=50 #parameter\n",
        "\n",
        "\n",
        "for nobs in nobsList:\n",
        "    for diff_order in diff_orderList:\n",
        "        for p in pList:\n",
        "            df = pd.DataFrame()\n",
        "            ID=f'nobs{nobs}__difforder{diff_order}__p{p}'\n",
        "            for country in  countryList:\n",
        "                if country in ['Afghanistan']:\n",
        "                    print(\"DATA IS NOT VALID - CHANGE COUNTRY\")\n",
        "                    continue\n",
        "\n",
        "                print('-'*30)\n",
        "                print('Country::nobs::diff_order::forecast_steps::p')\n",
        "                print(country,nobs,diff_order,forecast_steps,p)\n",
        "                print('-'*30)\n",
        "                try:\n",
        "                    output=generate_result(country,nobs,diff_order,forecast_steps,p,plot=True)\n",
        "                    df=pd.concat([df,output])\n",
        "                except:\n",
        "                    print(\"ERROR: PARAMETER NOT SUITABLE\")\n",
        "                    pass\n",
        "\n",
        "            df.to_csv(f'{ID}.csv')\n",
        "df"
      ]
    }
  ],
  "metadata": {
    "colab": {
      "collapsed_sections": [],
      "name": "“dataset.ipynb”的副本",
      "provenance": [],
      "toc_visible": true
    },
    "interpreter": {
      "hash": "bfdc02187f5e0f500c88788e2f51cd262dd691105ce6c08bf68ba3235ee415bf"
    },
    "kernelspec": {
      "display_name": "Python 3.9.5 ('mda_test')",
      "language": "python",
      "name": "python3"
    },
    "language_info": {
      "codemirror_mode": {
        "name": "ipython",
        "version": 3
      },
      "file_extension": ".py",
      "mimetype": "text/x-python",
      "name": "python",
      "nbconvert_exporter": "python",
      "pygments_lexer": "ipython3",
      "version": "3.9.5"
    },
    "orig_nbformat": 4
  },
  "nbformat": 4,
  "nbformat_minor": 0
}
