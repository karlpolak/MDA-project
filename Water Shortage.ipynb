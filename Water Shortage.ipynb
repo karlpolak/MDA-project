{
 "cells": [
  {
   "cell_type": "markdown",
   "metadata": {
    "id": "rs8_MppD3oBg"
   },
   "source": [
    "**water shortage likelihood prediction**"
   ]
  },
  {
   "cell_type": "markdown",
   "metadata": {
    "id": "ZQaYRQnX3ey0"
   },
   "source": [
    "Import libraries"
   ]
  },
  {
   "cell_type": "code",
   "execution_count": 1,
   "metadata": {
    "ExecuteTime": {
     "end_time": "2021-05-31T02:29:17.672825Z",
     "start_time": "2021-05-31T02:29:15.578915Z"
    },
    "id": "rqIK-Q7f3d8y"
   },
   "outputs": [],
   "source": [
    "import pandas as pd\n",
    "import numpy as np\n",
    "import matplotlib.pyplot as plt\n",
    "import seaborn as sns\n",
    "import statsmodels.api as sm\n",
    "import warnings\n"
   ]
  },
  {
   "cell_type": "markdown",
   "metadata": {
    "id": "B3xYuezS3qIg"
   },
   "source": [
    "Load and view aquastat data set"
   ]
  },
  {
   "cell_type": "code",
   "execution_count": 2,
   "metadata": {
    "ExecuteTime": {
     "end_time": "2021-05-31T02:29:17.767821Z",
     "start_time": "2021-05-31T02:29:17.705830Z"
    },
    "colab": {
     "base_uri": "https://localhost:8080/",
     "height": 360
    },
    "id": "ggpfABaq56b9",
    "outputId": "a25eed9c-2da4-4963-b5da-7cc304a77fde"
   },
   "outputs": [
    {
     "data": {
      "text/html": [
       "<div>\n",
       "<style scoped>\n",
       "    .dataframe tbody tr th:only-of-type {\n",
       "        vertical-align: middle;\n",
       "    }\n",
       "\n",
       "    .dataframe tbody tr th {\n",
       "        vertical-align: top;\n",
       "    }\n",
       "\n",
       "    .dataframe thead th {\n",
       "        text-align: right;\n",
       "    }\n",
       "</style>\n",
       "<table border=\"1\" class=\"dataframe\">\n",
       "  <thead>\n",
       "    <tr style=\"text-align: right;\">\n",
       "      <th>Variable Name</th>\n",
       "      <th>% of cultivated land irrigated [harvested crop]</th>\n",
       "      <th>% of total country area cultivated</th>\n",
       "      <th>Agriculture, value added (% GDP)</th>\n",
       "      <th>Environmental Flow Requirements</th>\n",
       "      <th>GDP per capita</th>\n",
       "      <th>Gross Domestic Product (GDP)</th>\n",
       "      <th>Industry, value added to GDP</th>\n",
       "      <th>Long-term average annual precipitation in depth</th>\n",
       "      <th>Population density</th>\n",
       "      <th>SDG 6.4.2. Water Stress</th>\n",
       "      <th>Services, value added to GDP</th>\n",
       "      <th>Total population</th>\n",
       "      <th>Total population with access to safe drinking-water (JMP)</th>\n",
       "      <th>Total renewable water resources</th>\n",
       "    </tr>\n",
       "    <tr>\n",
       "      <th>Area</th>\n",
       "      <th></th>\n",
       "      <th></th>\n",
       "      <th></th>\n",
       "      <th></th>\n",
       "      <th></th>\n",
       "      <th></th>\n",
       "      <th></th>\n",
       "      <th></th>\n",
       "      <th></th>\n",
       "      <th></th>\n",
       "      <th></th>\n",
       "      <th></th>\n",
       "      <th></th>\n",
       "      <th></th>\n",
       "    </tr>\n",
       "  </thead>\n",
       "  <tbody>\n",
       "    <tr>\n",
       "      <th>Afghanistan</th>\n",
       "      <td>27.509482</td>\n",
       "      <td>12.115921</td>\n",
       "      <td>23.658185</td>\n",
       "      <td>28.290</td>\n",
       "      <td>605.557362</td>\n",
       "      <td>2.150000e+10</td>\n",
       "      <td>4.500000e+09</td>\n",
       "      <td>327.0</td>\n",
       "      <td>55.595553</td>\n",
       "      <td>54.757019</td>\n",
       "      <td>1.090000e+10</td>\n",
       "      <td>36296.113</td>\n",
       "      <td>55.3</td>\n",
       "      <td>65.3300</td>\n",
       "    </tr>\n",
       "    <tr>\n",
       "      <th>Albania</th>\n",
       "      <td>33.772247</td>\n",
       "      <td>24.922467</td>\n",
       "      <td>19.014330</td>\n",
       "      <td>13.560</td>\n",
       "      <td>4445.132198</td>\n",
       "      <td>1.300000e+10</td>\n",
       "      <td>2.310000e+09</td>\n",
       "      <td>1485.0</td>\n",
       "      <td>104.008979</td>\n",
       "      <td>7.139423</td>\n",
       "      <td>6.590000e+09</td>\n",
       "      <td>2884.169</td>\n",
       "      <td>95.1</td>\n",
       "      <td>30.2000</td>\n",
       "    </tr>\n",
       "    <tr>\n",
       "      <th>Algeria</th>\n",
       "      <td>10.116196</td>\n",
       "      <td>3.561861</td>\n",
       "      <td>11.946213</td>\n",
       "      <td>4.560</td>\n",
       "      <td>4051.244377</td>\n",
       "      <td>1.670000e+11</td>\n",
       "      <td>6.080000e+10</td>\n",
       "      <td>89.0</td>\n",
       "      <td>17.377711</td>\n",
       "      <td>137.920360</td>\n",
       "      <td>8.010000e+10</td>\n",
       "      <td>41389.189</td>\n",
       "      <td>83.6</td>\n",
       "      <td>11.6670</td>\n",
       "    </tr>\n",
       "    <tr>\n",
       "      <th>Andorra</th>\n",
       "      <td>NaN</td>\n",
       "      <td>1.744681</td>\n",
       "      <td>0.483532</td>\n",
       "      <td>0.188</td>\n",
       "      <td>39249.689020</td>\n",
       "      <td>3.020000e+09</td>\n",
       "      <td>2.560000e+08</td>\n",
       "      <td>NaN</td>\n",
       "      <td>163.831915</td>\n",
       "      <td>NaN</td>\n",
       "      <td>2.440000e+09</td>\n",
       "      <td>77.001</td>\n",
       "      <td>100.0</td>\n",
       "      <td>0.3156</td>\n",
       "    </tr>\n",
       "    <tr>\n",
       "      <th>Angola</th>\n",
       "      <td>0.220901</td>\n",
       "      <td>4.183043</td>\n",
       "      <td>10.016996</td>\n",
       "      <td>110.700</td>\n",
       "      <td>4100.291004</td>\n",
       "      <td>1.220000e+11</td>\n",
       "      <td>5.090000e+10</td>\n",
       "      <td>1010.0</td>\n",
       "      <td>23.916552</td>\n",
       "      <td>1.871883</td>\n",
       "      <td>5.770000e+10</td>\n",
       "      <td>29816.766</td>\n",
       "      <td>49.0</td>\n",
       "      <td>148.4000</td>\n",
       "    </tr>\n",
       "  </tbody>\n",
       "</table>\n",
       "</div>"
      ],
      "text/plain": [
       "Variable Name  % of cultivated land irrigated [harvested crop]  \\\n",
       "Area                                                             \n",
       "Afghanistan                                          27.509482   \n",
       "Albania                                              33.772247   \n",
       "Algeria                                              10.116196   \n",
       "Andorra                                                    NaN   \n",
       "Angola                                                0.220901   \n",
       "\n",
       "Variable Name  % of total country area cultivated  \\\n",
       "Area                                                \n",
       "Afghanistan                             12.115921   \n",
       "Albania                                 24.922467   \n",
       "Algeria                                  3.561861   \n",
       "Andorra                                  1.744681   \n",
       "Angola                                   4.183043   \n",
       "\n",
       "Variable Name  Agriculture, value added (% GDP)  \\\n",
       "Area                                              \n",
       "Afghanistan                           23.658185   \n",
       "Albania                               19.014330   \n",
       "Algeria                               11.946213   \n",
       "Andorra                                0.483532   \n",
       "Angola                                10.016996   \n",
       "\n",
       "Variable Name  Environmental Flow Requirements  GDP per capita  \\\n",
       "Area                                                             \n",
       "Afghanistan                             28.290      605.557362   \n",
       "Albania                                 13.560     4445.132198   \n",
       "Algeria                                  4.560     4051.244377   \n",
       "Andorra                                  0.188    39249.689020   \n",
       "Angola                                 110.700     4100.291004   \n",
       "\n",
       "Variable Name  Gross Domestic Product (GDP)  Industry, value added to GDP  \\\n",
       "Area                                                                        \n",
       "Afghanistan                    2.150000e+10                  4.500000e+09   \n",
       "Albania                        1.300000e+10                  2.310000e+09   \n",
       "Algeria                        1.670000e+11                  6.080000e+10   \n",
       "Andorra                        3.020000e+09                  2.560000e+08   \n",
       "Angola                         1.220000e+11                  5.090000e+10   \n",
       "\n",
       "Variable Name  Long-term average annual precipitation in depth  \\\n",
       "Area                                                             \n",
       "Afghanistan                                              327.0   \n",
       "Albania                                                 1485.0   \n",
       "Algeria                                                   89.0   \n",
       "Andorra                                                    NaN   \n",
       "Angola                                                  1010.0   \n",
       "\n",
       "Variable Name  Population density  SDG 6.4.2. Water Stress  \\\n",
       "Area                                                         \n",
       "Afghanistan             55.595553                54.757019   \n",
       "Albania                104.008979                 7.139423   \n",
       "Algeria                 17.377711               137.920360   \n",
       "Andorra                163.831915                      NaN   \n",
       "Angola                  23.916552                 1.871883   \n",
       "\n",
       "Variable Name  Services, value added to GDP  Total population  \\\n",
       "Area                                                            \n",
       "Afghanistan                    1.090000e+10         36296.113   \n",
       "Albania                        6.590000e+09          2884.169   \n",
       "Algeria                        8.010000e+10         41389.189   \n",
       "Andorra                        2.440000e+09            77.001   \n",
       "Angola                         5.770000e+10         29816.766   \n",
       "\n",
       "Variable Name  Total population with access to safe drinking-water (JMP)  \\\n",
       "Area                                                                       \n",
       "Afghanistan                                                 55.3           \n",
       "Albania                                                     95.1           \n",
       "Algeria                                                     83.6           \n",
       "Andorra                                                    100.0           \n",
       "Angola                                                      49.0           \n",
       "\n",
       "Variable Name  Total renewable water resources  \n",
       "Area                                            \n",
       "Afghanistan                            65.3300  \n",
       "Albania                                30.2000  \n",
       "Algeria                                11.6670  \n",
       "Andorra                                 0.3156  \n",
       "Angola                                148.4000  "
      ]
     },
     "execution_count": 2,
     "metadata": {},
     "output_type": "execute_result"
    }
   ],
   "source": [
    "data = pd.read_csv('../data/aquastat_data.csv') \n",
    "data = data.pivot_table(index = \"Area\", columns = \"Variable Name\", values= \"Value\")\n",
    "data.head()"
   ]
  },
  {
   "cell_type": "markdown",
   "metadata": {
    "id": "HHdgSpeD3oBt"
   },
   "source": [
    "dataset of country location（latitude and longitude)"
   ]
  },
  {
   "cell_type": "code",
   "execution_count": 3,
   "metadata": {
    "ExecuteTime": {
     "end_time": "2021-05-31T02:29:17.859574Z",
     "start_time": "2021-05-31T02:29:17.830653Z"
    },
    "id": "gTa1dyc93oBu",
    "outputId": "10b7f2b6-b17a-46fd-8870-f4fccc79b53d"
   },
   "outputs": [
    {
     "data": {
      "text/html": [
       "<div>\n",
       "<style scoped>\n",
       "    .dataframe tbody tr th:only-of-type {\n",
       "        vertical-align: middle;\n",
       "    }\n",
       "\n",
       "    .dataframe tbody tr th {\n",
       "        vertical-align: top;\n",
       "    }\n",
       "\n",
       "    .dataframe thead th {\n",
       "        text-align: right;\n",
       "    }\n",
       "</style>\n",
       "<table border=\"1\" class=\"dataframe\">\n",
       "  <thead>\n",
       "    <tr style=\"text-align: right;\">\n",
       "      <th></th>\n",
       "      <th>iso2</th>\n",
       "      <th>iso3</th>\n",
       "      <th>Area</th>\n",
       "      <th>Latitude</th>\n",
       "      <th>Longitude</th>\n",
       "    </tr>\n",
       "  </thead>\n",
       "  <tbody>\n",
       "    <tr>\n",
       "      <th>0</th>\n",
       "      <td>AF</td>\n",
       "      <td>AFG</td>\n",
       "      <td>Afghanistan</td>\n",
       "      <td>33.939110</td>\n",
       "      <td>67.709953</td>\n",
       "    </tr>\n",
       "    <tr>\n",
       "      <th>1</th>\n",
       "      <td>AO</td>\n",
       "      <td>AGO</td>\n",
       "      <td>Angola</td>\n",
       "      <td>-11.202692</td>\n",
       "      <td>17.873887</td>\n",
       "    </tr>\n",
       "    <tr>\n",
       "      <th>2</th>\n",
       "      <td>AL</td>\n",
       "      <td>ALB</td>\n",
       "      <td>Albania</td>\n",
       "      <td>41.153332</td>\n",
       "      <td>20.168331</td>\n",
       "    </tr>\n",
       "    <tr>\n",
       "      <th>3</th>\n",
       "      <td>AD</td>\n",
       "      <td>AND</td>\n",
       "      <td>Andorra</td>\n",
       "      <td>42.546245</td>\n",
       "      <td>1.601554</td>\n",
       "    </tr>\n",
       "    <tr>\n",
       "      <th>4</th>\n",
       "      <td>AE</td>\n",
       "      <td>ARE</td>\n",
       "      <td>United Arab Emirates</td>\n",
       "      <td>23.424076</td>\n",
       "      <td>53.847818</td>\n",
       "    </tr>\n",
       "  </tbody>\n",
       "</table>\n",
       "</div>"
      ],
      "text/plain": [
       "  iso2 iso3                  Area   Latitude  Longitude\n",
       "0   AF  AFG           Afghanistan  33.939110  67.709953\n",
       "1   AO  AGO                Angola -11.202692  17.873887\n",
       "2   AL  ALB               Albania  41.153332  20.168331\n",
       "3   AD  AND               Andorra  42.546245   1.601554\n",
       "4   AE  ARE  United Arab Emirates  23.424076  53.847818"
      ]
     },
     "execution_count": 3,
     "metadata": {},
     "output_type": "execute_result"
    }
   ],
   "source": [
    "location=pd.read_csv('../data/location.csv')\n",
    "location.head()"
   ]
  },
  {
   "cell_type": "markdown",
   "metadata": {
    "id": "RY4UE2iv3oBv"
   },
   "source": [
    "combine two datasets"
   ]
  },
  {
   "cell_type": "code",
   "execution_count": 4,
   "metadata": {
    "ExecuteTime": {
     "end_time": "2021-05-31T02:29:17.953323Z",
     "start_time": "2021-05-31T02:29:17.923404Z"
    },
    "id": "2J3zSVTg3oBw",
    "outputId": "c37e8e31-2a3c-4cd2-d2df-bc2226e93620"
   },
   "outputs": [
    {
     "data": {
      "text/html": [
       "<div>\n",
       "<style scoped>\n",
       "    .dataframe tbody tr th:only-of-type {\n",
       "        vertical-align: middle;\n",
       "    }\n",
       "\n",
       "    .dataframe tbody tr th {\n",
       "        vertical-align: top;\n",
       "    }\n",
       "\n",
       "    .dataframe thead th {\n",
       "        text-align: right;\n",
       "    }\n",
       "</style>\n",
       "<table border=\"1\" class=\"dataframe\">\n",
       "  <thead>\n",
       "    <tr style=\"text-align: right;\">\n",
       "      <th></th>\n",
       "      <th>Area</th>\n",
       "      <th>Latitude</th>\n",
       "      <th>Longitude</th>\n",
       "      <th>% of cultivated land irrigated [harvested crop]</th>\n",
       "      <th>% of total country area cultivated</th>\n",
       "      <th>Agriculture, value added (% GDP)</th>\n",
       "      <th>Environmental Flow Requirements</th>\n",
       "      <th>GDP per capita</th>\n",
       "      <th>Gross Domestic Product (GDP)</th>\n",
       "      <th>Industry, value added to GDP</th>\n",
       "      <th>Long-term average annual precipitation in depth</th>\n",
       "      <th>Population density</th>\n",
       "      <th>SDG 6.4.2. Water Stress</th>\n",
       "      <th>Services, value added to GDP</th>\n",
       "      <th>Total population</th>\n",
       "      <th>Total population with access to safe drinking-water (JMP)</th>\n",
       "      <th>Total renewable water resources</th>\n",
       "    </tr>\n",
       "  </thead>\n",
       "  <tbody>\n",
       "    <tr>\n",
       "      <th>0</th>\n",
       "      <td>Afghanistan</td>\n",
       "      <td>33.939110</td>\n",
       "      <td>67.709953</td>\n",
       "      <td>27.509482</td>\n",
       "      <td>12.115921</td>\n",
       "      <td>23.658185</td>\n",
       "      <td>28.290</td>\n",
       "      <td>605.557362</td>\n",
       "      <td>2.150000e+10</td>\n",
       "      <td>4.500000e+09</td>\n",
       "      <td>327.0</td>\n",
       "      <td>55.595553</td>\n",
       "      <td>54.757019</td>\n",
       "      <td>1.090000e+10</td>\n",
       "      <td>36296.113</td>\n",
       "      <td>55.3</td>\n",
       "      <td>65.3300</td>\n",
       "    </tr>\n",
       "    <tr>\n",
       "      <th>1</th>\n",
       "      <td>Angola</td>\n",
       "      <td>-11.202692</td>\n",
       "      <td>17.873887</td>\n",
       "      <td>0.220901</td>\n",
       "      <td>4.183043</td>\n",
       "      <td>10.016996</td>\n",
       "      <td>110.700</td>\n",
       "      <td>4100.291004</td>\n",
       "      <td>1.220000e+11</td>\n",
       "      <td>5.090000e+10</td>\n",
       "      <td>1010.0</td>\n",
       "      <td>23.916552</td>\n",
       "      <td>1.871883</td>\n",
       "      <td>5.770000e+10</td>\n",
       "      <td>29816.766</td>\n",
       "      <td>49.0</td>\n",
       "      <td>148.4000</td>\n",
       "    </tr>\n",
       "    <tr>\n",
       "      <th>2</th>\n",
       "      <td>Albania</td>\n",
       "      <td>41.153332</td>\n",
       "      <td>20.168331</td>\n",
       "      <td>33.772247</td>\n",
       "      <td>24.922467</td>\n",
       "      <td>19.014330</td>\n",
       "      <td>13.560</td>\n",
       "      <td>4445.132198</td>\n",
       "      <td>1.300000e+10</td>\n",
       "      <td>2.310000e+09</td>\n",
       "      <td>1485.0</td>\n",
       "      <td>104.008979</td>\n",
       "      <td>7.139423</td>\n",
       "      <td>6.590000e+09</td>\n",
       "      <td>2884.169</td>\n",
       "      <td>95.1</td>\n",
       "      <td>30.2000</td>\n",
       "    </tr>\n",
       "    <tr>\n",
       "      <th>3</th>\n",
       "      <td>Andorra</td>\n",
       "      <td>42.546245</td>\n",
       "      <td>1.601554</td>\n",
       "      <td>NaN</td>\n",
       "      <td>1.744681</td>\n",
       "      <td>0.483532</td>\n",
       "      <td>0.188</td>\n",
       "      <td>39249.689020</td>\n",
       "      <td>3.020000e+09</td>\n",
       "      <td>2.560000e+08</td>\n",
       "      <td>NaN</td>\n",
       "      <td>163.831915</td>\n",
       "      <td>NaN</td>\n",
       "      <td>2.440000e+09</td>\n",
       "      <td>77.001</td>\n",
       "      <td>100.0</td>\n",
       "      <td>0.3156</td>\n",
       "    </tr>\n",
       "    <tr>\n",
       "      <th>4</th>\n",
       "      <td>United Arab Emirates</td>\n",
       "      <td>23.424076</td>\n",
       "      <td>53.847818</td>\n",
       "      <td>66.909308</td>\n",
       "      <td>1.179949</td>\n",
       "      <td>0.786661</td>\n",
       "      <td>NaN</td>\n",
       "      <td>40180.344050</td>\n",
       "      <td>3.780000e+11</td>\n",
       "      <td>1.480000e+11</td>\n",
       "      <td>78.0</td>\n",
       "      <td>133.584948</td>\n",
       "      <td>1708.000000</td>\n",
       "      <td>2.270000e+11</td>\n",
       "      <td>9487.203</td>\n",
       "      <td>99.6</td>\n",
       "      <td>0.1500</td>\n",
       "    </tr>\n",
       "    <tr>\n",
       "      <th>...</th>\n",
       "      <td>...</td>\n",
       "      <td>...</td>\n",
       "      <td>...</td>\n",
       "      <td>...</td>\n",
       "      <td>...</td>\n",
       "      <td>...</td>\n",
       "      <td>...</td>\n",
       "      <td>...</td>\n",
       "      <td>...</td>\n",
       "      <td>...</td>\n",
       "      <td>...</td>\n",
       "      <td>...</td>\n",
       "      <td>...</td>\n",
       "      <td>...</td>\n",
       "      <td>...</td>\n",
       "      <td>...</td>\n",
       "      <td>...</td>\n",
       "    </tr>\n",
       "    <tr>\n",
       "      <th>195</th>\n",
       "      <td>Samoa</td>\n",
       "      <td>-13.759029</td>\n",
       "      <td>-172.104629</td>\n",
       "      <td>NaN</td>\n",
       "      <td>10.563380</td>\n",
       "      <td>10.277409</td>\n",
       "      <td>NaN</td>\n",
       "      <td>4197.376370</td>\n",
       "      <td>8.250000e+08</td>\n",
       "      <td>1.080000e+08</td>\n",
       "      <td>2880.0</td>\n",
       "      <td>68.785915</td>\n",
       "      <td>NaN</td>\n",
       "      <td>6.320000e+08</td>\n",
       "      <td>195.352</td>\n",
       "      <td>99.0</td>\n",
       "      <td>0.0000</td>\n",
       "    </tr>\n",
       "    <tr>\n",
       "      <th>196</th>\n",
       "      <td>Yemen</td>\n",
       "      <td>15.552727</td>\n",
       "      <td>48.516388</td>\n",
       "      <td>37.976508</td>\n",
       "      <td>2.628369</td>\n",
       "      <td>18.861460</td>\n",
       "      <td>NaN</td>\n",
       "      <td>854.926716</td>\n",
       "      <td>2.420000e+10</td>\n",
       "      <td>4.560000e+09</td>\n",
       "      <td>167.0</td>\n",
       "      <td>52.720456</td>\n",
       "      <td>169.761905</td>\n",
       "      <td>1.470000e+10</td>\n",
       "      <td>27834.819</td>\n",
       "      <td>54.9</td>\n",
       "      <td>2.1000</td>\n",
       "    </tr>\n",
       "    <tr>\n",
       "      <th>197</th>\n",
       "      <td>South Africa</td>\n",
       "      <td>-30.559482</td>\n",
       "      <td>22.937506</td>\n",
       "      <td>13.413357</td>\n",
       "      <td>10.182185</td>\n",
       "      <td>2.361245</td>\n",
       "      <td>20.120</td>\n",
       "      <td>6153.459018</td>\n",
       "      <td>3.490000e+11</td>\n",
       "      <td>7.990000e+10</td>\n",
       "      <td>495.0</td>\n",
       "      <td>46.764190</td>\n",
       "      <td>62.055716</td>\n",
       "      <td>2.250000e+11</td>\n",
       "      <td>57009.756</td>\n",
       "      <td>93.2</td>\n",
       "      <td>51.3500</td>\n",
       "    </tr>\n",
       "    <tr>\n",
       "      <th>198</th>\n",
       "      <td>Zambia</td>\n",
       "      <td>-13.133897</td>\n",
       "      <td>27.849332</td>\n",
       "      <td>1.443952</td>\n",
       "      <td>5.096929</td>\n",
       "      <td>4.024275</td>\n",
       "      <td>49.360</td>\n",
       "      <td>1513.276090</td>\n",
       "      <td>2.590000e+10</td>\n",
       "      <td>8.660000e+09</td>\n",
       "      <td>1020.0</td>\n",
       "      <td>22.393536</td>\n",
       "      <td>2.835498</td>\n",
       "      <td>1.450000e+10</td>\n",
       "      <td>16853.599</td>\n",
       "      <td>65.4</td>\n",
       "      <td>104.8000</td>\n",
       "    </tr>\n",
       "    <tr>\n",
       "      <th>199</th>\n",
       "      <td>Zimbabwe</td>\n",
       "      <td>-19.015438</td>\n",
       "      <td>29.154857</td>\n",
       "      <td>4.936585</td>\n",
       "      <td>10.492374</td>\n",
       "      <td>8.340969</td>\n",
       "      <td>9.348</td>\n",
       "      <td>1333.395663</td>\n",
       "      <td>2.200000e+10</td>\n",
       "      <td>4.190000e+09</td>\n",
       "      <td>657.0</td>\n",
       "      <td>36.433092</td>\n",
       "      <td>31.346226</td>\n",
       "      <td>1.390000e+10</td>\n",
       "      <td>14236.595</td>\n",
       "      <td>76.9</td>\n",
       "      <td>20.0000</td>\n",
       "    </tr>\n",
       "  </tbody>\n",
       "</table>\n",
       "<p>200 rows × 17 columns</p>\n",
       "</div>"
      ],
      "text/plain": [
       "                     Area   Latitude   Longitude  \\\n",
       "0             Afghanistan  33.939110   67.709953   \n",
       "1                  Angola -11.202692   17.873887   \n",
       "2                 Albania  41.153332   20.168331   \n",
       "3                 Andorra  42.546245    1.601554   \n",
       "4    United Arab Emirates  23.424076   53.847818   \n",
       "..                    ...        ...         ...   \n",
       "195                 Samoa -13.759029 -172.104629   \n",
       "196                 Yemen  15.552727   48.516388   \n",
       "197          South Africa -30.559482   22.937506   \n",
       "198                Zambia -13.133897   27.849332   \n",
       "199              Zimbabwe -19.015438   29.154857   \n",
       "\n",
       "     % of cultivated land irrigated [harvested crop]  \\\n",
       "0                                          27.509482   \n",
       "1                                           0.220901   \n",
       "2                                          33.772247   \n",
       "3                                                NaN   \n",
       "4                                          66.909308   \n",
       "..                                               ...   \n",
       "195                                              NaN   \n",
       "196                                        37.976508   \n",
       "197                                        13.413357   \n",
       "198                                         1.443952   \n",
       "199                                         4.936585   \n",
       "\n",
       "     % of total country area cultivated  Agriculture, value added (% GDP)  \\\n",
       "0                             12.115921                         23.658185   \n",
       "1                              4.183043                         10.016996   \n",
       "2                             24.922467                         19.014330   \n",
       "3                              1.744681                          0.483532   \n",
       "4                              1.179949                          0.786661   \n",
       "..                                  ...                               ...   \n",
       "195                           10.563380                         10.277409   \n",
       "196                            2.628369                         18.861460   \n",
       "197                           10.182185                          2.361245   \n",
       "198                            5.096929                          4.024275   \n",
       "199                           10.492374                          8.340969   \n",
       "\n",
       "     Environmental Flow Requirements  GDP per capita  \\\n",
       "0                             28.290      605.557362   \n",
       "1                            110.700     4100.291004   \n",
       "2                             13.560     4445.132198   \n",
       "3                              0.188    39249.689020   \n",
       "4                                NaN    40180.344050   \n",
       "..                               ...             ...   \n",
       "195                              NaN     4197.376370   \n",
       "196                              NaN      854.926716   \n",
       "197                           20.120     6153.459018   \n",
       "198                           49.360     1513.276090   \n",
       "199                            9.348     1333.395663   \n",
       "\n",
       "     Gross Domestic Product (GDP)  Industry, value added to GDP  \\\n",
       "0                    2.150000e+10                  4.500000e+09   \n",
       "1                    1.220000e+11                  5.090000e+10   \n",
       "2                    1.300000e+10                  2.310000e+09   \n",
       "3                    3.020000e+09                  2.560000e+08   \n",
       "4                    3.780000e+11                  1.480000e+11   \n",
       "..                            ...                           ...   \n",
       "195                  8.250000e+08                  1.080000e+08   \n",
       "196                  2.420000e+10                  4.560000e+09   \n",
       "197                  3.490000e+11                  7.990000e+10   \n",
       "198                  2.590000e+10                  8.660000e+09   \n",
       "199                  2.200000e+10                  4.190000e+09   \n",
       "\n",
       "     Long-term average annual precipitation in depth  Population density  \\\n",
       "0                                              327.0           55.595553   \n",
       "1                                             1010.0           23.916552   \n",
       "2                                             1485.0          104.008979   \n",
       "3                                                NaN          163.831915   \n",
       "4                                               78.0          133.584948   \n",
       "..                                               ...                 ...   \n",
       "195                                           2880.0           68.785915   \n",
       "196                                            167.0           52.720456   \n",
       "197                                            495.0           46.764190   \n",
       "198                                           1020.0           22.393536   \n",
       "199                                            657.0           36.433092   \n",
       "\n",
       "     SDG 6.4.2. Water Stress  Services, value added to GDP  Total population  \\\n",
       "0                  54.757019                  1.090000e+10         36296.113   \n",
       "1                   1.871883                  5.770000e+10         29816.766   \n",
       "2                   7.139423                  6.590000e+09          2884.169   \n",
       "3                        NaN                  2.440000e+09            77.001   \n",
       "4                1708.000000                  2.270000e+11          9487.203   \n",
       "..                       ...                           ...               ...   \n",
       "195                      NaN                  6.320000e+08           195.352   \n",
       "196               169.761905                  1.470000e+10         27834.819   \n",
       "197                62.055716                  2.250000e+11         57009.756   \n",
       "198                 2.835498                  1.450000e+10         16853.599   \n",
       "199                31.346226                  1.390000e+10         14236.595   \n",
       "\n",
       "     Total population with access to safe drinking-water (JMP)  \\\n",
       "0                                                 55.3           \n",
       "1                                                 49.0           \n",
       "2                                                 95.1           \n",
       "3                                                100.0           \n",
       "4                                                 99.6           \n",
       "..                                                 ...           \n",
       "195                                               99.0           \n",
       "196                                               54.9           \n",
       "197                                               93.2           \n",
       "198                                               65.4           \n",
       "199                                               76.9           \n",
       "\n",
       "     Total renewable water resources  \n",
       "0                            65.3300  \n",
       "1                           148.4000  \n",
       "2                            30.2000  \n",
       "3                             0.3156  \n",
       "4                             0.1500  \n",
       "..                               ...  \n",
       "195                           0.0000  \n",
       "196                           2.1000  \n",
       "197                          51.3500  \n",
       "198                         104.8000  \n",
       "199                          20.0000  \n",
       "\n",
       "[200 rows x 17 columns]"
      ]
     },
     "execution_count": 4,
     "metadata": {},
     "output_type": "execute_result"
    }
   ],
   "source": [
    "loc1 = location.loc[:, [ \"Area\",\"Latitude\",\"Longitude\"]]\n",
    "loc1.drop_duplicates(inplace=True)\n",
    "data =loc1.merge(data, on=\"Area\", how=\"left\")\n",
    "data"
   ]
  },
  {
   "cell_type": "markdown",
   "metadata": {},
   "source": [
    "Calculate the new variables"
   ]
  },
  {
   "cell_type": "code",
   "execution_count": 5,
   "metadata": {
    "ExecuteTime": {
     "end_time": "2021-05-31T02:29:18.033110Z",
     "start_time": "2021-05-31T02:29:18.018151Z"
    }
   },
   "outputs": [],
   "source": [
    "data['% of total country area irrigated (%)']=data['% of total country area cultivated']*data['% of cultivated land irrigated [harvested crop]']/100\n",
    "data['Industry, value added (% GDP)']=data['Industry, value added to GDP']/data['Gross Domestic Product (GDP)']*100\n",
    "data['Services, value added (% GDP)']=data['Services, value added to GDP']/data['Gross Domestic Product (GDP)']*100\n",
    "data['water resource per capita']=((data['Total renewable water resources']*1000000)-(data['Environmental Flow Requirements']*1000000))/data['Total population']"
   ]
  },
  {
   "cell_type": "code",
   "execution_count": 6,
   "metadata": {
    "ExecuteTime": {
     "end_time": "2021-05-31T02:29:18.254026Z",
     "start_time": "2021-05-31T02:29:18.234078Z"
    }
   },
   "outputs": [
    {
     "name": "stdout",
     "output_type": "stream",
     "text": [
      "count       153.000000\n",
      "mean       7331.632203\n",
      "std       19238.740866\n",
      "min          92.265940\n",
      "25%        1020.494949\n",
      "50%        2935.528192\n",
      "75%        7003.236344\n",
      "max      220070.396210\n",
      "Name: water resource per capita, dtype: float64\n"
     ]
    }
   ],
   "source": [
    "print(data['water resource per capita'].describe())"
   ]
  },
  {
   "cell_type": "code",
   "execution_count": 7,
   "metadata": {
    "ExecuteTime": {
     "end_time": "2021-05-31T02:29:18.426562Z",
     "start_time": "2021-05-31T02:29:18.406655Z"
    },
    "id": "yvazgv3Q3oBx",
    "outputId": "ad70577c-f5f9-4121-f94e-02456f3eb02f"
   },
   "outputs": [
    {
     "data": {
      "text/plain": [
       "Area                                                         False\n",
       "Latitude                                                     False\n",
       "Longitude                                                    False\n",
       "% of cultivated land irrigated [harvested crop]               True\n",
       "% of total country area cultivated                            True\n",
       "Agriculture, value added (% GDP)                              True\n",
       "Environmental Flow Requirements                               True\n",
       "GDP per capita                                                True\n",
       "Gross Domestic Product (GDP)                                  True\n",
       "Industry, value added to GDP                                  True\n",
       "Long-term average annual precipitation in depth               True\n",
       "Population density                                            True\n",
       "SDG 6.4.2. Water Stress                                       True\n",
       "Services, value added to GDP                                  True\n",
       "Total population                                              True\n",
       "Total population with access to safe drinking-water (JMP)     True\n",
       "Total renewable water resources                               True\n",
       "% of total country area irrigated (%)                         True\n",
       "Industry, value added (% GDP)                                 True\n",
       "Services, value added (% GDP)                                 True\n",
       "water resource per capita                                     True\n",
       "dtype: bool"
      ]
     },
     "execution_count": 7,
     "metadata": {},
     "output_type": "execute_result"
    }
   ],
   "source": [
    "data.isnull().any()"
   ]
  },
  {
   "cell_type": "markdown",
   "metadata": {
    "id": "y8IA5JBm6Tbu"
   },
   "source": [
    "## Data Preprocessing and exploration\n"
   ]
  },
  {
   "cell_type": "code",
   "execution_count": 8,
   "metadata": {
    "ExecuteTime": {
     "end_time": "2021-05-31T02:29:19.169463Z",
     "start_time": "2021-05-31T02:29:19.134048Z"
    },
    "colab": {
     "base_uri": "https://localhost:8080/",
     "height": 576
    },
    "id": "WvyX2wSXAlwB",
    "outputId": "eacda3a7-fc80-4f86-edf1-a53e9b02650d"
   },
   "outputs": [
    {
     "data": {
      "text/html": [
       "<div>\n",
       "<style scoped>\n",
       "    .dataframe tbody tr th:only-of-type {\n",
       "        vertical-align: middle;\n",
       "    }\n",
       "\n",
       "    .dataframe tbody tr th {\n",
       "        vertical-align: top;\n",
       "    }\n",
       "\n",
       "    .dataframe thead th {\n",
       "        text-align: right;\n",
       "    }\n",
       "</style>\n",
       "<table border=\"1\" class=\"dataframe\">\n",
       "  <thead>\n",
       "    <tr style=\"text-align: right;\">\n",
       "      <th></th>\n",
       "      <th>DataType</th>\n",
       "      <th>MissingVal</th>\n",
       "      <th>NUnique</th>\n",
       "      <th>Count</th>\n",
       "    </tr>\n",
       "  </thead>\n",
       "  <tbody>\n",
       "    <tr>\n",
       "      <th>Area</th>\n",
       "      <td>object</td>\n",
       "      <td>0</td>\n",
       "      <td>200</td>\n",
       "      <td>200</td>\n",
       "    </tr>\n",
       "    <tr>\n",
       "      <th>Latitude</th>\n",
       "      <td>float64</td>\n",
       "      <td>0</td>\n",
       "      <td>200</td>\n",
       "      <td>200</td>\n",
       "    </tr>\n",
       "    <tr>\n",
       "      <th>Longitude</th>\n",
       "      <td>float64</td>\n",
       "      <td>0</td>\n",
       "      <td>200</td>\n",
       "      <td>200</td>\n",
       "    </tr>\n",
       "    <tr>\n",
       "      <th>% of cultivated land irrigated [harvested crop]</th>\n",
       "      <td>float64</td>\n",
       "      <td>23</td>\n",
       "      <td>176</td>\n",
       "      <td>177</td>\n",
       "    </tr>\n",
       "    <tr>\n",
       "      <th>% of total country area cultivated</th>\n",
       "      <td>float64</td>\n",
       "      <td>3</td>\n",
       "      <td>196</td>\n",
       "      <td>197</td>\n",
       "    </tr>\n",
       "    <tr>\n",
       "      <th>Agriculture, value added (% GDP)</th>\n",
       "      <td>float64</td>\n",
       "      <td>6</td>\n",
       "      <td>194</td>\n",
       "      <td>194</td>\n",
       "    </tr>\n",
       "    <tr>\n",
       "      <th>Environmental Flow Requirements</th>\n",
       "      <td>float64</td>\n",
       "      <td>47</td>\n",
       "      <td>153</td>\n",
       "      <td>153</td>\n",
       "    </tr>\n",
       "    <tr>\n",
       "      <th>GDP per capita</th>\n",
       "      <td>float64</td>\n",
       "      <td>5</td>\n",
       "      <td>195</td>\n",
       "      <td>195</td>\n",
       "    </tr>\n",
       "    <tr>\n",
       "      <th>Gross Domestic Product (GDP)</th>\n",
       "      <td>float64</td>\n",
       "      <td>4</td>\n",
       "      <td>185</td>\n",
       "      <td>196</td>\n",
       "    </tr>\n",
       "    <tr>\n",
       "      <th>Industry, value added to GDP</th>\n",
       "      <td>float64</td>\n",
       "      <td>5</td>\n",
       "      <td>187</td>\n",
       "      <td>195</td>\n",
       "    </tr>\n",
       "    <tr>\n",
       "      <th>Long-term average annual precipitation in depth</th>\n",
       "      <td>float64</td>\n",
       "      <td>19</td>\n",
       "      <td>173</td>\n",
       "      <td>181</td>\n",
       "    </tr>\n",
       "    <tr>\n",
       "      <th>Population density</th>\n",
       "      <td>float64</td>\n",
       "      <td>3</td>\n",
       "      <td>197</td>\n",
       "      <td>197</td>\n",
       "    </tr>\n",
       "    <tr>\n",
       "      <th>SDG 6.4.2. Water Stress</th>\n",
       "      <td>float64</td>\n",
       "      <td>23</td>\n",
       "      <td>177</td>\n",
       "      <td>177</td>\n",
       "    </tr>\n",
       "    <tr>\n",
       "      <th>Services, value added to GDP</th>\n",
       "      <td>float64</td>\n",
       "      <td>4</td>\n",
       "      <td>192</td>\n",
       "      <td>196</td>\n",
       "    </tr>\n",
       "    <tr>\n",
       "      <th>Total population</th>\n",
       "      <td>float64</td>\n",
       "      <td>1</td>\n",
       "      <td>199</td>\n",
       "      <td>199</td>\n",
       "    </tr>\n",
       "    <tr>\n",
       "      <th>Total population with access to safe drinking-water (JMP)</th>\n",
       "      <td>float64</td>\n",
       "      <td>6</td>\n",
       "      <td>118</td>\n",
       "      <td>194</td>\n",
       "    </tr>\n",
       "    <tr>\n",
       "      <th>Total renewable water resources</th>\n",
       "      <td>float64</td>\n",
       "      <td>4</td>\n",
       "      <td>178</td>\n",
       "      <td>196</td>\n",
       "    </tr>\n",
       "    <tr>\n",
       "      <th>% of total country area irrigated (%)</th>\n",
       "      <td>float64</td>\n",
       "      <td>23</td>\n",
       "      <td>176</td>\n",
       "      <td>177</td>\n",
       "    </tr>\n",
       "    <tr>\n",
       "      <th>Industry, value added (% GDP)</th>\n",
       "      <td>float64</td>\n",
       "      <td>5</td>\n",
       "      <td>195</td>\n",
       "      <td>195</td>\n",
       "    </tr>\n",
       "    <tr>\n",
       "      <th>Services, value added (% GDP)</th>\n",
       "      <td>float64</td>\n",
       "      <td>4</td>\n",
       "      <td>195</td>\n",
       "      <td>196</td>\n",
       "    </tr>\n",
       "    <tr>\n",
       "      <th>water resource per capita</th>\n",
       "      <td>float64</td>\n",
       "      <td>47</td>\n",
       "      <td>153</td>\n",
       "      <td>153</td>\n",
       "    </tr>\n",
       "  </tbody>\n",
       "</table>\n",
       "</div>"
      ],
      "text/plain": [
       "                                                   DataType  MissingVal  \\\n",
       "Area                                                 object           0   \n",
       "Latitude                                            float64           0   \n",
       "Longitude                                           float64           0   \n",
       "% of cultivated land irrigated [harvested crop]     float64          23   \n",
       "% of total country area cultivated                  float64           3   \n",
       "Agriculture, value added (% GDP)                    float64           6   \n",
       "Environmental Flow Requirements                     float64          47   \n",
       "GDP per capita                                      float64           5   \n",
       "Gross Domestic Product (GDP)                        float64           4   \n",
       "Industry, value added to GDP                        float64           5   \n",
       "Long-term average annual precipitation in depth     float64          19   \n",
       "Population density                                  float64           3   \n",
       "SDG 6.4.2. Water Stress                             float64          23   \n",
       "Services, value added to GDP                        float64           4   \n",
       "Total population                                    float64           1   \n",
       "Total population with access to safe drinking-w...  float64           6   \n",
       "Total renewable water resources                     float64           4   \n",
       "% of total country area irrigated (%)               float64          23   \n",
       "Industry, value added (% GDP)                       float64           5   \n",
       "Services, value added (% GDP)                       float64           4   \n",
       "water resource per capita                           float64          47   \n",
       "\n",
       "                                                    NUnique  Count  \n",
       "Area                                                    200    200  \n",
       "Latitude                                                200    200  \n",
       "Longitude                                               200    200  \n",
       "% of cultivated land irrigated [harvested crop]         176    177  \n",
       "% of total country area cultivated                      196    197  \n",
       "Agriculture, value added (% GDP)                        194    194  \n",
       "Environmental Flow Requirements                         153    153  \n",
       "GDP per capita                                          195    195  \n",
       "Gross Domestic Product (GDP)                            185    196  \n",
       "Industry, value added to GDP                            187    195  \n",
       "Long-term average annual precipitation in depth         173    181  \n",
       "Population density                                      197    197  \n",
       "SDG 6.4.2. Water Stress                                 177    177  \n",
       "Services, value added to GDP                            192    196  \n",
       "Total population                                        199    199  \n",
       "Total population with access to safe drinking-w...      118    194  \n",
       "Total renewable water resources                         178    196  \n",
       "% of total country area irrigated (%)                   176    177  \n",
       "Industry, value added (% GDP)                           195    195  \n",
       "Services, value added (% GDP)                           195    196  \n",
       "water resource per capita                               153    153  "
      ]
     },
     "execution_count": 8,
     "metadata": {},
     "output_type": "execute_result"
    }
   ],
   "source": [
    "df = data.copy()\n",
    "#Data types\n",
    "datadict = pd.DataFrame(df.dtypes)\n",
    "#Missing values\n",
    "datadict['MissingVal'] = df.isnull().sum()\n",
    "#Unique values\n",
    "datadict['NUnique']=df.nunique()\n",
    "#Count of variable\n",
    "datadict['Count']=df.count()\n",
    "#Rename 0 to datatype\n",
    "datadict = datadict.rename(columns={0:'DataType'})\n",
    "datadict"
   ]
  },
  {
   "cell_type": "markdown",
   "metadata": {
    "id": "crdYhibh9Jn8"
   },
   "source": [
    "the distribution of water shortage index"
   ]
  },
  {
   "cell_type": "code",
   "execution_count": 9,
   "metadata": {
    "ExecuteTime": {
     "end_time": "2021-05-31T02:29:19.653176Z",
     "start_time": "2021-05-31T02:29:19.434263Z"
    },
    "id": "EUSIL9fD3oB3",
    "outputId": "e3e690e4-a7eb-4af0-c48c-ef0f53cb048e"
   },
   "outputs": [
    {
     "data": {
      "text/plain": [
       "<AxesSubplot:>"
      ]
     },
     "execution_count": 9,
     "metadata": {},
     "output_type": "execute_result"
    },
    {
     "data": {
      "image/png": "[encoded data removed]",
      "text/plain": [
       "<Figure size 432x288 with 1 Axes>"
      ]
     },
     "metadata": {
      "needs_background": "light"
     },
     "output_type": "display_data"
    }
   ],
   "source": [
    "df['water resource per capita'].hist(grid=False, bins=20)"
   ]
  },
  {
   "cell_type": "markdown",
   "metadata": {
    "id": "W0mDl9r93oB4"
   },
   "source": [
    "right skewed\n",
    "\n",
    "dichotomization:\n",
    "\n",
    "water shortage: water resource per capita<1700 m^3 per person per year"
   ]
  },
  {
   "cell_type": "code",
   "execution_count": 10,
   "metadata": {
    "ExecuteTime": {
     "end_time": "2021-05-31T02:29:20.245464Z",
     "start_time": "2021-05-31T02:29:20.220552Z"
    },
    "hide_input": false,
    "id": "uSVEqy6q3oB4"
   },
   "outputs": [],
   "source": [
    "df['c']=0\n",
    "df['c'][df['water resource per capita']< 1700]=1"
   ]
  },
  {
   "cell_type": "markdown",
   "metadata": {
    "id": "6CYN52OQCHGJ"
   },
   "source": [
    "Delete rows with missing values of water shortage index\n",
    "\n",
    "replace NaN in the predictors with mean"
   ]
  },
  {
   "cell_type": "code",
   "execution_count": 11,
   "metadata": {
    "ExecuteTime": {
     "end_time": "2021-05-31T02:29:20.933713Z",
     "start_time": "2021-05-31T02:29:20.905102Z"
    },
    "id": "xJjCydZMKgly",
    "outputId": "e8ec95cd-2e9f-4933-ba52-8f6ff84a64ce"
   },
   "outputs": [
    {
     "data": {
      "text/plain": [
       "(153, 22)"
      ]
     },
     "execution_count": 11,
     "metadata": {},
     "output_type": "execute_result"
    }
   ],
   "source": [
    "df = df.dropna(axis=0,subset=['water resource per capita'])\n",
    "df = df.fillna(df.mean())\n",
    "df.shape"
   ]
  },
  {
   "cell_type": "code",
   "execution_count": 12,
   "metadata": {
    "ExecuteTime": {
     "end_time": "2021-05-31T02:29:27.490581Z",
     "start_time": "2021-05-31T02:29:21.059846Z"
    },
    "id": "VvKL-UHq3oB6",
    "outputId": "0a4cad65-8c0e-4794-a63f-c79c89ce037f"
   },
   "outputs": [
    {
     "data": {
      "text/plain": [
       "<seaborn.axisgrid.FacetGrid at 0x29cf5e2cf10>"
      ]
     },
     "execution_count": 12,
     "metadata": {},
     "output_type": "execute_result"
    },
    {
     "data": {
      "image/png": "[encoded data removed]",
      "text/plain": [
       "<Figure size 864x864 with 1 Axes>"
      ]
     },
     "metadata": {
      "needs_background": "light"
     },
     "output_type": "display_data"
    }
   ],
   "source": [
    "g = sns.catplot(\n",
    "    data=df, kind=\"bar\", x = \"Area\", y='water resource per capita', \n",
    "    ci=\"sd\", palette=\"icefire\", alpha=.9, height=12)\n",
    "g.set_xticklabels(rotation=53)\n",
    "g.set_axis_labels( \"Area\", 'water resource per capita')"
   ]
  },
  {
   "cell_type": "code",
   "execution_count": 13,
   "metadata": {
    "ExecuteTime": {
     "end_time": "2021-05-31T02:29:27.599761Z",
     "start_time": "2021-05-31T02:29:27.586499Z"
    }
   },
   "outputs": [
    {
     "data": {
      "text/plain": [
       "count       153.000000\n",
       "mean       7331.632203\n",
       "std       19238.740866\n",
       "min          92.265940\n",
       "25%        1020.494949\n",
       "50%        2935.528192\n",
       "75%        7003.236344\n",
       "max      220070.396210\n",
       "Name: water resource per capita, dtype: float64"
      ]
     },
     "execution_count": 13,
     "metadata": {},
     "output_type": "execute_result"
    }
   ],
   "source": [
    "data['water resource per capita'].describe()"
   ]
  },
  {
   "cell_type": "markdown",
   "metadata": {
    "id": "ONul2Sqj3oB8"
   },
   "source": [
    "## Fit a logistic regression model"
   ]
  },
  {
   "cell_type": "markdown",
   "metadata": {},
   "source": [
    "Variable selection procedure: backward elimination based on p-value "
   ]
  },
  {
   "cell_type": "code",
   "execution_count": 14,
   "metadata": {
    "ExecuteTime": {
     "end_time": "2021-05-31T02:29:27.711809Z",
     "start_time": "2021-05-31T02:29:27.697563Z"
    },
    "id": "zmqq2WYI3oB8"
   },
   "outputs": [],
   "source": [
    "x_columns=['Latitude',\n",
    "    'Longitude',\n",
    "    '% of total country area cultivated',\n",
    "    '% of total country area irrigated (%)',\n",
    "    'Long-term average annual precipitation in depth',\n",
    "    'Population density',\n",
    "    'GDP per capita',\n",
    "    'Agriculture, value added (% GDP)',\n",
    "    'Industry, value added (% GDP)',\n",
    "    'Services, value added (% GDP)',]\n",
    "x = df[x_columns]\n",
    "y = df['c']\n",
    "x = sm.add_constant(x)"
   ]
  },
  {
   "cell_type": "code",
   "execution_count": 15,
   "metadata": {
    "ExecuteTime": {
     "end_time": "2021-05-31T02:29:27.855011Z",
     "start_time": "2021-05-31T02:29:27.825091Z"
    },
    "id": "WoYxE5rd3oB9",
    "outputId": "122e1b67-3523-40c2-f5ec-e63f1d7bc145"
   },
   "outputs": [
    {
     "name": "stdout",
     "output_type": "stream",
     "text": [
      "Optimization terminated successfully.\n",
      "         Current function value: 0.391070\n",
      "         Iterations 8\n"
     ]
    },
    {
     "data": {
      "text/html": [
       "<table class=\"simpletable\">\n",
       "<caption>Logit Regression Results</caption>\n",
       "<tr>\n",
       "  <th>Dep. Variable:</th>           <td>c</td>        <th>  No. Observations:  </th>  <td>   153</td>  \n",
       "</tr>\n",
       "<tr>\n",
       "  <th>Model:</th>                 <td>Logit</td>      <th>  Df Residuals:      </th>  <td>   142</td>  \n",
       "</tr>\n",
       "<tr>\n",
       "  <th>Method:</th>                 <td>MLE</td>       <th>  Df Model:          </th>  <td>    10</td>  \n",
       "</tr>\n",
       "<tr>\n",
       "  <th>Date:</th>            <td>Mon, 31 May 2021</td> <th>  Pseudo R-squ.:     </th>  <td>0.4077</td>  \n",
       "</tr>\n",
       "<tr>\n",
       "  <th>Time:</th>                <td>10:29:27</td>     <th>  Log-Likelihood:    </th> <td> -59.834</td> \n",
       "</tr>\n",
       "<tr>\n",
       "  <th>converged:</th>             <td>True</td>       <th>  LL-Null:           </th> <td> -101.03</td> \n",
       "</tr>\n",
       "<tr>\n",
       "  <th>Covariance Type:</th>     <td>nonrobust</td>    <th>  LLR p-value:       </th> <td>1.709e-13</td>\n",
       "</tr>\n",
       "</table>\n",
       "<table class=\"simpletable\">\n",
       "<tr>\n",
       "                         <td></td>                            <th>coef</th>     <th>std err</th>      <th>z</th>      <th>P>|z|</th>  <th>[0.025</th>    <th>0.975]</th>  \n",
       "</tr>\n",
       "<tr>\n",
       "  <th>const</th>                                           <td>  -11.1856</td> <td>    6.055</td> <td>   -1.847</td> <td> 0.065</td> <td>  -23.053</td> <td>    0.681</td>\n",
       "</tr>\n",
       "<tr>\n",
       "  <th>Latitude</th>                                        <td>   -0.0249</td> <td>    0.011</td> <td>   -2.268</td> <td> 0.023</td> <td>   -0.046</td> <td>   -0.003</td>\n",
       "</tr>\n",
       "<tr>\n",
       "  <th>Longitude</th>                                       <td>    0.0032</td> <td>    0.005</td> <td>    0.629</td> <td> 0.529</td> <td>   -0.007</td> <td>    0.013</td>\n",
       "</tr>\n",
       "<tr>\n",
       "  <th>% of total country area cultivated</th>              <td>    0.0391</td> <td>    0.022</td> <td>    1.785</td> <td> 0.074</td> <td>   -0.004</td> <td>    0.082</td>\n",
       "</tr>\n",
       "<tr>\n",
       "  <th>% of total country area irrigated (%)</th>           <td>   -0.1746</td> <td>    0.065</td> <td>   -2.707</td> <td> 0.007</td> <td>   -0.301</td> <td>   -0.048</td>\n",
       "</tr>\n",
       "<tr>\n",
       "  <th>Long-term average annual precipitation in depth</th> <td>   -0.0033</td> <td>    0.001</td> <td>   -5.295</td> <td> 0.000</td> <td>   -0.004</td> <td>   -0.002</td>\n",
       "</tr>\n",
       "<tr>\n",
       "  <th>Population density</th>                              <td>    0.0134</td> <td>    0.003</td> <td>    3.926</td> <td> 0.000</td> <td>    0.007</td> <td>    0.020</td>\n",
       "</tr>\n",
       "<tr>\n",
       "  <th>GDP per capita</th>                                  <td>-1.637e-05</td> <td>  1.8e-05</td> <td>   -0.909</td> <td> 0.363</td> <td>-5.17e-05</td> <td> 1.89e-05</td>\n",
       "</tr>\n",
       "<tr>\n",
       "  <th>Agriculture, value added (% GDP)</th>                <td>    0.1606</td> <td>    0.064</td> <td>    2.521</td> <td> 0.012</td> <td>    0.036</td> <td>    0.286</td>\n",
       "</tr>\n",
       "<tr>\n",
       "  <th>Industry, value added (% GDP)</th>                   <td>    0.1279</td> <td>    0.060</td> <td>    2.118</td> <td> 0.034</td> <td>    0.010</td> <td>    0.246</td>\n",
       "</tr>\n",
       "<tr>\n",
       "  <th>Services, value added (% GDP)</th>                   <td>    0.1362</td> <td>    0.073</td> <td>    1.868</td> <td> 0.062</td> <td>   -0.007</td> <td>    0.279</td>\n",
       "</tr>\n",
       "</table>"
      ],
      "text/plain": [
       "<class 'statsmodels.iolib.summary.Summary'>\n",
       "\"\"\"\n",
       "                           Logit Regression Results                           \n",
       "==============================================================================\n",
       "Dep. Variable:                      c   No. Observations:                  153\n",
       "Model:                          Logit   Df Residuals:                      142\n",
       "Method:                           MLE   Df Model:                           10\n",
       "Date:                Mon, 31 May 2021   Pseudo R-squ.:                  0.4077\n",
       "Time:                        10:29:27   Log-Likelihood:                -59.834\n",
       "converged:                       True   LL-Null:                       -101.03\n",
       "Covariance Type:            nonrobust   LLR p-value:                 1.709e-13\n",
       "===================================================================================================================\n",
       "                                                      coef    std err          z      P>|z|      [0.025      0.975]\n",
       "-------------------------------------------------------------------------------------------------------------------\n",
       "const                                             -11.1856      6.055     -1.847      0.065     -23.053       0.681\n",
       "Latitude                                           -0.0249      0.011     -2.268      0.023      -0.046      -0.003\n",
       "Longitude                                           0.0032      0.005      0.629      0.529      -0.007       0.013\n",
       "% of total country area cultivated                  0.0391      0.022      1.785      0.074      -0.004       0.082\n",
       "% of total country area irrigated (%)              -0.1746      0.065     -2.707      0.007      -0.301      -0.048\n",
       "Long-term average annual precipitation in depth    -0.0033      0.001     -5.295      0.000      -0.004      -0.002\n",
       "Population density                                  0.0134      0.003      3.926      0.000       0.007       0.020\n",
       "GDP per capita                                  -1.637e-05    1.8e-05     -0.909      0.363   -5.17e-05    1.89e-05\n",
       "Agriculture, value added (% GDP)                    0.1606      0.064      2.521      0.012       0.036       0.286\n",
       "Industry, value added (% GDP)                       0.1279      0.060      2.118      0.034       0.010       0.246\n",
       "Services, value added (% GDP)                       0.1362      0.073      1.868      0.062      -0.007       0.279\n",
       "===================================================================================================================\n",
       "\"\"\""
      ]
     },
     "execution_count": 15,
     "metadata": {},
     "output_type": "execute_result"
    }
   ],
   "source": [
    "model = sm.Logit(y,x)\n",
    "result = model.fit()\n",
    "result.summary()"
   ]
  },
  {
   "cell_type": "markdown",
   "metadata": {},
   "source": [
    "remove longitude"
   ]
  },
  {
   "cell_type": "code",
   "execution_count": 16,
   "metadata": {
    "ExecuteTime": {
     "end_time": "2021-05-31T02:29:28.024559Z",
     "start_time": "2021-05-31T02:29:27.995635Z"
    }
   },
   "outputs": [
    {
     "name": "stdout",
     "output_type": "stream",
     "text": [
      "Optimization terminated successfully.\n",
      "         Current function value: 0.392371\n",
      "         Iterations 8\n"
     ]
    },
    {
     "data": {
      "text/html": [
       "<table class=\"simpletable\">\n",
       "<caption>Logit Regression Results</caption>\n",
       "<tr>\n",
       "  <th>Dep. Variable:</th>           <td>c</td>        <th>  No. Observations:  </th>  <td>   153</td>  \n",
       "</tr>\n",
       "<tr>\n",
       "  <th>Model:</th>                 <td>Logit</td>      <th>  Df Residuals:      </th>  <td>   143</td>  \n",
       "</tr>\n",
       "<tr>\n",
       "  <th>Method:</th>                 <td>MLE</td>       <th>  Df Model:          </th>  <td>     9</td>  \n",
       "</tr>\n",
       "<tr>\n",
       "  <th>Date:</th>            <td>Mon, 31 May 2021</td> <th>  Pseudo R-squ.:     </th>  <td>0.4058</td>  \n",
       "</tr>\n",
       "<tr>\n",
       "  <th>Time:</th>                <td>10:29:28</td>     <th>  Log-Likelihood:    </th> <td> -60.033</td> \n",
       "</tr>\n",
       "<tr>\n",
       "  <th>converged:</th>             <td>True</td>       <th>  LL-Null:           </th> <td> -101.03</td> \n",
       "</tr>\n",
       "<tr>\n",
       "  <th>Covariance Type:</th>     <td>nonrobust</td>    <th>  LLR p-value:       </th> <td>6.510e-14</td>\n",
       "</tr>\n",
       "</table>\n",
       "<table class=\"simpletable\">\n",
       "<tr>\n",
       "                         <td></td>                            <th>coef</th>     <th>std err</th>      <th>z</th>      <th>P>|z|</th>  <th>[0.025</th>    <th>0.975]</th>  \n",
       "</tr>\n",
       "<tr>\n",
       "  <th>const</th>                                           <td>  -10.8273</td> <td>    5.971</td> <td>   -1.813</td> <td> 0.070</td> <td>  -22.530</td> <td>    0.875</td>\n",
       "</tr>\n",
       "<tr>\n",
       "  <th>Latitude</th>                                        <td>   -0.0244</td> <td>    0.011</td> <td>   -2.229</td> <td> 0.026</td> <td>   -0.046</td> <td>   -0.003</td>\n",
       "</tr>\n",
       "<tr>\n",
       "  <th>% of total country area cultivated</th>              <td>    0.0372</td> <td>    0.022</td> <td>    1.719</td> <td> 0.086</td> <td>   -0.005</td> <td>    0.080</td>\n",
       "</tr>\n",
       "<tr>\n",
       "  <th>% of total country area irrigated (%)</th>           <td>   -0.1626</td> <td>    0.061</td> <td>   -2.655</td> <td> 0.008</td> <td>   -0.283</td> <td>   -0.043</td>\n",
       "</tr>\n",
       "<tr>\n",
       "  <th>Long-term average annual precipitation in depth</th> <td>   -0.0033</td> <td>    0.001</td> <td>   -5.366</td> <td> 0.000</td> <td>   -0.005</td> <td>   -0.002</td>\n",
       "</tr>\n",
       "<tr>\n",
       "  <th>Population density</th>                              <td>    0.0135</td> <td>    0.003</td> <td>    3.940</td> <td> 0.000</td> <td>    0.007</td> <td>    0.020</td>\n",
       "</tr>\n",
       "<tr>\n",
       "  <th>GDP per capita</th>                                  <td>-1.547e-05</td> <td> 1.79e-05</td> <td>   -0.864</td> <td> 0.388</td> <td>-5.06e-05</td> <td> 1.96e-05</td>\n",
       "</tr>\n",
       "<tr>\n",
       "  <th>Agriculture, value added (% GDP)</th>                <td>    0.1594</td> <td>    0.063</td> <td>    2.530</td> <td> 0.011</td> <td>    0.036</td> <td>    0.283</td>\n",
       "</tr>\n",
       "<tr>\n",
       "  <th>Industry, value added (% GDP)</th>                   <td>    0.1284</td> <td>    0.060</td> <td>    2.136</td> <td> 0.033</td> <td>    0.011</td> <td>    0.246</td>\n",
       "</tr>\n",
       "<tr>\n",
       "  <th>Services, value added (% GDP)</th>                   <td>    0.1314</td> <td>    0.072</td> <td>    1.833</td> <td> 0.067</td> <td>   -0.009</td> <td>    0.272</td>\n",
       "</tr>\n",
       "</table>"
      ],
      "text/plain": [
       "<class 'statsmodels.iolib.summary.Summary'>\n",
       "\"\"\"\n",
       "                           Logit Regression Results                           \n",
       "==============================================================================\n",
       "Dep. Variable:                      c   No. Observations:                  153\n",
       "Model:                          Logit   Df Residuals:                      143\n",
       "Method:                           MLE   Df Model:                            9\n",
       "Date:                Mon, 31 May 2021   Pseudo R-squ.:                  0.4058\n",
       "Time:                        10:29:28   Log-Likelihood:                -60.033\n",
       "converged:                       True   LL-Null:                       -101.03\n",
       "Covariance Type:            nonrobust   LLR p-value:                 6.510e-14\n",
       "===================================================================================================================\n",
       "                                                      coef    std err          z      P>|z|      [0.025      0.975]\n",
       "-------------------------------------------------------------------------------------------------------------------\n",
       "const                                             -10.8273      5.971     -1.813      0.070     -22.530       0.875\n",
       "Latitude                                           -0.0244      0.011     -2.229      0.026      -0.046      -0.003\n",
       "% of total country area cultivated                  0.0372      0.022      1.719      0.086      -0.005       0.080\n",
       "% of total country area irrigated (%)              -0.1626      0.061     -2.655      0.008      -0.283      -0.043\n",
       "Long-term average annual precipitation in depth    -0.0033      0.001     -5.366      0.000      -0.005      -0.002\n",
       "Population density                                  0.0135      0.003      3.940      0.000       0.007       0.020\n",
       "GDP per capita                                  -1.547e-05   1.79e-05     -0.864      0.388   -5.06e-05    1.96e-05\n",
       "Agriculture, value added (% GDP)                    0.1594      0.063      2.530      0.011       0.036       0.283\n",
       "Industry, value added (% GDP)                       0.1284      0.060      2.136      0.033       0.011       0.246\n",
       "Services, value added (% GDP)                       0.1314      0.072      1.833      0.067      -0.009       0.272\n",
       "===================================================================================================================\n",
       "\"\"\""
      ]
     },
     "execution_count": 16,
     "metadata": {},
     "output_type": "execute_result"
    }
   ],
   "source": [
    "x_columns.remove('Longitude')\n",
    "x = df[x_columns]\n",
    "y = df['c']\n",
    "x = sm.add_constant(x)\n",
    "model = sm.Logit(y,x)\n",
    "result = model.fit()\n",
    "result.summary()"
   ]
  },
  {
   "cell_type": "markdown",
   "metadata": {},
   "source": [
    "remove GDP per captia"
   ]
  },
  {
   "cell_type": "code",
   "execution_count": 17,
   "metadata": {
    "ExecuteTime": {
     "end_time": "2021-05-31T02:29:28.195102Z",
     "start_time": "2021-05-31T02:29:28.152218Z"
    }
   },
   "outputs": [
    {
     "name": "stdout",
     "output_type": "stream",
     "text": [
      "Optimization terminated successfully.\n",
      "         Current function value: 0.394936\n",
      "         Iterations 7\n"
     ]
    },
    {
     "data": {
      "text/html": [
       "<table class=\"simpletable\">\n",
       "<caption>Logit Regression Results</caption>\n",
       "<tr>\n",
       "  <th>Dep. Variable:</th>           <td>c</td>        <th>  No. Observations:  </th>  <td>   153</td>  \n",
       "</tr>\n",
       "<tr>\n",
       "  <th>Model:</th>                 <td>Logit</td>      <th>  Df Residuals:      </th>  <td>   144</td>  \n",
       "</tr>\n",
       "<tr>\n",
       "  <th>Method:</th>                 <td>MLE</td>       <th>  Df Model:          </th>  <td>     8</td>  \n",
       "</tr>\n",
       "<tr>\n",
       "  <th>Date:</th>            <td>Mon, 31 May 2021</td> <th>  Pseudo R-squ.:     </th>  <td>0.4019</td>  \n",
       "</tr>\n",
       "<tr>\n",
       "  <th>Time:</th>                <td>10:29:28</td>     <th>  Log-Likelihood:    </th> <td> -60.425</td> \n",
       "</tr>\n",
       "<tr>\n",
       "  <th>converged:</th>             <td>True</td>       <th>  LL-Null:           </th> <td> -101.03</td> \n",
       "</tr>\n",
       "<tr>\n",
       "  <th>Covariance Type:</th>     <td>nonrobust</td>    <th>  LLR p-value:       </th> <td>2.801e-14</td>\n",
       "</tr>\n",
       "</table>\n",
       "<table class=\"simpletable\">\n",
       "<tr>\n",
       "                         <td></td>                            <th>coef</th>     <th>std err</th>      <th>z</th>      <th>P>|z|</th>  <th>[0.025</th>    <th>0.975]</th>  \n",
       "</tr>\n",
       "<tr>\n",
       "  <th>const</th>                                           <td>   -9.9414</td> <td>    5.833</td> <td>   -1.704</td> <td> 0.088</td> <td>  -21.374</td> <td>    1.491</td>\n",
       "</tr>\n",
       "<tr>\n",
       "  <th>Latitude</th>                                        <td>   -0.0276</td> <td>    0.010</td> <td>   -2.683</td> <td> 0.007</td> <td>   -0.048</td> <td>   -0.007</td>\n",
       "</tr>\n",
       "<tr>\n",
       "  <th>% of total country area cultivated</th>              <td>    0.0412</td> <td>    0.021</td> <td>    1.962</td> <td> 0.050</td> <td> 3.98e-05</td> <td>    0.082</td>\n",
       "</tr>\n",
       "<tr>\n",
       "  <th>% of total country area irrigated (%)</th>           <td>   -0.1530</td> <td>    0.060</td> <td>   -2.559</td> <td> 0.010</td> <td>   -0.270</td> <td>   -0.036</td>\n",
       "</tr>\n",
       "<tr>\n",
       "  <th>Long-term average annual precipitation in depth</th> <td>   -0.0034</td> <td>    0.001</td> <td>   -5.462</td> <td> 0.000</td> <td>   -0.005</td> <td>   -0.002</td>\n",
       "</tr>\n",
       "<tr>\n",
       "  <th>Population density</th>                              <td>    0.0129</td> <td>    0.003</td> <td>    3.904</td> <td> 0.000</td> <td>    0.006</td> <td>    0.019</td>\n",
       "</tr>\n",
       "<tr>\n",
       "  <th>Agriculture, value added (% GDP)</th>                <td>    0.1564</td> <td>    0.062</td> <td>    2.526</td> <td> 0.012</td> <td>    0.035</td> <td>    0.278</td>\n",
       "</tr>\n",
       "<tr>\n",
       "  <th>Industry, value added (% GDP)</th>                   <td>    0.1277</td> <td>    0.060</td> <td>    2.129</td> <td> 0.033</td> <td>    0.010</td> <td>    0.245</td>\n",
       "</tr>\n",
       "<tr>\n",
       "  <th>Services, value added (% GDP)</th>                   <td>    0.1138</td> <td>    0.068</td> <td>    1.676</td> <td> 0.094</td> <td>   -0.019</td> <td>    0.247</td>\n",
       "</tr>\n",
       "</table>"
      ],
      "text/plain": [
       "<class 'statsmodels.iolib.summary.Summary'>\n",
       "\"\"\"\n",
       "                           Logit Regression Results                           \n",
       "==============================================================================\n",
       "Dep. Variable:                      c   No. Observations:                  153\n",
       "Model:                          Logit   Df Residuals:                      144\n",
       "Method:                           MLE   Df Model:                            8\n",
       "Date:                Mon, 31 May 2021   Pseudo R-squ.:                  0.4019\n",
       "Time:                        10:29:28   Log-Likelihood:                -60.425\n",
       "converged:                       True   LL-Null:                       -101.03\n",
       "Covariance Type:            nonrobust   LLR p-value:                 2.801e-14\n",
       "===================================================================================================================\n",
       "                                                      coef    std err          z      P>|z|      [0.025      0.975]\n",
       "-------------------------------------------------------------------------------------------------------------------\n",
       "const                                              -9.9414      5.833     -1.704      0.088     -21.374       1.491\n",
       "Latitude                                           -0.0276      0.010     -2.683      0.007      -0.048      -0.007\n",
       "% of total country area cultivated                  0.0412      0.021      1.962      0.050    3.98e-05       0.082\n",
       "% of total country area irrigated (%)              -0.1530      0.060     -2.559      0.010      -0.270      -0.036\n",
       "Long-term average annual precipitation in depth    -0.0034      0.001     -5.462      0.000      -0.005      -0.002\n",
       "Population density                                  0.0129      0.003      3.904      0.000       0.006       0.019\n",
       "Agriculture, value added (% GDP)                    0.1564      0.062      2.526      0.012       0.035       0.278\n",
       "Industry, value added (% GDP)                       0.1277      0.060      2.129      0.033       0.010       0.245\n",
       "Services, value added (% GDP)                       0.1138      0.068      1.676      0.094      -0.019       0.247\n",
       "===================================================================================================================\n",
       "\"\"\""
      ]
     },
     "execution_count": 17,
     "metadata": {},
     "output_type": "execute_result"
    }
   ],
   "source": [
    "x_columns.remove('GDP per capita')\n",
    "x=df[x_columns]\n",
    "y=df['c']\n",
    "x = sm.add_constant(x)\n",
    "model = sm.Logit(y,x)\n",
    "result = model.fit()\n",
    "result.summary()"
   ]
  },
  {
   "cell_type": "markdown",
   "metadata": {},
   "source": [
    "remove Services, value added (% GDP)"
   ]
  },
  {
   "cell_type": "code",
   "execution_count": 18,
   "metadata": {
    "ExecuteTime": {
     "end_time": "2021-05-31T02:29:28.366645Z",
     "start_time": "2021-05-31T02:29:28.321764Z"
    }
   },
   "outputs": [
    {
     "name": "stdout",
     "output_type": "stream",
     "text": [
      "Optimization terminated successfully.\n",
      "         Current function value: 0.404214\n",
      "         Iterations 7\n"
     ]
    },
    {
     "data": {
      "text/html": [
       "<table class=\"simpletable\">\n",
       "<caption>Logit Regression Results</caption>\n",
       "<tr>\n",
       "  <th>Dep. Variable:</th>           <td>c</td>        <th>  No. Observations:  </th>  <td>   153</td>  \n",
       "</tr>\n",
       "<tr>\n",
       "  <th>Model:</th>                 <td>Logit</td>      <th>  Df Residuals:      </th>  <td>   145</td>  \n",
       "</tr>\n",
       "<tr>\n",
       "  <th>Method:</th>                 <td>MLE</td>       <th>  Df Model:          </th>  <td>     7</td>  \n",
       "</tr>\n",
       "<tr>\n",
       "  <th>Date:</th>            <td>Mon, 31 May 2021</td> <th>  Pseudo R-squ.:     </th>  <td>0.3878</td>  \n",
       "</tr>\n",
       "<tr>\n",
       "  <th>Time:</th>                <td>10:29:28</td>     <th>  Log-Likelihood:    </th> <td> -61.845</td> \n",
       "</tr>\n",
       "<tr>\n",
       "  <th>converged:</th>             <td>True</td>       <th>  LL-Null:           </th> <td> -101.03</td> \n",
       "</tr>\n",
       "<tr>\n",
       "  <th>Covariance Type:</th>     <td>nonrobust</td>    <th>  LLR p-value:       </th> <td>2.971e-14</td>\n",
       "</tr>\n",
       "</table>\n",
       "<table class=\"simpletable\">\n",
       "<tr>\n",
       "                         <td></td>                            <th>coef</th>     <th>std err</th>      <th>z</th>      <th>P>|z|</th>  <th>[0.025</th>    <th>0.975]</th>  \n",
       "</tr>\n",
       "<tr>\n",
       "  <th>const</th>                                           <td>   -0.3262</td> <td>    1.020</td> <td>   -0.320</td> <td> 0.749</td> <td>   -2.325</td> <td>    1.673</td>\n",
       "</tr>\n",
       "<tr>\n",
       "  <th>Latitude</th>                                        <td>   -0.0267</td> <td>    0.010</td> <td>   -2.640</td> <td> 0.008</td> <td>   -0.047</td> <td>   -0.007</td>\n",
       "</tr>\n",
       "<tr>\n",
       "  <th>% of total country area cultivated</th>              <td>    0.0291</td> <td>    0.020</td> <td>    1.490</td> <td> 0.136</td> <td>   -0.009</td> <td>    0.067</td>\n",
       "</tr>\n",
       "<tr>\n",
       "  <th>% of total country area irrigated (%)</th>           <td>   -0.1496</td> <td>    0.059</td> <td>   -2.549</td> <td> 0.011</td> <td>   -0.265</td> <td>   -0.035</td>\n",
       "</tr>\n",
       "<tr>\n",
       "  <th>Long-term average annual precipitation in depth</th> <td>   -0.0032</td> <td>    0.001</td> <td>   -5.424</td> <td> 0.000</td> <td>   -0.004</td> <td>   -0.002</td>\n",
       "</tr>\n",
       "<tr>\n",
       "  <th>Population density</th>                              <td>    0.0136</td> <td>    0.003</td> <td>    3.999</td> <td> 0.000</td> <td>    0.007</td> <td>    0.020</td>\n",
       "</tr>\n",
       "<tr>\n",
       "  <th>Agriculture, value added (% GDP)</th>                <td>    0.0604</td> <td>    0.021</td> <td>    2.814</td> <td> 0.005</td> <td>    0.018</td> <td>    0.102</td>\n",
       "</tr>\n",
       "<tr>\n",
       "  <th>Industry, value added (% GDP)</th>                   <td>    0.0407</td> <td>    0.028</td> <td>    1.478</td> <td> 0.139</td> <td>   -0.013</td> <td>    0.095</td>\n",
       "</tr>\n",
       "</table>"
      ],
      "text/plain": [
       "<class 'statsmodels.iolib.summary.Summary'>\n",
       "\"\"\"\n",
       "                           Logit Regression Results                           \n",
       "==============================================================================\n",
       "Dep. Variable:                      c   No. Observations:                  153\n",
       "Model:                          Logit   Df Residuals:                      145\n",
       "Method:                           MLE   Df Model:                            7\n",
       "Date:                Mon, 31 May 2021   Pseudo R-squ.:                  0.3878\n",
       "Time:                        10:29:28   Log-Likelihood:                -61.845\n",
       "converged:                       True   LL-Null:                       -101.03\n",
       "Covariance Type:            nonrobust   LLR p-value:                 2.971e-14\n",
       "===================================================================================================================\n",
       "                                                      coef    std err          z      P>|z|      [0.025      0.975]\n",
       "-------------------------------------------------------------------------------------------------------------------\n",
       "const                                              -0.3262      1.020     -0.320      0.749      -2.325       1.673\n",
       "Latitude                                           -0.0267      0.010     -2.640      0.008      -0.047      -0.007\n",
       "% of total country area cultivated                  0.0291      0.020      1.490      0.136      -0.009       0.067\n",
       "% of total country area irrigated (%)              -0.1496      0.059     -2.549      0.011      -0.265      -0.035\n",
       "Long-term average annual precipitation in depth    -0.0032      0.001     -5.424      0.000      -0.004      -0.002\n",
       "Population density                                  0.0136      0.003      3.999      0.000       0.007       0.020\n",
       "Agriculture, value added (% GDP)                    0.0604      0.021      2.814      0.005       0.018       0.102\n",
       "Industry, value added (% GDP)                       0.0407      0.028      1.478      0.139      -0.013       0.095\n",
       "===================================================================================================================\n",
       "\"\"\""
      ]
     },
     "execution_count": 18,
     "metadata": {},
     "output_type": "execute_result"
    }
   ],
   "source": [
    "x_columns.remove('Services, value added (% GDP)')\n",
    "x=df[x_columns]\n",
    "y=df['c']\n",
    "x = sm.add_constant(x)\n",
    "model = sm.Logit(y,x)\n",
    "result = model.fit()\n",
    "result.summary()"
   ]
  },
  {
   "cell_type": "markdown",
   "metadata": {},
   "source": [
    "remove Industry, value added (% GDP)"
   ]
  },
  {
   "cell_type": "code",
   "execution_count": 19,
   "metadata": {
    "ExecuteTime": {
     "end_time": "2021-05-31T02:29:28.522227Z",
     "start_time": "2021-05-31T02:29:28.477348Z"
    }
   },
   "outputs": [
    {
     "name": "stdout",
     "output_type": "stream",
     "text": [
      "Optimization terminated successfully.\n",
      "         Current function value: 0.411525\n",
      "         Iterations 7\n"
     ]
    },
    {
     "data": {
      "text/html": [
       "<table class=\"simpletable\">\n",
       "<caption>Logit Regression Results</caption>\n",
       "<tr>\n",
       "  <th>Dep. Variable:</th>           <td>c</td>        <th>  No. Observations:  </th>  <td>   153</td>  \n",
       "</tr>\n",
       "<tr>\n",
       "  <th>Model:</th>                 <td>Logit</td>      <th>  Df Residuals:      </th>  <td>   146</td>  \n",
       "</tr>\n",
       "<tr>\n",
       "  <th>Method:</th>                 <td>MLE</td>       <th>  Df Model:          </th>  <td>     6</td>  \n",
       "</tr>\n",
       "<tr>\n",
       "  <th>Date:</th>            <td>Mon, 31 May 2021</td> <th>  Pseudo R-squ.:     </th>  <td>0.3768</td>  \n",
       "</tr>\n",
       "<tr>\n",
       "  <th>Time:</th>                <td>10:29:28</td>     <th>  Log-Likelihood:    </th> <td> -62.963</td> \n",
       "</tr>\n",
       "<tr>\n",
       "  <th>converged:</th>             <td>True</td>       <th>  LL-Null:           </th> <td> -101.03</td> \n",
       "</tr>\n",
       "<tr>\n",
       "  <th>Covariance Type:</th>     <td>nonrobust</td>    <th>  LLR p-value:       </th> <td>2.252e-14</td>\n",
       "</tr>\n",
       "</table>\n",
       "<table class=\"simpletable\">\n",
       "<tr>\n",
       "                         <td></td>                            <th>coef</th>     <th>std err</th>      <th>z</th>      <th>P>|z|</th>  <th>[0.025</th>    <th>0.975]</th>  \n",
       "</tr>\n",
       "<tr>\n",
       "  <th>const</th>                                           <td>    0.9030</td> <td>    0.593</td> <td>    1.522</td> <td> 0.128</td> <td>   -0.260</td> <td>    2.066</td>\n",
       "</tr>\n",
       "<tr>\n",
       "  <th>Latitude</th>                                        <td>   -0.0266</td> <td>    0.010</td> <td>   -2.675</td> <td> 0.007</td> <td>   -0.046</td> <td>   -0.007</td>\n",
       "</tr>\n",
       "<tr>\n",
       "  <th>% of total country area cultivated</th>              <td>    0.0204</td> <td>    0.018</td> <td>    1.119</td> <td> 0.263</td> <td>   -0.015</td> <td>    0.056</td>\n",
       "</tr>\n",
       "<tr>\n",
       "  <th>% of total country area irrigated (%)</th>           <td>   -0.1273</td> <td>    0.057</td> <td>   -2.233</td> <td> 0.026</td> <td>   -0.239</td> <td>   -0.016</td>\n",
       "</tr>\n",
       "<tr>\n",
       "  <th>Long-term average annual precipitation in depth</th> <td>   -0.0031</td> <td>    0.001</td> <td>   -5.369</td> <td> 0.000</td> <td>   -0.004</td> <td>   -0.002</td>\n",
       "</tr>\n",
       "<tr>\n",
       "  <th>Population density</th>                              <td>    0.0131</td> <td>    0.003</td> <td>    3.857</td> <td> 0.000</td> <td>    0.006</td> <td>    0.020</td>\n",
       "</tr>\n",
       "<tr>\n",
       "  <th>Agriculture, value added (% GDP)</th>                <td>    0.0503</td> <td>    0.020</td> <td>    2.537</td> <td> 0.011</td> <td>    0.011</td> <td>    0.089</td>\n",
       "</tr>\n",
       "</table>"
      ],
      "text/plain": [
       "<class 'statsmodels.iolib.summary.Summary'>\n",
       "\"\"\"\n",
       "                           Logit Regression Results                           \n",
       "==============================================================================\n",
       "Dep. Variable:                      c   No. Observations:                  153\n",
       "Model:                          Logit   Df Residuals:                      146\n",
       "Method:                           MLE   Df Model:                            6\n",
       "Date:                Mon, 31 May 2021   Pseudo R-squ.:                  0.3768\n",
       "Time:                        10:29:28   Log-Likelihood:                -62.963\n",
       "converged:                       True   LL-Null:                       -101.03\n",
       "Covariance Type:            nonrobust   LLR p-value:                 2.252e-14\n",
       "===================================================================================================================\n",
       "                                                      coef    std err          z      P>|z|      [0.025      0.975]\n",
       "-------------------------------------------------------------------------------------------------------------------\n",
       "const                                               0.9030      0.593      1.522      0.128      -0.260       2.066\n",
       "Latitude                                           -0.0266      0.010     -2.675      0.007      -0.046      -0.007\n",
       "% of total country area cultivated                  0.0204      0.018      1.119      0.263      -0.015       0.056\n",
       "% of total country area irrigated (%)              -0.1273      0.057     -2.233      0.026      -0.239      -0.016\n",
       "Long-term average annual precipitation in depth    -0.0031      0.001     -5.369      0.000      -0.004      -0.002\n",
       "Population density                                  0.0131      0.003      3.857      0.000       0.006       0.020\n",
       "Agriculture, value added (% GDP)                    0.0503      0.020      2.537      0.011       0.011       0.089\n",
       "===================================================================================================================\n",
       "\"\"\""
      ]
     },
     "execution_count": 19,
     "metadata": {},
     "output_type": "execute_result"
    }
   ],
   "source": [
    "x_columns.remove('Industry, value added (% GDP)')\n",
    "x=df[x_columns]\n",
    "y=df['c']\n",
    "x = sm.add_constant(x)\n",
    "model = sm.Logit(y,x)\n",
    "result = model.fit()\n",
    "result.summary()"
   ]
  },
  {
   "cell_type": "markdown",
   "metadata": {},
   "source": [
    "remove % of total country area cultivated"
   ]
  },
  {
   "cell_type": "code",
   "execution_count": 20,
   "metadata": {
    "ExecuteTime": {
     "end_time": "2021-05-31T02:29:28.663850Z",
     "start_time": "2021-05-31T02:29:28.634928Z"
    }
   },
   "outputs": [
    {
     "name": "stdout",
     "output_type": "stream",
     "text": [
      "Optimization terminated successfully.\n",
      "         Current function value: 0.415693\n",
      "         Iterations 7\n"
     ]
    },
    {
     "data": {
      "text/html": [
       "<table class=\"simpletable\">\n",
       "<caption>Logit Regression Results</caption>\n",
       "<tr>\n",
       "  <th>Dep. Variable:</th>           <td>c</td>        <th>  No. Observations:  </th>  <td>   153</td>  \n",
       "</tr>\n",
       "<tr>\n",
       "  <th>Model:</th>                 <td>Logit</td>      <th>  Df Residuals:      </th>  <td>   147</td>  \n",
       "</tr>\n",
       "<tr>\n",
       "  <th>Method:</th>                 <td>MLE</td>       <th>  Df Model:          </th>  <td>     5</td>  \n",
       "</tr>\n",
       "<tr>\n",
       "  <th>Date:</th>            <td>Mon, 31 May 2021</td> <th>  Pseudo R-squ.:     </th>  <td>0.3704</td>  \n",
       "</tr>\n",
       "<tr>\n",
       "  <th>Time:</th>                <td>10:29:28</td>     <th>  Log-Likelihood:    </th> <td> -63.601</td> \n",
       "</tr>\n",
       "<tr>\n",
       "  <th>converged:</th>             <td>True</td>       <th>  LL-Null:           </th> <td> -101.03</td> \n",
       "</tr>\n",
       "<tr>\n",
       "  <th>Covariance Type:</th>     <td>nonrobust</td>    <th>  LLR p-value:       </th> <td>1.000e-14</td>\n",
       "</tr>\n",
       "</table>\n",
       "<table class=\"simpletable\">\n",
       "<tr>\n",
       "                         <td></td>                            <th>coef</th>     <th>std err</th>      <th>z</th>      <th>P>|z|</th>  <th>[0.025</th>    <th>0.975]</th>  \n",
       "</tr>\n",
       "<tr>\n",
       "  <th>const</th>                                           <td>    1.1068</td> <td>    0.568</td> <td>    1.950</td> <td> 0.051</td> <td>   -0.006</td> <td>    2.219</td>\n",
       "</tr>\n",
       "<tr>\n",
       "  <th>Latitude</th>                                        <td>   -0.0238</td> <td>    0.009</td> <td>   -2.515</td> <td> 0.012</td> <td>   -0.042</td> <td>   -0.005</td>\n",
       "</tr>\n",
       "<tr>\n",
       "  <th>% of total country area irrigated (%)</th>           <td>   -0.1296</td> <td>    0.057</td> <td>   -2.287</td> <td> 0.022</td> <td>   -0.241</td> <td>   -0.019</td>\n",
       "</tr>\n",
       "<tr>\n",
       "  <th>Long-term average annual precipitation in depth</th> <td>   -0.0031</td> <td>    0.001</td> <td>   -5.382</td> <td> 0.000</td> <td>   -0.004</td> <td>   -0.002</td>\n",
       "</tr>\n",
       "<tr>\n",
       "  <th>Population density</th>                              <td>    0.0145</td> <td>    0.003</td> <td>    4.389</td> <td> 0.000</td> <td>    0.008</td> <td>    0.021</td>\n",
       "</tr>\n",
       "<tr>\n",
       "  <th>Agriculture, value added (% GDP)</th>                <td>    0.0515</td> <td>    0.020</td> <td>    2.624</td> <td> 0.009</td> <td>    0.013</td> <td>    0.090</td>\n",
       "</tr>\n",
       "</table>"
      ],
      "text/plain": [
       "<class 'statsmodels.iolib.summary.Summary'>\n",
       "\"\"\"\n",
       "                           Logit Regression Results                           \n",
       "==============================================================================\n",
       "Dep. Variable:                      c   No. Observations:                  153\n",
       "Model:                          Logit   Df Residuals:                      147\n",
       "Method:                           MLE   Df Model:                            5\n",
       "Date:                Mon, 31 May 2021   Pseudo R-squ.:                  0.3704\n",
       "Time:                        10:29:28   Log-Likelihood:                -63.601\n",
       "converged:                       True   LL-Null:                       -101.03\n",
       "Covariance Type:            nonrobust   LLR p-value:                 1.000e-14\n",
       "===================================================================================================================\n",
       "                                                      coef    std err          z      P>|z|      [0.025      0.975]\n",
       "-------------------------------------------------------------------------------------------------------------------\n",
       "const                                               1.1068      0.568      1.950      0.051      -0.006       2.219\n",
       "Latitude                                           -0.0238      0.009     -2.515      0.012      -0.042      -0.005\n",
       "% of total country area irrigated (%)              -0.1296      0.057     -2.287      0.022      -0.241      -0.019\n",
       "Long-term average annual precipitation in depth    -0.0031      0.001     -5.382      0.000      -0.004      -0.002\n",
       "Population density                                  0.0145      0.003      4.389      0.000       0.008       0.021\n",
       "Agriculture, value added (% GDP)                    0.0515      0.020      2.624      0.009       0.013       0.090\n",
       "===================================================================================================================\n",
       "\"\"\""
      ]
     },
     "execution_count": 20,
     "metadata": {},
     "output_type": "execute_result"
    }
   ],
   "source": [
    "x_columns.remove('% of total country area cultivated')\n",
    "x=df[x_columns]\n",
    "x = sm.add_constant(x)\n",
    "model = sm.Logit(y,x)\n",
    "result = model.fit()\n",
    "result.summary()"
   ]
  },
  {
   "cell_type": "markdown",
   "metadata": {},
   "source": [
    "predicted accuracy"
   ]
  },
  {
   "cell_type": "code",
   "execution_count": 21,
   "metadata": {
    "ExecuteTime": {
     "end_time": "2021-05-31T02:29:30.006805Z",
     "start_time": "2021-05-31T02:29:28.788516Z"
    }
   },
   "outputs": [
    {
     "data": {
      "text/plain": [
       "0.8235294117647058"
      ]
     },
     "execution_count": 21,
     "metadata": {},
     "output_type": "execute_result"
    }
   ],
   "source": [
    "from sklearn.metrics import accuracy_score\n",
    "accuracy_score(y,round(result.predict(x)))"
   ]
  },
  {
   "cell_type": "markdown",
   "metadata": {},
   "source": [
    "the likelihood of a water shortage "
   ]
  },
  {
   "cell_type": "code",
   "execution_count": 22,
   "metadata": {
    "ExecuteTime": {
     "end_time": "2021-05-31T02:29:30.131968Z",
     "start_time": "2021-05-31T02:29:30.118487Z"
    }
   },
   "outputs": [],
   "source": [
    "df['likelihood'] = result.predict(x)"
   ]
  },
  {
   "cell_type": "markdown",
   "metadata": {},
   "source": [
    "## Divide the water shortage indicator into 4 risk levels"
   ]
  },
  {
   "cell_type": "code",
   "execution_count": 25,
   "metadata": {
    "ExecuteTime": {
     "end_time": "2021-05-31T02:29:30.558394Z",
     "start_time": "2021-05-31T02:29:30.515160Z"
    }
   },
   "outputs": [],
   "source": [
    "category = pd.cut(aquastat['water resource per capita'],bins=[0,500,1000,1700,220071],labels=['3','2','1','0'])\n",
    "aquastat.insert(21,'c of shortage',category)"
   ]
  },
  {
   "cell_type": "code",
   "execution_count": 26,
   "metadata": {
    "ExecuteTime": {
     "end_time": "2021-05-31T02:29:30.701164Z",
     "start_time": "2021-05-31T02:29:30.672836Z"
    }
   },
   "outputs": [],
   "source": [
    "data = data.dropna(axis=0,subset=['water resource per capita'])\n",
    "data = data.fillna(df.mean())"
   ]
  },
  {
   "cell_type": "code",
   "execution_count": 27,
   "metadata": {
    "ExecuteTime": {
     "end_time": "2021-05-31T02:29:30.811129Z",
     "start_time": "2021-05-31T02:29:30.797257Z"
    }
   },
   "outputs": [
    {
     "data": {
      "text/plain": [
       "array([1, 0, 3, 2], dtype=int64)"
      ]
     },
     "execution_count": 27,
     "metadata": {},
     "output_type": "execute_result"
    }
   ],
   "source": [
    "data['c of shortage'].unique()"
   ]
  },
  {
   "cell_type": "code",
   "execution_count": 28,
   "metadata": {
    "ExecuteTime": {
     "end_time": "2021-05-31T02:29:30.936681Z",
     "start_time": "2021-05-31T02:29:30.925711Z"
    }
   },
   "outputs": [],
   "source": [
    "x_columns=['Latitude',\n",
    "    'Longitude',\n",
    "    '% of total country area cultivated',\n",
    "    '% of total country area irrigated (%)',\n",
    "    'Long-term average annual precipitation in depth',\n",
    "    'Population density',\n",
    "    'GDP per capita',\n",
    "    'Agriculture, value added (% GDP)',\n",
    "    'Industry, value added (% GDP)',\n",
    "    'Services, value added (% GDP)']\n",
    "x=data[x_columns]\n",
    "y=data['c of shortage']"
   ]
  },
  {
   "cell_type": "code",
   "execution_count": 29,
   "metadata": {
    "ExecuteTime": {
     "end_time": "2021-05-31T02:29:44.801353Z",
     "start_time": "2021-05-31T02:29:31.034896Z"
    }
   },
   "outputs": [
    {
     "name": "stdout",
     "output_type": "stream",
     "text": [
      "Best params:\n",
      "{'classifier': KNeighborsClassifier(leaf_size=10, n_neighbors=10), 'classifier__leaf_size': 10, 'classifier__n_neighbors': 10}\n",
      "\n",
      "Best cross-validation score: 0.65\n"
     ]
    }
   ],
   "source": [
    "from sklearn.pipeline import Pipeline\n",
    "from sklearn.model_selection import train_test_split,GridSearchCV\n",
    "from sklearn.ensemble import RandomForestClassifier\n",
    "from sklearn.linear_model import LogisticRegression\n",
    "from sklearn import naive_bayes\n",
    "from sklearn.neighbors import KNeighborsClassifier\n",
    "\n",
    "pipe = Pipeline([('classifier', RandomForestClassifier())])\n",
    "param_grid = [\n",
    "    {'classifier': [RandomForestClassifier()],\n",
    "    'classifier__n_estimators':[50,100],'classifier__max_features': [1, 2, 3, 4],\n",
    "    'classifier__min_samples_leaf':[1,2,3]},\n",
    "    {'classifier': [LogisticRegression(max_iter=1000)]},\n",
    "    {'classifier': [naive_bayes.GaussianNB()]},\n",
    "    {'classifier': [KNeighborsClassifier()],\n",
    "     'classifier__leaf_size': [10,20,30],\n",
    "     'classifier__n_neighbors': [3,5,7,10]}\n",
    "    ]\n",
    "\n",
    "X_train, X_test, y_train, y_test = train_test_split(\n",
    "    x, y, random_state=42)\n",
    "\n",
    "grid = GridSearchCV(pipe, param_grid, cv=5)\n",
    "grid.fit(X_train, y_train)\n",
    "\n",
    "print(\"Best params:\\n{}\\n\".format(grid.best_params_))\n",
    "print(\"Best cross-validation score: {:.2f}\".format(grid.best_score_))"
   ]
  },
  {
   "cell_type": "code",
   "execution_count": null,
   "metadata": {},
   "outputs": [],
   "source": []
  }
 ],
 "metadata": {
  "colab": {
   "collapsed_sections": [],
   "name": "water shortage likelihood prediction.ipynb",
   "provenance": []
  },
  "hide_input": false,
  "kernelspec": {
   "display_name": "Python 3 (ipykernel)",
   "language": "python",
   "name": "python3"
  },
  "language_info": {
   "codemirror_mode": {
    "name": "ipython",
    "version": 3
   },
   "file_extension": ".py",
   "mimetype": "text/x-python",
   "name": "python",
   "nbconvert_exporter": "python",
   "pygments_lexer": "ipython3",
   "version": "3.9.7"
  },
  "toc": {
   "base_numbering": 1,
   "nav_menu": {},
   "number_sections": true,
   "sideBar": true,
   "skip_h1_title": false,
   "title_cell": "Table of Contents",
   "title_sidebar": "Contents",
   "toc_cell": false,
   "toc_position": {},
   "toc_section_display": true,
   "toc_window_display": false
  },
  "varInspector": {
   "cols": {
    "lenName": 16,
    "lenType": 16,
    "lenVar": 40
   },
   "kernels_config": {
    "python": {
     "delete_cmd_postfix": "",
     "delete_cmd_prefix": "del ",
     "library": "var_list.py",
     "varRefreshCmd": "print(var_dic_list())"
    },
    "r": {
     "delete_cmd_postfix": ") ",
     "delete_cmd_prefix": "rm(",
     "library": "var_list.r",
     "varRefreshCmd": "cat(var_dic_list()) "
    }
   },
   "position": {
    "height": "464.85px",
    "left": "697px",
    "right": "20px",
    "top": "18px",
    "width": "350px"
   },
   "types_to_exclude": [
    "module",
    "function",
    "builtin_function_or_method",
    "instance",
    "_Feature"
   ],
   "window_display": false
  }
 },
 "nbformat": 4,
 "nbformat_minor": 1
}
