{
 "cells": [
  {
   "cell_type": "markdown",
   "metadata": {
    "id": "rs8_MppD3oBg"
   },
   "source": [
    "**water shortage likelihood prediction**"
   ]
  },
  {
   "cell_type": "markdown",
   "metadata": {
    "id": "ZQaYRQnX3ey0"
   },
   "source": [
    "Import libraries"
   ]
  },
  {
   "cell_type": "code",
   "execution_count": null,
   "metadata": {
    "ExecuteTime": {
     "end_time": "2021-05-31T02:29:17.672825Z",
     "start_time": "2021-05-31T02:29:15.578915Z"
    },
    "id": "rqIK-Q7f3d8y"
   },
   "outputs": [],
   "source": [
    "import pandas as pd\n",
    "import numpy as np\n",
    "import matplotlib.pyplot as plt\n",
    "import seaborn as sns\n",
    "import statsmodels.api as sm\n",
    "import warnings\n"
   ]
  },
  {
   "cell_type": "markdown",
   "metadata": {
    "id": "B3xYuezS3qIg"
   },
   "source": [
    "Load and view aquastat data set"
   ]
  },
  {
   "cell_type": "code",
   "execution_count": null,
   "metadata": {
    "ExecuteTime": {
     "end_time": "2021-05-31T02:29:17.767821Z",
     "start_time": "2021-05-31T02:29:17.705830Z"
    },
    "colab": {
     "base_uri": "https://localhost:8080/",
     "height": 360
    },
    "id": "ggpfABaq56b9",
    "outputId": "a25eed9c-2da4-4963-b5da-7cc304a77fde"
   },
   "outputs": [],
   "source": [
    "data = pd.read_csv('https://mda-project-poland.s3.eu-west-3.amazonaws.com/aquastat_data.csv') \n",
    "data = data.pivot_table(index = \"Area\", columns = \"Variable Name\", values= \"Value\")\n",
    "data.head()"
   ]
  },
  {
   "cell_type": "markdown",
   "metadata": {
    "id": "HHdgSpeD3oBt"
   },
   "source": [
    "dataset of country location（latitude and longitude)"
   ]
  },
  {
   "cell_type": "code",
   "execution_count": null,
   "metadata": {
    "ExecuteTime": {
     "end_time": "2021-05-31T02:29:17.859574Z",
     "start_time": "2021-05-31T02:29:17.830653Z"
    },
    "id": "gTa1dyc93oBu",
    "outputId": "10b7f2b6-b17a-46fd-8870-f4fccc79b53d"
   },
   "outputs": [],
   "source": [
    "location=pd.read_csv('https://mda-project-poland.s3.eu-west-3.amazonaws.com/location.csv')\n",
    "location.head()"
   ]
  },
  {
   "cell_type": "markdown",
   "metadata": {
    "id": "RY4UE2iv3oBv"
   },
   "source": [
    "combine two datasets"
   ]
  },
  {
   "cell_type": "code",
   "execution_count": null,
   "metadata": {
    "ExecuteTime": {
     "end_time": "2021-05-31T02:29:17.953323Z",
     "start_time": "2021-05-31T02:29:17.923404Z"
    },
    "id": "2J3zSVTg3oBw",
    "outputId": "c37e8e31-2a3c-4cd2-d2df-bc2226e93620"
   },
   "outputs": [],
   "source": [
    "loc1 = location.loc[:, [ \"Area\",\"Latitude\",\"Longitude\"]]\n",
    "loc1.drop_duplicates(inplace=True)\n",
    "data =loc1.merge(data, on=\"Area\", how=\"left\")\n",
    "data"
   ]
  },
  {
   "cell_type": "markdown",
   "metadata": {},
   "source": [
    "Calculate the new variables"
   ]
  },
  {
   "cell_type": "code",
   "execution_count": null,
   "metadata": {
    "ExecuteTime": {
     "end_time": "2021-05-31T02:29:18.033110Z",
     "start_time": "2021-05-31T02:29:18.018151Z"
    }
   },
   "outputs": [],
   "source": [
    "data['% of total country area irrigated (%)']=data['% of total country area cultivated']*data['% of cultivated land irrigated [harvested crop]']/100\n",
    "data['Industry, value added (% GDP)']=data['Industry, value added to GDP']/data['Gross Domestic Product (GDP)']*100\n",
    "data['Services, value added (% GDP)']=data['Services, value added to GDP']/data['Gross Domestic Product (GDP)']*100\n",
    "data['water resource per capita']=((data['Total renewable water resources']*1000000)-(data['Environmental Flow Requirements']*1000000))/data['Total population']"
   ]
  },
  {
   "cell_type": "code",
   "execution_count": null,
   "metadata": {
    "ExecuteTime": {
     "end_time": "2021-05-31T02:29:18.254026Z",
     "start_time": "2021-05-31T02:29:18.234078Z"
    }
   },
   "outputs": [],
   "source": [
    "print(data['water resource per capita'].describe())"
   ]
  },
  {
   "cell_type": "code",
   "execution_count": null,
   "metadata": {
    "ExecuteTime": {
     "end_time": "2021-05-31T02:29:18.426562Z",
     "start_time": "2021-05-31T02:29:18.406655Z"
    },
    "id": "yvazgv3Q3oBx",
    "outputId": "ad70577c-f5f9-4121-f94e-02456f3eb02f"
   },
   "outputs": [],
   "source": [
    "data.isnull().any()"
   ]
  },
  {
   "cell_type": "markdown",
   "metadata": {
    "id": "y8IA5JBm6Tbu"
   },
   "source": [
    "## Data Preprocessing and exploration\n"
   ]
  },
  {
   "cell_type": "code",
   "execution_count": null,
   "metadata": {
    "ExecuteTime": {
     "end_time": "2021-05-31T02:29:19.169463Z",
     "start_time": "2021-05-31T02:29:19.134048Z"
    },
    "colab": {
     "base_uri": "https://localhost:8080/",
     "height": 576
    },
    "id": "WvyX2wSXAlwB",
    "outputId": "eacda3a7-fc80-4f86-edf1-a53e9b02650d"
   },
   "outputs": [],
   "source": [
    "df = data.copy()\n",
    "#Data types\n",
    "datadict = pd.DataFrame(df.dtypes)\n",
    "#Missing values\n",
    "datadict['MissingVal'] = df.isnull().sum()\n",
    "#Unique values\n",
    "datadict['NUnique']=df.nunique()\n",
    "#Count of variable\n",
    "datadict['Count']=df.count()\n",
    "#Rename 0 to datatype\n",
    "datadict = datadict.rename(columns={0:'DataType'})\n",
    "datadict"
   ]
  },
  {
   "cell_type": "markdown",
   "metadata": {
    "id": "crdYhibh9Jn8"
   },
   "source": [
    "the distribution of water shortage index"
   ]
  },
  {
   "cell_type": "code",
   "execution_count": null,
   "metadata": {
    "ExecuteTime": {
     "end_time": "2021-05-31T02:29:19.653176Z",
     "start_time": "2021-05-31T02:29:19.434263Z"
    },
    "id": "EUSIL9fD3oB3",
    "outputId": "e3e690e4-a7eb-4af0-c48c-ef0f53cb048e"
   },
   "outputs": [],
   "source": [
    "df['water resource per capita'].hist(grid=False, bins=20)"
   ]
  },
  {
   "cell_type": "markdown",
   "metadata": {
    "id": "W0mDl9r93oB4"
   },
   "source": [
    "right skewed\n",
    "\n",
    "dichotomization:\n",
    "\n",
    "water shortage: water resource per capita<1700 m^3 per person per year"
   ]
  },
  {
   "cell_type": "code",
   "execution_count": null,
   "metadata": {
    "ExecuteTime": {
     "end_time": "2021-05-31T02:29:20.245464Z",
     "start_time": "2021-05-31T02:29:20.220552Z"
    },
    "hide_input": false,
    "id": "uSVEqy6q3oB4"
   },
   "outputs": [],
   "source": [
    "df['c']=0\n",
    "df['c'][df['water resource per capita']< 1700]=1"
   ]
  },
  {
   "cell_type": "markdown",
   "metadata": {
    "id": "6CYN52OQCHGJ"
   },
   "source": [
    "Delete rows with missing values of water shortage index\n",
    "\n",
    "replace NaN in the predictors with mean"
   ]
  },
  {
   "cell_type": "code",
   "execution_count": null,
   "metadata": {
    "ExecuteTime": {
     "end_time": "2021-05-31T02:29:20.933713Z",
     "start_time": "2021-05-31T02:29:20.905102Z"
    },
    "id": "xJjCydZMKgly",
    "outputId": "e8ec95cd-2e9f-4933-ba52-8f6ff84a64ce"
   },
   "outputs": [],
   "source": [
    "df = df.dropna(axis=0,subset=['water resource per capita'])\n",
    "df = df.fillna(df.mean())\n",
    "df.shape"
   ]
  },
  {
   "cell_type": "code",
   "execution_count": null,
   "metadata": {
    "ExecuteTime": {
     "end_time": "2021-05-31T02:29:27.490581Z",
     "start_time": "2021-05-31T02:29:21.059846Z"
    },
    "id": "VvKL-UHq3oB6",
    "outputId": "0a4cad65-8c0e-4794-a63f-c79c89ce037f"
   },
   "outputs": [],
   "source": [
    "g = sns.catplot(\n",
    "    data=df, kind=\"bar\", x = \"Area\", y='water resource per capita', \n",
    "    ci=\"sd\", palette=\"icefire\", alpha=.9, height=12)\n",
    "g.set_xticklabels(rotation=53)\n",
    "g.set_axis_labels( \"Area\", 'water resource per capita')"
   ]
  },
  {
   "cell_type": "code",
   "execution_count": null,
   "metadata": {
    "ExecuteTime": {
     "end_time": "2021-05-31T02:29:27.599761Z",
     "start_time": "2021-05-31T02:29:27.586499Z"
    }
   },
   "outputs": [],
   "source": [
    "data['water resource per capita'].describe()"
   ]
  },
  {
   "cell_type": "markdown",
   "metadata": {
    "id": "ONul2Sqj3oB8"
   },
   "source": [
    "## Fit a logistic regression model"
   ]
  },
  {
   "cell_type": "markdown",
   "metadata": {},
   "source": [
    "Variable selection procedure: backward elimination based on p-value "
   ]
  },
  {
   "cell_type": "code",
   "execution_count": null,
   "metadata": {
    "ExecuteTime": {
     "end_time": "2021-05-31T02:29:27.711809Z",
     "start_time": "2021-05-31T02:29:27.697563Z"
    },
    "id": "zmqq2WYI3oB8"
   },
   "outputs": [],
   "source": [
    "x_columns=['Latitude',\n",
    "    'Longitude',\n",
    "    '% of total country area cultivated',\n",
    "    '% of total country area irrigated (%)',\n",
    "    'Long-term average annual precipitation in depth',\n",
    "    'Population density',\n",
    "    'GDP per capita',\n",
    "    'Agriculture, value added (% GDP)',\n",
    "    'Industry, value added (% GDP)',\n",
    "    'Services, value added (% GDP)',]\n",
    "x = df[x_columns]\n",
    "y = df['c']\n",
    "x = sm.add_constant(x)"
   ]
  },
  {
   "cell_type": "code",
   "execution_count": null,
   "metadata": {
    "ExecuteTime": {
     "end_time": "2021-05-31T02:29:27.855011Z",
     "start_time": "2021-05-31T02:29:27.825091Z"
    },
    "id": "WoYxE5rd3oB9",
    "outputId": "122e1b67-3523-40c2-f5ec-e63f1d7bc145"
   },
   "outputs": [],
   "source": [
    "model = sm.Logit(y,x)\n",
    "result = model.fit()\n",
    "result.summary()"
   ]
  },
  {
   "cell_type": "markdown",
   "metadata": {},
   "source": [
    "remove longitude"
   ]
  },
  {
   "cell_type": "code",
   "execution_count": null,
   "metadata": {
    "ExecuteTime": {
     "end_time": "2021-05-31T02:29:28.024559Z",
     "start_time": "2021-05-31T02:29:27.995635Z"
    }
   },
   "outputs": [],
   "source": [
    "x_columns.remove('Longitude')\n",
    "x = df[x_columns]\n",
    "y = df['c']\n",
    "x = sm.add_constant(x)\n",
    "model = sm.Logit(y,x)\n",
    "result = model.fit()\n",
    "result.summary()"
   ]
  },
  {
   "cell_type": "markdown",
   "metadata": {},
   "source": [
    "remove GDP per captia"
   ]
  },
  {
   "cell_type": "code",
   "execution_count": null,
   "metadata": {
    "ExecuteTime": {
     "end_time": "2021-05-31T02:29:28.195102Z",
     "start_time": "2021-05-31T02:29:28.152218Z"
    }
   },
   "outputs": [],
   "source": [
    "x_columns.remove('GDP per capita')\n",
    "x=df[x_columns]\n",
    "y=df['c']\n",
    "x = sm.add_constant(x)\n",
    "model = sm.Logit(y,x)\n",
    "result = model.fit()\n",
    "result.summary()"
   ]
  },
  {
   "cell_type": "markdown",
   "metadata": {},
   "source": [
    "remove Services, value added (% GDP)"
   ]
  },
  {
   "cell_type": "code",
   "execution_count": null,
   "metadata": {
    "ExecuteTime": {
     "end_time": "2021-05-31T02:29:28.366645Z",
     "start_time": "2021-05-31T02:29:28.321764Z"
    }
   },
   "outputs": [],
   "source": [
    "x_columns.remove('Services, value added (% GDP)')\n",
    "x=df[x_columns]\n",
    "y=df['c']\n",
    "x = sm.add_constant(x)\n",
    "model = sm.Logit(y,x)\n",
    "result = model.fit()\n",
    "result.summary()"
   ]
  },
  {
   "cell_type": "markdown",
   "metadata": {},
   "source": [
    "remove Industry, value added (% GDP)"
   ]
  },
  {
   "cell_type": "code",
   "execution_count": null,
   "metadata": {
    "ExecuteTime": {
     "end_time": "2021-05-31T02:29:28.522227Z",
     "start_time": "2021-05-31T02:29:28.477348Z"
    }
   },
   "outputs": [],
   "source": [
    "x_columns.remove('Industry, value added (% GDP)')\n",
    "x=df[x_columns]\n",
    "y=df['c']\n",
    "x = sm.add_constant(x)\n",
    "model = sm.Logit(y,x)\n",
    "result = model.fit()\n",
    "result.summary()"
   ]
  },
  {
   "cell_type": "markdown",
   "metadata": {},
   "source": [
    "remove % of total country area cultivated"
   ]
  },
  {
   "cell_type": "code",
   "execution_count": null,
   "metadata": {
    "ExecuteTime": {
     "end_time": "2021-05-31T02:29:28.663850Z",
     "start_time": "2021-05-31T02:29:28.634928Z"
    }
   },
   "outputs": [],
   "source": [
    "x_columns.remove('% of total country area cultivated')\n",
    "x=df[x_columns]\n",
    "x = sm.add_constant(x)\n",
    "model = sm.Logit(y,x)\n",
    "result = model.fit()\n",
    "result.summary()"
   ]
  },
  {
   "cell_type": "markdown",
   "metadata": {},
   "source": [
    "predicted accuracy"
   ]
  },
  {
   "cell_type": "code",
   "execution_count": null,
   "metadata": {
    "ExecuteTime": {
     "end_time": "2021-05-31T02:29:30.006805Z",
     "start_time": "2021-05-31T02:29:28.788516Z"
    }
   },
   "outputs": [],
   "source": [
    "from sklearn.metrics import accuracy_score\n",
    "accuracy_score(y,round(result.predict(x)))"
   ]
  },
  {
   "cell_type": "markdown",
   "metadata": {},
   "source": [
    "the likelihood of a water shortage "
   ]
  },
  {
   "cell_type": "code",
   "execution_count": null,
   "metadata": {
    "ExecuteTime": {
     "end_time": "2021-05-31T02:29:30.131968Z",
     "start_time": "2021-05-31T02:29:30.118487Z"
    }
   },
   "outputs": [],
   "source": [
    "df['likelihood'] = result.predict(x)"
   ]
  },
  {
   "cell_type": "markdown",
   "metadata": {},
   "source": [
    "## Divide the water shortage indicator into 4 risk levels"
   ]
  },
  {
   "cell_type": "code",
   "execution_count": null,
   "metadata": {
    "ExecuteTime": {
     "end_time": "2021-05-31T02:29:30.558394Z",
     "start_time": "2021-05-31T02:29:30.515160Z"
    }
   },
   "outputs": [],
   "source": [
    "category = pd.cut(aquastat['water resource per capita'],bins=[0,500,1000,1700,220071],labels=['3','2','1','0'])\n",
    "aquastat.insert(21,'c of shortage',category)"
   ]
  },
  {
   "cell_type": "code",
   "execution_count": null,
   "metadata": {
    "ExecuteTime": {
     "end_time": "2021-05-31T02:29:30.701164Z",
     "start_time": "2021-05-31T02:29:30.672836Z"
    }
   },
   "outputs": [],
   "source": [
    "data = data.dropna(axis=0,subset=['water resource per capita'])\n",
    "data = data.fillna(df.mean())"
   ]
  },
  {
   "cell_type": "code",
   "execution_count": null,
   "metadata": {
    "ExecuteTime": {
     "end_time": "2021-05-31T02:29:30.811129Z",
     "start_time": "2021-05-31T02:29:30.797257Z"
    }
   },
   "outputs": [],
   "source": [
    "data['c of shortage'].unique()"
   ]
  },
  {
   "cell_type": "code",
   "execution_count": null,
   "metadata": {
    "ExecuteTime": {
     "end_time": "2021-05-31T02:29:30.936681Z",
     "start_time": "2021-05-31T02:29:30.925711Z"
    }
   },
   "outputs": [],
   "source": [
    "x_columns=['Latitude',\n",
    "    'Longitude',\n",
    "    '% of total country area cultivated',\n",
    "    '% of total country area irrigated (%)',\n",
    "    'Long-term average annual precipitation in depth',\n",
    "    'Population density',\n",
    "    'GDP per capita',\n",
    "    'Agriculture, value added (% GDP)',\n",
    "    'Industry, value added (% GDP)',\n",
    "    'Services, value added (% GDP)']\n",
    "x=data[x_columns]\n",
    "y=data['c of shortage']"
   ]
  },
  {
   "cell_type": "code",
   "execution_count": null,
   "metadata": {
    "ExecuteTime": {
     "end_time": "2021-05-31T02:29:44.801353Z",
     "start_time": "2021-05-31T02:29:31.034896Z"
    }
   },
   "outputs": [],
   "source": [
    "from sklearn.pipeline import Pipeline\n",
    "from sklearn.model_selection import train_test_split,GridSearchCV\n",
    "from sklearn.ensemble import RandomForestClassifier\n",
    "from sklearn.linear_model import LogisticRegression\n",
    "from sklearn import naive_bayes\n",
    "from sklearn.neighbors import KNeighborsClassifier\n",
    "\n",
    "pipe = Pipeline([('classifier', RandomForestClassifier())])\n",
    "param_grid = [\n",
    "    {'classifier': [RandomForestClassifier()],\n",
    "    'classifier__n_estimators':[50,100],'classifier__max_features': [1, 2, 3, 4],\n",
    "    'classifier__min_samples_leaf':[1,2,3]},\n",
    "    {'classifier': [LogisticRegression(max_iter=1000)]},\n",
    "    {'classifier': [naive_bayes.GaussianNB()]},\n",
    "    {'classifier': [KNeighborsClassifier()],\n",
    "     'classifier__leaf_size': [10,20,30],\n",
    "     'classifier__n_neighbors': [3,5,7,10]}\n",
    "    ]\n",
    "\n",
    "X_train, X_test, y_train, y_test = train_test_split(\n",
    "    x, y, random_state=42)\n",
    "\n",
    "grid = GridSearchCV(pipe, param_grid, cv=5)\n",
    "grid.fit(X_train, y_train)\n",
    "\n",
    "print(\"Best params:\\n{}\\n\".format(grid.best_params_))\n",
    "print(\"Best cross-validation score: {:.2f}\".format(grid.best_score_))"
   ]
  },
  {
   "cell_type": "code",
   "execution_count": null,
   "metadata": {},
   "outputs": [],
   "source": []
  }
 ],
 "metadata": {
  "colab": {
   "collapsed_sections": [],
   "name": "water shortage likelihood prediction.ipynb",
   "provenance": []
  },
  "hide_input": false,
  "kernelspec": {
   "display_name": "Python 3 (ipykernel)",
   "language": "python",
   "name": "python3"
  },
  "language_info": {
   "codemirror_mode": {
    "name": "ipython",
    "version": 3
   },
   "file_extension": ".py",
   "mimetype": "text/x-python",
   "name": "python",
   "nbconvert_exporter": "python",
   "pygments_lexer": "ipython3",
   "version": "3.9.7"
  },
  "toc": {
   "base_numbering": 1,
   "nav_menu": {},
   "number_sections": true,
   "sideBar": true,
   "skip_h1_title": false,
   "title_cell": "Table of Contents",
   "title_sidebar": "Contents",
   "toc_cell": false,
   "toc_position": {},
   "toc_section_display": true,
   "toc_window_display": false
  },
  "varInspector": {
   "cols": {
    "lenName": 16,
    "lenType": 16,
    "lenVar": 40
   },
   "kernels_config": {
    "python": {
     "delete_cmd_postfix": "",
     "delete_cmd_prefix": "del ",
     "library": "var_list.py",
     "varRefreshCmd": "print(var_dic_list())"
    },
    "r": {
     "delete_cmd_postfix": ") ",
     "delete_cmd_prefix": "rm(",
     "library": "var_list.r",
     "varRefreshCmd": "cat(var_dic_list()) "
    }
   },
   "position": {
    "height": "464.85px",
    "left": "697px",
    "right": "20px",
    "top": "18px",
    "width": "350px"
   },
   "types_to_exclude": [
    "module",
    "function",
    "builtin_function_or_method",
    "instance",
    "_Feature"
   ],
   "window_display": false
  }
 },
 "nbformat": 4,
 "nbformat_minor": 1
}
