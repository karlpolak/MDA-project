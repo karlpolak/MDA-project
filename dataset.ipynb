{
 "cells": [
  {
   "cell_type": "code",
   "execution_count": null,
   "metadata": {},
   "outputs": [],
   "source": [
    "# Import the necessary libraries\n",
    "import pandas as pd\n",
    "import numpy as np\n",
    "import seaborn as sns\n",
    "sns.set()\n",
    "# import the KMeans clustering model from scikit-learn\n",
    "from sklearn.cluster import KMeans\n",
    "from sklearn.impute import SimpleImputer\n",
    "import matplotlib.pyplot as plt\n",
    "%matplotlib inline"
   ]
  },
  {
   "cell_type": "code",
   "execution_count": null,
   "metadata": {},
   "outputs": [],
   "source": [
    "df = pd.read_csv('https://mda-project-poland.s3.eu-west-3.amazonaws.com/ultimate+aquastat+(flat).csv')  # will be used for Time series analysis\n",
    "df_GDP = pd.read_csv('https://mda-project-poland.s3.eu-west-3.amazonaws.com/GDP.csv')\n",
    "df_2018 = df.loc[df['Year'] == 2018]  # will be used for classification"
   ]
  },
  {
   "cell_type": "code",
   "execution_count": null,
   "metadata": {},
   "outputs": [],
   "source": [
    "\n",
    "table_2018 = pd.pivot_table(data=df_2018,values='Value',index='Area',columns='Variable Name')\n",
    "\n",
    "# drop undernourishment and add GDP  \n",
    "table_2018 = table_2018.drop('Prevalence of undernourishment (3-year average)', axis=1)  # TODO download correct data from AQUASTAT instead of dropping here\n",
    "df_GDP_2018 = df_GDP.loc[df_GDP['Year'] == 2018] \n",
    "table_GDP_2018 = pd.pivot_table(data=df_GDP_2018,values='Value',index='Area',columns='Variable Name')\n",
    "\n",
    "table_2018 = table_2018.merge(table_GDP_2018, how='inner', on='Area')\n",
    "\n",
    "table_2018.head() "
   ]
  },
  {
   "cell_type": "code",
   "execution_count": null,
   "metadata": {},
   "outputs": [],
   "source": [
    "table=pd.pivot_table(data=df,values='Value',index=['Area','Year'],columns='Variable Name')\n",
    "\n",
    "# drop undernourishment and add GDP  \n",
    "table = table.drop('Prevalence of undernourishment (3-year average)', axis=1)  # TODO download correct data from AQUASTAT instead of dropping here\n",
    "table_GDP = pd.pivot_table(data=df_GDP,values='Value',index=['Area','Year'],columns='Variable Name')\n",
    "table\n",
    "table = table.merge(table_GDP, how='inner', on=['Area','Year'])\n",
    "table.head(21)"
   ]
  },
  {
   "cell_type": "markdown",
   "metadata": {},
   "source": [
    "## Data cleaning"
   ]
  },
  {
   "cell_type": "markdown",
   "metadata": {},
   "source": [
    "The only missing value in the 2018 dataset is the National Rainfall Index (NRI) in North Korea."
   ]
  },
  {
   "cell_type": "code",
   "execution_count": null,
   "metadata": {},
   "outputs": [],
   "source": [
    "table_2018_preprocessed = table_2018.fillna(table_2018.mean())\n",
    "# TODO maybe replace with some manually calculated value (using other sources of data) instead of mean"
   ]
  },
  {
   "cell_type": "markdown",
   "metadata": {},
   "source": [
    "The complete timetable has missing values for the oldest observations. By looking at the data, one notices a certain trend over the years for each variable and each country. This idea is used to fill the missing values. \n",
    "\n",
    "Using interpolation to fill the data gaps would be ideal. Since our dataset consists of MultiIndexes, a linear interpolation is the only possible option. However, linear interpolation is not useful in this situation, since the missing values occur only in the oldest observation. Those values are unfortunately not linearly interpolated, simply because there is no value to base the 'inter'polation on.\n",
    "\n",
    "Hence, 'bfill' is used to fill the data gaps. A possible improvement here would be to create a dataframe using a single index (e.g. a dataframe per country and 'Year' as index) and to perform a spline interpolation, which can extrapolate NaNs at the tail of a Series/Dataframe."
   ]
  },
  {
   "cell_type": "code",
   "execution_count": null,
   "metadata": {},
   "outputs": [],
   "source": [
    "# # Could be done like this if dataframe has no MultiIndexes\n",
    "# rev_table = table.iloc[::-1]\n",
    "# rev_table_preprocessed = rev_table.interpolate(method='spline', order=2, axis=0)\n",
    "# table = rev_table_preprocessed.iloc[::-1]\n",
    "\n",
    "table_preprocessed = table.fillna(method='bfill')\n",
    "table_preprocessed.head(21)"
   ]
  },
  {
   "cell_type": "code",
   "execution_count": null,
   "metadata": {},
   "outputs": [],
   "source": []
  }
 ],
 "metadata": {
  "interpreter": {
   "hash": "4afab56dad0409044ae8a6a1a3598347730cf0ab0436da8e316c239394c6f03d"
  },
  "kernelspec": {
   "display_name": "Python 3.9.12 ('MDA-project')",
   "language": "python",
   "name": "python3"
  },
  "language_info": {
   "codemirror_mode": {
    "name": "ipython",
    "version": 3
   },
   "file_extension": ".py",
   "mimetype": "text/x-python",
   "name": "python",
   "nbconvert_exporter": "python",
   "pygments_lexer": "ipython3",
   "version": "3.9.12"
  },
  "orig_nbformat": 4
 },
 "nbformat": 4,
 "nbformat_minor": 2
}
