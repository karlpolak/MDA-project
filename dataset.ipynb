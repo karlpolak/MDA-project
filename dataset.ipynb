{
 "cells": [
  {
   "cell_type": "code",
   "execution_count": null,
   "metadata": {},
   "outputs": [],
   "source": [
    "# Import the necessary libraries\n",
    "import pandas as pd\n",
    "import numpy as np\n",
    "import seaborn as sns\n",
    "sns.set()\n",
    "# import the KMeans clustering model from scikit-learn\n",
    "from sklearn.cluster import KMeans\n",
    "from sklearn.impute import SimpleImputer\n",
    "import matplotlib.pyplot as plt\n",
    "%matplotlib inline"
   ]
  },
  {
   "cell_type": "code",
   "execution_count": null,
   "metadata": {},
   "outputs": [],
   "source": [
    "df = pd.read_csv('https://mda-project-poland.s3.eu-west-3.amazonaws.com/ultimate+aquastat+(flat).csv')  # will be used for Time series analysis\n",
    "df_GDP = pd.read_csv('https://mda-project-poland.s3.eu-west-3.amazonaws.com/GDP.csv')\n",
    "df_2018 = df.loc[df['Year'] == 2018]  # will be used for classification"
   ]
  },
  {
   "cell_type": "code",
   "execution_count": null,
   "metadata": {},
   "outputs": [],
   "source": [
    "\n",
    "table_2018 = pd.pivot_table(data=df_2018,values='Value',index='Area',columns='Variable Name')\n",
    "\n",
    "# drop undernourishment and add GDP  \n",
    "table_2018 = table_2018.drop('Prevalence of undernourishment (3-year average)', axis=1)  # TODO download correct data from AQUASTAT instead of dropping here\n",
    "df_GDP_2018 = df_GDP.loc[df_GDP['Year'] == 2018] \n",
    "table_GDP_2018 = pd.pivot_table(data=df_GDP_2018,values='Value',index='Area',columns='Variable Name')\n",
    "\n",
    "table_2018 = table_2018.merge(table_GDP_2018, how='inner', on='Area')\n",
    "\n",
    "table_2018.head() "
   ]
  },
  {
   "cell_type": "code",
   "execution_count": null,
   "metadata": {},
   "outputs": [],
   "source": [
    "table=pd.pivot_table(data=df,values='Value',index=['Area','Year'],columns='Variable Name')\n",
    "\n",
    "# drop undernourishment and add GDP  \n",
    "table = table.drop('Prevalence of undernourishment (3-year average)', axis=1)  # TODO download correct data from AQUASTAT instead of dropping here\n",
    "table_GDP = pd.pivot_table(data=df_GDP,values='Value',index=['Area','Year'],columns='Variable Name')\n",
    "table\n",
    "table = table.merge(table_GDP, how='inner', on=['Area','Year'])\n",
    "table.head(21)"
   ]
  },
  {
   "cell_type": "markdown",
   "metadata": {},
   "source": [
    "## Data cleaning"
   ]
  },
  {
   "cell_type": "markdown",
   "metadata": {},
   "source": [
    "The only missing value in the 2018 dataset is the National Rainfall Index (NRI) in North Korea."
   ]
  },
  {
   "cell_type": "code",
   "execution_count": null,
   "metadata": {},
   "outputs": [],
   "source": [
    "table_2018_preprocessed = table_2018.fillna(table_2018.mean())\n",
    "# TODO maybe replace with some manually calculated value (using other sources of data) instead of mean"
   ]
  },
  {
   "cell_type": "markdown",
   "metadata": {},
   "source": [
    "The complete timetable has missing values for the oldest observations. By looking at the data, one notices a certain trend over the years for each variable and each country. This idea is used to fill the missing values. \n",
    "\n",
    "Using interpolation to fill the data gaps would be ideal. Since our dataset consists of MultiIndexes, a linear interpolation is the only possible option. However, linear interpolation is not useful in this situation, since the missing values occur only in the oldest observation. Those values are unfortunately not linearly interpolated, simply because there is no value to base the 'inter'polation on.\n",
    "\n",
    "Hence, 'bfill' is used to fill the data gaps. A possible improvement here would be to create a dataframe using a single index (e.g. a dataframe per country and 'Year' as index) and to perform a spline interpolation, which can extrapolate NaNs at the tail of a Series/Dataframe."
   ]
  },
  {
   "cell_type": "code",
   "execution_count": 98,
   "metadata": {},
   "outputs": [
    {
     "ename": "ValueError",
     "evalue": "Only `method=linear` interpolation is supported on MultiIndexes.",
     "output_type": "error",
     "traceback": [
      "\u001b[0;31m---------------------------------------------------------------------------\u001b[0m",
      "\u001b[0;31mValueError\u001b[0m                                Traceback (most recent call last)",
      "\u001b[1;32m/Users/karlpolak/Documents/Studie/MSCE 2/MDA-project/dataset.ipynb Cell 9'\u001b[0m in \u001b[0;36m<cell line: 3>\u001b[0;34m()\u001b[0m\n\u001b[1;32m      <a href='vscode-notebook-cell:/Users/karlpolak/Documents/Studie/MSCE%202/MDA-project/dataset.ipynb#ch0000018?line=0'>1</a>\u001b[0m AUS \u001b[39m=\u001b[39m table\u001b[39m.\u001b[39mloc[[\u001b[39m'\u001b[39m\u001b[39mAustralia\u001b[39m\u001b[39m'\u001b[39m]]\n\u001b[1;32m      <a href='vscode-notebook-cell:/Users/karlpolak/Documents/Studie/MSCE%202/MDA-project/dataset.ipynb#ch0000018?line=1'>2</a>\u001b[0m rev_AUS \u001b[39m=\u001b[39m AUS\u001b[39m.\u001b[39miloc[::\u001b[39m-\u001b[39m\u001b[39m1\u001b[39m]\n\u001b[0;32m----> <a href='vscode-notebook-cell:/Users/karlpolak/Documents/Studie/MSCE%202/MDA-project/dataset.ipynb#ch0000018?line=2'>3</a>\u001b[0m rev_AUS_pre \u001b[39m=\u001b[39m rev_AUS\u001b[39m.\u001b[39;49minterpolate(method\u001b[39m=\u001b[39;49m\u001b[39m'\u001b[39;49m\u001b[39mspline\u001b[39;49m\u001b[39m'\u001b[39;49m, order\u001b[39m=\u001b[39;49m\u001b[39m2\u001b[39;49m, axis\u001b[39m=\u001b[39;49m\u001b[39m0\u001b[39;49m)\n\u001b[1;32m      <a href='vscode-notebook-cell:/Users/karlpolak/Documents/Studie/MSCE%202/MDA-project/dataset.ipynb#ch0000018?line=3'>4</a>\u001b[0m rev_AUS_pre\u001b[39m.\u001b[39mhead(\u001b[39m7\u001b[39m)\n",
      "File \u001b[0;32m~/opt/anaconda3/envs/MDA-project/lib/python3.9/site-packages/pandas/util/_decorators.py:311\u001b[0m, in \u001b[0;36mdeprecate_nonkeyword_arguments.<locals>.decorate.<locals>.wrapper\u001b[0;34m(*args, **kwargs)\u001b[0m\n\u001b[1;32m    <a href='file:///Users/karlpolak/opt/anaconda3/envs/MDA-project/lib/python3.9/site-packages/pandas/util/_decorators.py?line=304'>305</a>\u001b[0m \u001b[39mif\u001b[39;00m \u001b[39mlen\u001b[39m(args) \u001b[39m>\u001b[39m num_allow_args:\n\u001b[1;32m    <a href='file:///Users/karlpolak/opt/anaconda3/envs/MDA-project/lib/python3.9/site-packages/pandas/util/_decorators.py?line=305'>306</a>\u001b[0m     warnings\u001b[39m.\u001b[39mwarn(\n\u001b[1;32m    <a href='file:///Users/karlpolak/opt/anaconda3/envs/MDA-project/lib/python3.9/site-packages/pandas/util/_decorators.py?line=306'>307</a>\u001b[0m         msg\u001b[39m.\u001b[39mformat(arguments\u001b[39m=\u001b[39marguments),\n\u001b[1;32m    <a href='file:///Users/karlpolak/opt/anaconda3/envs/MDA-project/lib/python3.9/site-packages/pandas/util/_decorators.py?line=307'>308</a>\u001b[0m         \u001b[39mFutureWarning\u001b[39;00m,\n\u001b[1;32m    <a href='file:///Users/karlpolak/opt/anaconda3/envs/MDA-project/lib/python3.9/site-packages/pandas/util/_decorators.py?line=308'>309</a>\u001b[0m         stacklevel\u001b[39m=\u001b[39mstacklevel,\n\u001b[1;32m    <a href='file:///Users/karlpolak/opt/anaconda3/envs/MDA-project/lib/python3.9/site-packages/pandas/util/_decorators.py?line=309'>310</a>\u001b[0m     )\n\u001b[0;32m--> <a href='file:///Users/karlpolak/opt/anaconda3/envs/MDA-project/lib/python3.9/site-packages/pandas/util/_decorators.py?line=310'>311</a>\u001b[0m \u001b[39mreturn\u001b[39;00m func(\u001b[39m*\u001b[39;49margs, \u001b[39m*\u001b[39;49m\u001b[39m*\u001b[39;49mkwargs)\n",
      "File \u001b[0;32m~/opt/anaconda3/envs/MDA-project/lib/python3.9/site-packages/pandas/core/frame.py:10931\u001b[0m, in \u001b[0;36mDataFrame.interpolate\u001b[0;34m(self, method, axis, limit, inplace, limit_direction, limit_area, downcast, **kwargs)\u001b[0m\n\u001b[1;32m  <a href='file:///Users/karlpolak/opt/anaconda3/envs/MDA-project/lib/python3.9/site-packages/pandas/core/frame.py?line=10918'>10919</a>\u001b[0m \u001b[39m@deprecate_nonkeyword_arguments\u001b[39m(version\u001b[39m=\u001b[39m\u001b[39mNone\u001b[39;00m, allowed_args\u001b[39m=\u001b[39m[\u001b[39m\"\u001b[39m\u001b[39mself\u001b[39m\u001b[39m\"\u001b[39m, \u001b[39m\"\u001b[39m\u001b[39mmethod\u001b[39m\u001b[39m\"\u001b[39m])\n\u001b[1;32m  <a href='file:///Users/karlpolak/opt/anaconda3/envs/MDA-project/lib/python3.9/site-packages/pandas/core/frame.py?line=10919'>10920</a>\u001b[0m \u001b[39mdef\u001b[39;00m \u001b[39minterpolate\u001b[39m(\n\u001b[1;32m  <a href='file:///Users/karlpolak/opt/anaconda3/envs/MDA-project/lib/python3.9/site-packages/pandas/core/frame.py?line=10920'>10921</a>\u001b[0m     \u001b[39mself\u001b[39m: DataFrame,\n\u001b[0;32m   (...)\u001b[0m\n\u001b[1;32m  <a href='file:///Users/karlpolak/opt/anaconda3/envs/MDA-project/lib/python3.9/site-packages/pandas/core/frame.py?line=10928'>10929</a>\u001b[0m     \u001b[39m*\u001b[39m\u001b[39m*\u001b[39mkwargs,\n\u001b[1;32m  <a href='file:///Users/karlpolak/opt/anaconda3/envs/MDA-project/lib/python3.9/site-packages/pandas/core/frame.py?line=10929'>10930</a>\u001b[0m ) \u001b[39m-\u001b[39m\u001b[39m>\u001b[39m DataFrame \u001b[39m|\u001b[39m \u001b[39mNone\u001b[39;00m:\n\u001b[0;32m> <a href='file:///Users/karlpolak/opt/anaconda3/envs/MDA-project/lib/python3.9/site-packages/pandas/core/frame.py?line=10930'>10931</a>\u001b[0m     \u001b[39mreturn\u001b[39;00m \u001b[39msuper\u001b[39;49m()\u001b[39m.\u001b[39;49minterpolate(\n\u001b[1;32m  <a href='file:///Users/karlpolak/opt/anaconda3/envs/MDA-project/lib/python3.9/site-packages/pandas/core/frame.py?line=10931'>10932</a>\u001b[0m         method,\n\u001b[1;32m  <a href='file:///Users/karlpolak/opt/anaconda3/envs/MDA-project/lib/python3.9/site-packages/pandas/core/frame.py?line=10932'>10933</a>\u001b[0m         axis,\n\u001b[1;32m  <a href='file:///Users/karlpolak/opt/anaconda3/envs/MDA-project/lib/python3.9/site-packages/pandas/core/frame.py?line=10933'>10934</a>\u001b[0m         limit,\n\u001b[1;32m  <a href='file:///Users/karlpolak/opt/anaconda3/envs/MDA-project/lib/python3.9/site-packages/pandas/core/frame.py?line=10934'>10935</a>\u001b[0m         inplace,\n\u001b[1;32m  <a href='file:///Users/karlpolak/opt/anaconda3/envs/MDA-project/lib/python3.9/site-packages/pandas/core/frame.py?line=10935'>10936</a>\u001b[0m         limit_direction,\n\u001b[1;32m  <a href='file:///Users/karlpolak/opt/anaconda3/envs/MDA-project/lib/python3.9/site-packages/pandas/core/frame.py?line=10936'>10937</a>\u001b[0m         limit_area,\n\u001b[1;32m  <a href='file:///Users/karlpolak/opt/anaconda3/envs/MDA-project/lib/python3.9/site-packages/pandas/core/frame.py?line=10937'>10938</a>\u001b[0m         downcast,\n\u001b[1;32m  <a href='file:///Users/karlpolak/opt/anaconda3/envs/MDA-project/lib/python3.9/site-packages/pandas/core/frame.py?line=10938'>10939</a>\u001b[0m         \u001b[39m*\u001b[39;49m\u001b[39m*\u001b[39;49mkwargs,\n\u001b[1;32m  <a href='file:///Users/karlpolak/opt/anaconda3/envs/MDA-project/lib/python3.9/site-packages/pandas/core/frame.py?line=10939'>10940</a>\u001b[0m     )\n",
      "File \u001b[0;32m~/opt/anaconda3/envs/MDA-project/lib/python3.9/site-packages/pandas/core/generic.py:6982\u001b[0m, in \u001b[0;36mNDFrame.interpolate\u001b[0;34m(self, method, axis, limit, inplace, limit_direction, limit_area, downcast, **kwargs)\u001b[0m\n\u001b[1;32m   <a href='file:///Users/karlpolak/opt/anaconda3/envs/MDA-project/lib/python3.9/site-packages/pandas/core/generic.py?line=6978'>6979</a>\u001b[0m     axis \u001b[39m=\u001b[39m \u001b[39mself\u001b[39m\u001b[39m.\u001b[39m_info_axis_number\n\u001b[1;32m   <a href='file:///Users/karlpolak/opt/anaconda3/envs/MDA-project/lib/python3.9/site-packages/pandas/core/generic.py?line=6980'>6981</a>\u001b[0m \u001b[39mif\u001b[39;00m \u001b[39misinstance\u001b[39m(obj\u001b[39m.\u001b[39mindex, MultiIndex) \u001b[39mand\u001b[39;00m method \u001b[39m!=\u001b[39m \u001b[39m\"\u001b[39m\u001b[39mlinear\u001b[39m\u001b[39m\"\u001b[39m:\n\u001b[0;32m-> <a href='file:///Users/karlpolak/opt/anaconda3/envs/MDA-project/lib/python3.9/site-packages/pandas/core/generic.py?line=6981'>6982</a>\u001b[0m     \u001b[39mraise\u001b[39;00m \u001b[39mValueError\u001b[39;00m(\n\u001b[1;32m   <a href='file:///Users/karlpolak/opt/anaconda3/envs/MDA-project/lib/python3.9/site-packages/pandas/core/generic.py?line=6982'>6983</a>\u001b[0m         \u001b[39m\"\u001b[39m\u001b[39mOnly `method=linear` interpolation is supported on MultiIndexes.\u001b[39m\u001b[39m\"\u001b[39m\n\u001b[1;32m   <a href='file:///Users/karlpolak/opt/anaconda3/envs/MDA-project/lib/python3.9/site-packages/pandas/core/generic.py?line=6983'>6984</a>\u001b[0m     )\n\u001b[1;32m   <a href='file:///Users/karlpolak/opt/anaconda3/envs/MDA-project/lib/python3.9/site-packages/pandas/core/generic.py?line=6985'>6986</a>\u001b[0m \u001b[39m# Set `limit_direction` depending on `method`\u001b[39;00m\n\u001b[1;32m   <a href='file:///Users/karlpolak/opt/anaconda3/envs/MDA-project/lib/python3.9/site-packages/pandas/core/generic.py?line=6986'>6987</a>\u001b[0m \u001b[39mif\u001b[39;00m limit_direction \u001b[39mis\u001b[39;00m \u001b[39mNone\u001b[39;00m:\n",
      "\u001b[0;31mValueError\u001b[0m: Only `method=linear` interpolation is supported on MultiIndexes."
     ]
    }
   ],
   "source": [
    "# # Could be done like this if dataframe has no MultiIndexes\n",
    "# rev_table = table.iloc[::-1]\n",
    "# rev_table_preprocessed = rev_table.interpolate(method='spline', order=2, axis=0)\n",
    "# table = rev_table_preprocessed.iloc[::-1]\n",
    "\n",
    "table_preprocessed = table.fillna(method='bfill')\n",
    "table_preprocessed.head(21)"
   ]
  },
  {
   "cell_type": "code",
   "execution_count": null,
   "metadata": {},
   "outputs": [],
   "source": [
    "# # Could be done like this if dataframe has no MultiIndexes\n",
    "# rev_table = table.iloc[::-1]\n",
    "# rev_table_preprocessed = rev_table.interpolate(method='spline', order=2, axis=0)\n",
    "# table = rev_table_preprocessed.iloc[::-1]\n",
    "\n",
    "table_preprocessed = table.fillna(method='bfill')\n",
    "table_preprocessed.head(21)"
   ]
  },
  {
   "cell_type": "code",
   "execution_count": null,
   "metadata": {},
   "outputs": [],
   "source": []
  },
  {
   "cell_type": "code",
   "execution_count": null,
   "metadata": {},
   "outputs": [],
   "source": []
  }
 ],
 "metadata": {
  "interpreter": {
   "hash": "4afab56dad0409044ae8a6a1a3598347730cf0ab0436da8e316c239394c6f03d"
  },
  "kernelspec": {
   "display_name": "Python 3.9.12 ('MDA-project')",
   "language": "python",
   "name": "python3"
  },
  "language_info": {
   "codemirror_mode": {
    "name": "ipython",
    "version": 3
   },
   "file_extension": ".py",
   "mimetype": "text/x-python",
   "name": "python",
   "nbconvert_exporter": "python",
   "pygments_lexer": "ipython3",
   "version": "3.9.12"
  },
  "orig_nbformat": 4
 },
 "nbformat": 4,
 "nbformat_minor": 2
}
