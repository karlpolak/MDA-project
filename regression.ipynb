{
 "cells": [
  {
   "cell_type": "markdown",
   "metadata": {},
   "source": [
    "# Data preprocessing"
   ]
  },
  {
   "cell_type": "markdown",
   "metadata": {
    "id": "ZQaYRQnX3ey0"
   },
   "source": [
    "Import libraries"
   ]
  },
  {
   "cell_type": "code",
   "execution_count": 1,
   "metadata": {},
   "outputs": [],
   "source": [
    "# %pip install pandas numpy matplotlib seaborn statsmodels\n",
    "# %pip install openpyxl\n",
    "# %pip install scikit-learn"
   ]
  },
  {
   "cell_type": "code",
   "execution_count": 2,
   "metadata": {
    "ExecuteTime": {
     "end_time": "2021-05-31T02:29:17.672825Z",
     "start_time": "2021-05-31T02:29:15.578915Z"
    },
    "id": "rqIK-Q7f3d8y"
   },
   "outputs": [],
   "source": [
    "import pandas as pd\n",
    "import numpy as np\n",
    "import matplotlib.pyplot as plt\n",
    "import seaborn as sns\n",
    "import statsmodels.api as sm\n",
    "import warnings"
   ]
  },
  {
   "cell_type": "markdown",
   "metadata": {},
   "source": [
    "## Loading the data"
   ]
  },
  {
   "cell_type": "markdown",
   "metadata": {},
   "source": [
    "Currently, just work with one country. Later we can input different countries."
   ]
  },
  {
   "cell_type": "code",
   "execution_count": 3,
   "metadata": {
    "ExecuteTime": {
     "end_time": "2021-05-31T02:29:17.767821Z",
     "start_time": "2021-05-31T02:29:17.705830Z"
    },
    "colab": {
     "base_uri": "https://localhost:8080/",
     "height": 360
    },
    "id": "ggpfABaq56b9",
    "outputId": "a25eed9c-2da4-4963-b5da-7cc304a77fde"
   },
   "outputs": [],
   "source": [
    "aquastat = pd.read_excel('data/aquastat.xlsx' , sheet_name='CAF') \n",
    "aquastat = aquastat[['Area','Variable Name','Year','Value']] # select useful columns"
   ]
  },
  {
   "cell_type": "code",
   "execution_count": 4,
   "metadata": {},
   "outputs": [],
   "source": [
    "# selecting the country\n",
    "countries = aquastat['Area'].unique()\n",
    "countries.sort(0)\n",
    "country = countries[12] # Belgium\n",
    "data=aquastat.loc[aquastat['Area'] == country]  \n",
    "\n",
    "# pivot the data\n",
    "table=pd.pivot_table(data=data,values='Value',index=['Year'],columns='Variable Name')"
   ]
  },
  {
   "cell_type": "markdown",
   "metadata": {},
   "source": [
    "## Cleaning the data\n",
    "\n",
    "Create a pivot table. Country selection can be done here as well. Just use `index=['Area','Year']`\n",
    "\n",
    "We have two options:\n",
    "\n",
    "1. keep old data -> less variables, more data points per variable\n",
    "   - remove columns with more than 20% missing.\n",
    "   - impute the missing values with mean\n",
    "2. only use recent data -> more variables, less data points per variable\n",
    "   - only use data from 1997.\n",
    "   - remove columns with more than 50% missing.\n",
    "   - impute the missing values with mean"
   ]
  },
  {
   "cell_type": "code",
   "execution_count": 123,
   "metadata": {},
   "outputs": [
    {
     "name": "stdout",
     "output_type": "stream",
     "text": [
      "(13, 112) (13, 46)\n"
     ]
    },
    {
     "data": {
      "text/html": [
       "<div>\n",
       "<style scoped>\n",
       "    .dataframe tbody tr th:only-of-type {\n",
       "        vertical-align: middle;\n",
       "    }\n",
       "\n",
       "    .dataframe tbody tr th {\n",
       "        vertical-align: top;\n",
       "    }\n",
       "\n",
       "    .dataframe thead th {\n",
       "        text-align: right;\n",
       "    }\n",
       "</style>\n",
       "<table border=\"1\" class=\"dataframe\">\n",
       "  <thead>\n",
       "    <tr style=\"text-align: right;\">\n",
       "      <th>Variable Name</th>\n",
       "      <th>Dam capacity per capita</th>\n",
       "      <th>Dependency ratio</th>\n",
       "      <th>Environmental Flow Requirements</th>\n",
       "      <th>Exploitable: regular renewable groundwater</th>\n",
       "      <th>Gross Domestic Product (GDP)</th>\n",
       "      <th>Groundwater produced internally</th>\n",
       "      <th>Groundwater: accounted inflow</th>\n",
       "      <th>Groundwater: accounted outflow to other countries</th>\n",
       "      <th>Groundwater: entering the country (total)</th>\n",
       "      <th>Groundwater: leaving the country to other countries (total)</th>\n",
       "      <th>...</th>\n",
       "      <th>Total exploitable water resources</th>\n",
       "      <th>Total internal renewable water resources (IRWR)</th>\n",
       "      <th>Total internal renewable water resources per capita</th>\n",
       "      <th>Total population</th>\n",
       "      <th>Total renewable groundwater</th>\n",
       "      <th>Total renewable surface water</th>\n",
       "      <th>Total renewable water resources</th>\n",
       "      <th>Total renewable water resources per capita</th>\n",
       "      <th>Urban population</th>\n",
       "      <th>Water resources: total external renewable</th>\n",
       "    </tr>\n",
       "    <tr>\n",
       "      <th>Year</th>\n",
       "      <th></th>\n",
       "      <th></th>\n",
       "      <th></th>\n",
       "      <th></th>\n",
       "      <th></th>\n",
       "      <th></th>\n",
       "      <th></th>\n",
       "      <th></th>\n",
       "      <th></th>\n",
       "      <th></th>\n",
       "      <th></th>\n",
       "      <th></th>\n",
       "      <th></th>\n",
       "      <th></th>\n",
       "      <th></th>\n",
       "      <th></th>\n",
       "      <th></th>\n",
       "      <th></th>\n",
       "      <th></th>\n",
       "      <th></th>\n",
       "      <th></th>\n",
       "    </tr>\n",
       "  </thead>\n",
       "  <tbody>\n",
       "    <tr>\n",
       "      <th>1962</th>\n",
       "      <td>3.916023</td>\n",
       "      <td>34.42623</td>\n",
       "      <td>10.16</td>\n",
       "      <td>1.0</td>\n",
       "      <td>1.326402e+10</td>\n",
       "      <td>0.9</td>\n",
       "      <td>0.0</td>\n",
       "      <td>0.0</td>\n",
       "      <td>0.0</td>\n",
       "      <td>0.0</td>\n",
       "      <td>...</td>\n",
       "      <td>1.0</td>\n",
       "      <td>12.0</td>\n",
       "      <td>1305.341020</td>\n",
       "      <td>9193.000</td>\n",
       "      <td>0.9</td>\n",
       "      <td>18.3</td>\n",
       "      <td>18.3</td>\n",
       "      <td>1990.645056</td>\n",
       "      <td>8601.000</td>\n",
       "      <td>6.3</td>\n",
       "    </tr>\n",
       "    <tr>\n",
       "      <th>1967</th>\n",
       "      <td>3.799071</td>\n",
       "      <td>34.42623</td>\n",
       "      <td>10.16</td>\n",
       "      <td>1.0</td>\n",
       "      <td>1.999204e+10</td>\n",
       "      <td>0.9</td>\n",
       "      <td>0.0</td>\n",
       "      <td>0.0</td>\n",
       "      <td>0.0</td>\n",
       "      <td>0.0</td>\n",
       "      <td>...</td>\n",
       "      <td>1.0</td>\n",
       "      <td>12.0</td>\n",
       "      <td>1266.357113</td>\n",
       "      <td>9476.000</td>\n",
       "      <td>0.9</td>\n",
       "      <td>18.3</td>\n",
       "      <td>18.3</td>\n",
       "      <td>1931.194597</td>\n",
       "      <td>8908.000</td>\n",
       "      <td>6.3</td>\n",
       "    </tr>\n",
       "    <tr>\n",
       "      <th>1972</th>\n",
       "      <td>6.527821</td>\n",
       "      <td>34.42623</td>\n",
       "      <td>10.16</td>\n",
       "      <td>1.0</td>\n",
       "      <td>3.720966e+10</td>\n",
       "      <td>0.9</td>\n",
       "      <td>0.0</td>\n",
       "      <td>0.0</td>\n",
       "      <td>0.0</td>\n",
       "      <td>0.0</td>\n",
       "      <td>...</td>\n",
       "      <td>1.0</td>\n",
       "      <td>12.0</td>\n",
       "      <td>1243.394467</td>\n",
       "      <td>9651.000</td>\n",
       "      <td>0.9</td>\n",
       "      <td>18.3</td>\n",
       "      <td>18.3</td>\n",
       "      <td>1896.176562</td>\n",
       "      <td>9126.000</td>\n",
       "      <td>6.3</td>\n",
       "    </tr>\n",
       "    <tr>\n",
       "      <th>1977</th>\n",
       "      <td>6.460213</td>\n",
       "      <td>34.42623</td>\n",
       "      <td>10.16</td>\n",
       "      <td>1.0</td>\n",
       "      <td>8.283817e+10</td>\n",
       "      <td>0.9</td>\n",
       "      <td>0.0</td>\n",
       "      <td>0.0</td>\n",
       "      <td>0.0</td>\n",
       "      <td>0.0</td>\n",
       "      <td>...</td>\n",
       "      <td>1.0</td>\n",
       "      <td>12.0</td>\n",
       "      <td>1230.516817</td>\n",
       "      <td>9752.000</td>\n",
       "      <td>0.9</td>\n",
       "      <td>18.3</td>\n",
       "      <td>18.3</td>\n",
       "      <td>1876.538146</td>\n",
       "      <td>9301.000</td>\n",
       "      <td>6.3</td>\n",
       "    </tr>\n",
       "    <tr>\n",
       "      <th>1982</th>\n",
       "      <td>14.693005</td>\n",
       "      <td>34.42623</td>\n",
       "      <td>10.16</td>\n",
       "      <td>1.0</td>\n",
       "      <td>9.209268e+10</td>\n",
       "      <td>0.9</td>\n",
       "      <td>0.0</td>\n",
       "      <td>0.0</td>\n",
       "      <td>0.0</td>\n",
       "      <td>0.0</td>\n",
       "      <td>...</td>\n",
       "      <td>1.0</td>\n",
       "      <td>12.0</td>\n",
       "      <td>1221.871500</td>\n",
       "      <td>9821.000</td>\n",
       "      <td>0.9</td>\n",
       "      <td>18.3</td>\n",
       "      <td>18.3</td>\n",
       "      <td>1863.354037</td>\n",
       "      <td>9391.000</td>\n",
       "      <td>6.3</td>\n",
       "    </tr>\n",
       "    <tr>\n",
       "      <th>1987</th>\n",
       "      <td>14.623024</td>\n",
       "      <td>34.42623</td>\n",
       "      <td>10.16</td>\n",
       "      <td>1.0</td>\n",
       "      <td>1.493964e+11</td>\n",
       "      <td>0.9</td>\n",
       "      <td>0.0</td>\n",
       "      <td>0.0</td>\n",
       "      <td>0.0</td>\n",
       "      <td>0.0</td>\n",
       "      <td>...</td>\n",
       "      <td>1.0</td>\n",
       "      <td>12.0</td>\n",
       "      <td>1216.051885</td>\n",
       "      <td>9868.000</td>\n",
       "      <td>0.9</td>\n",
       "      <td>18.3</td>\n",
       "      <td>18.3</td>\n",
       "      <td>1854.479124</td>\n",
       "      <td>9466.000</td>\n",
       "      <td>6.3</td>\n",
       "    </tr>\n",
       "    <tr>\n",
       "      <th>1992</th>\n",
       "      <td>14.406949</td>\n",
       "      <td>34.42623</td>\n",
       "      <td>10.16</td>\n",
       "      <td>1.0</td>\n",
       "      <td>2.347919e+11</td>\n",
       "      <td>0.9</td>\n",
       "      <td>0.0</td>\n",
       "      <td>0.0</td>\n",
       "      <td>0.0</td>\n",
       "      <td>0.0</td>\n",
       "      <td>...</td>\n",
       "      <td>1.0</td>\n",
       "      <td>12.0</td>\n",
       "      <td>1198.083067</td>\n",
       "      <td>10016.000</td>\n",
       "      <td>0.9</td>\n",
       "      <td>18.3</td>\n",
       "      <td>18.3</td>\n",
       "      <td>1827.076677</td>\n",
       "      <td>9650.000</td>\n",
       "      <td>6.3</td>\n",
       "    </tr>\n",
       "    <tr>\n",
       "      <th>1997</th>\n",
       "      <td>14.156774</td>\n",
       "      <td>34.42623</td>\n",
       "      <td>10.16</td>\n",
       "      <td>1.0</td>\n",
       "      <td>2.527047e+11</td>\n",
       "      <td>0.9</td>\n",
       "      <td>0.0</td>\n",
       "      <td>0.0</td>\n",
       "      <td>0.0</td>\n",
       "      <td>0.0</td>\n",
       "      <td>...</td>\n",
       "      <td>1.0</td>\n",
       "      <td>12.0</td>\n",
       "      <td>1177.278524</td>\n",
       "      <td>10193.000</td>\n",
       "      <td>0.9</td>\n",
       "      <td>18.3</td>\n",
       "      <td>18.3</td>\n",
       "      <td>1795.349750</td>\n",
       "      <td>9814.000</td>\n",
       "      <td>6.3</td>\n",
       "    </tr>\n",
       "    <tr>\n",
       "      <th>2002</th>\n",
       "      <td>13.922007</td>\n",
       "      <td>34.42623</td>\n",
       "      <td>10.16</td>\n",
       "      <td>1.0</td>\n",
       "      <td>2.571695e+11</td>\n",
       "      <td>0.9</td>\n",
       "      <td>0.0</td>\n",
       "      <td>0.0</td>\n",
       "      <td>0.0</td>\n",
       "      <td>0.0</td>\n",
       "      <td>...</td>\n",
       "      <td>1.0</td>\n",
       "      <td>12.0</td>\n",
       "      <td>1157.755248</td>\n",
       "      <td>10364.885</td>\n",
       "      <td>0.9</td>\n",
       "      <td>18.3</td>\n",
       "      <td>18.3</td>\n",
       "      <td>1765.576753</td>\n",
       "      <td>10078.969</td>\n",
       "      <td>6.3</td>\n",
       "    </tr>\n",
       "    <tr>\n",
       "      <th>2007</th>\n",
       "      <td>13.489042</td>\n",
       "      <td>34.42623</td>\n",
       "      <td>10.16</td>\n",
       "      <td>1.0</td>\n",
       "      <td>4.703001e+11</td>\n",
       "      <td>0.9</td>\n",
       "      <td>0.0</td>\n",
       "      <td>0.0</td>\n",
       "      <td>0.0</td>\n",
       "      <td>0.0</td>\n",
       "      <td>...</td>\n",
       "      <td>1.0</td>\n",
       "      <td>12.0</td>\n",
       "      <td>1121.749870</td>\n",
       "      <td>10697.572</td>\n",
       "      <td>0.9</td>\n",
       "      <td>18.3</td>\n",
       "      <td>18.3</td>\n",
       "      <td>1710.668552</td>\n",
       "      <td>10430.928</td>\n",
       "      <td>6.3</td>\n",
       "    </tr>\n",
       "    <tr>\n",
       "      <th>2012</th>\n",
       "      <td>13.017171</td>\n",
       "      <td>34.42623</td>\n",
       "      <td>10.16</td>\n",
       "      <td>1.0</td>\n",
       "      <td>4.961813e+11</td>\n",
       "      <td>0.9</td>\n",
       "      <td>0.0</td>\n",
       "      <td>0.0</td>\n",
       "      <td>0.0</td>\n",
       "      <td>0.0</td>\n",
       "      <td>...</td>\n",
       "      <td>1.0</td>\n",
       "      <td>12.0</td>\n",
       "      <td>1082.509018</td>\n",
       "      <td>11085.358</td>\n",
       "      <td>0.9</td>\n",
       "      <td>18.3</td>\n",
       "      <td>18.3</td>\n",
       "      <td>1650.826252</td>\n",
       "      <td>10833.511</td>\n",
       "      <td>6.3</td>\n",
       "    </tr>\n",
       "    <tr>\n",
       "      <th>2017</th>\n",
       "      <td>12.636006</td>\n",
       "      <td>34.42623</td>\n",
       "      <td>10.16</td>\n",
       "      <td>1.0</td>\n",
       "      <td>5.026981e+11</td>\n",
       "      <td>0.9</td>\n",
       "      <td>0.0</td>\n",
       "      <td>0.0</td>\n",
       "      <td>0.0</td>\n",
       "      <td>0.0</td>\n",
       "      <td>...</td>\n",
       "      <td>1.0</td>\n",
       "      <td>12.0</td>\n",
       "      <td>1050.811279</td>\n",
       "      <td>11419.748</td>\n",
       "      <td>0.9</td>\n",
       "      <td>18.3</td>\n",
       "      <td>18.3</td>\n",
       "      <td>1602.487200</td>\n",
       "      <td>11196.239</td>\n",
       "      <td>6.3</td>\n",
       "    </tr>\n",
       "    <tr>\n",
       "      <th>2018</th>\n",
       "      <td>12.567302</td>\n",
       "      <td>34.42623</td>\n",
       "      <td>10.16</td>\n",
       "      <td>1.0</td>\n",
       "      <td>5.437344e+11</td>\n",
       "      <td>0.9</td>\n",
       "      <td>0.0</td>\n",
       "      <td>0.0</td>\n",
       "      <td>0.0</td>\n",
       "      <td>0.0</td>\n",
       "      <td>...</td>\n",
       "      <td>1.0</td>\n",
       "      <td>12.0</td>\n",
       "      <td>1045.097890</td>\n",
       "      <td>11482.178</td>\n",
       "      <td>0.9</td>\n",
       "      <td>18.3</td>\n",
       "      <td>18.3</td>\n",
       "      <td>1593.774282</td>\n",
       "      <td>11268.675</td>\n",
       "      <td>6.3</td>\n",
       "    </tr>\n",
       "  </tbody>\n",
       "</table>\n",
       "<p>13 rows × 39 columns</p>\n",
       "</div>"
      ],
      "text/plain": [
       "Variable Name  Dam capacity per capita  Dependency ratio  \\\n",
       "Year                                                       \n",
       "1962                          3.916023          34.42623   \n",
       "1967                          3.799071          34.42623   \n",
       "1972                          6.527821          34.42623   \n",
       "1977                          6.460213          34.42623   \n",
       "1982                         14.693005          34.42623   \n",
       "1987                         14.623024          34.42623   \n",
       "1992                         14.406949          34.42623   \n",
       "1997                         14.156774          34.42623   \n",
       "2002                         13.922007          34.42623   \n",
       "2007                         13.489042          34.42623   \n",
       "2012                         13.017171          34.42623   \n",
       "2017                         12.636006          34.42623   \n",
       "2018                         12.567302          34.42623   \n",
       "\n",
       "Variable Name  Environmental Flow Requirements  \\\n",
       "Year                                             \n",
       "1962                                     10.16   \n",
       "1967                                     10.16   \n",
       "1972                                     10.16   \n",
       "1977                                     10.16   \n",
       "1982                                     10.16   \n",
       "1987                                     10.16   \n",
       "1992                                     10.16   \n",
       "1997                                     10.16   \n",
       "2002                                     10.16   \n",
       "2007                                     10.16   \n",
       "2012                                     10.16   \n",
       "2017                                     10.16   \n",
       "2018                                     10.16   \n",
       "\n",
       "Variable Name  Exploitable: regular renewable groundwater  \\\n",
       "Year                                                        \n",
       "1962                                                  1.0   \n",
       "1967                                                  1.0   \n",
       "1972                                                  1.0   \n",
       "1977                                                  1.0   \n",
       "1982                                                  1.0   \n",
       "1987                                                  1.0   \n",
       "1992                                                  1.0   \n",
       "1997                                                  1.0   \n",
       "2002                                                  1.0   \n",
       "2007                                                  1.0   \n",
       "2012                                                  1.0   \n",
       "2017                                                  1.0   \n",
       "2018                                                  1.0   \n",
       "\n",
       "Variable Name  Gross Domestic Product (GDP)  Groundwater produced internally  \\\n",
       "Year                                                                           \n",
       "1962                           1.326402e+10                              0.9   \n",
       "1967                           1.999204e+10                              0.9   \n",
       "1972                           3.720966e+10                              0.9   \n",
       "1977                           8.283817e+10                              0.9   \n",
       "1982                           9.209268e+10                              0.9   \n",
       "1987                           1.493964e+11                              0.9   \n",
       "1992                           2.347919e+11                              0.9   \n",
       "1997                           2.527047e+11                              0.9   \n",
       "2002                           2.571695e+11                              0.9   \n",
       "2007                           4.703001e+11                              0.9   \n",
       "2012                           4.961813e+11                              0.9   \n",
       "2017                           5.026981e+11                              0.9   \n",
       "2018                           5.437344e+11                              0.9   \n",
       "\n",
       "Variable Name  Groundwater: accounted inflow  \\\n",
       "Year                                           \n",
       "1962                                     0.0   \n",
       "1967                                     0.0   \n",
       "1972                                     0.0   \n",
       "1977                                     0.0   \n",
       "1982                                     0.0   \n",
       "1987                                     0.0   \n",
       "1992                                     0.0   \n",
       "1997                                     0.0   \n",
       "2002                                     0.0   \n",
       "2007                                     0.0   \n",
       "2012                                     0.0   \n",
       "2017                                     0.0   \n",
       "2018                                     0.0   \n",
       "\n",
       "Variable Name  Groundwater: accounted outflow to other countries  \\\n",
       "Year                                                               \n",
       "1962                                                         0.0   \n",
       "1967                                                         0.0   \n",
       "1972                                                         0.0   \n",
       "1977                                                         0.0   \n",
       "1982                                                         0.0   \n",
       "1987                                                         0.0   \n",
       "1992                                                         0.0   \n",
       "1997                                                         0.0   \n",
       "2002                                                         0.0   \n",
       "2007                                                         0.0   \n",
       "2012                                                         0.0   \n",
       "2017                                                         0.0   \n",
       "2018                                                         0.0   \n",
       "\n",
       "Variable Name  Groundwater: entering the country (total)  \\\n",
       "Year                                                       \n",
       "1962                                                 0.0   \n",
       "1967                                                 0.0   \n",
       "1972                                                 0.0   \n",
       "1977                                                 0.0   \n",
       "1982                                                 0.0   \n",
       "1987                                                 0.0   \n",
       "1992                                                 0.0   \n",
       "1997                                                 0.0   \n",
       "2002                                                 0.0   \n",
       "2007                                                 0.0   \n",
       "2012                                                 0.0   \n",
       "2017                                                 0.0   \n",
       "2018                                                 0.0   \n",
       "\n",
       "Variable Name  Groundwater: leaving the country to other countries (total)  \\\n",
       "Year                                                                         \n",
       "1962                                                         0.0             \n",
       "1967                                                         0.0             \n",
       "1972                                                         0.0             \n",
       "1977                                                         0.0             \n",
       "1982                                                         0.0             \n",
       "1987                                                         0.0             \n",
       "1992                                                         0.0             \n",
       "1997                                                         0.0             \n",
       "2002                                                         0.0             \n",
       "2007                                                         0.0             \n",
       "2012                                                         0.0             \n",
       "2017                                                         0.0             \n",
       "2018                                                         0.0             \n",
       "\n",
       "Variable Name  ...  Total exploitable water resources  \\\n",
       "Year           ...                                      \n",
       "1962           ...                                1.0   \n",
       "1967           ...                                1.0   \n",
       "1972           ...                                1.0   \n",
       "1977           ...                                1.0   \n",
       "1982           ...                                1.0   \n",
       "1987           ...                                1.0   \n",
       "1992           ...                                1.0   \n",
       "1997           ...                                1.0   \n",
       "2002           ...                                1.0   \n",
       "2007           ...                                1.0   \n",
       "2012           ...                                1.0   \n",
       "2017           ...                                1.0   \n",
       "2018           ...                                1.0   \n",
       "\n",
       "Variable Name  Total internal renewable water resources (IRWR)  \\\n",
       "Year                                                             \n",
       "1962                                                      12.0   \n",
       "1967                                                      12.0   \n",
       "1972                                                      12.0   \n",
       "1977                                                      12.0   \n",
       "1982                                                      12.0   \n",
       "1987                                                      12.0   \n",
       "1992                                                      12.0   \n",
       "1997                                                      12.0   \n",
       "2002                                                      12.0   \n",
       "2007                                                      12.0   \n",
       "2012                                                      12.0   \n",
       "2017                                                      12.0   \n",
       "2018                                                      12.0   \n",
       "\n",
       "Variable Name  Total internal renewable water resources per capita  \\\n",
       "Year                                                                 \n",
       "1962                                                 1305.341020     \n",
       "1967                                                 1266.357113     \n",
       "1972                                                 1243.394467     \n",
       "1977                                                 1230.516817     \n",
       "1982                                                 1221.871500     \n",
       "1987                                                 1216.051885     \n",
       "1992                                                 1198.083067     \n",
       "1997                                                 1177.278524     \n",
       "2002                                                 1157.755248     \n",
       "2007                                                 1121.749870     \n",
       "2012                                                 1082.509018     \n",
       "2017                                                 1050.811279     \n",
       "2018                                                 1045.097890     \n",
       "\n",
       "Variable Name  Total population  Total renewable groundwater  \\\n",
       "Year                                                           \n",
       "1962                   9193.000                          0.9   \n",
       "1967                   9476.000                          0.9   \n",
       "1972                   9651.000                          0.9   \n",
       "1977                   9752.000                          0.9   \n",
       "1982                   9821.000                          0.9   \n",
       "1987                   9868.000                          0.9   \n",
       "1992                  10016.000                          0.9   \n",
       "1997                  10193.000                          0.9   \n",
       "2002                  10364.885                          0.9   \n",
       "2007                  10697.572                          0.9   \n",
       "2012                  11085.358                          0.9   \n",
       "2017                  11419.748                          0.9   \n",
       "2018                  11482.178                          0.9   \n",
       "\n",
       "Variable Name  Total renewable surface water  Total renewable water resources  \\\n",
       "Year                                                                            \n",
       "1962                                    18.3                             18.3   \n",
       "1967                                    18.3                             18.3   \n",
       "1972                                    18.3                             18.3   \n",
       "1977                                    18.3                             18.3   \n",
       "1982                                    18.3                             18.3   \n",
       "1987                                    18.3                             18.3   \n",
       "1992                                    18.3                             18.3   \n",
       "1997                                    18.3                             18.3   \n",
       "2002                                    18.3                             18.3   \n",
       "2007                                    18.3                             18.3   \n",
       "2012                                    18.3                             18.3   \n",
       "2017                                    18.3                             18.3   \n",
       "2018                                    18.3                             18.3   \n",
       "\n",
       "Variable Name  Total renewable water resources per capita  Urban population  \\\n",
       "Year                                                                          \n",
       "1962                                          1990.645056          8601.000   \n",
       "1967                                          1931.194597          8908.000   \n",
       "1972                                          1896.176562          9126.000   \n",
       "1977                                          1876.538146          9301.000   \n",
       "1982                                          1863.354037          9391.000   \n",
       "1987                                          1854.479124          9466.000   \n",
       "1992                                          1827.076677          9650.000   \n",
       "1997                                          1795.349750          9814.000   \n",
       "2002                                          1765.576753         10078.969   \n",
       "2007                                          1710.668552         10430.928   \n",
       "2012                                          1650.826252         10833.511   \n",
       "2017                                          1602.487200         11196.239   \n",
       "2018                                          1593.774282         11268.675   \n",
       "\n",
       "Variable Name  Water resources: total external renewable  \n",
       "Year                                                      \n",
       "1962                                                 6.3  \n",
       "1967                                                 6.3  \n",
       "1972                                                 6.3  \n",
       "1977                                                 6.3  \n",
       "1982                                                 6.3  \n",
       "1987                                                 6.3  \n",
       "1992                                                 6.3  \n",
       "1997                                                 6.3  \n",
       "2002                                                 6.3  \n",
       "2007                                                 6.3  \n",
       "2012                                                 6.3  \n",
       "2017                                                 6.3  \n",
       "2018                                                 6.3  \n",
       "\n",
       "[13 rows x 39 columns]"
      ]
     },
     "execution_count": 123,
     "metadata": {},
     "output_type": "execute_result"
    }
   ],
   "source": [
    "table1 = table.dropna(thresh=table.shape[0]*0.8, axis=1)\n",
    "print(table.shape,table1.shape) # 46 out of 112\n",
    "# table1.fillna(method='bfill', inplace=True)\n",
    "table1\n",
    "\n",
    "\n",
    "table_purged = table.dropna(thresh=table.shape[0], axis=1) # only 39 variables\n",
    "# table1.to_csv('data/table1.csv')\n",
    "\n",
    "# table2=pd.pivot_table(data=data[data['Year']>1987],values='Value',index=['Year'],columns='Variable Name')\n",
    "# table2 = table2.dropna(thresh=table2.shape[0]*0.5, axis=1)\n",
    "# print(table.shape,table2.shape) # 107 out of 112\n",
    "# ## THIS IS A TEMPORARY PART\n",
    "# # US['price'].fillna(df_US['price'].mean(), inplace = True)\n",
    "# US2 = US.dropna(thresh=US.shape[0]*1, axis=1)\n",
    "# # print(US.shape,US2.shape) # 3 variables got dropped\n",
    "# US2.isnull().any().any()"
   ]
  },
  {
   "cell_type": "markdown",
   "metadata": {},
   "source": [
    "## Let's assume we have the data clean... \n",
    "\n",
    "We select some variables here to do analysis. Ideally, we should have a logical process for variable selection."
   ]
  },
  {
   "cell_type": "markdown",
   "metadata": {},
   "source": [
    "### Loading multi-variate time-series analysis libraries (vector auto regression)"
   ]
  },
  {
   "cell_type": "code",
   "execution_count": 102,
   "metadata": {},
   "outputs": [],
   "source": [
    "import pandas as pd\n",
    "import statsmodels.api as sm\n",
    "from statsmodels.tsa.api import VAR\n",
    "import matplotlib.pyplot as plt\n",
    "from statsmodels.tsa.base.datetools import dates_from_str\n",
    "\n",
    "\n",
    "\n",
    "Y=table['SDG 6.4.2. Water Stress']\n",
    "# X=table.drop(columns='SDG 6.4.2. Water Stress')\n",
    "X=pd.read_csv('data/test.csv') # GDP, population, precipitation\n",
    "idx=dates_from_str(X['Year'].astype(str))\n",
    "\n",
    "X.index=pd.Index(idx)\n",
    "X=X.drop(columns=['Year'])\n",
    "\n",
    "Xdiff=X.diff().dropna()"
   ]
  },
  {
   "cell_type": "code",
   "execution_count": 103,
   "metadata": {},
   "outputs": [
    {
     "name": "stderr",
     "output_type": "stream",
     "text": [
      "c:\\Users\\Nyx\\mda_test\\lib\\site-packages\\statsmodels\\tsa\\base\\tsa_model.py:471: ValueWarning: A date index has been provided, but it has no associated frequency information and so will be ignored when e.g. forecasting.\n",
      "  self._init_dates(dates, freq)\n"
     ]
    },
    {
     "data": {
      "text/plain": [
       "  Summary of Regression Results   \n",
       "==================================\n",
       "Model:                         VAR\n",
       "Method:                        OLS\n",
       "Date:           Sat, 28, May, 2022\n",
       "Time:                     21:28:24\n",
       "--------------------------------------------------------------------\n",
       "No. of Equations:         3.00000    BIC:                    10.1987\n",
       "Nobs:                     11.0000    HQIC:                   9.49104\n",
       "Log likelihood:          -88.5306    FPE:                    19327.0\n",
       "AIC:                      9.76465    Det(Omega_mle):         7621.98\n",
       "--------------------------------------------------------------------\n",
       "Results for equation Population density\n",
       "======================================================================================================================\n",
       "                                                         coefficient       std. error           t-stat            prob\n",
       "----------------------------------------------------------------------------------------------------------------------\n",
       "const                                                      12.308397         3.511842            3.505           0.000\n",
       "L1.Population density                                      -0.058231         0.156365           -0.372           0.710\n",
       "L1.GDP per capita                                           0.000026         0.000329            0.080           0.936\n",
       "L1.Long-term average annual precipitation in volume       -14.723850       328.390340           -0.045           0.964\n",
       "======================================================================================================================\n",
       "\n",
       "Results for equation GDP per capita\n",
       "======================================================================================================================\n",
       "                                                         coefficient       std. error           t-stat            prob\n",
       "----------------------------------------------------------------------------------------------------------------------\n",
       "const                                                    4025.540930      1853.490284            2.172           0.030\n",
       "L1.Population density                                     -73.580757        82.527032           -0.892           0.373\n",
       "L1.GDP per capita                                          -0.090618         0.173890           -0.521           0.602\n",
       "L1.Long-term average annual precipitation in volume    876164.509919    173318.809835            5.055           0.000\n",
       "======================================================================================================================\n",
       "\n",
       "Results for equation Long-term average annual precipitation in volume\n",
       "======================================================================================================================\n",
       "                                                         coefficient       std. error           t-stat            prob\n",
       "----------------------------------------------------------------------------------------------------------------------\n",
       "const                                                       0.004140         0.003995            1.036           0.300\n",
       "L1.Population density                                      -0.000091         0.000178           -0.511           0.610\n",
       "L1.GDP per capita                                          -0.000000         0.000000           -0.536           0.592\n",
       "L1.Long-term average annual precipitation in volume        -0.124264         0.373616           -0.333           0.739\n",
       "======================================================================================================================\n",
       "\n",
       "Correlation matrix of residuals\n",
       "                                                    Population density  GDP per capita  Long-term average annual precipitation in volume\n",
       "Population density                                            1.000000       -0.156348                                          0.551229\n",
       "GDP per capita                                               -0.156348        1.000000                                         -0.414111\n",
       "Long-term average annual precipitation in volume              0.551229       -0.414111                                          1.000000\n",
       "\n"
      ]
     },
     "execution_count": 103,
     "metadata": {},
     "output_type": "execute_result"
    }
   ],
   "source": [
    "model = VAR(Xdiff)\n",
    "fit = model.fit()\n",
    "fit.summary()"
   ]
  },
  {
   "cell_type": "code",
   "execution_count": 104,
   "metadata": {},
   "outputs": [
    {
     "data": {
      "image/png": "[encoded data removed]",
      "text/plain": [
       "<Figure size 720x720 with 3 Axes>"
      ]
     },
     "metadata": {
      "needs_background": "light"
     },
     "output_type": "display_data"
    },
    {
     "data": {
      "image/png": "[encoded data removed]",
      "text/plain": [
       "<Figure size 720x720 with 9 Axes>"
      ]
     },
     "metadata": {
      "needs_background": "light"
     },
     "output_type": "display_data"
    }
   ],
   "source": [
    "fit.plot();\n",
    "fit.plot_acorr();"
   ]
  },
  {
   "cell_type": "markdown",
   "metadata": {},
   "source": [
    "Predictions are made below. These are *diff* plots. Real values should be obtained by calculating the `cumsum` and adding them to the inital value."
   ]
  },
  {
   "cell_type": "code",
   "execution_count": 118,
   "metadata": {},
   "outputs": [
    {
     "name": "stdout",
     "output_type": "stream",
     "text": [
      "[[1.22716524e+01 3.59354294e+03 3.32932188e-03]\n",
      " [1.16400107e+01 5.71397774e+03 1.88887426e-03]\n",
      " [1.17541924e+01 4.30623593e+03 1.69886811e-03]\n",
      " [1.17130360e+01 4.25892435e+03 1.99517363e-03]\n",
      " [1.17098161e+01 4.52585233e+03 1.97160493e-03]]\n"
     ]
    },
    {
     "data": {
      "image/png": "[encoded data removed]",
      "text/plain": [
       "<Figure size 720x720 with 3 Axes>"
      ]
     },
     "metadata": {
      "needs_background": "light"
     },
     "output_type": "display_data"
    }
   ],
   "source": [
    "lag_order = fit.k_ar\n",
    "pred=fit.forecast(Xdiff.values[-lag_order:], 5)\n",
    "print(pred)\n",
    "fit.plot_forecast(5);\n",
    "# pd.DataFrame(pred,columns=['Population density','GDP per capita','Long-term average annual precipitation in volume'],index=X.index[-1]+range(1,31,5))\n",
    "\n",
    "# X.index[-1]+range(1,31,5)"
   ]
  },
  {
   "cell_type": "markdown",
   "metadata": {
    "id": "HHdgSpeD3oBt"
   },
   "source": [
    "dataset of country location（latitude and longitude)"
   ]
  },
  {
   "cell_type": "code",
   "execution_count": 128,
   "metadata": {
    "ExecuteTime": {
     "end_time": "2021-05-31T02:29:17.859574Z",
     "start_time": "2021-05-31T02:29:17.830653Z"
    },
    "id": "gTa1dyc93oBu",
    "outputId": "10b7f2b6-b17a-46fd-8870-f4fccc79b53d"
   },
   "outputs": [],
   "source": [
    "# location=pd.read_csv('../data/location.csv')\n",
    "# location.head()"
   ]
  },
  {
   "cell_type": "markdown",
   "metadata": {
    "id": "RY4UE2iv3oBv"
   },
   "source": [
    "combine two datasets"
   ]
  },
  {
   "cell_type": "code",
   "execution_count": 129,
   "metadata": {
    "ExecuteTime": {
     "end_time": "2021-05-31T02:29:17.953323Z",
     "start_time": "2021-05-31T02:29:17.923404Z"
    },
    "id": "2J3zSVTg3oBw",
    "outputId": "c37e8e31-2a3c-4cd2-d2df-bc2226e93620"
   },
   "outputs": [],
   "source": [
    "# loc1 = location.loc[:, [ \"Area\",\"Latitude\",\"Longitude\"]]\n",
    "# loc1.drop_duplicates(inplace=True)\n",
    "# data =loc1.merge(data, on=\"Area\", how=\"left\")\n",
    "# data"
   ]
  },
  {
   "cell_type": "markdown",
   "metadata": {},
   "source": [
    "Calculate the new variables"
   ]
  },
  {
   "cell_type": "code",
   "execution_count": 130,
   "metadata": {
    "ExecuteTime": {
     "end_time": "2021-05-31T02:29:18.033110Z",
     "start_time": "2021-05-31T02:29:18.018151Z"
    }
   },
   "outputs": [],
   "source": [
    "# data['% of total country area irrigated (%)']=data['% of total country area cultivated']*data['% of cultivated land irrigated [harvested crop]']/100\n",
    "# data['Industry, value added (% GDP)']=data['Industry, value added to GDP']/data['Gross Domestic Product (GDP)']*100\n",
    "# data['Services, value added (% GDP)']=data['Services, value added to GDP']/data['Gross Domestic Product (GDP)']*100\n",
    "# data['water resource per capita']=((data['Total renewable water resources']*1000000)-(data['Environmental Flow Requirements']*1000000))/data['Total population']"
   ]
  },
  {
   "cell_type": "code",
   "execution_count": 131,
   "metadata": {
    "ExecuteTime": {
     "end_time": "2021-05-31T02:29:18.254026Z",
     "start_time": "2021-05-31T02:29:18.234078Z"
    }
   },
   "outputs": [],
   "source": [
    "# print(data['water resource per capita'].describe())"
   ]
  },
  {
   "cell_type": "code",
   "execution_count": 132,
   "metadata": {
    "ExecuteTime": {
     "end_time": "2021-05-31T02:29:18.426562Z",
     "start_time": "2021-05-31T02:29:18.406655Z"
    },
    "id": "yvazgv3Q3oBx",
    "outputId": "ad70577c-f5f9-4121-f94e-02456f3eb02f"
   },
   "outputs": [
    {
     "data": {
      "text/plain": [
       "realgdp     0\n",
       "realcons    0\n",
       "realinv     0\n",
       "dtype: int64"
      ]
     },
     "execution_count": 132,
     "metadata": {},
     "output_type": "execute_result"
    }
   ],
   "source": [
    "data.isnull().sum()"
   ]
  },
  {
   "cell_type": "markdown",
   "metadata": {
    "id": "y8IA5JBm6Tbu"
   },
   "source": [
    "## Data Preprocessing and exploration\n"
   ]
  },
  {
   "cell_type": "code",
   "execution_count": 133,
   "metadata": {
    "ExecuteTime": {
     "end_time": "2021-05-31T02:29:19.169463Z",
     "start_time": "2021-05-31T02:29:19.134048Z"
    },
    "colab": {
     "base_uri": "https://localhost:8080/",
     "height": 576
    },
    "id": "WvyX2wSXAlwB",
    "outputId": "eacda3a7-fc80-4f86-edf1-a53e9b02650d"
   },
   "outputs": [
    {
     "data": {
      "text/html": [
       "<div>\n",
       "<style scoped>\n",
       "    .dataframe tbody tr th:only-of-type {\n",
       "        vertical-align: middle;\n",
       "    }\n",
       "\n",
       "    .dataframe tbody tr th {\n",
       "        vertical-align: top;\n",
       "    }\n",
       "\n",
       "    .dataframe thead th {\n",
       "        text-align: right;\n",
       "    }\n",
       "</style>\n",
       "<table border=\"1\" class=\"dataframe\">\n",
       "  <thead>\n",
       "    <tr style=\"text-align: right;\">\n",
       "      <th></th>\n",
       "      <th>DataType</th>\n",
       "      <th>MissingVal</th>\n",
       "      <th>NUnique</th>\n",
       "      <th>Count</th>\n",
       "    </tr>\n",
       "  </thead>\n",
       "  <tbody>\n",
       "    <tr>\n",
       "      <th>realgdp</th>\n",
       "      <td>float64</td>\n",
       "      <td>0</td>\n",
       "      <td>202</td>\n",
       "      <td>202</td>\n",
       "    </tr>\n",
       "    <tr>\n",
       "      <th>realcons</th>\n",
       "      <td>float64</td>\n",
       "      <td>0</td>\n",
       "      <td>202</td>\n",
       "      <td>202</td>\n",
       "    </tr>\n",
       "    <tr>\n",
       "      <th>realinv</th>\n",
       "      <td>float64</td>\n",
       "      <td>0</td>\n",
       "      <td>202</td>\n",
       "      <td>202</td>\n",
       "    </tr>\n",
       "  </tbody>\n",
       "</table>\n",
       "</div>"
      ],
      "text/plain": [
       "         DataType  MissingVal  NUnique  Count\n",
       "realgdp   float64           0      202    202\n",
       "realcons  float64           0      202    202\n",
       "realinv   float64           0      202    202"
      ]
     },
     "execution_count": 133,
     "metadata": {},
     "output_type": "execute_result"
    }
   ],
   "source": [
    "df = data.copy()\n",
    "#Data types\n",
    "datadict = pd.DataFrame(df.dtypes)\n",
    "#Missing values\n",
    "datadict['MissingVal'] = df.isnull().sum()\n",
    "#Unique values\n",
    "datadict['NUnique']=df.nunique()\n",
    "#Count of variable\n",
    "datadict['Count']=df.count()\n",
    "#Rename 0 to datatype\n",
    "datadict = datadict.rename(columns={0:'DataType'})\n",
    "datadict"
   ]
  },
  {
   "cell_type": "markdown",
   "metadata": {
    "id": "crdYhibh9Jn8"
   },
   "source": [
    "the distribution of water shortage index"
   ]
  },
  {
   "cell_type": "code",
   "execution_count": 134,
   "metadata": {
    "ExecuteTime": {
     "end_time": "2021-05-31T02:29:19.653176Z",
     "start_time": "2021-05-31T02:29:19.434263Z"
    },
    "id": "EUSIL9fD3oB3",
    "outputId": "e3e690e4-a7eb-4af0-c48c-ef0f53cb048e"
   },
   "outputs": [
    {
     "ename": "KeyError",
     "evalue": "'water resource per capita'",
     "output_type": "error",
     "traceback": [
      "\u001b[1;31m---------------------------------------------------------------------------\u001b[0m",
      "\u001b[1;31mKeyError\u001b[0m                                  Traceback (most recent call last)",
      "File \u001b[1;32mc:\\Users\\Nyx\\mda_test\\lib\\site-packages\\pandas\\core\\indexes\\base.py:3621\u001b[0m, in \u001b[0;36mIndex.get_loc\u001b[1;34m(self, key, method, tolerance)\u001b[0m\n\u001b[0;32m   <a href='file:///c%3A/Users/Nyx/mda_test/lib/site-packages/pandas/core/indexes/base.py?line=3619'>3620</a>\u001b[0m \u001b[39mtry\u001b[39;00m:\n\u001b[1;32m-> <a href='file:///c%3A/Users/Nyx/mda_test/lib/site-packages/pandas/core/indexes/base.py?line=3620'>3621</a>\u001b[0m     \u001b[39mreturn\u001b[39;00m \u001b[39mself\u001b[39;49m\u001b[39m.\u001b[39;49m_engine\u001b[39m.\u001b[39;49mget_loc(casted_key)\n\u001b[0;32m   <a href='file:///c%3A/Users/Nyx/mda_test/lib/site-packages/pandas/core/indexes/base.py?line=3621'>3622</a>\u001b[0m \u001b[39mexcept\u001b[39;00m \u001b[39mKeyError\u001b[39;00m \u001b[39mas\u001b[39;00m err:\n",
      "File \u001b[1;32mc:\\Users\\Nyx\\mda_test\\lib\\site-packages\\pandas\\_libs\\index.pyx:136\u001b[0m, in \u001b[0;36mpandas._libs.index.IndexEngine.get_loc\u001b[1;34m()\u001b[0m\n",
      "File \u001b[1;32mc:\\Users\\Nyx\\mda_test\\lib\\site-packages\\pandas\\_libs\\index.pyx:163\u001b[0m, in \u001b[0;36mpandas._libs.index.IndexEngine.get_loc\u001b[1;34m()\u001b[0m\n",
      "File \u001b[1;32mpandas\\_libs\\hashtable_class_helper.pxi:5198\u001b[0m, in \u001b[0;36mpandas._libs.hashtable.PyObjectHashTable.get_item\u001b[1;34m()\u001b[0m\n",
      "File \u001b[1;32mpandas\\_libs\\hashtable_class_helper.pxi:5206\u001b[0m, in \u001b[0;36mpandas._libs.hashtable.PyObjectHashTable.get_item\u001b[1;34m()\u001b[0m\n",
      "\u001b[1;31mKeyError\u001b[0m: 'water resource per capita'",
      "\nThe above exception was the direct cause of the following exception:\n",
      "\u001b[1;31mKeyError\u001b[0m                                  Traceback (most recent call last)",
      "\u001b[1;32me:\\Documents\\_KUL\\2 MDA\\MDA-project\\regression.ipynb Cell 30'\u001b[0m in \u001b[0;36m<module>\u001b[1;34m\u001b[0m\n\u001b[1;32m----> <a href='vscode-notebook-cell:/e%3A/Documents/_KUL/2%20MDA/MDA-project/regression.ipynb#ch0000016?line=0'>1</a>\u001b[0m df[\u001b[39m'\u001b[39;49m\u001b[39mwater resource per capita\u001b[39;49m\u001b[39m'\u001b[39;49m]\u001b[39m.\u001b[39mhist(grid\u001b[39m=\u001b[39m\u001b[39mFalse\u001b[39;00m, bins\u001b[39m=\u001b[39m\u001b[39m20\u001b[39m)\n",
      "File \u001b[1;32mc:\\Users\\Nyx\\mda_test\\lib\\site-packages\\pandas\\core\\frame.py:3505\u001b[0m, in \u001b[0;36mDataFrame.__getitem__\u001b[1;34m(self, key)\u001b[0m\n\u001b[0;32m   <a href='file:///c%3A/Users/Nyx/mda_test/lib/site-packages/pandas/core/frame.py?line=3502'>3503</a>\u001b[0m \u001b[39mif\u001b[39;00m \u001b[39mself\u001b[39m\u001b[39m.\u001b[39mcolumns\u001b[39m.\u001b[39mnlevels \u001b[39m>\u001b[39m \u001b[39m1\u001b[39m:\n\u001b[0;32m   <a href='file:///c%3A/Users/Nyx/mda_test/lib/site-packages/pandas/core/frame.py?line=3503'>3504</a>\u001b[0m     \u001b[39mreturn\u001b[39;00m \u001b[39mself\u001b[39m\u001b[39m.\u001b[39m_getitem_multilevel(key)\n\u001b[1;32m-> <a href='file:///c%3A/Users/Nyx/mda_test/lib/site-packages/pandas/core/frame.py?line=3504'>3505</a>\u001b[0m indexer \u001b[39m=\u001b[39m \u001b[39mself\u001b[39;49m\u001b[39m.\u001b[39;49mcolumns\u001b[39m.\u001b[39;49mget_loc(key)\n\u001b[0;32m   <a href='file:///c%3A/Users/Nyx/mda_test/lib/site-packages/pandas/core/frame.py?line=3505'>3506</a>\u001b[0m \u001b[39mif\u001b[39;00m is_integer(indexer):\n\u001b[0;32m   <a href='file:///c%3A/Users/Nyx/mda_test/lib/site-packages/pandas/core/frame.py?line=3506'>3507</a>\u001b[0m     indexer \u001b[39m=\u001b[39m [indexer]\n",
      "File \u001b[1;32mc:\\Users\\Nyx\\mda_test\\lib\\site-packages\\pandas\\core\\indexes\\base.py:3623\u001b[0m, in \u001b[0;36mIndex.get_loc\u001b[1;34m(self, key, method, tolerance)\u001b[0m\n\u001b[0;32m   <a href='file:///c%3A/Users/Nyx/mda_test/lib/site-packages/pandas/core/indexes/base.py?line=3620'>3621</a>\u001b[0m     \u001b[39mreturn\u001b[39;00m \u001b[39mself\u001b[39m\u001b[39m.\u001b[39m_engine\u001b[39m.\u001b[39mget_loc(casted_key)\n\u001b[0;32m   <a href='file:///c%3A/Users/Nyx/mda_test/lib/site-packages/pandas/core/indexes/base.py?line=3621'>3622</a>\u001b[0m \u001b[39mexcept\u001b[39;00m \u001b[39mKeyError\u001b[39;00m \u001b[39mas\u001b[39;00m err:\n\u001b[1;32m-> <a href='file:///c%3A/Users/Nyx/mda_test/lib/site-packages/pandas/core/indexes/base.py?line=3622'>3623</a>\u001b[0m     \u001b[39mraise\u001b[39;00m \u001b[39mKeyError\u001b[39;00m(key) \u001b[39mfrom\u001b[39;00m \u001b[39merr\u001b[39;00m\n\u001b[0;32m   <a href='file:///c%3A/Users/Nyx/mda_test/lib/site-packages/pandas/core/indexes/base.py?line=3623'>3624</a>\u001b[0m \u001b[39mexcept\u001b[39;00m \u001b[39mTypeError\u001b[39;00m:\n\u001b[0;32m   <a href='file:///c%3A/Users/Nyx/mda_test/lib/site-packages/pandas/core/indexes/base.py?line=3624'>3625</a>\u001b[0m     \u001b[39m# If we have a listlike key, _check_indexing_error will raise\u001b[39;00m\n\u001b[0;32m   <a href='file:///c%3A/Users/Nyx/mda_test/lib/site-packages/pandas/core/indexes/base.py?line=3625'>3626</a>\u001b[0m     \u001b[39m#  InvalidIndexError. Otherwise we fall through and re-raise\u001b[39;00m\n\u001b[0;32m   <a href='file:///c%3A/Users/Nyx/mda_test/lib/site-packages/pandas/core/indexes/base.py?line=3626'>3627</a>\u001b[0m     \u001b[39m#  the TypeError.\u001b[39;00m\n\u001b[0;32m   <a href='file:///c%3A/Users/Nyx/mda_test/lib/site-packages/pandas/core/indexes/base.py?line=3627'>3628</a>\u001b[0m     \u001b[39mself\u001b[39m\u001b[39m.\u001b[39m_check_indexing_error(key)\n",
      "\u001b[1;31mKeyError\u001b[0m: 'water resource per capita'"
     ]
    }
   ],
   "source": [
    "df['water resource per capita'].hist(grid=False, bins=20)"
   ]
  },
  {
   "cell_type": "markdown",
   "metadata": {
    "id": "W0mDl9r93oB4"
   },
   "source": [
    "right skewed\n",
    "\n",
    "dichotomization:\n",
    "\n",
    "water shortage: water resource per capita<1700 m^3 per person per year"
   ]
  },
  {
   "cell_type": "code",
   "execution_count": null,
   "metadata": {
    "ExecuteTime": {
     "end_time": "2021-05-31T02:29:20.245464Z",
     "start_time": "2021-05-31T02:29:20.220552Z"
    },
    "hide_input": false,
    "id": "uSVEqy6q3oB4"
   },
   "outputs": [],
   "source": [
    "df['c']=0\n",
    "df['c'][df['water resource per capita']< 1700]=1"
   ]
  },
  {
   "cell_type": "markdown",
   "metadata": {
    "id": "6CYN52OQCHGJ"
   },
   "source": [
    "Delete rows with missing values of water shortage index\n",
    "\n",
    "replace NaN in the predictors with mean"
   ]
  },
  {
   "cell_type": "code",
   "execution_count": null,
   "metadata": {
    "ExecuteTime": {
     "end_time": "2021-05-31T02:29:20.933713Z",
     "start_time": "2021-05-31T02:29:20.905102Z"
    },
    "id": "xJjCydZMKgly",
    "outputId": "e8ec95cd-2e9f-4933-ba52-8f6ff84a64ce"
   },
   "outputs": [
    {
     "data": {
      "text/plain": [
       "(153, 22)"
      ]
     },
     "execution_count": 11,
     "metadata": {},
     "output_type": "execute_result"
    }
   ],
   "source": [
    "df = df.dropna(axis=0,subset=['water resource per capita'])\n",
    "df = df.fillna(df.mean())\n",
    "df.shape"
   ]
  },
  {
   "cell_type": "code",
   "execution_count": null,
   "metadata": {
    "ExecuteTime": {
     "end_time": "2021-05-31T02:29:27.490581Z",
     "start_time": "2021-05-31T02:29:21.059846Z"
    },
    "id": "VvKL-UHq3oB6",
    "outputId": "0a4cad65-8c0e-4794-a63f-c79c89ce037f"
   },
   "outputs": [
    {
     "data": {
      "text/plain": [
       "<seaborn.axisgrid.FacetGrid at 0x29cf5e2cf10>"
      ]
     },
     "execution_count": 12,
     "metadata": {},
     "output_type": "execute_result"
    },
    {
     "data": {
      "image/png": "[encoded data removed]",
      "text/plain": [
       "<Figure size 864x864 with 1 Axes>"
      ]
     },
     "metadata": {
      "needs_background": "light"
     },
     "output_type": "display_data"
    }
   ],
   "source": [
    "g = sns.catplot(\n",
    "    data=df, kind=\"bar\", x = \"Area\", y='water resource per capita', \n",
    "    ci=\"sd\", palette=\"icefire\", alpha=.9, height=12)\n",
    "g.set_xticklabels(rotation=53)\n",
    "g.set_axis_labels( \"Area\", 'water resource per capita')"
   ]
  },
  {
   "cell_type": "code",
   "execution_count": null,
   "metadata": {
    "ExecuteTime": {
     "end_time": "2021-05-31T02:29:27.599761Z",
     "start_time": "2021-05-31T02:29:27.586499Z"
    }
   },
   "outputs": [
    {
     "data": {
      "text/plain": [
       "count       153.000000\n",
       "mean       7331.632203\n",
       "std       19238.740866\n",
       "min          92.265940\n",
       "25%        1020.494949\n",
       "50%        2935.528192\n",
       "75%        7003.236344\n",
       "max      220070.396210\n",
       "Name: water resource per capita, dtype: float64"
      ]
     },
     "execution_count": 13,
     "metadata": {},
     "output_type": "execute_result"
    }
   ],
   "source": [
    "data['water resource per capita'].describe()"
   ]
  },
  {
   "cell_type": "markdown",
   "metadata": {
    "id": "ONul2Sqj3oB8"
   },
   "source": [
    "## Fit a logistic regression model"
   ]
  },
  {
   "cell_type": "markdown",
   "metadata": {},
   "source": [
    "Variable selection procedure: backward elimination based on p-value "
   ]
  },
  {
   "cell_type": "code",
   "execution_count": null,
   "metadata": {
    "ExecuteTime": {
     "end_time": "2021-05-31T02:29:27.711809Z",
     "start_time": "2021-05-31T02:29:27.697563Z"
    },
    "id": "zmqq2WYI3oB8"
   },
   "outputs": [],
   "source": [
    "x_columns=['Latitude',\n",
    "    'Longitude',\n",
    "    '% of total country area cultivated',\n",
    "    '% of total country area irrigated (%)',\n",
    "    'Long-term average annual precipitation in depth',\n",
    "    'Population density',\n",
    "    'GDP per capita',\n",
    "    'Agriculture, value added (% GDP)',\n",
    "    'Industry, value added (% GDP)',\n",
    "    'Services, value added (% GDP)',]\n",
    "x = df[x_columns]\n",
    "y = df['c']\n",
    "x = sm.add_constant(x)"
   ]
  },
  {
   "cell_type": "code",
   "execution_count": null,
   "metadata": {
    "ExecuteTime": {
     "end_time": "2021-05-31T02:29:27.855011Z",
     "start_time": "2021-05-31T02:29:27.825091Z"
    },
    "id": "WoYxE5rd3oB9",
    "outputId": "122e1b67-3523-40c2-f5ec-e63f1d7bc145"
   },
   "outputs": [
    {
     "name": "stdout",
     "output_type": "stream",
     "text": [
      "Optimization terminated successfully.\n",
      "         Current function value: 0.391070\n",
      "         Iterations 8\n"
     ]
    },
    {
     "data": {
      "text/html": [
       "<table class=\"simpletable\">\n",
       "<caption>Logit Regression Results</caption>\n",
       "<tr>\n",
       "  <th>Dep. Variable:</th>           <td>c</td>        <th>  No. Observations:  </th>  <td>   153</td>  \n",
       "</tr>\n",
       "<tr>\n",
       "  <th>Model:</th>                 <td>Logit</td>      <th>  Df Residuals:      </th>  <td>   142</td>  \n",
       "</tr>\n",
       "<tr>\n",
       "  <th>Method:</th>                 <td>MLE</td>       <th>  Df Model:          </th>  <td>    10</td>  \n",
       "</tr>\n",
       "<tr>\n",
       "  <th>Date:</th>            <td>Mon, 31 May 2021</td> <th>  Pseudo R-squ.:     </th>  <td>0.4077</td>  \n",
       "</tr>\n",
       "<tr>\n",
       "  <th>Time:</th>                <td>10:29:27</td>     <th>  Log-Likelihood:    </th> <td> -59.834</td> \n",
       "</tr>\n",
       "<tr>\n",
       "  <th>converged:</th>             <td>True</td>       <th>  LL-Null:           </th> <td> -101.03</td> \n",
       "</tr>\n",
       "<tr>\n",
       "  <th>Covariance Type:</th>     <td>nonrobust</td>    <th>  LLR p-value:       </th> <td>1.709e-13</td>\n",
       "</tr>\n",
       "</table>\n",
       "<table class=\"simpletable\">\n",
       "<tr>\n",
       "                         <td></td>                            <th>coef</th>     <th>std err</th>      <th>z</th>      <th>P>|z|</th>  <th>[0.025</th>    <th>0.975]</th>  \n",
       "</tr>\n",
       "<tr>\n",
       "  <th>const</th>                                           <td>  -11.1856</td> <td>    6.055</td> <td>   -1.847</td> <td> 0.065</td> <td>  -23.053</td> <td>    0.681</td>\n",
       "</tr>\n",
       "<tr>\n",
       "  <th>Latitude</th>                                        <td>   -0.0249</td> <td>    0.011</td> <td>   -2.268</td> <td> 0.023</td> <td>   -0.046</td> <td>   -0.003</td>\n",
       "</tr>\n",
       "<tr>\n",
       "  <th>Longitude</th>                                       <td>    0.0032</td> <td>    0.005</td> <td>    0.629</td> <td> 0.529</td> <td>   -0.007</td> <td>    0.013</td>\n",
       "</tr>\n",
       "<tr>\n",
       "  <th>% of total country area cultivated</th>              <td>    0.0391</td> <td>    0.022</td> <td>    1.785</td> <td> 0.074</td> <td>   -0.004</td> <td>    0.082</td>\n",
       "</tr>\n",
       "<tr>\n",
       "  <th>% of total country area irrigated (%)</th>           <td>   -0.1746</td> <td>    0.065</td> <td>   -2.707</td> <td> 0.007</td> <td>   -0.301</td> <td>   -0.048</td>\n",
       "</tr>\n",
       "<tr>\n",
       "  <th>Long-term average annual precipitation in depth</th> <td>   -0.0033</td> <td>    0.001</td> <td>   -5.295</td> <td> 0.000</td> <td>   -0.004</td> <td>   -0.002</td>\n",
       "</tr>\n",
       "<tr>\n",
       "  <th>Population density</th>                              <td>    0.0134</td> <td>    0.003</td> <td>    3.926</td> <td> 0.000</td> <td>    0.007</td> <td>    0.020</td>\n",
       "</tr>\n",
       "<tr>\n",
       "  <th>GDP per capita</th>                                  <td>-1.637e-05</td> <td>  1.8e-05</td> <td>   -0.909</td> <td> 0.363</td> <td>-5.17e-05</td> <td> 1.89e-05</td>\n",
       "</tr>\n",
       "<tr>\n",
       "  <th>Agriculture, value added (% GDP)</th>                <td>    0.1606</td> <td>    0.064</td> <td>    2.521</td> <td> 0.012</td> <td>    0.036</td> <td>    0.286</td>\n",
       "</tr>\n",
       "<tr>\n",
       "  <th>Industry, value added (% GDP)</th>                   <td>    0.1279</td> <td>    0.060</td> <td>    2.118</td> <td> 0.034</td> <td>    0.010</td> <td>    0.246</td>\n",
       "</tr>\n",
       "<tr>\n",
       "  <th>Services, value added (% GDP)</th>                   <td>    0.1362</td> <td>    0.073</td> <td>    1.868</td> <td> 0.062</td> <td>   -0.007</td> <td>    0.279</td>\n",
       "</tr>\n",
       "</table>"
      ],
      "text/plain": [
       "<class 'statsmodels.iolib.summary.Summary'>\n",
       "\"\"\"\n",
       "                           Logit Regression Results                           \n",
       "==============================================================================\n",
       "Dep. Variable:                      c   No. Observations:                  153\n",
       "Model:                          Logit   Df Residuals:                      142\n",
       "Method:                           MLE   Df Model:                           10\n",
       "Date:                Mon, 31 May 2021   Pseudo R-squ.:                  0.4077\n",
       "Time:                        10:29:27   Log-Likelihood:                -59.834\n",
       "converged:                       True   LL-Null:                       -101.03\n",
       "Covariance Type:            nonrobust   LLR p-value:                 1.709e-13\n",
       "===================================================================================================================\n",
       "                                                      coef    std err          z      P>|z|      [0.025      0.975]\n",
       "-------------------------------------------------------------------------------------------------------------------\n",
       "const                                             -11.1856      6.055     -1.847      0.065     -23.053       0.681\n",
       "Latitude                                           -0.0249      0.011     -2.268      0.023      -0.046      -0.003\n",
       "Longitude                                           0.0032      0.005      0.629      0.529      -0.007       0.013\n",
       "% of total country area cultivated                  0.0391      0.022      1.785      0.074      -0.004       0.082\n",
       "% of total country area irrigated (%)              -0.1746      0.065     -2.707      0.007      -0.301      -0.048\n",
       "Long-term average annual precipitation in depth    -0.0033      0.001     -5.295      0.000      -0.004      -0.002\n",
       "Population density                                  0.0134      0.003      3.926      0.000       0.007       0.020\n",
       "GDP per capita                                  -1.637e-05    1.8e-05     -0.909      0.363   -5.17e-05    1.89e-05\n",
       "Agriculture, value added (% GDP)                    0.1606      0.064      2.521      0.012       0.036       0.286\n",
       "Industry, value added (% GDP)                       0.1279      0.060      2.118      0.034       0.010       0.246\n",
       "Services, value added (% GDP)                       0.1362      0.073      1.868      0.062      -0.007       0.279\n",
       "===================================================================================================================\n",
       "\"\"\""
      ]
     },
     "execution_count": 15,
     "metadata": {},
     "output_type": "execute_result"
    }
   ],
   "source": [
    "model = sm.Logit(y,x)\n",
    "result = model.fit()\n",
    "result.summary()"
   ]
  },
  {
   "cell_type": "markdown",
   "metadata": {},
   "source": [
    "remove longitude"
   ]
  },
  {
   "cell_type": "code",
   "execution_count": null,
   "metadata": {
    "ExecuteTime": {
     "end_time": "2021-05-31T02:29:28.024559Z",
     "start_time": "2021-05-31T02:29:27.995635Z"
    }
   },
   "outputs": [
    {
     "name": "stdout",
     "output_type": "stream",
     "text": [
      "Optimization terminated successfully.\n",
      "         Current function value: 0.392371\n",
      "         Iterations 8\n"
     ]
    },
    {
     "data": {
      "text/html": [
       "<table class=\"simpletable\">\n",
       "<caption>Logit Regression Results</caption>\n",
       "<tr>\n",
       "  <th>Dep. Variable:</th>           <td>c</td>        <th>  No. Observations:  </th>  <td>   153</td>  \n",
       "</tr>\n",
       "<tr>\n",
       "  <th>Model:</th>                 <td>Logit</td>      <th>  Df Residuals:      </th>  <td>   143</td>  \n",
       "</tr>\n",
       "<tr>\n",
       "  <th>Method:</th>                 <td>MLE</td>       <th>  Df Model:          </th>  <td>     9</td>  \n",
       "</tr>\n",
       "<tr>\n",
       "  <th>Date:</th>            <td>Mon, 31 May 2021</td> <th>  Pseudo R-squ.:     </th>  <td>0.4058</td>  \n",
       "</tr>\n",
       "<tr>\n",
       "  <th>Time:</th>                <td>10:29:28</td>     <th>  Log-Likelihood:    </th> <td> -60.033</td> \n",
       "</tr>\n",
       "<tr>\n",
       "  <th>converged:</th>             <td>True</td>       <th>  LL-Null:           </th> <td> -101.03</td> \n",
       "</tr>\n",
       "<tr>\n",
       "  <th>Covariance Type:</th>     <td>nonrobust</td>    <th>  LLR p-value:       </th> <td>6.510e-14</td>\n",
       "</tr>\n",
       "</table>\n",
       "<table class=\"simpletable\">\n",
       "<tr>\n",
       "                         <td></td>                            <th>coef</th>     <th>std err</th>      <th>z</th>      <th>P>|z|</th>  <th>[0.025</th>    <th>0.975]</th>  \n",
       "</tr>\n",
       "<tr>\n",
       "  <th>const</th>                                           <td>  -10.8273</td> <td>    5.971</td> <td>   -1.813</td> <td> 0.070</td> <td>  -22.530</td> <td>    0.875</td>\n",
       "</tr>\n",
       "<tr>\n",
       "  <th>Latitude</th>                                        <td>   -0.0244</td> <td>    0.011</td> <td>   -2.229</td> <td> 0.026</td> <td>   -0.046</td> <td>   -0.003</td>\n",
       "</tr>\n",
       "<tr>\n",
       "  <th>% of total country area cultivated</th>              <td>    0.0372</td> <td>    0.022</td> <td>    1.719</td> <td> 0.086</td> <td>   -0.005</td> <td>    0.080</td>\n",
       "</tr>\n",
       "<tr>\n",
       "  <th>% of total country area irrigated (%)</th>           <td>   -0.1626</td> <td>    0.061</td> <td>   -2.655</td> <td> 0.008</td> <td>   -0.283</td> <td>   -0.043</td>\n",
       "</tr>\n",
       "<tr>\n",
       "  <th>Long-term average annual precipitation in depth</th> <td>   -0.0033</td> <td>    0.001</td> <td>   -5.366</td> <td> 0.000</td> <td>   -0.005</td> <td>   -0.002</td>\n",
       "</tr>\n",
       "<tr>\n",
       "  <th>Population density</th>                              <td>    0.0135</td> <td>    0.003</td> <td>    3.940</td> <td> 0.000</td> <td>    0.007</td> <td>    0.020</td>\n",
       "</tr>\n",
       "<tr>\n",
       "  <th>GDP per capita</th>                                  <td>-1.547e-05</td> <td> 1.79e-05</td> <td>   -0.864</td> <td> 0.388</td> <td>-5.06e-05</td> <td> 1.96e-05</td>\n",
       "</tr>\n",
       "<tr>\n",
       "  <th>Agriculture, value added (% GDP)</th>                <td>    0.1594</td> <td>    0.063</td> <td>    2.530</td> <td> 0.011</td> <td>    0.036</td> <td>    0.283</td>\n",
       "</tr>\n",
       "<tr>\n",
       "  <th>Industry, value added (% GDP)</th>                   <td>    0.1284</td> <td>    0.060</td> <td>    2.136</td> <td> 0.033</td> <td>    0.011</td> <td>    0.246</td>\n",
       "</tr>\n",
       "<tr>\n",
       "  <th>Services, value added (% GDP)</th>                   <td>    0.1314</td> <td>    0.072</td> <td>    1.833</td> <td> 0.067</td> <td>   -0.009</td> <td>    0.272</td>\n",
       "</tr>\n",
       "</table>"
      ],
      "text/plain": [
       "<class 'statsmodels.iolib.summary.Summary'>\n",
       "\"\"\"\n",
       "                           Logit Regression Results                           \n",
       "==============================================================================\n",
       "Dep. Variable:                      c   No. Observations:                  153\n",
       "Model:                          Logit   Df Residuals:                      143\n",
       "Method:                           MLE   Df Model:                            9\n",
       "Date:                Mon, 31 May 2021   Pseudo R-squ.:                  0.4058\n",
       "Time:                        10:29:28   Log-Likelihood:                -60.033\n",
       "converged:                       True   LL-Null:                       -101.03\n",
       "Covariance Type:            nonrobust   LLR p-value:                 6.510e-14\n",
       "===================================================================================================================\n",
       "                                                      coef    std err          z      P>|z|      [0.025      0.975]\n",
       "-------------------------------------------------------------------------------------------------------------------\n",
       "const                                             -10.8273      5.971     -1.813      0.070     -22.530       0.875\n",
       "Latitude                                           -0.0244      0.011     -2.229      0.026      -0.046      -0.003\n",
       "% of total country area cultivated                  0.0372      0.022      1.719      0.086      -0.005       0.080\n",
       "% of total country area irrigated (%)              -0.1626      0.061     -2.655      0.008      -0.283      -0.043\n",
       "Long-term average annual precipitation in depth    -0.0033      0.001     -5.366      0.000      -0.005      -0.002\n",
       "Population density                                  0.0135      0.003      3.940      0.000       0.007       0.020\n",
       "GDP per capita                                  -1.547e-05   1.79e-05     -0.864      0.388   -5.06e-05    1.96e-05\n",
       "Agriculture, value added (% GDP)                    0.1594      0.063      2.530      0.011       0.036       0.283\n",
       "Industry, value added (% GDP)                       0.1284      0.060      2.136      0.033       0.011       0.246\n",
       "Services, value added (% GDP)                       0.1314      0.072      1.833      0.067      -0.009       0.272\n",
       "===================================================================================================================\n",
       "\"\"\""
      ]
     },
     "execution_count": 16,
     "metadata": {},
     "output_type": "execute_result"
    }
   ],
   "source": [
    "x_columns.remove('Longitude')\n",
    "x = df[x_columns]\n",
    "y = df['c']\n",
    "x = sm.add_constant(x)\n",
    "model = sm.Logit(y,x)\n",
    "result = model.fit()\n",
    "result.summary()"
   ]
  },
  {
   "cell_type": "markdown",
   "metadata": {},
   "source": [
    "remove GDP per captia"
   ]
  },
  {
   "cell_type": "code",
   "execution_count": null,
   "metadata": {
    "ExecuteTime": {
     "end_time": "2021-05-31T02:29:28.195102Z",
     "start_time": "2021-05-31T02:29:28.152218Z"
    }
   },
   "outputs": [
    {
     "name": "stdout",
     "output_type": "stream",
     "text": [
      "Optimization terminated successfully.\n",
      "         Current function value: 0.394936\n",
      "         Iterations 7\n"
     ]
    },
    {
     "data": {
      "text/html": [
       "<table class=\"simpletable\">\n",
       "<caption>Logit Regression Results</caption>\n",
       "<tr>\n",
       "  <th>Dep. Variable:</th>           <td>c</td>        <th>  No. Observations:  </th>  <td>   153</td>  \n",
       "</tr>\n",
       "<tr>\n",
       "  <th>Model:</th>                 <td>Logit</td>      <th>  Df Residuals:      </th>  <td>   144</td>  \n",
       "</tr>\n",
       "<tr>\n",
       "  <th>Method:</th>                 <td>MLE</td>       <th>  Df Model:          </th>  <td>     8</td>  \n",
       "</tr>\n",
       "<tr>\n",
       "  <th>Date:</th>            <td>Mon, 31 May 2021</td> <th>  Pseudo R-squ.:     </th>  <td>0.4019</td>  \n",
       "</tr>\n",
       "<tr>\n",
       "  <th>Time:</th>                <td>10:29:28</td>     <th>  Log-Likelihood:    </th> <td> -60.425</td> \n",
       "</tr>\n",
       "<tr>\n",
       "  <th>converged:</th>             <td>True</td>       <th>  LL-Null:           </th> <td> -101.03</td> \n",
       "</tr>\n",
       "<tr>\n",
       "  <th>Covariance Type:</th>     <td>nonrobust</td>    <th>  LLR p-value:       </th> <td>2.801e-14</td>\n",
       "</tr>\n",
       "</table>\n",
       "<table class=\"simpletable\">\n",
       "<tr>\n",
       "                         <td></td>                            <th>coef</th>     <th>std err</th>      <th>z</th>      <th>P>|z|</th>  <th>[0.025</th>    <th>0.975]</th>  \n",
       "</tr>\n",
       "<tr>\n",
       "  <th>const</th>                                           <td>   -9.9414</td> <td>    5.833</td> <td>   -1.704</td> <td> 0.088</td> <td>  -21.374</td> <td>    1.491</td>\n",
       "</tr>\n",
       "<tr>\n",
       "  <th>Latitude</th>                                        <td>   -0.0276</td> <td>    0.010</td> <td>   -2.683</td> <td> 0.007</td> <td>   -0.048</td> <td>   -0.007</td>\n",
       "</tr>\n",
       "<tr>\n",
       "  <th>% of total country area cultivated</th>              <td>    0.0412</td> <td>    0.021</td> <td>    1.962</td> <td> 0.050</td> <td> 3.98e-05</td> <td>    0.082</td>\n",
       "</tr>\n",
       "<tr>\n",
       "  <th>% of total country area irrigated (%)</th>           <td>   -0.1530</td> <td>    0.060</td> <td>   -2.559</td> <td> 0.010</td> <td>   -0.270</td> <td>   -0.036</td>\n",
       "</tr>\n",
       "<tr>\n",
       "  <th>Long-term average annual precipitation in depth</th> <td>   -0.0034</td> <td>    0.001</td> <td>   -5.462</td> <td> 0.000</td> <td>   -0.005</td> <td>   -0.002</td>\n",
       "</tr>\n",
       "<tr>\n",
       "  <th>Population density</th>                              <td>    0.0129</td> <td>    0.003</td> <td>    3.904</td> <td> 0.000</td> <td>    0.006</td> <td>    0.019</td>\n",
       "</tr>\n",
       "<tr>\n",
       "  <th>Agriculture, value added (% GDP)</th>                <td>    0.1564</td> <td>    0.062</td> <td>    2.526</td> <td> 0.012</td> <td>    0.035</td> <td>    0.278</td>\n",
       "</tr>\n",
       "<tr>\n",
       "  <th>Industry, value added (% GDP)</th>                   <td>    0.1277</td> <td>    0.060</td> <td>    2.129</td> <td> 0.033</td> <td>    0.010</td> <td>    0.245</td>\n",
       "</tr>\n",
       "<tr>\n",
       "  <th>Services, value added (% GDP)</th>                   <td>    0.1138</td> <td>    0.068</td> <td>    1.676</td> <td> 0.094</td> <td>   -0.019</td> <td>    0.247</td>\n",
       "</tr>\n",
       "</table>"
      ],
      "text/plain": [
       "<class 'statsmodels.iolib.summary.Summary'>\n",
       "\"\"\"\n",
       "                           Logit Regression Results                           \n",
       "==============================================================================\n",
       "Dep. Variable:                      c   No. Observations:                  153\n",
       "Model:                          Logit   Df Residuals:                      144\n",
       "Method:                           MLE   Df Model:                            8\n",
       "Date:                Mon, 31 May 2021   Pseudo R-squ.:                  0.4019\n",
       "Time:                        10:29:28   Log-Likelihood:                -60.425\n",
       "converged:                       True   LL-Null:                       -101.03\n",
       "Covariance Type:            nonrobust   LLR p-value:                 2.801e-14\n",
       "===================================================================================================================\n",
       "                                                      coef    std err          z      P>|z|      [0.025      0.975]\n",
       "-------------------------------------------------------------------------------------------------------------------\n",
       "const                                              -9.9414      5.833     -1.704      0.088     -21.374       1.491\n",
       "Latitude                                           -0.0276      0.010     -2.683      0.007      -0.048      -0.007\n",
       "% of total country area cultivated                  0.0412      0.021      1.962      0.050    3.98e-05       0.082\n",
       "% of total country area irrigated (%)              -0.1530      0.060     -2.559      0.010      -0.270      -0.036\n",
       "Long-term average annual precipitation in depth    -0.0034      0.001     -5.462      0.000      -0.005      -0.002\n",
       "Population density                                  0.0129      0.003      3.904      0.000       0.006       0.019\n",
       "Agriculture, value added (% GDP)                    0.1564      0.062      2.526      0.012       0.035       0.278\n",
       "Industry, value added (% GDP)                       0.1277      0.060      2.129      0.033       0.010       0.245\n",
       "Services, value added (% GDP)                       0.1138      0.068      1.676      0.094      -0.019       0.247\n",
       "===================================================================================================================\n",
       "\"\"\""
      ]
     },
     "execution_count": 17,
     "metadata": {},
     "output_type": "execute_result"
    }
   ],
   "source": [
    "x_columns.remove('GDP per capita')\n",
    "x=df[x_columns]\n",
    "y=df['c']\n",
    "x = sm.add_constant(x)\n",
    "model = sm.Logit(y,x)\n",
    "result = model.fit()\n",
    "result.summary()"
   ]
  },
  {
   "cell_type": "markdown",
   "metadata": {},
   "source": [
    "remove Services, value added (% GDP)"
   ]
  },
  {
   "cell_type": "code",
   "execution_count": null,
   "metadata": {
    "ExecuteTime": {
     "end_time": "2021-05-31T02:29:28.366645Z",
     "start_time": "2021-05-31T02:29:28.321764Z"
    }
   },
   "outputs": [
    {
     "name": "stdout",
     "output_type": "stream",
     "text": [
      "Optimization terminated successfully.\n",
      "         Current function value: 0.404214\n",
      "         Iterations 7\n"
     ]
    },
    {
     "data": {
      "text/html": [
       "<table class=\"simpletable\">\n",
       "<caption>Logit Regression Results</caption>\n",
       "<tr>\n",
       "  <th>Dep. Variable:</th>           <td>c</td>        <th>  No. Observations:  </th>  <td>   153</td>  \n",
       "</tr>\n",
       "<tr>\n",
       "  <th>Model:</th>                 <td>Logit</td>      <th>  Df Residuals:      </th>  <td>   145</td>  \n",
       "</tr>\n",
       "<tr>\n",
       "  <th>Method:</th>                 <td>MLE</td>       <th>  Df Model:          </th>  <td>     7</td>  \n",
       "</tr>\n",
       "<tr>\n",
       "  <th>Date:</th>            <td>Mon, 31 May 2021</td> <th>  Pseudo R-squ.:     </th>  <td>0.3878</td>  \n",
       "</tr>\n",
       "<tr>\n",
       "  <th>Time:</th>                <td>10:29:28</td>     <th>  Log-Likelihood:    </th> <td> -61.845</td> \n",
       "</tr>\n",
       "<tr>\n",
       "  <th>converged:</th>             <td>True</td>       <th>  LL-Null:           </th> <td> -101.03</td> \n",
       "</tr>\n",
       "<tr>\n",
       "  <th>Covariance Type:</th>     <td>nonrobust</td>    <th>  LLR p-value:       </th> <td>2.971e-14</td>\n",
       "</tr>\n",
       "</table>\n",
       "<table class=\"simpletable\">\n",
       "<tr>\n",
       "                         <td></td>                            <th>coef</th>     <th>std err</th>      <th>z</th>      <th>P>|z|</th>  <th>[0.025</th>    <th>0.975]</th>  \n",
       "</tr>\n",
       "<tr>\n",
       "  <th>const</th>                                           <td>   -0.3262</td> <td>    1.020</td> <td>   -0.320</td> <td> 0.749</td> <td>   -2.325</td> <td>    1.673</td>\n",
       "</tr>\n",
       "<tr>\n",
       "  <th>Latitude</th>                                        <td>   -0.0267</td> <td>    0.010</td> <td>   -2.640</td> <td> 0.008</td> <td>   -0.047</td> <td>   -0.007</td>\n",
       "</tr>\n",
       "<tr>\n",
       "  <th>% of total country area cultivated</th>              <td>    0.0291</td> <td>    0.020</td> <td>    1.490</td> <td> 0.136</td> <td>   -0.009</td> <td>    0.067</td>\n",
       "</tr>\n",
       "<tr>\n",
       "  <th>% of total country area irrigated (%)</th>           <td>   -0.1496</td> <td>    0.059</td> <td>   -2.549</td> <td> 0.011</td> <td>   -0.265</td> <td>   -0.035</td>\n",
       "</tr>\n",
       "<tr>\n",
       "  <th>Long-term average annual precipitation in depth</th> <td>   -0.0032</td> <td>    0.001</td> <td>   -5.424</td> <td> 0.000</td> <td>   -0.004</td> <td>   -0.002</td>\n",
       "</tr>\n",
       "<tr>\n",
       "  <th>Population density</th>                              <td>    0.0136</td> <td>    0.003</td> <td>    3.999</td> <td> 0.000</td> <td>    0.007</td> <td>    0.020</td>\n",
       "</tr>\n",
       "<tr>\n",
       "  <th>Agriculture, value added (% GDP)</th>                <td>    0.0604</td> <td>    0.021</td> <td>    2.814</td> <td> 0.005</td> <td>    0.018</td> <td>    0.102</td>\n",
       "</tr>\n",
       "<tr>\n",
       "  <th>Industry, value added (% GDP)</th>                   <td>    0.0407</td> <td>    0.028</td> <td>    1.478</td> <td> 0.139</td> <td>   -0.013</td> <td>    0.095</td>\n",
       "</tr>\n",
       "</table>"
      ],
      "text/plain": [
       "<class 'statsmodels.iolib.summary.Summary'>\n",
       "\"\"\"\n",
       "                           Logit Regression Results                           \n",
       "==============================================================================\n",
       "Dep. Variable:                      c   No. Observations:                  153\n",
       "Model:                          Logit   Df Residuals:                      145\n",
       "Method:                           MLE   Df Model:                            7\n",
       "Date:                Mon, 31 May 2021   Pseudo R-squ.:                  0.3878\n",
       "Time:                        10:29:28   Log-Likelihood:                -61.845\n",
       "converged:                       True   LL-Null:                       -101.03\n",
       "Covariance Type:            nonrobust   LLR p-value:                 2.971e-14\n",
       "===================================================================================================================\n",
       "                                                      coef    std err          z      P>|z|      [0.025      0.975]\n",
       "-------------------------------------------------------------------------------------------------------------------\n",
       "const                                              -0.3262      1.020     -0.320      0.749      -2.325       1.673\n",
       "Latitude                                           -0.0267      0.010     -2.640      0.008      -0.047      -0.007\n",
       "% of total country area cultivated                  0.0291      0.020      1.490      0.136      -0.009       0.067\n",
       "% of total country area irrigated (%)              -0.1496      0.059     -2.549      0.011      -0.265      -0.035\n",
       "Long-term average annual precipitation in depth    -0.0032      0.001     -5.424      0.000      -0.004      -0.002\n",
       "Population density                                  0.0136      0.003      3.999      0.000       0.007       0.020\n",
       "Agriculture, value added (% GDP)                    0.0604      0.021      2.814      0.005       0.018       0.102\n",
       "Industry, value added (% GDP)                       0.0407      0.028      1.478      0.139      -0.013       0.095\n",
       "===================================================================================================================\n",
       "\"\"\""
      ]
     },
     "execution_count": 18,
     "metadata": {},
     "output_type": "execute_result"
    }
   ],
   "source": [
    "x_columns.remove('Services, value added (% GDP)')\n",
    "x=df[x_columns]\n",
    "y=df['c']\n",
    "x = sm.add_constant(x)\n",
    "model = sm.Logit(y,x)\n",
    "result = model.fit()\n",
    "result.summary()"
   ]
  },
  {
   "cell_type": "markdown",
   "metadata": {},
   "source": [
    "remove Industry, value added (% GDP)"
   ]
  },
  {
   "cell_type": "code",
   "execution_count": null,
   "metadata": {
    "ExecuteTime": {
     "end_time": "2021-05-31T02:29:28.522227Z",
     "start_time": "2021-05-31T02:29:28.477348Z"
    }
   },
   "outputs": [
    {
     "name": "stdout",
     "output_type": "stream",
     "text": [
      "Optimization terminated successfully.\n",
      "         Current function value: 0.411525\n",
      "         Iterations 7\n"
     ]
    },
    {
     "data": {
      "text/html": [
       "<table class=\"simpletable\">\n",
       "<caption>Logit Regression Results</caption>\n",
       "<tr>\n",
       "  <th>Dep. Variable:</th>           <td>c</td>        <th>  No. Observations:  </th>  <td>   153</td>  \n",
       "</tr>\n",
       "<tr>\n",
       "  <th>Model:</th>                 <td>Logit</td>      <th>  Df Residuals:      </th>  <td>   146</td>  \n",
       "</tr>\n",
       "<tr>\n",
       "  <th>Method:</th>                 <td>MLE</td>       <th>  Df Model:          </th>  <td>     6</td>  \n",
       "</tr>\n",
       "<tr>\n",
       "  <th>Date:</th>            <td>Mon, 31 May 2021</td> <th>  Pseudo R-squ.:     </th>  <td>0.3768</td>  \n",
       "</tr>\n",
       "<tr>\n",
       "  <th>Time:</th>                <td>10:29:28</td>     <th>  Log-Likelihood:    </th> <td> -62.963</td> \n",
       "</tr>\n",
       "<tr>\n",
       "  <th>converged:</th>             <td>True</td>       <th>  LL-Null:           </th> <td> -101.03</td> \n",
       "</tr>\n",
       "<tr>\n",
       "  <th>Covariance Type:</th>     <td>nonrobust</td>    <th>  LLR p-value:       </th> <td>2.252e-14</td>\n",
       "</tr>\n",
       "</table>\n",
       "<table class=\"simpletable\">\n",
       "<tr>\n",
       "                         <td></td>                            <th>coef</th>     <th>std err</th>      <th>z</th>      <th>P>|z|</th>  <th>[0.025</th>    <th>0.975]</th>  \n",
       "</tr>\n",
       "<tr>\n",
       "  <th>const</th>                                           <td>    0.9030</td> <td>    0.593</td> <td>    1.522</td> <td> 0.128</td> <td>   -0.260</td> <td>    2.066</td>\n",
       "</tr>\n",
       "<tr>\n",
       "  <th>Latitude</th>                                        <td>   -0.0266</td> <td>    0.010</td> <td>   -2.675</td> <td> 0.007</td> <td>   -0.046</td> <td>   -0.007</td>\n",
       "</tr>\n",
       "<tr>\n",
       "  <th>% of total country area cultivated</th>              <td>    0.0204</td> <td>    0.018</td> <td>    1.119</td> <td> 0.263</td> <td>   -0.015</td> <td>    0.056</td>\n",
       "</tr>\n",
       "<tr>\n",
       "  <th>% of total country area irrigated (%)</th>           <td>   -0.1273</td> <td>    0.057</td> <td>   -2.233</td> <td> 0.026</td> <td>   -0.239</td> <td>   -0.016</td>\n",
       "</tr>\n",
       "<tr>\n",
       "  <th>Long-term average annual precipitation in depth</th> <td>   -0.0031</td> <td>    0.001</td> <td>   -5.369</td> <td> 0.000</td> <td>   -0.004</td> <td>   -0.002</td>\n",
       "</tr>\n",
       "<tr>\n",
       "  <th>Population density</th>                              <td>    0.0131</td> <td>    0.003</td> <td>    3.857</td> <td> 0.000</td> <td>    0.006</td> <td>    0.020</td>\n",
       "</tr>\n",
       "<tr>\n",
       "  <th>Agriculture, value added (% GDP)</th>                <td>    0.0503</td> <td>    0.020</td> <td>    2.537</td> <td> 0.011</td> <td>    0.011</td> <td>    0.089</td>\n",
       "</tr>\n",
       "</table>"
      ],
      "text/plain": [
       "<class 'statsmodels.iolib.summary.Summary'>\n",
       "\"\"\"\n",
       "                           Logit Regression Results                           \n",
       "==============================================================================\n",
       "Dep. Variable:                      c   No. Observations:                  153\n",
       "Model:                          Logit   Df Residuals:                      146\n",
       "Method:                           MLE   Df Model:                            6\n",
       "Date:                Mon, 31 May 2021   Pseudo R-squ.:                  0.3768\n",
       "Time:                        10:29:28   Log-Likelihood:                -62.963\n",
       "converged:                       True   LL-Null:                       -101.03\n",
       "Covariance Type:            nonrobust   LLR p-value:                 2.252e-14\n",
       "===================================================================================================================\n",
       "                                                      coef    std err          z      P>|z|      [0.025      0.975]\n",
       "-------------------------------------------------------------------------------------------------------------------\n",
       "const                                               0.9030      0.593      1.522      0.128      -0.260       2.066\n",
       "Latitude                                           -0.0266      0.010     -2.675      0.007      -0.046      -0.007\n",
       "% of total country area cultivated                  0.0204      0.018      1.119      0.263      -0.015       0.056\n",
       "% of total country area irrigated (%)              -0.1273      0.057     -2.233      0.026      -0.239      -0.016\n",
       "Long-term average annual precipitation in depth    -0.0031      0.001     -5.369      0.000      -0.004      -0.002\n",
       "Population density                                  0.0131      0.003      3.857      0.000       0.006       0.020\n",
       "Agriculture, value added (% GDP)                    0.0503      0.020      2.537      0.011       0.011       0.089\n",
       "===================================================================================================================\n",
       "\"\"\""
      ]
     },
     "execution_count": 19,
     "metadata": {},
     "output_type": "execute_result"
    }
   ],
   "source": [
    "x_columns.remove('Industry, value added (% GDP)')\n",
    "x=df[x_columns]\n",
    "y=df['c']\n",
    "x = sm.add_constant(x)\n",
    "model = sm.Logit(y,x)\n",
    "result = model.fit()\n",
    "result.summary()"
   ]
  },
  {
   "cell_type": "markdown",
   "metadata": {},
   "source": [
    "remove % of total country area cultivated"
   ]
  },
  {
   "cell_type": "code",
   "execution_count": null,
   "metadata": {
    "ExecuteTime": {
     "end_time": "2021-05-31T02:29:28.663850Z",
     "start_time": "2021-05-31T02:29:28.634928Z"
    }
   },
   "outputs": [
    {
     "name": "stdout",
     "output_type": "stream",
     "text": [
      "Optimization terminated successfully.\n",
      "         Current function value: 0.415693\n",
      "         Iterations 7\n"
     ]
    },
    {
     "data": {
      "text/html": [
       "<table class=\"simpletable\">\n",
       "<caption>Logit Regression Results</caption>\n",
       "<tr>\n",
       "  <th>Dep. Variable:</th>           <td>c</td>        <th>  No. Observations:  </th>  <td>   153</td>  \n",
       "</tr>\n",
       "<tr>\n",
       "  <th>Model:</th>                 <td>Logit</td>      <th>  Df Residuals:      </th>  <td>   147</td>  \n",
       "</tr>\n",
       "<tr>\n",
       "  <th>Method:</th>                 <td>MLE</td>       <th>  Df Model:          </th>  <td>     5</td>  \n",
       "</tr>\n",
       "<tr>\n",
       "  <th>Date:</th>            <td>Mon, 31 May 2021</td> <th>  Pseudo R-squ.:     </th>  <td>0.3704</td>  \n",
       "</tr>\n",
       "<tr>\n",
       "  <th>Time:</th>                <td>10:29:28</td>     <th>  Log-Likelihood:    </th> <td> -63.601</td> \n",
       "</tr>\n",
       "<tr>\n",
       "  <th>converged:</th>             <td>True</td>       <th>  LL-Null:           </th> <td> -101.03</td> \n",
       "</tr>\n",
       "<tr>\n",
       "  <th>Covariance Type:</th>     <td>nonrobust</td>    <th>  LLR p-value:       </th> <td>1.000e-14</td>\n",
       "</tr>\n",
       "</table>\n",
       "<table class=\"simpletable\">\n",
       "<tr>\n",
       "                         <td></td>                            <th>coef</th>     <th>std err</th>      <th>z</th>      <th>P>|z|</th>  <th>[0.025</th>    <th>0.975]</th>  \n",
       "</tr>\n",
       "<tr>\n",
       "  <th>const</th>                                           <td>    1.1068</td> <td>    0.568</td> <td>    1.950</td> <td> 0.051</td> <td>   -0.006</td> <td>    2.219</td>\n",
       "</tr>\n",
       "<tr>\n",
       "  <th>Latitude</th>                                        <td>   -0.0238</td> <td>    0.009</td> <td>   -2.515</td> <td> 0.012</td> <td>   -0.042</td> <td>   -0.005</td>\n",
       "</tr>\n",
       "<tr>\n",
       "  <th>% of total country area irrigated (%)</th>           <td>   -0.1296</td> <td>    0.057</td> <td>   -2.287</td> <td> 0.022</td> <td>   -0.241</td> <td>   -0.019</td>\n",
       "</tr>\n",
       "<tr>\n",
       "  <th>Long-term average annual precipitation in depth</th> <td>   -0.0031</td> <td>    0.001</td> <td>   -5.382</td> <td> 0.000</td> <td>   -0.004</td> <td>   -0.002</td>\n",
       "</tr>\n",
       "<tr>\n",
       "  <th>Population density</th>                              <td>    0.0145</td> <td>    0.003</td> <td>    4.389</td> <td> 0.000</td> <td>    0.008</td> <td>    0.021</td>\n",
       "</tr>\n",
       "<tr>\n",
       "  <th>Agriculture, value added (% GDP)</th>                <td>    0.0515</td> <td>    0.020</td> <td>    2.624</td> <td> 0.009</td> <td>    0.013</td> <td>    0.090</td>\n",
       "</tr>\n",
       "</table>"
      ],
      "text/plain": [
       "<class 'statsmodels.iolib.summary.Summary'>\n",
       "\"\"\"\n",
       "                           Logit Regression Results                           \n",
       "==============================================================================\n",
       "Dep. Variable:                      c   No. Observations:                  153\n",
       "Model:                          Logit   Df Residuals:                      147\n",
       "Method:                           MLE   Df Model:                            5\n",
       "Date:                Mon, 31 May 2021   Pseudo R-squ.:                  0.3704\n",
       "Time:                        10:29:28   Log-Likelihood:                -63.601\n",
       "converged:                       True   LL-Null:                       -101.03\n",
       "Covariance Type:            nonrobust   LLR p-value:                 1.000e-14\n",
       "===================================================================================================================\n",
       "                                                      coef    std err          z      P>|z|      [0.025      0.975]\n",
       "-------------------------------------------------------------------------------------------------------------------\n",
       "const                                               1.1068      0.568      1.950      0.051      -0.006       2.219\n",
       "Latitude                                           -0.0238      0.009     -2.515      0.012      -0.042      -0.005\n",
       "% of total country area irrigated (%)              -0.1296      0.057     -2.287      0.022      -0.241      -0.019\n",
       "Long-term average annual precipitation in depth    -0.0031      0.001     -5.382      0.000      -0.004      -0.002\n",
       "Population density                                  0.0145      0.003      4.389      0.000       0.008       0.021\n",
       "Agriculture, value added (% GDP)                    0.0515      0.020      2.624      0.009       0.013       0.090\n",
       "===================================================================================================================\n",
       "\"\"\""
      ]
     },
     "execution_count": 20,
     "metadata": {},
     "output_type": "execute_result"
    }
   ],
   "source": [
    "x_columns.remove('% of total country area cultivated')\n",
    "x=df[x_columns]\n",
    "x = sm.add_constant(x)\n",
    "model = sm.Logit(y,x)\n",
    "result = model.fit()\n",
    "result.summary()"
   ]
  },
  {
   "cell_type": "markdown",
   "metadata": {},
   "source": [
    "predicted accuracy"
   ]
  },
  {
   "cell_type": "code",
   "execution_count": null,
   "metadata": {
    "ExecuteTime": {
     "end_time": "2021-05-31T02:29:30.006805Z",
     "start_time": "2021-05-31T02:29:28.788516Z"
    }
   },
   "outputs": [
    {
     "data": {
      "text/plain": [
       "0.8235294117647058"
      ]
     },
     "execution_count": 21,
     "metadata": {},
     "output_type": "execute_result"
    }
   ],
   "source": [
    "from sklearn.metrics import accuracy_score\n",
    "accuracy_score(y,round(result.predict(x)))"
   ]
  },
  {
   "cell_type": "markdown",
   "metadata": {},
   "source": [
    "the likelihood of a water shortage "
   ]
  },
  {
   "cell_type": "code",
   "execution_count": null,
   "metadata": {
    "ExecuteTime": {
     "end_time": "2021-05-31T02:29:30.131968Z",
     "start_time": "2021-05-31T02:29:30.118487Z"
    }
   },
   "outputs": [],
   "source": [
    "df['likelihood'] = result.predict(x)"
   ]
  },
  {
   "cell_type": "markdown",
   "metadata": {},
   "source": [
    "## Divide the water shortage indicator into 4 risk levels"
   ]
  },
  {
   "cell_type": "code",
   "execution_count": null,
   "metadata": {
    "ExecuteTime": {
     "end_time": "2021-05-31T02:29:30.558394Z",
     "start_time": "2021-05-31T02:29:30.515160Z"
    }
   },
   "outputs": [],
   "source": [
    "category = pd.cut(aquastat['water resource per capita'],bins=[0,500,1000,1700,220071],labels=['3','2','1','0'])\n",
    "aquastat.insert(21,'c of shortage',category)"
   ]
  },
  {
   "cell_type": "code",
   "execution_count": null,
   "metadata": {
    "ExecuteTime": {
     "end_time": "2021-05-31T02:29:30.701164Z",
     "start_time": "2021-05-31T02:29:30.672836Z"
    }
   },
   "outputs": [],
   "source": [
    "data = data.dropna(axis=0,subset=['water resource per capita'])\n",
    "data = data.fillna(df.mean())"
   ]
  },
  {
   "cell_type": "code",
   "execution_count": null,
   "metadata": {
    "ExecuteTime": {
     "end_time": "2021-05-31T02:29:30.811129Z",
     "start_time": "2021-05-31T02:29:30.797257Z"
    }
   },
   "outputs": [
    {
     "data": {
      "text/plain": [
       "array([1, 0, 3, 2], dtype=int64)"
      ]
     },
     "execution_count": 27,
     "metadata": {},
     "output_type": "execute_result"
    }
   ],
   "source": [
    "data['c of shortage'].unique()"
   ]
  },
  {
   "cell_type": "code",
   "execution_count": null,
   "metadata": {
    "ExecuteTime": {
     "end_time": "2021-05-31T02:29:30.936681Z",
     "start_time": "2021-05-31T02:29:30.925711Z"
    }
   },
   "outputs": [],
   "source": [
    "x_columns=['Latitude',\n",
    "    'Longitude',\n",
    "    '% of total country area cultivated',\n",
    "    '% of total country area irrigated (%)',\n",
    "    'Long-term average annual precipitation in depth',\n",
    "    'Population density',\n",
    "    'GDP per capita',\n",
    "    'Agriculture, value added (% GDP)',\n",
    "    'Industry, value added (% GDP)',\n",
    "    'Services, value added (% GDP)']\n",
    "x=data[x_columns]\n",
    "y=data['c of shortage']"
   ]
  },
  {
   "cell_type": "code",
   "execution_count": null,
   "metadata": {
    "ExecuteTime": {
     "end_time": "2021-05-31T02:29:44.801353Z",
     "start_time": "2021-05-31T02:29:31.034896Z"
    }
   },
   "outputs": [
    {
     "name": "stdout",
     "output_type": "stream",
     "text": [
      "Best params:\n",
      "{'classifier': KNeighborsClassifier(leaf_size=10, n_neighbors=10), 'classifier__leaf_size': 10, 'classifier__n_neighbors': 10}\n",
      "\n",
      "Best cross-validation score: 0.65\n"
     ]
    }
   ],
   "source": [
    "from sklearn.pipeline import Pipeline\n",
    "from sklearn.model_selection import train_test_split,GridSearchCV\n",
    "from sklearn.ensemble import RandomForestClassifier\n",
    "from sklearn.linear_model import LogisticRegression\n",
    "from sklearn import naive_bayes\n",
    "from sklearn.neighbors import KNeighborsClassifier\n",
    "\n",
    "pipe = Pipeline([('classifier', RandomForestClassifier())])\n",
    "param_grid = [\n",
    "    {'classifier': [RandomForestClassifier()],\n",
    "    'classifier__n_estimators':[50,100],'classifier__max_features': [1, 2, 3, 4],\n",
    "    'classifier__min_samples_leaf':[1,2,3]},\n",
    "    {'classifier': [LogisticRegression(max_iter=1000)]},\n",
    "    {'classifier': [naive_bayes.GaussianNB()]},\n",
    "    {'classifier': [KNeighborsClassifier()],\n",
    "     'classifier__leaf_size': [10,20,30],\n",
    "     'classifier__n_neighbors': [3,5,7,10]}\n",
    "    ]\n",
    "\n",
    "X_train, X_test, y_train, y_test = train_test_split(\n",
    "    x, y, random_state=42)\n",
    "\n",
    "grid = GridSearchCV(pipe, param_grid, cv=5)\n",
    "grid.fit(X_train, y_train)\n",
    "\n",
    "print(\"Best params:\\n{}\\n\".format(grid.best_params_))\n",
    "print(\"Best cross-validation score: {:.2f}\".format(grid.best_score_))"
   ]
  },
  {
   "cell_type": "code",
   "execution_count": null,
   "metadata": {},
   "outputs": [],
   "source": []
  }
 ],
 "metadata": {
  "colab": {
   "collapsed_sections": [],
   "name": "water shortage likelihood prediction.ipynb",
   "provenance": []
  },
  "hide_input": false,
  "interpreter": {
   "hash": "bfdc02187f5e0f500c88788e2f51cd262dd691105ce6c08bf68ba3235ee415bf"
  },
  "kernelspec": {
   "display_name": "Python 3.9.5 ('mda_test')",
   "language": "python",
   "name": "python3"
  },
  "language_info": {
   "codemirror_mode": {
    "name": "ipython",
    "version": 3
   },
   "file_extension": ".py",
   "mimetype": "text/x-python",
   "name": "python",
   "nbconvert_exporter": "python",
   "pygments_lexer": "ipython3",
   "version": "3.9.5"
  },
  "toc": {
   "base_numbering": 1,
   "nav_menu": {},
   "number_sections": true,
   "sideBar": true,
   "skip_h1_title": false,
   "title_cell": "Table of Contents",
   "title_sidebar": "Contents",
   "toc_cell": false,
   "toc_position": {},
   "toc_section_display": true,
   "toc_window_display": false
  },
  "varInspector": {
   "cols": {
    "lenName": 16,
    "lenType": 16,
    "lenVar": 40
   },
   "kernels_config": {
    "python": {
     "delete_cmd_postfix": "",
     "delete_cmd_prefix": "del ",
     "library": "var_list.py",
     "varRefreshCmd": "print(var_dic_list())"
    },
    "r": {
     "delete_cmd_postfix": ") ",
     "delete_cmd_prefix": "rm(",
     "library": "var_list.r",
     "varRefreshCmd": "cat(var_dic_list()) "
    }
   },
   "position": {
    "height": "464.85px",
    "left": "697px",
    "right": "20px",
    "top": "18px",
    "width": "350px"
   },
   "types_to_exclude": [
    "module",
    "function",
    "builtin_function_or_method",
    "instance",
    "_Feature"
   ],
   "window_display": false
  }
 },
 "nbformat": 4,
 "nbformat_minor": 1
}
